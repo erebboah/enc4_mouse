{
 "cells": [
  {
   "cell_type": "markdown",
   "id": "c09be354-ffc4-4990-b6f1-3371d56fabd4",
   "metadata": {},
   "source": [
    "# Create and save files for Synapse submissions\n",
    "- EAID_000084: Adrenal gland RNA + Multiome\n",
    "- EAID_000085: Left cortex RNA + Multiome\n",
    "- EAID_000086: Hippocampus RNA + Multiome\n",
    "- EAID_000087: Heart RNA + Multiome\n",
    "- EAID_000088: Gastrocnemius RNA + Multiome\n",
    "\n",
    "[Guidelines](https://docs.google.com/document/d/1NAuihlO3Qd4y588Fpv1iWTyO2jxo2u8M9U-vfwnGbmE/edit#)\n"
   ]
  },
  {
   "cell_type": "code",
   "execution_count": 6,
   "id": "a7127916-6214-4a4c-ab19-c7c978a3e666",
   "metadata": {
    "tags": []
   },
   "outputs": [],
   "source": [
    "library(tidyverse)\n",
    "library(Matrix)\n",
    "library(Seurat)\n",
    "library(ArchR)\n",
    "library(data.table)"
   ]
  },
  {
   "cell_type": "code",
   "execution_count": 7,
   "id": "457692f0-f060-4acb-9116-f20107c5b59c",
   "metadata": {},
   "outputs": [],
   "source": [
    "setwd(\"/share/crsp/lab/seyedam/share/enc4_mouse/\")"
   ]
  },
  {
   "cell_type": "code",
   "execution_count": 3,
   "id": "64c89059-f72e-46e2-b628-740f777272db",
   "metadata": {},
   "outputs": [],
   "source": [
    "system(\"mkdir synapse\")\n",
    "system(\"mkdir synapse/header\")\n",
    "system(\"mkdir -p synapse/EAID_000084/embeddings\")\n",
    "system(\"mkdir -p synapse/EAID_000085/embeddings\")\n",
    "system(\"mkdir -p synapse/EAID_000086/embeddings\")\n",
    "system(\"mkdir -p synapse/EAID_000087/embeddings\")\n",
    "system(\"mkdir -p synapse/EAID_000088/embeddings\")\n",
    "system(\"mkdir synapse/EAID_000084/markers\")\n",
    "system(\"mkdir synapse/EAID_000085/markers\")\n",
    "system(\"mkdir synapse/EAID_000086/markers\")\n",
    "system(\"mkdir synapse/EAID_000087/markers\")\n",
    "system(\"mkdir synapse/EAID_000088/markers\")\n",
    "system(\"mkdir synapse/EAID_000084/labels\")\n",
    "system(\"mkdir synapse/EAID_000085/labels\")\n",
    "system(\"mkdir synapse/EAID_000086/labels\")\n",
    "system(\"mkdir synapse/EAID_000087/labels\")\n",
    "system(\"mkdir synapse/EAID_000088/labels\")\n",
    "system(\"mkdir -p synapse/EAID_000084/figures/snrna\")\n",
    "system(\"mkdir -p synapse/EAID_000085/figures/snrna\")\n",
    "system(\"mkdir -p synapse/EAID_000086/figures/snrna\")\n",
    "system(\"mkdir -p synapse/EAID_000087/figures/snrna\")\n",
    "system(\"mkdir -p synapse/EAID_000088/figures/snrna\")\n",
    "system(\"mkdir -p synapse/EAID_000084/figures/snatac\")\n",
    "system(\"mkdir -p synapse/EAID_000085/figures/snatac\")\n",
    "system(\"mkdir -p synapse/EAID_000086/figures/snatac\")\n",
    "system(\"mkdir -p synapse/EAID_000087/figures/snatac\")\n",
    "system(\"mkdir -p synapse/EAID_000088/figures/snatac\")\n",
    "system(\"mkdir -p synapse/EAID_000084/auxiliary_data/snrna\")\n",
    "system(\"mkdir -p synapse/EAID_000085/auxiliary_data/snrna\")\n",
    "system(\"mkdir -p synapse/EAID_000086/auxiliary_data/snrna\")\n",
    "system(\"mkdir -p synapse/EAID_000087/auxiliary_data/snrna\")\n",
    "system(\"mkdir -p synapse/EAID_000088/auxiliary_data/snrna\")\n",
    "system(\"mkdir -p synapse/EAID_000084/auxiliary_data/snatac\")\n",
    "system(\"mkdir -p synapse/EAID_000085/auxiliary_data/snatac\")\n",
    "system(\"mkdir -p synapse/EAID_000086/auxiliary_data/snatac\")\n",
    "system(\"mkdir -p synapse/EAID_000087/auxiliary_data/snatac\")\n",
    "system(\"mkdir -p synapse/EAID_000088/auxiliary_data/snatac\")"
   ]
  },
  {
   "cell_type": "markdown",
   "id": "779d9fde-0f87-474f-9a38-00daa63f0455",
   "metadata": {},
   "source": [
    "# Functions"
   ]
  },
  {
   "cell_type": "markdown",
   "id": "8329d0c3-f64b-4769-9483-154753e6cca8",
   "metadata": {},
   "source": [
    "## Reverse complement function\n"
   ]
  },
  {
   "cell_type": "code",
   "execution_count": 8,
   "id": "955f7f8e-3826-48da-944b-2d4cc546ce73",
   "metadata": {},
   "outputs": [],
   "source": [
    "rev.comp<-function(x,rev=TRUE)\n",
    "{\n",
    "x<-toupper(x)\n",
    "y<-rep(\"N\",nchar(x))\n",
    "xx<-unlist(strsplit(x,NULL))\n",
    "for (bbb in 1:nchar(x))\n",
    "    {\n",
    "        if(xx[bbb]==\"A\") y[bbb]<-\"T\"        \n",
    "        if(xx[bbb]==\"C\") y[bbb]<-\"G\"        \n",
    "        if(xx[bbb]==\"G\") y[bbb]<-\"C\"        \n",
    "        if(xx[bbb]==\"T\") y[bbb]<-\"A\"\n",
    "    }\n",
    "if(rev==FALSE) \n",
    "    {\n",
    "    for(ccc in (1:nchar(x)))\n",
    "        {\n",
    "        if(ccc==1) yy<-y[ccc] else yy<-paste(yy,y[ccc],sep=\"\")\n",
    "        }\n",
    "    }\n",
    "if(rev==T)\n",
    "    {\n",
    "    zz<-rep(NA,nchar(x))\n",
    "    for(ccc in (1:nchar(x)))\n",
    "        {\n",
    "        zz[ccc]<-y[nchar(x)+1-ccc]\n",
    "        if(ccc==1) yy<-zz[ccc] else yy<-paste(yy,zz[ccc],sep=\"\")\n",
    "        }\n",
    "    }\n",
    "    return(yy)    \n",
    "}"
   ]
  },
  {
   "cell_type": "markdown",
   "id": "c1371b4c-03aa-4bd8-b600-20ddd6c6a8b5",
   "metadata": {},
   "source": [
    "## Get tissue-level celltype metadata  "
   ]
  },
  {
   "cell_type": "code",
   "execution_count": 9,
   "id": "aa84f144-a3fc-4047-91d6-0faf20314802",
   "metadata": {},
   "outputs": [],
   "source": [
    "get_metadata = function(path){\n",
    "    df = read.csv(path,row.names =\"X\")\n",
    "    df = df[,c(\"cellID\",\"timepoint\",\"sex\",\"tissue\",\"sample\",\"seurat_clusters\",\n",
    "               \"gen_celltype\",\"celltypes\",\"subtypes\")]\n",
    "}"
   ]
  },
  {
   "cell_type": "markdown",
   "id": "22f63077-3ebd-4409-beb5-97592f77375f",
   "metadata": {},
   "source": [
    "## Get raw ENCODE data matrices, make Seurat object, and pull metadata from object"
   ]
  },
  {
   "cell_type": "code",
   "execution_count": 29,
   "id": "b4dd6065-0095-4db0-98c6-4fac7b9c9105",
   "metadata": {},
   "outputs": [],
   "source": [
    "get_orig_counts = function(file, expt_metadata){\n",
    "    expt_metadata = expt_metadata[expt_metadata$file_accession == file,]\n",
    "    \n",
    "    if (unique(expt_metadata$technology)==\"10x\"){\n",
    "        counts = readMM(paste0(\"snrna/counts_10x/\",file,\"/GeneFull_Ex50pAS/raw/UniqueAndMult-EM.mtx\"))\n",
    "        barcodes = read.delim(paste0(\"snrna/counts_10x/\",file,\"/GeneFull_Ex50pAS/raw/barcodes.tsv\"),header = F, col.names=\"barcode\")\n",
    "        features = read.delim(paste0(\"snrna/counts_10x/\",file,\"/GeneFull_Ex50pAS/raw/features.tsv\"),header = F) \n",
    "        colnames(counts) = colnames(counts) = paste0(barcodes$barcode,\".\",expt_metadata$library_accession)\n",
    "        rownames(counts) = features$V2\n",
    "        out = counts\n",
    "        \n",
    "        } else {\n",
    "        counts = readMM(paste0(\"snrna/counts_parse/\",file,\"/GeneFull_Ex50pAS/raw/UniqueAndMult-EM.mtx\"))\n",
    "        barcodes = read.delim(paste0(\"snrna/counts_parse/\",file,\"/GeneFull_Ex50pAS/raw/barcodes.tsv\"),header = F, col.names=\"barcode\")\n",
    "        features = read.delim(paste0(\"snrna/counts_parse/\",file,\"/GeneFull_Ex50pAS/raw/features.tsv\"),header = F) \n",
    "        colnames(counts) = colnames(counts) = paste0(barcodes$barcode,\".\",expt_metadata$library_accession)\n",
    "        rownames(counts) = features$V2\n",
    "        out = counts\n",
    "        \n",
    "        }\n",
    "\n",
    "}"
   ]
  },
  {
   "cell_type": "code",
   "execution_count": 11,
   "id": "83aef4a1-4fe0-4779-a4bd-67e04cbefb87",
   "metadata": {},
   "outputs": [],
   "source": [
    "make_seurat_obj = function(tissue, expt_metadata){\n",
    "    expt_metadata = expt_metadata[expt_metadata$tissue == tissue,]\n",
    "    files = expt_metadata$file_accession\n",
    "    \n",
    "    counts = list()\n",
    "    for (j in 1:length(files)){\n",
    "    counts[[j]] = get_orig_counts(files[j], expt_metadata)\n",
    "    }\n",
    "    counts_mat = do.call(cbind, counts)\n",
    "    obj = CreateSeuratObject(counts = counts_mat, min.cells = 0, min.features = 0)\n",
    "    obj[[\"percent.mt\"]] = PercentageFeatureSet(obj, pattern = \"^mt-\")\n",
    "    obj[[\"percent.ribo\"]] <- PercentageFeatureSet(obj, pattern = \"^Rp[sl][[:digit:]]|^Rplp[[:digit:]]|^Rpsa\")\n",
    "    out = obj\n",
    "\n",
    "}"
   ]
  },
  {
   "cell_type": "code",
   "execution_count": 12,
   "id": "48544378-28f8-48d0-9775-4e24e09e956b",
   "metadata": {},
   "outputs": [],
   "source": [
    "format_rna_metadata = function(obj,expt_metadata,celltype_metadata){\n",
    "    cells = obj@meta.data\n",
    "    cells$cellID = rownames(cells)\n",
    "    cells$rna_barcode= do.call(\"rbind\", strsplit(as.character(cells$cellID), \"[.]\"))[,1]\n",
    "    cells$library_accession= do.call(\"rbind\", strsplit(as.character(cells$cellID), \"[.]\"))[,2]\n",
    "    cells = left_join(cells, expt_metadata)\n",
    "    cells = left_join(cells, celltype_metadata, by = \"cellID\")\n",
    "    cells$passed_filtering[is.na(cells$passed_filtering)] = 0\n",
    "    cells$nUMI = round(colSums(obj@assays$RNA@counts), digits = 0)\n",
    "    cells = cells[,c(\"cellID\",\"experiment_accession\",\n",
    "                                 \"rna_barcode\",\"atac_experiment_accession\",\n",
    "                                 \"nUMI\",\"percent.mt\",\"percent.ribo\",\"passed_filtering\")]\n",
    "    out = cells\n",
    "}"
   ]
  },
  {
   "cell_type": "markdown",
   "id": "41373e14-6f01-4c9d-922a-5516e0c03f4a",
   "metadata": {},
   "source": [
    "## Get ATAC metadata from Pre-Filter-Metadata.rds files"
   ]
  },
  {
   "cell_type": "code",
   "execution_count": 13,
   "id": "b4063ea8-62c4-495d-a848-745a71fc3069",
   "metadata": {},
   "outputs": [],
   "source": [
    "get_archr_metadata = function(atac_experiment_metadata, tissue){\n",
    "    atac_experiment_metadata = atac_experiment_metadata[atac_experiment_metadata$tissue == tissue,]\n",
    "    libs = atac_experiment_metadata$rna_library_accession\n",
    "    \n",
    "    atac = list()\n",
    "    for (i in 1:length(libs)){\n",
    "        libID = libs[i]\n",
    "        path = paste0(\"snatac/archr/QualityControl/\",libID,\"/\",libID,\"-Pre-Filter-Metadata.rds\")\n",
    "        atac[[i]] = readRDS(path)\n",
    "        atac[[i]]$rna_library_accession = libID\n",
    "    }\n",
    "    cells = as.data.frame(do.call(rbind, atac))\n",
    "    # read in 10x barcode sequences\n",
    "    atac_bcs = read.delim(\"snatac/ref/atac_737K-arc-v1.txt\",header = F)\n",
    "    rna_bcs = read.delim(\"snatac/ref/gene_exp_737K-arc-v1.txt\",header = F)\n",
    "    bcs = cbind(atac_bcs,rna_bcs)\n",
    "    colnames(bcs) = c(\"atac_bc\",\"rna_bc\")\n",
    "    \n",
    "    # match RNA and ATAC cell barcodes\n",
    "    cells$original_atac_bc = do.call(\"rbind\", strsplit(as.character(cells$cellNames), \"#\"))[,2]\n",
    "    cells$atac_bc = sapply(cells$original_atac_bc,rev.comp)\n",
    "    cells = dplyr::left_join(cells, bcs) # merge by atac_bc\n",
    "    cells$cellID = paste0(cells$rna_bc,\".\",cells$rna_library_accession) # re-create RNA cell IDs\n",
    "    out = cells\n",
    "}\n"
   ]
  },
  {
   "cell_type": "markdown",
   "id": "59225c24-2530-4678-a375-f7f412e0e321",
   "metadata": {},
   "source": [
    "## Join ATAC and RNA metadata, save file"
   ]
  },
  {
   "cell_type": "code",
   "execution_count": 14,
   "id": "b8671a13-5ca8-444f-9688-9bf47cd161c7",
   "metadata": {},
   "outputs": [],
   "source": [
    "save_cell_metadata = function(rna_metadata, atac_metadata, eaid){\n",
    "    full_metadata = full_join(rna_metadata, atac_metadata, by = \"cellID\")\n",
    "    full_metadata = full_metadata[,c(\"cellID\",\n",
    "                                     \"experiment_accession\",\"rna_barcode\",\n",
    "                                     \"atac_experiment_accession\",\"original_atac_bc\",\n",
    "                                     \"nUMI\",\"nFrags\",\n",
    "                                     \"percent.mt\",\"percent.ribo\",\"TSSEnrichment\",\n",
    "                                     \"passed_filtering\")]\n",
    "    colnames(full_metadata) = c(\"cell_id\",\"rna_dataset\",\"rna_barcode\",\n",
    "                                \"atac_dataset\",\"atac_barcode\",\n",
    "                                \"rna_umi_count\",\"atac_fragment_count\",\n",
    "                                \"rna_frac_mito\",\"rna_frac_ribo\",\"atac_tss_enrichment\",\n",
    "                                \"passed_filtering\")\n",
    "    fn = paste0(\"synapse/\",eaid,\"/metadata_noheader.tsv\")\n",
    "    write.table(full_metadata,file=fn,\n",
    "            sep=\"\\t\",\n",
    "            quote=F,\n",
    "            row.names = F)\n",
    "    out = paste0(\"synapse/\",eaid,\"/metadata.tsv\")\n",
    "    system(paste0(\"cat synapse/header/cell_metadata_header \", fn, \"> \", out))\n",
    "    system(paste0(\"rm \", fn))\n",
    "    system(paste0(\"gzip \", out))\n",
    "}"
   ]
  },
  {
   "cell_type": "markdown",
   "id": "3e660e4e-42f4-4368-a6b3-2b7ec001016b",
   "metadata": {},
   "source": [
    "## Get RNA embeddings"
   ]
  },
  {
   "cell_type": "code",
   "execution_count": 15,
   "id": "084b7c50-e06a-4d79-8e52-78f9c4b68084",
   "metadata": {},
   "outputs": [],
   "source": [
    "get_rna_embedding = function(rna_obj, eaid){\n",
    "    rna_umap = data.frame(cell_id = rna_obj$cellID, \n",
    "                      UMAP_1 = rna_obj@reductions$umap@cell.embeddings[,1],\n",
    "                      UMAP_2 = rna_obj@reductions$umap@cell.embeddings[,2])\n",
    "    fn = paste0(\"synapse/\",eaid,\"/embeddings/rna_umap_noheader.tsv\")\n",
    "    write.table(rna_umap,file=fn,\n",
    "            sep=\"\\t\",\n",
    "            quote=F,\n",
    "            row.names = F)\n",
    "    out = paste0(\"synapse/\",eaid,\"/embeddings/rna_umap.tsv\")\n",
    "    system(paste0(\"cat synapse/header/rna_embedding_coordinates_header \", fn, \"> \", out))\n",
    "    system(paste0(\"rm \", fn))\n",
    "    system(paste0(\"gzip \", out))\n",
    "}"
   ]
  },
  {
   "cell_type": "markdown",
   "id": "2a177bb2-6c8f-4f52-870b-fc7e1800c023",
   "metadata": {},
   "source": [
    "## Get ATAC embeddings"
   ]
  },
  {
   "cell_type": "code",
   "execution_count": 16,
   "id": "a5b24631-4184-4515-a9bf-b0f53c079749",
   "metadata": {},
   "outputs": [],
   "source": [
    "get_atac_embedding = function(archr_obj, eaid){\n",
    "    coords = getEmbedding(archr_obj)\n",
    "    atac_umap = data.frame(cell_id = archr_obj$cellID, \n",
    "                      UMAP_1 = coords[,1],\n",
    "                      UMAP_2 = coords[,2])\n",
    "    \n",
    "    fn = paste0(\"synapse/\",eaid,\"/embeddings/atac_umap_noheader.tsv\")\n",
    "    write.table(atac_umap,file=fn,\n",
    "            sep=\"\\t\",\n",
    "            quote=F,\n",
    "            row.names = F)\n",
    "    out = paste0(\"synapse/\",eaid,\"/embeddings/atac_umap.tsv\")\n",
    "    system(paste0(\"cat synapse/header/atac_embedding_coordinates_header \", fn, \"> \", out))\n",
    "    system(paste0(\"rm \", fn))\n",
    "    system(paste0(\"gzip \", out))\n",
    "}"
   ]
  },
  {
   "cell_type": "markdown",
   "id": "44f542bf-5324-4a1d-9c53-dbb2837da40f",
   "metadata": {},
   "source": [
    "## Get marker genes"
   ]
  },
  {
   "cell_type": "code",
   "execution_count": 17,
   "id": "7e2b4d09-8a97-4afc-9d2e-af1c8998b10a",
   "metadata": {},
   "outputs": [],
   "source": [
    "## Call cell type marker genes \n",
    "get_markers = function(combined.sct,eaid){\n",
    "    geneinfo = read.csv(\"snrna/ref/gene_id_to_name.csv\")\n",
    "    geneinfo$gene = make.unique(geneinfo$gene_name)\n",
    "    \n",
    "    DefaultAssay(combined.sct)= \"RNA\"\n",
    "    Idents(combined.sct) = \"celltypes\"\n",
    "    markers <- FindAllMarkers(combined.sct, \n",
    "                             only.pos = TRUE, \n",
    "                             min.pct = 0.25, \n",
    "                             logfc.threshold = 0.25, \n",
    "                             verbose = T)\n",
    "    markers=left_join(markers,geneinfo)\n",
    "    markers$is_enriched = 1\n",
    "    markers = markers[,c(\"gene_id\",\"gene_name\",\"is_enriched\",\"avg_log2FC\",\"p_val_adj\",\"pct.1\",\"pct.2\",\"cluster\")]\n",
    "    markers_list <- split(markers, f = markers$cluster) \n",
    "    \n",
    "    for (i in 1:length(markers_list)){\n",
    "        celltype = unique(markers_list[[i]]$cluster)\n",
    "        markers_list[[i]]$cluster = NULL\n",
    "        \n",
    "        celltype = gsub(\"[/]\",\".\",celltype)\n",
    "        fn = paste0(\"synapse/\",eaid,\"/markers/\",celltype,\"_markersnoheader.tsv\")\n",
    "        write.table(markers_list[[i]],file=fn,\n",
    "            sep=\"\\t\",\n",
    "            quote=F,\n",
    "            row.names = F)\n",
    "        out = paste0(\"synapse/\",eaid,\"/markers/\",celltype,\"_markers.tsv\")\n",
    "        system(paste0(\"cat synapse/header/markers_header \", fn, \"> \", out))\n",
    "        system(paste0(\"rm \", fn))\n",
    "        system(paste0(\"gzip \", out))\n",
    "        }\n",
    "\n",
    "}"
   ]
  },
  {
   "cell_type": "markdown",
   "id": "b01277a1-f786-45dc-8105-11b18100639e",
   "metadata": {},
   "source": [
    "## Make cell type labels file"
   ]
  },
  {
   "cell_type": "code",
   "execution_count": 18,
   "id": "b7e73f8b-b6ce-40ed-a170-a71353bf8cdb",
   "metadata": {},
   "outputs": [],
   "source": [
    "cell_type_labels = function(rna_obj, eaid){\n",
    "    celltype_meta = rna_obj@meta.data\n",
    "    celltype_meta = celltype_meta[,c(\"cellID\",\"celltypes\")]\n",
    "    celltype_meta$cell_type_id = celltype_meta$celltypes\n",
    "    \n",
    "    for (i in 1:length(unique(celltype_meta$celltypes))){\n",
    "        celltype = unique(celltype_meta$celltypes)[i]\n",
    "        celltype = gsub(\"[/]\",\".\",celltype)\n",
    "        fn = paste0(\"synapse/\",eaid,\"/markers/\",celltype,\"_markers.tsv.gz\")\n",
    "        markers = fread(fn)\n",
    "        name = paste0(celltype, \"_membership_score\")\n",
    "        rna_obj[[name]] = PercentageFeatureSet(rna_obj, features = make.unique(markers$gene_name),  assay =\"RNA\")\n",
    "        \n",
    "        celltype = unique(celltype_meta$celltypes)[i]\n",
    "        rna_celltype_obj = subset(rna_obj, subset = celltypes == celltype)\n",
    "        celltype_meta$membership_score[celltype_meta$celltypes == celltype] = rna_celltype_obj[[name]][,1]\n",
    "   }\n",
    "    celltype_meta$cell_type_id = celltype_meta$celltypes\n",
    "    colnames(celltype_meta) = c(\"cell_id\",\"cell_type_id\",\"cell_type_name\",\"membership_score\")\n",
    "    rownames(celltype_meta) = NULL\n",
    "    \n",
    "    fn = paste0(\"synapse/\",eaid,\"/labels/cell_type_labels_noheader.tsv\")\n",
    "    write.table(celltype_meta,file=fn,\n",
    "                sep=\"\\t\",\n",
    "                quote=F,\n",
    "                row.names = F)\n",
    "    out = paste0(\"synapse/\",eaid,\"/labels/cell_type_labels.tsv\")\n",
    "    system(paste0(\"cat synapse/header/labels_header \", fn, \"> \", out))\n",
    "    system(paste0(\"rm \", fn))\n",
    "    system(paste0(\"gzip \", out))\n",
    "}"
   ]
  },
  {
   "cell_type": "markdown",
   "id": "8ebef5e1-473e-4fce-aa3c-9bd96b8d0d9e",
   "metadata": {},
   "source": [
    "## Collect figures"
   ]
  },
  {
   "cell_type": "code",
   "execution_count": 19,
   "id": "b994da0f-555e-4fcc-b1e4-1379249ff947",
   "metadata": {},
   "outputs": [],
   "source": [
    "collect_figures = function(tissue, eaid, archr_proj_name){\n",
    "    setwd(\"/share/crsp/lab/seyedam/share/enc4_mouse/\")\n",
    "    system(paste0(\"cp -r snrna/plots/\",tissue,\"/* synapse/\", eaid,\"/figures/snrna/\"))\n",
    "    system(paste0(\"cp snatac/archr/\",archr_proj_name,\"/Plots/* synapse/\", eaid,\"/figures/snatac\"))\n",
    "    setwd(paste0(\"synapse/\", eaid))\n",
    "    system(paste0(\"tar -czf figures.tar.gz figures/ --remove-files\"))\n",
    "    setwd(\"/share/crsp/lab/seyedam/share/enc4_mouse/\")\n",
    "}"
   ]
  },
  {
   "cell_type": "markdown",
   "id": "c36f245a-e236-4d51-97fb-5ef345640701",
   "metadata": {},
   "source": [
    "## Collect data"
   ]
  },
  {
   "cell_type": "code",
   "execution_count": 20,
   "id": "51dbccb9-9914-4651-b3cf-5565c4ad5931",
   "metadata": {},
   "outputs": [],
   "source": [
    "collect_data = function(tissue, eaid, archr_proj_name){\n",
    "    setwd(\"/share/crsp/lab/seyedam/share/enc4_mouse/\")\n",
    "    setwd(paste0(\"synapse/\", eaid))\n",
    "    system(paste0(\"cp ../../snrna/seurat/\",tissue,\"* auxiliary_data/snrna/\"))\n",
    "    system(paste0(\"cp ../../snrna/seurat/markers/\",tissue,\"* auxiliary_data/snrna/\"))\n",
    "    system(paste0(\"cp -r ../../snatac/archr/\",archr_proj_name,\" auxiliary_data/snatac\"))\n",
    "    system(paste0(\"tar -czf auxiliary_data.tar.gz auxiliary_data/ --remove-files\"))\n",
    "    setwd(\"/share/crsp/lab/seyedam/share/enc4_mouse/\")\n",
    "}"
   ]
  },
  {
   "cell_type": "markdown",
   "id": "51c25447-7e35-4eca-9421-edd473d2732d",
   "metadata": {},
   "source": [
    "# Make datasets.txt files"
   ]
  },
  {
   "cell_type": "code",
   "execution_count": 21,
   "id": "a00143df-a50d-4758-985b-8616124447cf",
   "metadata": {},
   "outputs": [],
   "source": [
    "expt_metadata = read.delim(\"snrna/ref/enc4_mouse_snrna_metadata.tsv\")\n",
    "atac_experiment_metadata = read.delim(\"snatac/ref/enc4_mouse_snatac_metadata.tsv\")"
   ]
  },
  {
   "cell_type": "code",
   "execution_count": 22,
   "id": "fd147159-832e-4ce1-8469-1b60bb4c09f2",
   "metadata": {},
   "outputs": [],
   "source": [
    "datasets = as.data.frame(c(expt_metadata[expt_metadata$tissue == \"Adrenal\",\"experiment_accession\"],\n",
    "             atac_experiment_metadata[atac_experiment_metadata$tissue == \"Adrenal\",\"experiment_accession\"]))\n",
    "colnames(datasets) = \"datasets\""
   ]
  },
  {
   "cell_type": "code",
   "execution_count": 24,
   "id": "d10f766b-e5c9-4b9f-a846-23f4acba4496",
   "metadata": {},
   "outputs": [],
   "source": [
    "datasets = as.data.frame(c(expt_metadata[expt_metadata$tissue == \"Adrenal\",\"experiment_accession\"],\n",
    "             atac_experiment_metadata[atac_experiment_metadata$tissue == \"Adrenal\",\"experiment_accession\"]))\n",
    "colnames(datasets) = \"datasets\"\n",
    "write.table(datasets, file=\"synapse/EAID_000084/datasets.txt\",quote=F,row.names = F, col.names = F)                \n",
    "\n",
    "datasets = as.data.frame(c(expt_metadata[expt_metadata$tissue == \"Cortex\",\"experiment_accession\"],\n",
    "             atac_experiment_metadata[atac_experiment_metadata$tissue == \"Cortex\",\"experiment_accession\"]))\n",
    "colnames(datasets) = \"datasets\"\n",
    "write.table(datasets, file=\"synapse/EAID_000085/datasets.txt\",quote=F,row.names = F, col.names = F)                \n",
    "\n",
    "datasets = as.data.frame(c(expt_metadata[expt_metadata$tissue == \"Hippocampus\",\"experiment_accession\"],\n",
    "             atac_experiment_metadata[atac_experiment_metadata$tissue == \"Hippocampus\",\"experiment_accession\"]))\n",
    "colnames(datasets) = \"datasets\"\n",
    "write.table(datasets, file=\"synapse/EAID_000086/datasets.txt\",quote=F,row.names = F, col.names = F)                \n",
    "\n",
    "datasets = as.data.frame(c(expt_metadata[expt_metadata$tissue == \"Heart\",\"experiment_accession\"],\n",
    "             atac_experiment_metadata[atac_experiment_metadata$tissue == \"Heart\",\"experiment_accession\"]))\n",
    "colnames(datasets) = \"datasets\"\n",
    "write.table(datasets, file=\"synapse/EAID_000087/datasets.txt\",quote=F,row.names = F, col.names = F)                \n",
    "\n",
    "datasets = as.data.frame(c(expt_metadata[expt_metadata$tissue == \"Gastrocnemius\",\"experiment_accession\"],\n",
    "             atac_experiment_metadata[atac_experiment_metadata$tissue == \"Gastrocnemius\",\"experiment_accession\"]))\n",
    "colnames(datasets) = \"datasets\"\n",
    "write.table(datasets, file=\"synapse/EAID_000088/datasets.txt\",quote=F,row.names = F, col.names = F)                \n"
   ]
  },
  {
   "cell_type": "markdown",
   "id": "43db434c-4449-4615-b12b-982681810187",
   "metadata": {},
   "source": [
    "# Cell Metadata File\n"
   ]
  },
  {
   "cell_type": "code",
   "execution_count": 25,
   "id": "48a1a57d-7ef1-40c4-aa42-a1b4d419af55",
   "metadata": {},
   "outputs": [],
   "source": [
    "expt_metadata = read.delim(\"snrna/ref/enc4_mouse_snrna_metadata.tsv\")\n",
    "atac_experiment_metadata = read.delim(\"snatac/ref/enc4_mouse_snatac_metadata.tsv\")"
   ]
  },
  {
   "cell_type": "markdown",
   "id": "951357d0-72ec-40ca-b78f-31c88cc6f372",
   "metadata": {},
   "source": [
    "## Adrenal gland"
   ]
  },
  {
   "cell_type": "code",
   "execution_count": null,
   "id": "84686b9a-df38-463e-bbaa-ef623a396044",
   "metadata": {},
   "outputs": [
    {
     "name": "stderr",
     "output_type": "stream",
     "text": [
      "Warning message:\n",
      "\"Non-unique features (rownames) present in the input matrix, making unique\"\n",
      "Warning message:\n",
      "\"Feature names cannot have underscores ('_'), replacing with dashes ('-')\"\n"
     ]
    }
   ],
   "source": [
    "obj = make_seurat_obj(\"Adrenal\",expt_metadata)\n",
    "rna_metadata = format_rna_metadata(obj,expt_metadata, celltype_metadata)"
   ]
  },
  {
   "cell_type": "code",
   "execution_count": null,
   "id": "ea1552a2-7925-4d40-a0b5-538978aa6cf6",
   "metadata": {},
   "outputs": [],
   "source": [
    "table(rna_metadata$passed_filtering)"
   ]
  },
  {
   "cell_type": "code",
   "execution_count": null,
   "id": "f6b46217-346f-46e9-9655-abfb0c3c4e8a",
   "metadata": {},
   "outputs": [],
   "source": [
    "atac_metadata = get_archr_metadata(atac_experiment_metadata, \"Adrenal\")"
   ]
  },
  {
   "cell_type": "code",
   "execution_count": null,
   "id": "13a53f5f-ad23-4804-b33f-15df39c0ad9b",
   "metadata": {},
   "outputs": [],
   "source": [
    "save_cell_metadata(rna_metadata, atac_metadata, \"EAID_000084\")"
   ]
  },
  {
   "cell_type": "markdown",
   "id": "eb29c3b4-3231-431f-bb22-a0cc7b48cd71",
   "metadata": {},
   "source": [
    "## Left cortex"
   ]
  },
  {
   "cell_type": "code",
   "execution_count": 149,
   "id": "e3331bac-61fd-4d52-89a1-549b99ad0480",
   "metadata": {},
   "outputs": [
    {
     "name": "stderr",
     "output_type": "stream",
     "text": [
      "Warning message:\n",
      "\"Non-unique features (rownames) present in the input matrix, making unique\"\n",
      "Warning message:\n",
      "\"Feature names cannot have underscores ('_'), replacing with dashes ('-')\"\n",
      "\u001b[1m\u001b[22mJoining, by = \"library_accession\"\n"
     ]
    }
   ],
   "source": [
    "obj = make_seurat_obj(\"Cortex\",expt_metadata)\n",
    "rna_metadata = format_rna_metadata(obj,expt_metadata, celltype_metadata)"
   ]
  },
  {
   "cell_type": "code",
   "execution_count": 150,
   "id": "98073233-851c-413d-b23d-507989027858",
   "metadata": {},
   "outputs": [
    {
     "data": {
      "text/plain": [
       "\n",
       "      0       1 \n",
       "3654752   26848 "
      ]
     },
     "metadata": {},
     "output_type": "display_data"
    }
   ],
   "source": [
    "table(rna_metadata$passed_filtering)"
   ]
  },
  {
   "cell_type": "code",
   "execution_count": 151,
   "id": "f2e8d412-228f-4cd0-b99f-65591306446f",
   "metadata": {},
   "outputs": [
    {
     "name": "stderr",
     "output_type": "stream",
     "text": [
      "\u001b[1m\u001b[22mJoining, by = \"atac_bc\"\n"
     ]
    }
   ],
   "source": [
    "atac_metadata = get_archr_metadata(atac_experiment_metadata, \"Cortex\")"
   ]
  },
  {
   "cell_type": "code",
   "execution_count": 152,
   "id": "d17a3e93-b42e-4586-9e49-592eb58ec650",
   "metadata": {},
   "outputs": [],
   "source": [
    "save_cell_metadata(rna_metadata, atac_metadata, \"EAID_000085\")"
   ]
  },
  {
   "cell_type": "markdown",
   "id": "3697a5ed-e602-4feb-8d48-c9dbfc60eef7",
   "metadata": {},
   "source": [
    "## Hippocampus"
   ]
  },
  {
   "cell_type": "code",
   "execution_count": 153,
   "id": "f58e19bf-cc92-4a34-8988-7fd4a5a11ac7",
   "metadata": {},
   "outputs": [
    {
     "name": "stderr",
     "output_type": "stream",
     "text": [
      "Warning message:\n",
      "\"Non-unique features (rownames) present in the input matrix, making unique\"\n",
      "Warning message:\n",
      "\"Feature names cannot have underscores ('_'), replacing with dashes ('-')\"\n",
      "\u001b[1m\u001b[22mJoining, by = \"library_accession\"\n"
     ]
    }
   ],
   "source": [
    "obj = make_seurat_obj(\"Hippocampus\",expt_metadata)\n",
    "rna_metadata = format_rna_metadata(obj,expt_metadata, celltype_metadata)"
   ]
  },
  {
   "cell_type": "code",
   "execution_count": 154,
   "id": "c118d2ff-c2dd-4903-abe1-3ca36bf4f8c3",
   "metadata": {},
   "outputs": [
    {
     "data": {
      "text/plain": [
       "\n",
       "     0      1 \n",
       "729975   6345 "
      ]
     },
     "metadata": {},
     "output_type": "display_data"
    }
   ],
   "source": [
    "table(rna_metadata$passed_filtering)"
   ]
  },
  {
   "cell_type": "code",
   "execution_count": 155,
   "id": "d0ff2312-fe02-4b62-a462-f167f621f1fc",
   "metadata": {},
   "outputs": [
    {
     "name": "stderr",
     "output_type": "stream",
     "text": [
      "\u001b[1m\u001b[22mJoining, by = \"atac_bc\"\n"
     ]
    }
   ],
   "source": [
    "atac_metadata = get_archr_metadata(atac_experiment_metadata, \"Hippocampus\")"
   ]
  },
  {
   "cell_type": "code",
   "execution_count": 156,
   "id": "09673692-ed72-4203-9ea2-7de6fdc0436b",
   "metadata": {},
   "outputs": [],
   "source": [
    "save_cell_metadata(rna_metadata, atac_metadata, \"EAID_000086\")"
   ]
  },
  {
   "cell_type": "markdown",
   "id": "851a557e-1776-42ae-a7ba-fcf1438ff8f2",
   "metadata": {},
   "source": [
    "## Heart"
   ]
  },
  {
   "cell_type": "code",
   "execution_count": 157,
   "id": "a93693b5-862c-4c79-9e6f-30d5e30d8a71",
   "metadata": {},
   "outputs": [
    {
     "name": "stderr",
     "output_type": "stream",
     "text": [
      "Warning message:\n",
      "\"Non-unique features (rownames) present in the input matrix, making unique\"\n",
      "Warning message:\n",
      "\"Feature names cannot have underscores ('_'), replacing with dashes ('-')\"\n",
      "\u001b[1m\u001b[22mJoining, by = \"library_accession\"\n"
     ]
    }
   ],
   "source": [
    "obj = make_seurat_obj(\"Heart\",expt_metadata)\n",
    "rna_metadata = format_rna_metadata(obj,expt_metadata, celltype_metadata)"
   ]
  },
  {
   "cell_type": "code",
   "execution_count": 158,
   "id": "e9575ee3-8f49-4a9e-8735-985a9f15950a",
   "metadata": {},
   "outputs": [
    {
     "data": {
      "text/plain": [
       "\n",
       "     0      1 \n",
       "734507   1813 "
      ]
     },
     "metadata": {},
     "output_type": "display_data"
    }
   ],
   "source": [
    "table(rna_metadata$passed_filtering)"
   ]
  },
  {
   "cell_type": "code",
   "execution_count": 159,
   "id": "d2658f36-f07b-47bb-95e8-1f6985bb8c5b",
   "metadata": {},
   "outputs": [
    {
     "name": "stderr",
     "output_type": "stream",
     "text": [
      "\u001b[1m\u001b[22mJoining, by = \"atac_bc\"\n"
     ]
    }
   ],
   "source": [
    "atac_metadata = get_archr_metadata(atac_experiment_metadata, \"Heart\")"
   ]
  },
  {
   "cell_type": "code",
   "execution_count": 160,
   "id": "fade9e71-1e09-4fa8-b56a-31521a1101ca",
   "metadata": {},
   "outputs": [],
   "source": [
    "save_cell_metadata(rna_metadata, atac_metadata, \"EAID_000087\")"
   ]
  },
  {
   "cell_type": "markdown",
   "id": "85d3591c-9015-4049-9365-fa874a570c60",
   "metadata": {},
   "source": [
    "## Gastrocnemius"
   ]
  },
  {
   "cell_type": "code",
   "execution_count": null,
   "id": "8a429610-365d-415f-9af6-a065a27e51f9",
   "metadata": {},
   "outputs": [],
   "source": [
    "obj = make_seurat_obj(\"Gastrocnemius\",expt_metadata)\n",
    "rna_metadata = format_rna_metadata(obj,expt_metadata, celltype_metadata)"
   ]
  },
  {
   "cell_type": "code",
   "execution_count": null,
   "id": "d58950de-c644-433c-8213-058d476152ef",
   "metadata": {},
   "outputs": [],
   "source": [
    "table(rna_metadata$passed_filtering)"
   ]
  },
  {
   "cell_type": "code",
   "execution_count": null,
   "id": "dd6cc8b7-8a95-4550-9ba3-ba38f064479d",
   "metadata": {},
   "outputs": [],
   "source": [
    "atac_metadata = get_archr_metadata(atac_experiment_metadata, \"Gastrocnemius\")"
   ]
  },
  {
   "cell_type": "code",
   "execution_count": null,
   "id": "ee407eb9-c149-46b2-bf20-5cb82e7e0be6",
   "metadata": {},
   "outputs": [],
   "source": [
    "save_cell_metadata(rna_metadata, atac_metadata, \"EAID_000088\")"
   ]
  },
  {
   "cell_type": "markdown",
   "id": "2e2397ff-bd22-4bf6-aac5-66fc906531b0",
   "metadata": {},
   "source": [
    "# Embeddings"
   ]
  },
  {
   "cell_type": "markdown",
   "id": "e17dd66b-c1c6-42b0-ae00-8961fc50ce7d",
   "metadata": {},
   "source": [
    "## Adrenal gland"
   ]
  },
  {
   "cell_type": "code",
   "execution_count": 166,
   "id": "99f0c642-724b-4beb-a455-7641768bc0f2",
   "metadata": {},
   "outputs": [],
   "source": [
    "adr_rna = readRDS(\"snrna/seurat/adrenal_Parse_10x_integrated.rds\")"
   ]
  },
  {
   "cell_type": "code",
   "execution_count": 167,
   "id": "4e05786a-e94a-4d5f-b631-bd05e149edba",
   "metadata": {},
   "outputs": [],
   "source": [
    "get_rna_embedding(adr_rna, \"EAID_000084\")"
   ]
  },
  {
   "cell_type": "code",
   "execution_count": 168,
   "id": "0d9c4b14-c767-4618-93f8-4065256b0216",
   "metadata": {},
   "outputs": [
    {
     "name": "stderr",
     "output_type": "stream",
     "text": [
      "Successfully loaded ArchRProject!\n",
      "\n"
     ]
    }
   ],
   "source": [
    "adr_atac = loadArchRProject(\"snatac/archr/ENC4_Mouse_Adrenal/\", showLogo = F)"
   ]
  },
  {
   "cell_type": "code",
   "execution_count": 169,
   "id": "0a334f87-99e5-4542-a72b-85c02b6bbb3e",
   "metadata": {},
   "outputs": [],
   "source": [
    "get_atac_embedding(adr_atac, \"EAID_000084\")"
   ]
  },
  {
   "cell_type": "markdown",
   "id": "64164c75-565d-4d02-b36e-349842ca7830",
   "metadata": {},
   "source": [
    "## Left cortex"
   ]
  },
  {
   "cell_type": "code",
   "execution_count": 170,
   "id": "636f94ac-cd9f-474d-9057-f40c6528c6e1",
   "metadata": {},
   "outputs": [],
   "source": [
    "ctx_rna = readRDS(\"snrna/seurat/cortex_Parse_10x_integrated.rds\")"
   ]
  },
  {
   "cell_type": "code",
   "execution_count": 171,
   "id": "1e069d3d-dfc1-47c3-8765-e7779ce60859",
   "metadata": {},
   "outputs": [],
   "source": [
    "get_rna_embedding(ctx_rna, \"EAID_000085\")"
   ]
  },
  {
   "cell_type": "code",
   "execution_count": 172,
   "id": "e960f063-1c3b-4f1f-9976-030d3ad6a7f8",
   "metadata": {},
   "outputs": [
    {
     "name": "stderr",
     "output_type": "stream",
     "text": [
      "Successfully loaded ArchRProject!\n",
      "\n"
     ]
    }
   ],
   "source": [
    "ctx_atac = loadArchRProject(\"snatac/archr/ENC4_Mouse_Cortex/\", showLogo = F)"
   ]
  },
  {
   "cell_type": "code",
   "execution_count": 173,
   "id": "18e7d50b-75ca-4472-9543-26ec5437a0f3",
   "metadata": {},
   "outputs": [],
   "source": [
    "get_atac_embedding(ctx_atac, \"EAID_000085\")"
   ]
  },
  {
   "cell_type": "markdown",
   "id": "b71e9ff5-de70-43dd-9f7b-a89381e029d9",
   "metadata": {},
   "source": [
    "## Hippocampus"
   ]
  },
  {
   "cell_type": "code",
   "execution_count": 174,
   "id": "6459f61e-0849-43da-8ce5-ea0386cbfac4",
   "metadata": {},
   "outputs": [],
   "source": [
    "hc_rna = readRDS(\"snrna/seurat/hippocampus_Parse_10x_integrated.rds\")"
   ]
  },
  {
   "cell_type": "code",
   "execution_count": 175,
   "id": "2d9e30e9-a351-43e2-8e9b-5386cdc23628",
   "metadata": {},
   "outputs": [],
   "source": [
    "get_rna_embedding(hc_rna, \"EAID_000086\")"
   ]
  },
  {
   "cell_type": "code",
   "execution_count": 176,
   "id": "064f0ccf-a5fa-4481-a2e6-50652333e2b9",
   "metadata": {},
   "outputs": [
    {
     "name": "stderr",
     "output_type": "stream",
     "text": [
      "Successfully loaded ArchRProject!\n",
      "\n"
     ]
    }
   ],
   "source": [
    "hc_atac = loadArchRProject(\"snatac/archr/ENC4_Mouse_Hippocampus/\", showLogo = F)"
   ]
  },
  {
   "cell_type": "code",
   "execution_count": 177,
   "id": "79fa628b-184e-46b8-bc1a-2a4e0647e6c9",
   "metadata": {},
   "outputs": [],
   "source": [
    "get_atac_embedding(hc_atac, \"EAID_000086\")"
   ]
  },
  {
   "cell_type": "markdown",
   "id": "2b8e108e-180d-4927-8e5a-155ca20f2064",
   "metadata": {},
   "source": [
    "## Heart"
   ]
  },
  {
   "cell_type": "code",
   "execution_count": 178,
   "id": "7808775a-5c03-4942-a841-8452bfda0adc",
   "metadata": {},
   "outputs": [],
   "source": [
    "hrt_rna = readRDS(\"snrna/seurat/heart_Parse_10x_integrated.rds\")"
   ]
  },
  {
   "cell_type": "code",
   "execution_count": 179,
   "id": "7c5272c7-e505-4fbf-aab9-fe9b6d45124d",
   "metadata": {},
   "outputs": [],
   "source": [
    "get_rna_embedding(hrt_rna, \"EAID_000087\")"
   ]
  },
  {
   "cell_type": "code",
   "execution_count": 180,
   "id": "2de127c6-9440-45bd-a88c-f94016539bc2",
   "metadata": {},
   "outputs": [
    {
     "name": "stderr",
     "output_type": "stream",
     "text": [
      "Successfully loaded ArchRProject!\n",
      "\n"
     ]
    }
   ],
   "source": [
    "hrt_atac = loadArchRProject(\"snatac/archr/ENC4_Mouse_Heart/\", showLogo = F)"
   ]
  },
  {
   "cell_type": "code",
   "execution_count": 181,
   "id": "85bc1612-e947-4fc5-91b2-3dbffa476462",
   "metadata": {},
   "outputs": [],
   "source": [
    "get_atac_embedding(hrt_atac, \"EAID_000087\")"
   ]
  },
  {
   "cell_type": "markdown",
   "id": "e0789aad-36f4-430b-b490-5960ae7bca97",
   "metadata": {},
   "source": [
    "## Gastrocnemius"
   ]
  },
  {
   "cell_type": "code",
   "execution_count": 182,
   "id": "e89826d6-0032-4724-9e17-6b12aebd8d1d",
   "metadata": {},
   "outputs": [],
   "source": [
    "gas_rna = readRDS(\"snrna/seurat/gastrocnemius_Parse_10x_integrated.rds\")"
   ]
  },
  {
   "cell_type": "code",
   "execution_count": 183,
   "id": "69a5cb8e-a90e-4ad3-829d-3bf821c612a8",
   "metadata": {},
   "outputs": [],
   "source": [
    "get_rna_embedding(gas_rna, \"EAID_000088\")"
   ]
  },
  {
   "cell_type": "code",
   "execution_count": 184,
   "id": "4976749b-9cc8-4999-a752-ba1622ad04c9",
   "metadata": {},
   "outputs": [
    {
     "name": "stderr",
     "output_type": "stream",
     "text": [
      "Successfully loaded ArchRProject!\n",
      "\n"
     ]
    }
   ],
   "source": [
    "gas_atac = loadArchRProject(\"snatac/archr/ENC4_Mouse_Gastrocnemius/\", showLogo = F)"
   ]
  },
  {
   "cell_type": "code",
   "execution_count": 185,
   "id": "582c6959-dc68-4a2d-8f38-5ea704bf47e2",
   "metadata": {},
   "outputs": [],
   "source": [
    "get_atac_embedding(gas_atac, \"EAID_000088\")"
   ]
  },
  {
   "cell_type": "markdown",
   "id": "866db0f2-d825-4bcb-b1f1-843c8a089bcd",
   "metadata": {},
   "source": [
    "# Marker genes"
   ]
  },
  {
   "cell_type": "code",
   "execution_count": 194,
   "id": "b1b1d91b-fdd4-4156-af43-e7bdc87d1a97",
   "metadata": {},
   "outputs": [
    {
     "name": "stderr",
     "output_type": "stream",
     "text": [
      "Calculating cluster Adipocytes\n",
      "\n",
      "Calculating cluster Endothelial\n",
      "\n",
      "Calculating cluster FAP\n",
      "\n",
      "Calculating cluster Lymphoid\n",
      "\n",
      "Calculating cluster Macrophages\n",
      "\n",
      "Calculating cluster Pericytes\n",
      "\n",
      "Calculating cluster Satellite\n",
      "\n",
      "Calculating cluster Type1\n",
      "\n",
      "Calculating cluster Type1/2\n",
      "\n",
      "Calculating cluster Type2\n",
      "\n",
      "\u001b[1m\u001b[22mJoining, by = \"gene\"\n"
     ]
    }
   ],
   "source": [
    "get_markers(adr_rna,\"EAID_000084\")"
   ]
  },
  {
   "cell_type": "code",
   "execution_count": 190,
   "id": "bf36c375-8d9b-478a-9ee4-aa0fbf1d14f1",
   "metadata": {},
   "outputs": [
    {
     "name": "stderr",
     "output_type": "stream",
     "text": [
      "Calculating cluster Adipocytes\n",
      "\n",
      "Calculating cluster Endothelial\n",
      "\n",
      "Calculating cluster Epithelial_ciliated\n",
      "\n",
      "Calculating cluster Epithelial_secretory\n",
      "\n",
      "Calculating cluster Fibroblasts\n",
      "\n",
      "Calculating cluster Lymphatic_endothelial\n",
      "\n",
      "Calculating cluster Lymphoid\n",
      "\n",
      "Calculating cluster Macrophages\n",
      "\n",
      "Calculating cluster Myofibroblasts\n",
      "\n",
      "Calculating cluster Pericytes\n",
      "\n",
      "Calculating cluster Smooth_muscle\n",
      "\n",
      "\u001b[1m\u001b[22mJoining, by = \"gene\"\n"
     ]
    }
   ],
   "source": [
    "get_markers(ctx_rna,\"EAID_000085\")"
   ]
  },
  {
   "cell_type": "code",
   "execution_count": 191,
   "id": "7d2ce87b-5041-4c24-95a2-dd745da51134",
   "metadata": {},
   "outputs": [
    {
     "name": "stderr",
     "output_type": "stream",
     "text": [
      "Calculating cluster Endothelial\n",
      "\n",
      "Calculating cluster Epithelial\n",
      "\n",
      "Calculating cluster Lymphatic_endothelial\n",
      "\n",
      "Calculating cluster Lymphoid\n",
      "\n",
      "Calculating cluster Macrophages\n",
      "\n",
      "Calculating cluster Perivascular\n",
      "\n",
      "Calculating cluster Stromal\n",
      "\n",
      "\u001b[1m\u001b[22mJoining, by = \"gene\"\n"
     ]
    }
   ],
   "source": [
    "get_markers(hc_rna,\"EAID_000086\")"
   ]
  },
  {
   "cell_type": "code",
   "execution_count": 192,
   "id": "e6dfa4d9-0f65-4de7-af5e-5e948176d9c6",
   "metadata": {},
   "outputs": [
    {
     "name": "stderr",
     "output_type": "stream",
     "text": [
      "Calculating cluster Endothelial\n",
      "\n",
      "Calculating cluster Fibroblasts\n",
      "\n",
      "Calculating cluster Lymphatic_endothelial\n",
      "\n",
      "Calculating cluster Lymphoid\n",
      "\n",
      "Calculating cluster Macrophages\n",
      "\n",
      "Calculating cluster Mast_cells\n",
      "\n",
      "Calculating cluster Neutrophils\n",
      "\n",
      "Calculating cluster Pericytes\n",
      "\n",
      "Calculating cluster Smooth_muscle\n",
      "\n",
      "Calculating cluster Stromal\n",
      "\n",
      "\u001b[1m\u001b[22mJoining, by = \"gene\"\n"
     ]
    }
   ],
   "source": [
    "get_markers(hrt_rna,\"EAID_000087\")"
   ]
  },
  {
   "cell_type": "code",
   "execution_count": 193,
   "id": "1d702fd3-4205-4469-9e46-c6542897460d",
   "metadata": {},
   "outputs": [
    {
     "name": "stderr",
     "output_type": "stream",
     "text": [
      "Calculating cluster Endothelial\n",
      "\n",
      "Calculating cluster Fibroblasts\n",
      "\n",
      "Calculating cluster Lymphoid\n",
      "\n",
      "Calculating cluster Macrophages\n",
      "\n",
      "Calculating cluster Urothelial_basal\n",
      "\n",
      "Calculating cluster Urothelial_intermediate\n",
      "\n",
      "Calculating cluster Urothelial_umbrella\n",
      "\n",
      "\u001b[1m\u001b[22mJoining, by = \"gene\"\n"
     ]
    }
   ],
   "source": [
    "get_markers(gas_rna,\"EAID_000088\")"
   ]
  },
  {
   "cell_type": "markdown",
   "id": "69b09744-72a1-4c4f-baca-5069eb21f048",
   "metadata": {},
   "source": [
    "# Cell Type Labels"
   ]
  },
  {
   "cell_type": "code",
   "execution_count": null,
   "id": "93edd29c-9f4b-4a2b-b97a-3cf0593b7bd2",
   "metadata": {},
   "outputs": [],
   "source": [
    "cell_type_labels(adr_rna, \"EAID_000084\")"
   ]
  },
  {
   "cell_type": "code",
   "execution_count": 204,
   "id": "cf339c6f-5d50-4d8f-a874-6c5f3d11b449",
   "metadata": {},
   "outputs": [],
   "source": [
    "cell_type_labels(ctx_rna, \"EAID_000085\")"
   ]
  },
  {
   "cell_type": "code",
   "execution_count": 203,
   "id": "a108a0d5-10bc-4401-80cc-a30534a878bc",
   "metadata": {},
   "outputs": [],
   "source": [
    "cell_type_labels(hc_rna, \"EAID_000086\")"
   ]
  },
  {
   "cell_type": "code",
   "execution_count": 202,
   "id": "ccd9db5f-f73e-4b5a-9bbe-26164136ebb6",
   "metadata": {},
   "outputs": [],
   "source": [
    "cell_type_labels(hrt_rna, \"EAID_000087\")"
   ]
  },
  {
   "cell_type": "code",
   "execution_count": 200,
   "id": "04a49368-6acc-4c1c-b8a1-7ac2b02a2fe2",
   "metadata": {},
   "outputs": [],
   "source": [
    "cell_type_labels(gas_rna, \"EAID_000088\")"
   ]
  },
  {
   "cell_type": "markdown",
   "id": "e01e49f1-14e8-4928-a70d-5ad964dc27c4",
   "metadata": {},
   "source": [
    "# Collect figures into tar zipped folder"
   ]
  },
  {
   "cell_type": "code",
   "execution_count": 295,
   "id": "48199cf2-e105-47fc-8e6c-f450dda11ebc",
   "metadata": {},
   "outputs": [],
   "source": [
    "collect_figures(\"adrenal\",\"EAID_000084\",\"ENC4_Mouse_Adrenal\")"
   ]
  },
  {
   "cell_type": "code",
   "execution_count": 296,
   "id": "14961a22-15b1-4e43-ab58-b48fa94bb6bd",
   "metadata": {},
   "outputs": [],
   "source": [
    "collect_figures(\"cortex\",\"EAID_000085\",\"ENC4_Mouse_Cortex\")"
   ]
  },
  {
   "cell_type": "code",
   "execution_count": 297,
   "id": "7ca12a73-3dda-4c13-88ff-4b89bb54fa86",
   "metadata": {},
   "outputs": [],
   "source": [
    "collect_figures(\"hippocampus\",\"EAID_000086\",\"ENC4_Mouse_Hippocampus\")"
   ]
  },
  {
   "cell_type": "code",
   "execution_count": 298,
   "id": "5d35c197-48c2-42cc-97ee-42730b716b3e",
   "metadata": {},
   "outputs": [],
   "source": [
    "collect_figures(\"heart\",\"EAID_000087\",\"ENC4_Mouse_Heart\")"
   ]
  },
  {
   "cell_type": "code",
   "execution_count": 299,
   "id": "90b24afa-0c82-4f18-ae54-f3fe5e7cbe19",
   "metadata": {},
   "outputs": [],
   "source": [
    "collect_figures(\"gastrocnemius\",\"EAID_000088\",\"ENC4_Mouse_Gastrocnemius\")"
   ]
  },
  {
   "cell_type": "markdown",
   "id": "24ee30c4-fde7-4b73-a0d5-677f8a9dcd02",
   "metadata": {},
   "source": [
    "# Collect auxiliary data into tar zipped folder\n",
    "Including Seurat object, Seurat object metadata as a csv file, cluster-level markers genes tsv file, and ArchR project folder."
   ]
  },
  {
   "cell_type": "code",
   "execution_count": 42,
   "id": "357f5f45-1f25-4ac2-9dd8-1769928858d8",
   "metadata": {},
   "outputs": [],
   "source": [
    "collect_data(\"adrenal\",\"EAID_000084\",\"ENC4_Mouse_Adrenal\")"
   ]
  },
  {
   "cell_type": "code",
   "execution_count": 41,
   "id": "42053ffc-08fe-41e9-8d77-6b16af8af3f7",
   "metadata": {},
   "outputs": [],
   "source": [
    "collect_data(\"cortex\",\"EAID_000085\",\"ENC4_Mouse_Cortex\")"
   ]
  },
  {
   "cell_type": "code",
   "execution_count": 40,
   "id": "af87adef-c517-4b51-97f3-0ec64cf39d35",
   "metadata": {},
   "outputs": [],
   "source": [
    "collect_data(\"hippocampus\",\"EAID_000086\",\"ENC4_Mouse_Hippocampus\")"
   ]
  },
  {
   "cell_type": "code",
   "execution_count": 39,
   "id": "b2f69841-9679-411f-9615-b1c3d33fd978",
   "metadata": {},
   "outputs": [],
   "source": [
    "collect_data(\"heart\",\"EAID_000087\",\"ENC4_Mouse_Heart\")"
   ]
  },
  {
   "cell_type": "code",
   "execution_count": 37,
   "id": "9a82a7d8-6384-4f58-8577-d7695ca38484",
   "metadata": {},
   "outputs": [],
   "source": [
    "collect_data(\"gastrocnemius\",\"EAID_000088\",\"ENC4_Mouse_Gastrocnemius\")"
   ]
  }
 ],
 "metadata": {
  "kernelspec": {
   "display_name": "R",
   "language": "R",
   "name": "ir"
  },
  "language_info": {
   "codemirror_mode": "r",
   "file_extension": ".r",
   "mimetype": "text/x-r-source",
   "name": "R",
   "pygments_lexer": "r",
   "version": "4.1.2"
  }
 },
 "nbformat": 4,
 "nbformat_minor": 5
}
