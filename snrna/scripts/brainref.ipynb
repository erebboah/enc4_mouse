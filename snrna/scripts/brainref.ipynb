{
 "cells": [
  {
   "cell_type": "code",
   "execution_count": 1,
   "id": "7306fbba-0c96-4261-8e28-6b0a5e154ecc",
   "metadata": {},
   "outputs": [
    {
     "name": "stderr",
     "output_type": "stream",
     "text": [
      "Warning message in system(\"timedatectl\", intern = TRUE):\n",
      "\"running command 'timedatectl' had status 1\"\n"
     ]
    }
   ],
   "source": [
    "library(Matrix)\n",
    "suppressPackageStartupMessages(library(Seurat))\n",
    "suppressPackageStartupMessages(library(tidyverse))\n",
    "suppressPackageStartupMessages(library(viridis))\n",
    "library(glmGamPoi)\n",
    "library(RColorBrewer)\n",
    "options(future.globals.maxSize = 10000 * 1024^2)\n",
    "setwd(\"/share/crsp/lab/seyedam/share/enc4_mouse/snrna/\")"
   ]
  },
  {
   "cell_type": "code",
   "execution_count": 2,
   "id": "2da6f7ec-930a-4581-98a6-1fd6092e32fe",
   "metadata": {},
   "outputs": [],
   "source": [
    "ref = readMM(\"ref/external_data/brain_atlas_1000_per_subtype_250734.mtx\")"
   ]
  },
  {
   "cell_type": "code",
   "execution_count": 3,
   "id": "1b44336f-8562-49b9-ba10-907f82681ac4",
   "metadata": {},
   "outputs": [],
   "source": [
    "genes = read.delim(\"ref/external_data/brain_atlas_1000_per_subtype_250734_genes.tsv\",header=F)"
   ]
  },
  {
   "cell_type": "code",
   "execution_count": 4,
   "id": "2708b663-acac-4beb-a54c-53211c8bad80",
   "metadata": {},
   "outputs": [],
   "source": [
    "barcodes = read.delim(\"ref/external_data/brain_atlas_1000_per_subtype_250734_barcodes.tsv\",header=F)"
   ]
  },
  {
   "cell_type": "code",
   "execution_count": 5,
   "id": "b89a917e-23d1-4cfa-92c9-b8fc0a6d8c0e",
   "metadata": {},
   "outputs": [],
   "source": [
    "rownames(ref) = genes$V1\n",
    "colnames(ref) = barcodes$V1"
   ]
  },
  {
   "cell_type": "code",
   "execution_count": 6,
   "id": "8e8e79a9-f6a0-40bf-b5fc-788c38582e80",
   "metadata": {},
   "outputs": [],
   "source": [
    "ref = ref[1:(nrow(ref)-129),]"
   ]
  },
  {
   "cell_type": "code",
   "execution_count": 7,
   "id": "c75dee32-e36e-455c-b02e-42805d08d2d0",
   "metadata": {},
   "outputs": [],
   "source": [
    "meta = read.csv(\"ref/external_data/brain_atlas_metadata_1000_per_subtype_250734.csv\")"
   ]
  },
  {
   "cell_type": "code",
   "execution_count": 8,
   "id": "d5af387d-3e5f-44de-8754-3d355db8026a",
   "metadata": {},
   "outputs": [],
   "source": [
    "ref_obj = CreateSeuratObject(counts = ref, min.cells = 0, min.features = 0)\n",
    "ref_obj[[\"percent.mt\"]] = PercentageFeatureSet(ref_obj, pattern = \"^mt-\")\n",
    "ref_obj@meta.data = cbind(ref_obj@meta.data,meta)\n",
    "\n"
   ]
  },
  {
   "cell_type": "code",
   "execution_count": 9,
   "id": "c0dd1187-74bd-4e5a-ab66-36d2a1a5a083",
   "metadata": {},
   "outputs": [
    {
     "data": {
      "text/plain": [
       "An object of class Seurat \n",
       "31053 features across 250734 samples within 1 assay \n",
       "Active assay: RNA (31053 features, 0 variable features)"
      ]
     },
     "metadata": {},
     "output_type": "display_data"
    }
   ],
   "source": [
    "ref_obj"
   ]
  },
  {
   "cell_type": "code",
   "execution_count": null,
   "id": "58a301d5-fb2c-468d-a458-0eef5c66d8c3",
   "metadata": {},
   "outputs": [
    {
     "name": "stderr",
     "output_type": "stream",
     "text": [
      "Calculating cell attributes from input UMI matrix: log_umi\n",
      "\n"
     ]
    }
   ],
   "source": [
    "ref_obj <- SCTransform(ref_obj, vars.to.regress = c(\"nFeature_RNA\",\"percent.mt\"),\n",
    "                  method = \"glmGamPoi\", conserve.memory = TRUE)"
   ]
  },
  {
   "cell_type": "code",
   "execution_count": null,
   "id": "4fca53fe-971e-4d4a-94d2-45a18de727de",
   "metadata": {},
   "outputs": [],
   "source": []
  },
  {
   "cell_type": "code",
   "execution_count": null,
   "id": "6d3b555b-5cd7-4c8c-9cd7-2647f95c9e4f",
   "metadata": {},
   "outputs": [],
   "source": []
  },
  {
   "cell_type": "code",
   "execution_count": null,
   "id": "3454c7b9-100f-499f-a61d-65b4b6595341",
   "metadata": {},
   "outputs": [],
   "source": [
    "\n",
    "ref_obj <- RunPCA(ref_obj, verbose = T, assay = \"SCT\")\n"
   ]
  },
  {
   "cell_type": "code",
   "execution_count": null,
   "id": "3aa7315a-cb00-411d-8769-401621bf9c8c",
   "metadata": {},
   "outputs": [],
   "source": [
    "ref_obj <- RunUMAP(ref_obj, reduction = \"pca\", dims = 1:30,verbose = F)\n",
    "ref_obj <- FindNeighbors(ref_obj, reduction = \"pca\", dims = 1:30,verbose = F)\n"
   ]
  },
  {
   "cell_type": "code",
   "execution_count": null,
   "id": "ff467295-3658-4427-8420-0faceff9d2e7",
   "metadata": {},
   "outputs": [],
   "source": [
    "ref_obj <- FindClusters(ref_obj,resolution = 0.25,verbose = F)\n"
   ]
  },
  {
   "cell_type": "code",
   "execution_count": null,
   "id": "b48bb11e-065e-430c-a72e-0744a6ca0d7d",
   "metadata": {},
   "outputs": [],
   "source": [
    "options(repr.plot.width = 20,repr.plot.height=10)\n",
    "nclusters = length(unique(ref_obj$cell_type_alias_label))\n",
    "\n",
    "DimPlot(ref_obj, reduction = \"umap\", group.by = \"cell_type_alias_label\",\n",
    "        label = TRUE, label.size = 6, repel = TRUE,cols = colorRampPalette(brewer.pal(9,\"Set1\"))(nclusters))  & NoLegend()\n",
    "\n"
   ]
  },
  {
   "cell_type": "code",
   "execution_count": null,
   "id": "94df6427-e297-4445-9ba6-2a5a131d51e7",
   "metadata": {},
   "outputs": [],
   "source": []
  }
 ],
 "metadata": {
  "kernelspec": {
   "display_name": "R",
   "language": "R",
   "name": "ir"
  },
  "language_info": {
   "codemirror_mode": "r",
   "file_extension": ".r",
   "mimetype": "text/x-r-source",
   "name": "R",
   "pygments_lexer": "r",
   "version": "4.1.2"
  }
 },
 "nbformat": 4,
 "nbformat_minor": 5
}
