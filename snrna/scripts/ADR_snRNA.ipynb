{
 "cells": [
  {
   "cell_type": "markdown",
   "id": "7cdd2f06-50b6-49b7-8848-ccdc1286d061",
   "metadata": {},
   "source": [
    "# Mouse snRNA Integrative Analysis\n",
    "## Adrenal\n",
    "### Data\n",
    "- [Adrenal data table](https://github.com/erebboah/ENC4_Mouse_SingleCell/blob/master/snrna/ref/adrenal_minimal_metadata.tsv)\n",
    "\n",
    "### Aims\n",
    "[integrate_parse_10x.R](https://github.com/erebboah/ENC4_Mouse_SingleCell/blob/master/snrna/scripts/integrate_parse_10x.R):\n",
    "1. Read in pre-processed Parse and 10x data and merge counts matrices across experiments (within the same technology) for each tissue.\n",
    "2. Filter nuclei by # genes, # UMIs, percent mitochondrial gene expression, and doublet score. See [detailed metadata](https://github.com/erebboah/ENC4_Mouse_SingleCell/blob/master/snrna/ref/enc4_mouse_snrna_metadata.tsv) for filter cutoffs. The adrenal gland filters are the same as the brain filters. **Also filter 10x nuclei for those passing snATAC filters.**\n",
    "3. Run SCT on the 3 objects to regress `percent.mt` and `nFeature_RNA`. Use  `method = \"glmGamPoi\"` to speed up this step, and save pre-integrated data in `seurat` folder.\n",
    "4. Combine Parse standard, Parse deep, and 10x data by CCA integration. Use Parse standard as reference dataset because it contains all timepoints, while 10x data only contains 2 timepoints. \n",
    "5. Score nuclei by cell cycle using these [mouse cell cycle genes](https://github.com/erebboah/ENC4_Mouse_SingleCell/blob/master/snrna/ref/mouse_cellcycle_genes.rda) to aid in manual celltype annotation.\n",
    "\n",
    "**In this notebook**:\n",
    "Manual celltype annotation. Find marker genes for `gen_celltype`, `celltypes`, and `subtypes` and save in `seurat/markers`. Create and save formatted files for ENCODE submissions.\n",
    "\n",
    "\n",
    "### Results \n",
    "- `gen_celltype` and `celltypes` are basically the same, such as \"Cortex\" and \"Medulla\" (with the exception of \"Myeloid\" vs. \"Macrophages\" and \"Myonuclei\" vs. \"Skeletal_muscle\")\n",
    "- `subtypes` breaks down the cortical cells into \"Cortex_ZG\" (zona glomerulosa) and \"Cortex_ZF\" (zona fasciculata) using ZG marker gene Cyp11b2. Cyp11a1 and Cyp11b1 are expressed in both layers.\n",
    "- \"Medulla\" breaks down into \"Medulla_NE\" (norepinephrine-producing) and \"Medulla_EPI\" (epinephrine-producing) using expression of Pnmt, the enzyme responsible for concerting norepinephrine to epinephrine, which is expressed only in the epinephrine-producing cells.\n",
    "- Cross-referenced [cell type marker genes](https://panglaodb.se/markers.html) with [cluster markers](https://github.com/erebboah/enc4_mouse/blob/master/snrna/seurat/markers/adrenal_cluster_marker_genes_only.pos_min.pct0.25_logfc.threshold0.25.tsv) to figure out clusters such as hepatocytes and fibroblasts.\n",
    "- Cell cycle scoring helps assign cycling clusters.\n",
    "- We noticed predominantly female and male cortex that we labeled \"X_zone\" and \"Male_only_ZF\", respectively, with the X-zone already described in literature.\n",
    "\n"
   ]
  },
  {
   "cell_type": "code",
   "execution_count": 1,
   "id": "e8dc8679-43e6-48ff-9213-875e7849c677",
   "metadata": {},
   "outputs": [
    {
     "name": "stderr",
     "output_type": "stream",
     "text": [
      "Warning message in system(\"timedatectl\", intern = TRUE):\n",
      "\"running command 'timedatectl' had status 1\"\n",
      "\n",
      "Attaching package: 'data.table'\n",
      "\n",
      "\n",
      "The following objects are masked from 'package:dplyr':\n",
      "\n",
      "    between, first, last\n",
      "\n",
      "\n",
      "The following object is masked from 'package:purrr':\n",
      "\n",
      "    transpose\n",
      "\n",
      "\n"
     ]
    }
   ],
   "source": [
    "library(Matrix)\n",
    "suppressPackageStartupMessages(library(Seurat))\n",
    "suppressPackageStartupMessages(library(tidyverse))\n",
    "suppressPackageStartupMessages(library(viridis))\n",
    "library(glmGamPoi)\n",
    "library(RColorBrewer)\n",
    "library(data.table)\n",
    "options(future.globals.maxSize = 10000 * 1024^2)\n",
    "future.seed=TRUE\n"
   ]
  },
  {
   "cell_type": "code",
   "execution_count": null,
   "id": "db9ed07a-a328-4c13-b829-d70d365163b0",
   "metadata": {},
   "outputs": [],
   "source": [
    "setwd(\"../../enc4_mouse/snrna/\")"
   ]
  },
  {
   "cell_type": "code",
   "execution_count": 2,
   "id": "84e5e2cc-1f07-445b-affa-ca1327132523",
   "metadata": {},
   "outputs": [],
   "source": [
    "setwd(\"/share/crsp/lab/seyedam/share/enc4_mouse/snrna/\")"
   ]
  },
  {
   "cell_type": "code",
   "execution_count": 3,
   "id": "3abf50d5-1239-4627-ba71-65fded438948",
   "metadata": {},
   "outputs": [],
   "source": [
    "system(\"mkdir plots/adrenal\")\n",
    "system(\"mkdir plots/adrenal/qc\")\n",
    "system(\"mkdir plots/adrenal/clustering\")\n",
    "system(\"mkdir plots/adrenal/annotation\")\n",
    "system(\"mkdir seurat/markers\")\n",
    "system(\"mkdir seurat/markers/adrenal\")\n",
    "system(\"mkdir ref/adrenal\")"
   ]
  },
  {
   "cell_type": "markdown",
   "id": "2b7bce59-98d4-430c-afab-0b0c7a1e8cfb",
   "metadata": {},
   "source": [
    "# Functions"
   ]
  },
  {
   "cell_type": "code",
   "execution_count": 4,
   "id": "cdce3009-5d78-4595-b10b-bda09f07c0fa",
   "metadata": {},
   "outputs": [],
   "source": [
    "get_orig_10x_counts = function(file){\n",
    "    metadata = metadata[metadata$file_accession == file,]\n",
    "    counts = readMM(paste0(\"counts_10x/\",file,\"/matrix.mtx\"))\n",
    "    \n",
    "    barcodes = read.delim(paste0(\"counts_10x/\",file,\"/barcodes.tsv\"),header = F, col.names=\"barcode\")\n",
    "    features = read.delim(paste0(\"counts_10x/\",file,\"/genes.tsv\"),header = F, col.names=\"gene_name\") \n",
    "    colnames(counts) = barcodes$barcode\n",
    "    rownames(counts) = features$gene_name\n",
    "    out = counts\n",
    "\n",
    "}"
   ]
  },
  {
   "cell_type": "code",
   "execution_count": 5,
   "id": "ac3217ef-07a6-49ef-836b-70e1ae75cd10",
   "metadata": {},
   "outputs": [],
   "source": [
    "knee_df = function(mtx,expt_name){\n",
    "    df = as.data.frame(rowSums(mtx))\n",
    "    colnames(df) = c(\"nUMI\")\n",
    "    df <- tibble(total = df$nUMI,\n",
    "               rank = row_number(dplyr::desc(total))) %>%\n",
    "    distinct() %>%\n",
    "    arrange(rank)\n",
    "    df$experiment = expt_name\n",
    "    out = df\n",
    "}"
   ]
  },
  {
   "cell_type": "markdown",
   "id": "76092e49-cc8f-4a38-8a75-ccfdcd3d8ac3",
   "metadata": {},
   "source": [
    "# QC plots"
   ]
  },
  {
   "cell_type": "markdown",
   "id": "5d7496df-3066-49f8-9aa3-3bcc80bf4be4",
   "metadata": {},
   "source": [
    "## Knee plot"
   ]
  },
  {
   "cell_type": "code",
   "execution_count": 6,
   "id": "361cc08c-d22c-4d4f-a8b7-093b8248d162",
   "metadata": {},
   "outputs": [],
   "source": [
    "combined.sct = readRDS(\"seurat/adrenal_Parse_10x_integrated.rds\")\n",
    "cellbend_10x = subset(combined.sct,subset=technology ==\"10x\")\n",
    "orig_parse = subset(combined.sct,subset=technology ==\"Parse\")\n",
    "parse_standard = subset(orig_parse,subset=depth1 ==\"shallow\")\n",
    "parse_deep = subset(orig_parse,subset=depth1 ==\"deep\")"
   ]
  },
  {
   "cell_type": "code",
   "execution_count": 7,
   "id": "84330cc5-156b-4790-9d77-2bac6459b433",
   "metadata": {},
   "outputs": [],
   "source": [
    "metadata = read.delim(\"ref/enc4_mouse_snrna_metadata.tsv\")\n",
    "metadata = metadata[metadata$technology == \"10x\",]\n",
    "metadata = metadata[metadata$tissue == \"Adrenal\",]\n",
    "\n",
    "files = metadata$file_accession\n",
    "\n",
    "orig_10x = get_orig_10x_counts(files[1])\n",
    "\n",
    "for (j in 2:length(files)){\n",
    "    counts_adding = get_orig_10x_counts(files[j])\n",
    "    orig_10x = cbind(orig_10x, counts_adding)\n",
    "}\n"
   ]
  },
  {
   "cell_type": "code",
   "execution_count": 8,
   "id": "de5e5208-39eb-4c92-93e2-c9dc88ca734f",
   "metadata": {},
   "outputs": [
    {
     "name": "stderr",
     "output_type": "stream",
     "text": [
      "Warning message:\n",
      "\"Transformation introduced infinite values in continuous y-axis\"\n"
     ]
    },
    {
     "data": {
      "text/html": [
       "<strong>png:</strong> 2"
      ],
      "text/latex": [
       "\\textbf{png:} 2"
      ],
      "text/markdown": [
       "**png:** 2"
      ],
      "text/plain": [
       "png \n",
       "  2 "
      ]
     },
     "metadata": {},
     "output_type": "display_data"
    }
   ],
   "source": [
    "cellbend_knee_plot = knee_df(cellbend_10x@assays$RNA@counts, \"10x + Cellbender\")\n",
    "orig_knee_plot = knee_df(orig_10x, \"10x\")\n",
    "\n",
    "parse_standard_knee_plot = knee_df(parse_standard@assays$RNA@counts, \"Parse standard\")\n",
    "parse_deep_knee_plot = knee_df(parse_deep@assays$RNA@counts, \"Parse deep\")\n",
    "\n",
    "pdf(file=\"plots/adrenal/qc/experiment_kneeplots.pdf\",\n",
    "    width = 10, height = 8)\n",
    "ggplot(rbind(cellbend_knee_plot,orig_knee_plot,parse_standard_knee_plot,parse_deep_knee_plot), \n",
    "       aes(rank, total, group = experiment, color = experiment)) +\n",
    "geom_path() + \n",
    "scale_y_log10() + scale_x_log10() + annotation_logticks() +\n",
    "labs(y = \"Total UMI count\", x = \"Barcode rank\", title = \"Mouse adrenal knee plot\") + \n",
    "geom_hline(yintercept=500, linetype=\"dashed\", color = \"red\", size=1)\n",
    "dev.off()\n"
   ]
  },
  {
   "cell_type": "code",
   "execution_count": 9,
   "id": "0f74790d-7e51-41c3-aa44-95c7d4e7b68b",
   "metadata": {},
   "outputs": [
    {
     "name": "stderr",
     "output_type": "stream",
     "text": [
      "The default behaviour of split.by has changed.\n",
      "Separate violin plots are now plotted side-by-side.\n",
      "To restore the old behaviour of a single split violin,\n",
      "set split.plot = TRUE.\n",
      "      \n",
      "This message will be shown once per session.\n",
      "\n",
      "Warning message:\n",
      "\"`fun.y` is deprecated. Use `fun` instead.\"\n",
      "Warning message:\n",
      "\"`fun.y` is deprecated. Use `fun` instead.\"\n"
     ]
    },
    {
     "data": {
      "text/html": [
       "<strong>png:</strong> 2"
      ],
      "text/latex": [
       "\\textbf{png:} 2"
      ],
      "text/markdown": [
       "**png:** 2"
      ],
      "text/plain": [
       "png \n",
       "  2 "
      ]
     },
     "metadata": {},
     "output_type": "display_data"
    }
   ],
   "source": [
    "pdf(file=\"plots/adrenal/qc/experiment_violinplots.pdf\",\n",
    "    width = 20, height = 5)\n",
    "VlnPlot(combined.sct, features = c(\"nFeature_RNA\"), ncol = 1, split.by = \"depth2\",\n",
    "        pt.size = 0, group.by = \"sample\", cols = c(\"#811b74\",\"#C08DBA\",\"#00a1e0\"))+ ggtitle(\"# genes per nucleus\") +\n",
    "stat_summary(fun.y = median, geom='point', size = 15, colour = \"black\", shape = 95) & theme(text = element_text(size = 20), \n",
    "                                                                              axis.text.x = element_text(size = 20), \n",
    "                                                                              axis.text.y = element_text(size = 20))\n",
    "VlnPlot(combined.sct, features = c(\"nCount_RNA\"), ncol = 1, split.by = \"depth2\",\n",
    "        pt.size = 0, group.by = \"sample\", cols = c(\"#811b74\",\"#C08DBA\",\"#00a1e0\")) + ggtitle(\"# UMIs per nucleus\") +\n",
    "stat_summary(fun.y = median, geom='point', size = 15, colour = \"black\", shape = 95)& theme(text = element_text(size = 20), \n",
    "                                                  axis.text.x = element_text(size = 20), \n",
    "                                                  axis.text.y = element_text(size = 20))\n",
    "VlnPlot(combined.sct, features = c(\"percent.mt\"), ncol = 1, split.by = \"depth2\",\n",
    "        pt.size = 0, group.by = \"sample\", cols = c(\"#811b74\",\"#C08DBA\",\"#00a1e0\")) & theme(text = element_text(size = 20), \n",
    "                                                  axis.text.x = element_text(size = 20), \n",
    "                                                  axis.text.y = element_text(size = 20)) \n",
    "dev.off()"
   ]
  },
  {
   "cell_type": "markdown",
   "id": "a154762c-c12a-461a-ad39-194a32ebf50d",
   "metadata": {},
   "source": [
    "## UMAP \"Feature Plots\" of QC metadata"
   ]
  },
  {
   "cell_type": "code",
   "execution_count": 10,
   "id": "04822cc6-3df1-4556-806a-4df0730b4e51",
   "metadata": {},
   "outputs": [
    {
     "name": "stderr",
     "output_type": "stream",
     "text": [
      "Scale for 'colour' is already present. Adding another scale for 'colour',\n",
      "which will replace the existing scale.\n",
      "\n",
      "Scale for 'colour' is already present. Adding another scale for 'colour',\n",
      "which will replace the existing scale.\n",
      "\n",
      "Scale for 'colour' is already present. Adding another scale for 'colour',\n",
      "which will replace the existing scale.\n",
      "\n",
      "Scale for 'colour' is already present. Adding another scale for 'colour',\n",
      "which will replace the existing scale.\n",
      "\n",
      "Scale for 'colour' is already present. Adding another scale for 'colour',\n",
      "which will replace the existing scale.\n",
      "\n",
      "Scale for 'colour' is already present. Adding another scale for 'colour',\n",
      "which will replace the existing scale.\n",
      "\n"
     ]
    },
    {
     "data": {
      "text/html": [
       "<strong>png:</strong> 2"
      ],
      "text/latex": [
       "\\textbf{png:} 2"
      ],
      "text/markdown": [
       "**png:** 2"
      ],
      "text/plain": [
       "png \n",
       "  2 "
      ]
     },
     "metadata": {},
     "output_type": "display_data"
    }
   ],
   "source": [
    "png(file=\"plots/adrenal/qc/qc_featureplot.png\",\n",
    "    width = 1200, height = 500)\n",
    "FeaturePlot(combined.sct, pt.size = 0.1,\n",
    "            features =c(\"nFeature_RNA\",\n",
    "                        \"nCount_RNA\",\n",
    "                        \"percent.mt\",\n",
    "                        \"percent.ribo\",\n",
    "                        \"doublet_scores\",\n",
    "                        \"G2M.Score\"), ncol =3)  & scale_colour_gradientn(colours = viridis(11)) & \n",
    "                        NoAxes()& \n",
    "                        theme(text = element_text(size = 18))\n",
    "\n",
    "dev.off()\n"
   ]
  },
  {
   "cell_type": "markdown",
   "id": "853e7e3a-226d-439e-8d1d-247757cf0b6f",
   "metadata": {},
   "source": [
    "# Check integration and clustering"
   ]
  },
  {
   "cell_type": "code",
   "execution_count": 11,
   "id": "74925a5b-5fd9-41cd-9bd5-07cbbcaff34b",
   "metadata": {},
   "outputs": [],
   "source": [
    "nclusters = length(unique(combined.sct$seurat_clusters))\n",
    "cluster_cols = colorRampPalette(brewer.pal(9,\"Set1\"))(nclusters)"
   ]
  },
  {
   "cell_type": "code",
   "execution_count": 12,
   "id": "c60f69dd-de28-4ae3-8483-7478757ac6df",
   "metadata": {},
   "outputs": [
    {
     "data": {
      "text/html": [
       "<strong>png:</strong> 2"
      ],
      "text/latex": [
       "\\textbf{png:} 2"
      ],
      "text/markdown": [
       "**png:** 2"
      ],
      "text/plain": [
       "png \n",
       "  2 "
      ]
     },
     "metadata": {},
     "output_type": "display_data"
    }
   ],
   "source": [
    "pdf(file=\"plots/adrenal/clustering/UMAP_Parse_10x.pdf\",\n",
    "    width = 20, height = 8)\n",
    "p1 <- DimPlot(combined.sct, reduction = \"umap\", group.by = \"technology\")\n",
    "p2 <- DimPlot(combined.sct, reduction = \"umap\", label = TRUE, repel = TRUE, cols = cluster_cols)\n",
    "p1 + p2\n",
    "\n",
    "dev.off()"
   ]
  },
  {
   "cell_type": "code",
   "execution_count": 13,
   "id": "1c977813-c941-40e4-8650-97aa7ed652c9",
   "metadata": {},
   "outputs": [
    {
     "data": {
      "text/html": [
       "<strong>png:</strong> 2"
      ],
      "text/latex": [
       "\\textbf{png:} 2"
      ],
      "text/markdown": [
       "**png:** 2"
      ],
      "text/plain": [
       "png \n",
       "  2 "
      ]
     },
     "metadata": {},
     "output_type": "display_data"
    }
   ],
   "source": [
    "pdf(file=\"plots/adrenal/clustering/Parse_10x_experiment_distribution.pdf\",\n",
    "    width = 20, height = 6)\n",
    "DimPlot(combined.sct, reduction = \"umap\", group.by = \"seurat_clusters\",split.by = \"depth2\", label = TRUE, label.size = 6, repel = TRUE, shuffle = T,cols = cluster_cols)\n",
    "\n",
    "ggplot(combined.sct@meta.data, aes(x=seurat_clusters, fill=depth2)) + geom_bar(position = \"fill\") & \n",
    "theme(text = element_text(size = 20), axis.text.x = element_text(size = 20), axis.text.y = element_text(size = 20))\n",
    "\n",
    "dev.off()\n"
   ]
  },
  {
   "cell_type": "code",
   "execution_count": 14,
   "id": "5bd391a9-e7ea-4d89-ba26-5a6a97c76bfa",
   "metadata": {},
   "outputs": [
    {
     "data": {
      "text/html": [
       "<strong>png:</strong> 2"
      ],
      "text/latex": [
       "\\textbf{png:} 2"
      ],
      "text/markdown": [
       "**png:** 2"
      ],
      "text/plain": [
       "png \n",
       "  2 "
      ]
     },
     "metadata": {},
     "output_type": "display_data"
    }
   ],
   "source": [
    "combined.sct$sample = factor(combined.sct$sample, levels=paste0(\"A_\",rep(c(\"4\",\"10\",\"14\",\"25\",\"36\",\"2m\",\"18m\"),each=4),rep(c(\"_M\",\"_F\"),each=2),c(\"_1\",\"_2\")))\n",
    "\n",
    "pdf(file=\"plots/adrenal/clustering/UMAP_cluster_sample_barplot.pdf\",\n",
    "    width = 20, height = 10)\n",
    "p1=DimPlot(combined.sct, reduction = \"umap\", group.by = \"seurat_clusters\", label = TRUE, label.size = 8, repel = TRUE, \n",
    "          cols = cluster_cols)\n",
    "p2=ggplot(combined.sct@meta.data, aes(x=seurat_clusters, fill=sample)) + geom_bar(position = \"fill\") +\n",
    "theme(text = element_text(size = 20), axis.text.x = element_text(size = 20), axis.text.y = element_text(size = 20)) & coord_flip()\n",
    "gridExtra::grid.arrange(\n",
    "  p1, p2,\n",
    "  widths = c(2,1.6),\n",
    "  layout_matrix = rbind(c(1, 2)))\n",
    "\n",
    "dev.off()"
   ]
  },
  {
   "cell_type": "code",
   "execution_count": 15,
   "id": "179a8a70-fa13-4d9b-b30a-671e0044630e",
   "metadata": {},
   "outputs": [
    {
     "data": {
      "text/html": [
       "<strong>png:</strong> 2"
      ],
      "text/latex": [
       "\\textbf{png:} 2"
      ],
      "text/markdown": [
       "**png:** 2"
      ],
      "text/plain": [
       "png \n",
       "  2 "
      ]
     },
     "metadata": {},
     "output_type": "display_data"
    }
   ],
   "source": [
    "pdf(file=\"plots/adrenal/clustering/age_sex_barplot.pdf\",\n",
    "    width = 18, height = 19)\n",
    "p1=DimPlot(combined.sct, reduction = \"umap\", group.by = \"timepoint\", label = TRUE, label.size = 5, repel = TRUE)\n",
    "p2 = ggplot(combined.sct@meta.data, aes(x=seurat_clusters, fill=timepoint)) + geom_bar(position = \"fill\") & \n",
    "theme(text = element_text(size = 20), axis.text.x = element_text(size = 20), axis.text.y = element_text(size = 20)) & coord_flip()\n",
    "\n",
    "p3=DimPlot(combined.sct, reduction = \"umap\", group.by = \"sex\", label = TRUE, label.size = 5, repel = TRUE, shuffle = T)\n",
    "p4 = ggplot(combined.sct@meta.data, aes(x=seurat_clusters, fill=sex)) + geom_bar(position = \"fill\") & \n",
    "theme(text = element_text(size = 20), axis.text.x = element_text(size = 20), axis.text.y = element_text(size = 20)) & coord_flip()\n",
    "gridExtra::grid.arrange(\n",
    "  p1, p2, p3, p4,\n",
    "  widths = c(2,1),\n",
    "  layout_matrix = rbind(c(1, 2),\n",
    "                        c(3, 4)))\n",
    "\n",
    "dev.off()"
   ]
  },
  {
   "cell_type": "markdown",
   "id": "a118c76a-04da-42f0-9094-502e80b8c249",
   "metadata": {},
   "source": [
    "# Celltype annotation"
   ]
  },
  {
   "cell_type": "code",
   "execution_count": 4,
   "id": "f086497c-49c1-4cdf-81a9-733cc3458500",
   "metadata": {},
   "outputs": [],
   "source": [
    "combined.sct = readRDS(\"seurat/adrenal_Parse_10x_integrated.rds\")\n"
   ]
  },
  {
   "cell_type": "markdown",
   "id": "1347e152-8252-470d-b540-4a5dbc8de1c6",
   "metadata": {},
   "source": [
    "### Dot plot of marker genes"
   ]
  },
  {
   "cell_type": "code",
   "execution_count": 5,
   "id": "56398c56-a6f4-43c8-8d91-c4f9929c4b41",
   "metadata": {},
   "outputs": [],
   "source": [
    "genes = c(\"Acsl1\",\"Pparg\", # adipocytes\n",
    "         \"Igfbp5\",\"Wt1\", # capsule\n",
    "          \"Cyp11a1\",\"Cyp11b1\",\"Cyp11b2\", # all cortex,but Cyp11b2 is only expressed in ZG\n",
    "          \"Top2a\",\"Mki67\", # cycling\n",
    "          \"Flt1\", # endothelial\n",
    "          \"Col1a1\",\"Postn\", \"Pdgfra\",# fibroblast\n",
    "          \"Alb\",\"Ttr\", # hepatocyte\n",
    "          \"March1\",\"F13a1\", # macrophages\n",
    "          \"Chga\", # chromaffin cells of the medulla\n",
    "          \"Pnmt\", # medulla_EPI; gene that converts norepinephrine to epinephrine\n",
    "          \"Ryr1\",\"Ttn\",\"Myh1\", # skeletal muscle\n",
    "          \"Myh11\", \"Myl9\",# smooth muscle\n",
    "          \"Sox10\",\"Mpz\", # sox10+\n",
    "          \"Cyp1b1\", \"Col1a2\", # connective tissue (stroma)\n",
    "          \"Runx2\" # x-zone\n",
    "          ## y zone?\n",
    "         )"
   ]
  },
  {
   "cell_type": "code",
   "execution_count": 6,
   "id": "34aeb867-e87d-4374-9aa4-b12d0951cbe0",
   "metadata": {},
   "outputs": [
    {
     "data": {
      "text/html": [
       "<strong>png:</strong> 2"
      ],
      "text/latex": [
       "\\textbf{png:} 2"
      ],
      "text/markdown": [
       "**png:** 2"
      ],
      "text/plain": [
       "png \n",
       "  2 "
      ]
     },
     "metadata": {},
     "output_type": "display_data"
    }
   ],
   "source": [
    "# https://panglaodb.se/markers.html\n",
    "pdf(file=\"plots/adrenal/annotation/cluster_marker_dotplot.pdf\",\n",
    "    width = 20, height = 12)\n",
    "DefaultAssay(combined.sct) = \"SCT\"\n",
    "Idents(combined.sct) = \"seurat_clusters\"\n",
    "Idents(combined.sct) = factor(Idents(combined.sct), levels = sort(as.character(unique(Idents(combined.sct)))))\n",
    "DotPlot(combined.sct, features = genes)+ theme(axis.text.x = element_text(angle = 45, hjust = 1)) \n",
    "dev.off()"
   ]
  },
  {
   "cell_type": "markdown",
   "id": "07b27038-a9a4-4a54-9412-e1598b866d28",
   "metadata": {},
   "source": [
    "### FeaturePlots of marker genes"
   ]
  },
  {
   "cell_type": "code",
   "execution_count": 7,
   "id": "6153c91d-24f3-4b84-a7cf-080b86a7d8b5",
   "metadata": {
    "tags": []
   },
   "outputs": [
    {
     "name": "stderr",
     "output_type": "stream",
     "text": [
      "Scale for 'colour' is already present. Adding another scale for 'colour',\n",
      "which will replace the existing scale.\n",
      "\n",
      "Scale for 'colour' is already present. Adding another scale for 'colour',\n",
      "which will replace the existing scale.\n",
      "\n",
      "Scale for 'colour' is already present. Adding another scale for 'colour',\n",
      "which will replace the existing scale.\n",
      "\n",
      "Scale for 'colour' is already present. Adding another scale for 'colour',\n",
      "which will replace the existing scale.\n",
      "\n",
      "Scale for 'colour' is already present. Adding another scale for 'colour',\n",
      "which will replace the existing scale.\n",
      "\n",
      "Scale for 'colour' is already present. Adding another scale for 'colour',\n",
      "which will replace the existing scale.\n",
      "\n",
      "Scale for 'colour' is already present. Adding another scale for 'colour',\n",
      "which will replace the existing scale.\n",
      "\n",
      "Scale for 'colour' is already present. Adding another scale for 'colour',\n",
      "which will replace the existing scale.\n",
      "\n",
      "Scale for 'colour' is already present. Adding another scale for 'colour',\n",
      "which will replace the existing scale.\n",
      "\n",
      "Scale for 'colour' is already present. Adding another scale for 'colour',\n",
      "which will replace the existing scale.\n",
      "\n",
      "Scale for 'colour' is already present. Adding another scale for 'colour',\n",
      "which will replace the existing scale.\n",
      "\n",
      "Scale for 'colour' is already present. Adding another scale for 'colour',\n",
      "which will replace the existing scale.\n",
      "\n",
      "Scale for 'colour' is already present. Adding another scale for 'colour',\n",
      "which will replace the existing scale.\n",
      "\n",
      "Scale for 'colour' is already present. Adding another scale for 'colour',\n",
      "which will replace the existing scale.\n",
      "\n",
      "Scale for 'colour' is already present. Adding another scale for 'colour',\n",
      "which will replace the existing scale.\n",
      "\n",
      "Scale for 'colour' is already present. Adding another scale for 'colour',\n",
      "which will replace the existing scale.\n",
      "\n",
      "Scale for 'colour' is already present. Adding another scale for 'colour',\n",
      "which will replace the existing scale.\n",
      "\n",
      "Scale for 'colour' is already present. Adding another scale for 'colour',\n",
      "which will replace the existing scale.\n",
      "\n",
      "Scale for 'colour' is already present. Adding another scale for 'colour',\n",
      "which will replace the existing scale.\n",
      "\n",
      "Scale for 'colour' is already present. Adding another scale for 'colour',\n",
      "which will replace the existing scale.\n",
      "\n",
      "Scale for 'colour' is already present. Adding another scale for 'colour',\n",
      "which will replace the existing scale.\n",
      "\n",
      "Scale for 'colour' is already present. Adding another scale for 'colour',\n",
      "which will replace the existing scale.\n",
      "\n",
      "Scale for 'colour' is already present. Adding another scale for 'colour',\n",
      "which will replace the existing scale.\n",
      "\n",
      "Scale for 'colour' is already present. Adding another scale for 'colour',\n",
      "which will replace the existing scale.\n",
      "\n",
      "Scale for 'colour' is already present. Adding another scale for 'colour',\n",
      "which will replace the existing scale.\n",
      "\n",
      "Scale for 'colour' is already present. Adding another scale for 'colour',\n",
      "which will replace the existing scale.\n",
      "\n",
      "Scale for 'colour' is already present. Adding another scale for 'colour',\n",
      "which will replace the existing scale.\n",
      "\n",
      "Scale for 'colour' is already present. Adding another scale for 'colour',\n",
      "which will replace the existing scale.\n",
      "\n",
      "Scale for 'colour' is already present. Adding another scale for 'colour',\n",
      "which will replace the existing scale.\n",
      "\n"
     ]
    },
    {
     "data": {
      "text/html": [
       "<strong>png:</strong> 2"
      ],
      "text/latex": [
       "\\textbf{png:} 2"
      ],
      "text/markdown": [
       "**png:** 2"
      ],
      "text/plain": [
       "png \n",
       "  2 "
      ]
     },
     "metadata": {},
     "output_type": "display_data"
    }
   ],
   "source": [
    "png(file=\"plots/adrenal/annotation/marker_featureplots.png\",\n",
    "    width = 2000, height = 1500)\n",
    "DefaultAssay(combined.sct) = \"SCT\"\n",
    "Idents(combined.sct) = factor(Idents(combined.sct), levels = sort(as.character(unique(Idents(combined.sct)))))\n",
    "\n",
    "FeaturePlot(combined.sct, pt.size = 0.1,\n",
    "            features = genes, ncol =6, order=T)  & scale_colour_gradientn(colours = viridis(11)) & \n",
    "                        NoAxes()& \n",
    "                        theme(text = element_text(size = 18))\n",
    "\n",
    "dev.off()\n"
   ]
  },
  {
   "cell_type": "markdown",
   "id": "77862b18-2e73-4776-aa24-fee207870dc8",
   "metadata": {},
   "source": [
    "## Manual subtypes annotation"
   ]
  },
  {
   "cell_type": "code",
   "execution_count": 12,
   "id": "f140e09f-ffeb-48be-a4f2-1bee07627cc9",
   "metadata": {},
   "outputs": [],
   "source": [
    "combined.sct$subtypes = combined.sct$seurat_clusters\n",
    "combined.sct$subtypes = gsub(\"\\\\<0\\\\>\",\"Cortex_ZF\",combined.sct$subtypes)\n",
    "combined.sct$subtypes = gsub(\"\\\\<1\\\\>\",\"Cortex_ZF\",combined.sct$subtypes)\n",
    "combined.sct$subtypes = gsub(\"\\\\<2\\\\>\",\"X_zone\",combined.sct$subtypes)\n",
    "combined.sct$subtypes = gsub(\"\\\\<3\\\\>\",\"Endothelial\",combined.sct$subtypes)\n",
    "combined.sct$subtypes = gsub(\"\\\\<4\\\\>\",\"Cortex_ZF\",combined.sct$subtypes)\n",
    "combined.sct$subtypes = gsub(\"\\\\<5\\\\>\",\"Cortex_ZF\",combined.sct$subtypes)\n",
    "combined.sct$subtypes = gsub(\"\\\\<6\\\\>\",\"Cortex_ZG\",combined.sct$subtypes)\n",
    "combined.sct$subtypes = gsub(\"\\\\<7\\\\>\",\"Cortex_ZF\",combined.sct$subtypes)\n",
    "combined.sct$subtypes = gsub(\"\\\\<8\\\\>\",\"Endothelial\",combined.sct$subtypes)\n",
    "combined.sct$subtypes = gsub(\"\\\\<9\\\\>\",\"Medulla_NE\",combined.sct$subtypes)\n",
    "combined.sct$subtypes = gsub(\"\\\\<10\\\\>\",\"Medulla_EPI\",combined.sct$subtypes)\n",
    "combined.sct$subtypes = gsub(\"\\\\<11\\\\>\",\"Cortex_ZF\",combined.sct$subtypes)\n",
    "combined.sct$subtypes = gsub(\"\\\\<12\\\\>\",\"Male_only_ZF\",combined.sct$subtypes)\n",
    "combined.sct$subtypes = gsub(\"\\\\<13\\\\>\",\"Adipocytes\",combined.sct$subtypes)\n",
    "combined.sct$subtypes = gsub(\"\\\\<14\\\\>\",\"Stromal\",combined.sct$subtypes)\n",
    "combined.sct$subtypes = gsub(\"\\\\<15\\\\>\",\"Cortex_ZF\",combined.sct$subtypes)\n",
    "combined.sct$subtypes = gsub(\"\\\\<16\\\\>\",\"Cortex_ZF\",combined.sct$subtypes)\n",
    "combined.sct$subtypes = gsub(\"\\\\<17\\\\>\",\"Cortex_ZF\",combined.sct$subtypes)\n",
    "combined.sct$subtypes = gsub(\"\\\\<18\\\\>\",\"Adipocytes\",combined.sct$subtypes)\n",
    "combined.sct$subtypes = gsub(\"\\\\<19\\\\>\",\"Macrophages\",combined.sct$subtypes)\n",
    "combined.sct$subtypes = gsub(\"\\\\<20\\\\>\",\"Male_only_ZF\",combined.sct$subtypes)\n",
    "combined.sct$subtypes = gsub(\"\\\\<21\\\\>\",\"Male_only_ZF\",combined.sct$subtypes)\n",
    "combined.sct$subtypes = gsub(\"\\\\<22\\\\>\",\"Cortex_cycling\",combined.sct$subtypes)\n",
    "combined.sct$subtypes = gsub(\"\\\\<23\\\\>\",\"Fibroblast\",combined.sct$subtypes)\n",
    "combined.sct$subtypes = gsub(\"\\\\<24\\\\>\",\"Adipocytes\",combined.sct$subtypes)\n",
    "combined.sct$subtypes = gsub(\"\\\\<25\\\\>\",\"Medulla_EPI\",combined.sct$subtypes)\n",
    "combined.sct$subtypes = gsub(\"\\\\<26\\\\>\",\"Cortex_ZF\",combined.sct$subtypes)\n",
    "combined.sct$subtypes = gsub(\"\\\\<27\\\\>\",\"Endothelial\",combined.sct$subtypes)\n",
    "combined.sct$subtypes = gsub(\"\\\\<28\\\\>\",\"Endothelial\",combined.sct$subtypes)\n",
    "combined.sct$subtypes = gsub(\"\\\\<29\\\\>\",\"Cortex_ZF\",combined.sct$subtypes)\n",
    "combined.sct$subtypes = gsub(\"\\\\<30\\\\>\",\"Male_only_ZF\",combined.sct$subtypes)\n",
    "combined.sct$subtypes = gsub(\"\\\\<31\\\\>\",\"X_zone\",combined.sct$subtypes)\n",
    "combined.sct$subtypes = gsub(\"\\\\<32\\\\>\",\"Fibroblast\",combined.sct$subtypes)\n",
    "combined.sct$subtypes = gsub(\"\\\\<33\\\\>\",\"Endothelial\",combined.sct$subtypes)\n",
    "combined.sct$subtypes = gsub(\"\\\\<34\\\\>\",\"Cortex_ZF\",combined.sct$subtypes)\n",
    "combined.sct$subtypes = gsub(\"\\\\<35\\\\>\",\"Sox10+\",combined.sct$subtypes)\n",
    "combined.sct$subtypes = gsub(\"\\\\<36\\\\>\",\"Cortex_ZF\",combined.sct$subtypes)\n",
    "combined.sct$subtypes = gsub(\"\\\\<37\\\\>\",\"Cortex_ZF\",combined.sct$subtypes)\n",
    "combined.sct$subtypes = gsub(\"\\\\<38\\\\>\",\"Stromal\",combined.sct$subtypes)\n",
    "combined.sct$subtypes = gsub(\"\\\\<39\\\\>\",\"Stromal\",combined.sct$subtypes)\n",
    "combined.sct$subtypes = gsub(\"\\\\<40\\\\>\",\"Adipocytes\",combined.sct$subtypes)\n",
    "combined.sct$subtypes = gsub(\"\\\\<41\\\\>\",\"Fibroblast_cycling\",combined.sct$subtypes)\n",
    "combined.sct$subtypes = gsub(\"\\\\<42\\\\>\",\"Endothelial_cycling\",combined.sct$subtypes)\n",
    "combined.sct$subtypes = gsub(\"\\\\<43\\\\>\",\"Macrophages\",combined.sct$subtypes)\n",
    "combined.sct$subtypes = gsub(\"\\\\<44\\\\>\",\"Capsule\",combined.sct$subtypes)\n",
    "combined.sct$subtypes = gsub(\"\\\\<45\\\\>\",\"Hepatocyte\",combined.sct$subtypes)\n",
    "combined.sct$subtypes = gsub(\"\\\\<46\\\\>\",\"X_zone\",combined.sct$subtypes)\n",
    "combined.sct$subtypes = gsub(\"\\\\<47\\\\>\",\"Medulla_early\",combined.sct$subtypes)\n",
    "combined.sct$subtypes = gsub(\"\\\\<48\\\\>\",\"Smooth_muscle\",combined.sct$subtypes)\n",
    "combined.sct$subtypes = gsub(\"\\\\<49\\\\>\",\"Cortex_cycling\",combined.sct$subtypes)\n",
    "combined.sct$subtypes = gsub(\"\\\\<50\\\\>\",\"Cortex_ZF\",combined.sct$subtypes)\n",
    "combined.sct$subtypes = gsub(\"\\\\<51\\\\>\",\"Skeletal_muscle\",combined.sct$subtypes)\n",
    "combined.sct$subtypes = gsub(\"\\\\<52\\\\>\",\"Medulla_early\",combined.sct$subtypes)\n",
    "combined.sct$subtypes = gsub(\"\\\\<53\\\\>\",\"Adipocytes\",combined.sct$subtypes)\n"
   ]
  },
  {
   "cell_type": "code",
   "execution_count": 17,
   "id": "e02f0aac-acdd-4c6d-ab39-243ea2434022",
   "metadata": {},
   "outputs": [
    {
     "data": {
      "text/html": [
       "<strong>png:</strong> 2"
      ],
      "text/latex": [
       "\\textbf{png:} 2"
      ],
      "text/markdown": [
       "**png:** 2"
      ],
      "text/plain": [
       "png \n",
       "  2 "
      ]
     },
     "metadata": {},
     "output_type": "display_data"
    }
   ],
   "source": [
    "pdf(file=\"plots/adrenal/annotation/subtypes_marker_dotplot.pdf\",\n",
    "    width = 20, height = 12)\n",
    "DefaultAssay(combined.sct) = \"SCT\"\n",
    "Idents(combined.sct) = \"subtypes\"\n",
    "Idents(combined.sct) = factor(Idents(combined.sct), levels = sort(as.character(unique(Idents(combined.sct)))))\n",
    "DotPlot(combined.sct, features = genes)+ theme(axis.text.x = element_text(angle = 45, hjust = 1)) \n",
    "dev.off()"
   ]
  },
  {
   "cell_type": "markdown",
   "id": "b39ef52a-80e7-442e-bcd2-5805dfa152ad",
   "metadata": {},
   "source": [
    "# Add celltypes and gen_celltypes metadata\n",
    "Based on the subtypes annotation, we can group the cells into broader categories."
   ]
  },
  {
   "cell_type": "code",
   "execution_count": 14,
   "id": "6bd56b4c-4957-45f1-ab0f-415a40b92d61",
   "metadata": {},
   "outputs": [],
   "source": [
    "combined.sct$celltypes = combined.sct$subtypes\n",
    "\n",
    "combined.sct$celltypes = gsub(\"\\\\<Cortex_ZG\\\\>\",\"Cortex\",combined.sct$celltypes)\n",
    "combined.sct$celltypes = gsub(\"\\\\<Cortex_ZF\\\\>\",\"Cortex\",combined.sct$celltypes)\n",
    "combined.sct$celltypes = gsub(\"\\\\<X_zone\\\\>\",\"Cortex\",combined.sct$celltypes)\n",
    "combined.sct$celltypes = gsub(\"\\\\<Male_only_ZF\\\\>\",\"Cortex\",combined.sct$celltypes)\n",
    "combined.sct$celltypes = gsub(\"\\\\<Cortex_cycling\\\\>\",\"Cortex\",combined.sct$celltypes)\n",
    "combined.sct$celltypes = gsub(\"\\\\<Medulla_early\\\\>\",\"Medulla\",combined.sct$celltypes)\n",
    "combined.sct$celltypes = gsub(\"\\\\<Medulla_NE\\\\>\",\"Medulla\",combined.sct$celltypes)\n",
    "combined.sct$celltypes = gsub(\"\\\\<Medulla_EPI\\\\>\",\"Medulla\",combined.sct$celltypes)\n",
    "combined.sct$celltypes = gsub(\"\\\\<Endothelial_cycling\\\\>\",\"Endothelial\",combined.sct$celltypes)\n",
    "combined.sct$celltypes = gsub(\"\\\\<Fibroblast_cycling\\\\>\",\"Fibroblast\",combined.sct$celltypes)\n",
    "\n",
    "combined.sct$gen_celltype = combined.sct$celltypes\n",
    "\n",
    "combined.sct$gen_celltype = gsub(\"\\\\<Macrophages\\\\>\",\"Myeloid\",combined.sct$gen_celltype)\n",
    "combined.sct$gen_celltype = gsub(\"\\\\<Skeletal_muscle\\\\>\",\"Myonuclei\",combined.sct$gen_celltype)\n"
   ]
  },
  {
   "cell_type": "markdown",
   "id": "08bc7efe-e3f3-4416-b45d-21d3a75b3d5f",
   "metadata": {},
   "source": [
    "# Plotting the 3 levels of annotations"
   ]
  },
  {
   "cell_type": "code",
   "execution_count": 16,
   "id": "4d848652-a0a2-4471-99bf-b4f258cd8844",
   "metadata": {},
   "outputs": [
    {
     "data": {
      "text/html": [
       "<strong>png:</strong> 2"
      ],
      "text/latex": [
       "\\textbf{png:} 2"
      ],
      "text/markdown": [
       "**png:** 2"
      ],
      "text/plain": [
       "png \n",
       "  2 "
      ]
     },
     "metadata": {},
     "output_type": "display_data"
    }
   ],
   "source": [
    "color_ref = read.delim(\"ref/enc4_mouse_snrna_celltypes_c2c12.csv\",sep=\",\",col.names = c(\"tissue\",\"gen_celltype\",\"celltypes\",\n",
    "                                                                              \"subtypes\",\"gen_celltype_color\",\n",
    "                                                                              \"celltype_color\",\"subtype_color\"))\n",
    "gen_celltype_colors = unique(color_ref[color_ref$tissue == \"Adrenal\",c(\"gen_celltype\",\"gen_celltype_color\")])\n",
    "rownames(gen_celltype_colors) = gen_celltype_colors$gen_celltype\n",
    "gen_celltype_colors = gen_celltype_colors[sort(unique(combined.sct$gen_celltype)),]\n",
    "\n",
    "pdf(file=\"plots/adrenal/annotation/UMAP_final_gen_celltype.pdf\",\n",
    "    width = 15, height = 10)\n",
    "\n",
    "DimPlot(combined.sct, reduction = \"umap\", \n",
    "        group.by = \"gen_celltype\", \n",
    "        label = TRUE, label.size = 8, repel = TRUE,\n",
    "       cols = gen_celltype_colors$gen_celltype_color)\n",
    "\n",
    "dev.off()"
   ]
  },
  {
   "cell_type": "code",
   "execution_count": 19,
   "id": "1a38d571-37e8-40b4-9a1f-87171ebd3399",
   "metadata": {},
   "outputs": [
    {
     "data": {
      "text/html": [
       "<strong>png:</strong> 2"
      ],
      "text/latex": [
       "\\textbf{png:} 2"
      ],
      "text/markdown": [
       "**png:** 2"
      ],
      "text/plain": [
       "png \n",
       "  2 "
      ]
     },
     "metadata": {},
     "output_type": "display_data"
    }
   ],
   "source": [
    "celltype_colors = unique(color_ref[color_ref$tissue == \"Adrenal\",c(\"celltypes\",\"celltype_color\")])\n",
    "rownames(celltype_colors) = celltype_colors$celltypes\n",
    "celltype_colors = celltype_colors[sort(unique(combined.sct$celltypes)),]\n",
    "\n",
    "pdf(file=\"plots/adrenal/annotation/UMAP_final_celltypes.pdf\",\n",
    "    width = 15, height = 10)\n",
    "\n",
    "DimPlot(combined.sct, reduction = \"umap\", \n",
    "        group.by = \"celltypes\", \n",
    "        label = TRUE, label.size = 8, repel = TRUE,\n",
    "       cols = celltype_colors$celltype_color)\n",
    "\n",
    "dev.off()"
   ]
  },
  {
   "cell_type": "code",
   "execution_count": 21,
   "id": "97128675-b4a1-4893-b138-152d2d55ff3e",
   "metadata": {},
   "outputs": [
    {
     "data": {
      "text/html": [
       "<strong>png:</strong> 2"
      ],
      "text/latex": [
       "\\textbf{png:} 2"
      ],
      "text/markdown": [
       "**png:** 2"
      ],
      "text/plain": [
       "png \n",
       "  2 "
      ]
     },
     "metadata": {},
     "output_type": "display_data"
    }
   ],
   "source": [
    "subtype_colors = unique(color_ref[color_ref$tissue == \"Adrenal\",c(\"subtypes\",\"subtype_color\")])\n",
    "rownames(subtype_colors) = subtype_colors$subtypes\n",
    "subtype_colors = subtype_colors[sort(unique(combined.sct$subtypes)),]\n",
    "\n",
    "pdf(file=\"plots/adrenal/annotation/UMAP_final_subtypes.pdf\",\n",
    "    width = 15, height = 10)\n",
    "\n",
    "DimPlot(combined.sct, reduction = \"umap\", \n",
    "        group.by = \"subtypes\", \n",
    "        label = TRUE, label.size = 8, repel = TRUE,\n",
    "       cols = subtype_colors$subtype_color)\n",
    "\n",
    "dev.off()"
   ]
  },
  {
   "cell_type": "markdown",
   "id": "9ee04912-344f-4e84-b1a3-5d0f506b8973",
   "metadata": {},
   "source": [
    "## Proportion plot of celltypes over timepoint"
   ]
  },
  {
   "cell_type": "code",
   "execution_count": 22,
   "id": "a6995108-cbbb-4847-99f9-5c6b75e91348",
   "metadata": {
    "tags": []
   },
   "outputs": [],
   "source": [
    "combined.sct_parse = subset(combined.sct,subset= technology == \"Parse\")\n",
    "color_ref = read.delim(\"ref/enc4_mouse_snrna_celltypes_c2c12.csv\",sep=\",\",col.names = c(\"tissue\",\"gen_celltype\",\"celltypes\",\n",
    "                                                                              \"subtypes\",\"gen_celltype_color\",\n",
    "                                                                              \"celltype_color\",\"subtype_color\"))\n",
    "\n",
    "celltype_colors = unique(color_ref[color_ref$tissue == \"Adrenal\",c(\"celltypes\",\"celltype_color\")])\n",
    "rownames(celltype_colors) = celltype_colors$celltypes\n",
    "celltype_colors = celltype_colors[sort(unique(combined.sct$celltypes)),]\n",
    "\n",
    "samples = sort(unique(combined.sct_parse$timepoint))\n",
    "dflist = list()\n",
    "for (i in 1:length(unique(combined.sct_parse$timepoint))){\n",
    "  tp=combined.sct_parse@meta.data[combined.sct_parse@meta.data$timepoint == samples[i],]\n",
    "  #tp=tp[complete.cases(tp),]\n",
    "  tp_df=as.data.frame(table(tp$celltypes))\n",
    "  tp_df$percentage=tp_df$Freq/nrow(tp)\n",
    "  tp_df$timepoint=rep(i,nrow(tp_df))\n",
    "  dflist[[i]]=tp_df\n",
    "}\n",
    "df = do.call(rbind, dflist)\n",
    "df <- df[order(df$timepoint),]\n",
    "colnames(df)= c(\"celltypes\",\"Freq\",\"percentage\",\"timepoint\")\n",
    "\n"
   ]
  },
  {
   "cell_type": "code",
   "execution_count": 23,
   "id": "076caa42-9d57-4d7a-81c9-2ff7df4ff5f2",
   "metadata": {},
   "outputs": [
    {
     "data": {
      "text/html": [
       "<strong>png:</strong> 2"
      ],
      "text/latex": [
       "\\textbf{png:} 2"
      ],
      "text/markdown": [
       "**png:** 2"
      ],
      "text/plain": [
       "png \n",
       "  2 "
      ]
     },
     "metadata": {},
     "output_type": "display_data"
    }
   ],
   "source": [
    "pdf(file=\"plots/adrenal/annotation/timepoint_celltypes_proportions.pdf\",\n",
    "    width = 15, height = 10)\n",
    "\n",
    "ggplot(df, aes(x=timepoint, y=percentage, fill=celltypes)) + \n",
    "  geom_area()  +\n",
    "  scale_fill_manual(values= celltype_colors$celltype_color) + \n",
    "  scale_x_continuous(breaks = c(1,2,3,4,5,6,7),labels= c(\"PND_04\",\"PND_10\",\"PND_14\",\n",
    "                                                         \"PND_25\",\"PND_36\",\"PNM_02\",\"PNM_18-20\"))+\n",
    "  scale_y_continuous(breaks = c(0,0.1,0.2,0.3,0.4,0.5,\n",
    "                                0.6,0.7,0.8,0.9,1.0),labels= c(\"0%\",\"10%\",\"20%\",\"30%\",\"40%\",\"50%\",\"60%\",\"70%\",\"80%\",\"90%\",\"100%\")) + \n",
    "theme_minimal()+theme(text = element_text(size = 30)) + \n",
    "theme(axis.text.x = element_text(size = 30))  + \n",
    "theme(axis.text.y = element_text(size = 30))   + \n",
    "theme(axis.text.x = element_text(angle = 45, hjust = 1))\n",
    "  \n",
    "dev.off()"
   ]
  },
  {
   "cell_type": "markdown",
   "id": "7bd71f84-f558-421a-bea8-21a013c50b4c",
   "metadata": {},
   "source": [
    "# Save"
   ]
  },
  {
   "cell_type": "code",
   "execution_count": 24,
   "id": "5e7c6894-afbc-4d60-a9e6-1f78adbd2bfb",
   "metadata": {},
   "outputs": [],
   "source": [
    "saveRDS(combined.sct,file=\"seurat/adrenal_Parse_10x_integrated.rds\")\n"
   ]
  },
  {
   "cell_type": "markdown",
   "id": "175ea001-efaf-411f-800a-3c8d319784fe",
   "metadata": {},
   "source": [
    "# Save embedding coordinates file"
   ]
  },
  {
   "cell_type": "code",
   "execution_count": 25,
   "id": "ac598791-f3a2-45f9-a187-0fa17459a91f",
   "metadata": {},
   "outputs": [],
   "source": [
    "cell_id = colnames(combined.sct)\n",
    "coords = cbind(cell_id,combined.sct@reductions$umap@cell.embeddings,\n",
    "               combined.sct@reductions$pca@cell.embeddings)\n",
    "\n",
    "fn = paste0(\"ref/adrenal/adrenal_integrated_analysis_embedding_coordinates_noheader.tsv\")\n",
    "write.table(coords,file=fn,\n",
    "            sep=\"\\t\",\n",
    "            quote=F,\n",
    "            row.names = F)\n",
    "out = paste0(\"ref/adrenal/adrenal_integrated_analysis_embedding_coordinates.tsv\")\n",
    "system(paste0(\"cat ref/embedding_coordinates_header \", fn, \"> \", out))\n",
    "system(paste0(\"rm \", fn))"
   ]
  },
  {
   "cell_type": "markdown",
   "id": "1868e024-45c2-464d-a75e-dc245513c8ea",
   "metadata": {},
   "source": [
    "# Get marker genes"
   ]
  },
  {
   "cell_type": "code",
   "execution_count": 5,
   "id": "31cbf5c3-f9cc-4e64-ab69-c5af98c29cdf",
   "metadata": {},
   "outputs": [],
   "source": [
    "combined.sct  = readRDS(\"seurat/adrenal_Parse_10x_integrated.rds\")"
   ]
  },
  {
   "cell_type": "code",
   "execution_count": null,
   "id": "9a473ff5-0345-44b9-bbe8-439007114b37",
   "metadata": {},
   "outputs": [],
   "source": [
    "gene_id_to_name = read.csv(\"ref/gene_id_to_name.csv\",row.names = 1)\n",
    "gene_id_to_name$seurat_gene_name = rownames(combined.sct@assays$RNA)"
   ]
  },
  {
   "cell_type": "code",
   "execution_count": null,
   "id": "a8d32f2b-70cf-42c3-abfb-b953f00e1730",
   "metadata": {},
   "outputs": [],
   "source": [
    "format_marker_genes = function(seurat_markers){\n",
    "    markers$seurat_gene_name = markers$gene\n",
    "    markers = left_join(markers, gene_id_to_name)\n",
    "    markers = markers[,c(\"gene_id\",\"gene_name\",\"p_val\",\n",
    "                     \"avg_log2FC\",\"pct.1\",\"pct.2\",\n",
    "                     \"p_val_adj\",\"cluster\")]\n",
    "    out = markers\n",
    "}"
   ]
  },
  {
   "cell_type": "code",
   "execution_count": null,
   "id": "0d0027ea-8f62-43af-b38f-872c879575df",
   "metadata": {},
   "outputs": [],
   "source": [
    "DefaultAssay(combined.sct)= \"RNA\"\n",
    "Idents(combined.sct) = \"gen_celltype\"\n",
    "markers <- FindAllMarkers(combined.sct,\n",
    "                             only.pos = TRUE, \n",
    "                             min.pct = 0.1, \n",
    "                             logfc.threshold = 0.25, \n",
    "                             verbose = T)\n",
    "markers_formatted = format_marker_genes(markers)\n",
    "\n",
    "write.table(markers_formatted,file=paste0(\"seurat/markers/adrenal/adrenal_gen_celltype_marker_genes_only.pos_min.pct0.1_logfc.threshold0.25.tsv\"),\n",
    "            sep=\"\\t\",\n",
    "            quote=F,\n",
    "            row.names = F)\n"
   ]
  },
  {
   "cell_type": "code",
   "execution_count": null,
   "id": "11acaaae-d2c4-4799-89e5-4193fed1d9c4",
   "metadata": {},
   "outputs": [],
   "source": [
    "for (celltype in unique(markers_formatted$cluster)){\n",
    "    keep = c(\"gene_id\",\"gene_name\",\"p_val\",\n",
    "             \"avg_log2FC\",\"pct.1\",\"pct.2\",\n",
    "             \"p_val_adj\")\n",
    "    markers_celltype = markers_formatted[markers_formatted$cluster == celltype,]\n",
    "    markers_celltype$is_enriched = 1\n",
    "    markers_celltype = markers_celltype[,c(\"gene_id\",\"gene_name\",\"is_enriched\",\"p_val\",\"avg_log2FC\",\"pct.1\",\"pct.2\",\"p_val_adj\")]    \n",
    "    fn = paste0(\"seurat/markers/adrenal/adrenal_gen_celltype_\",\n",
    "                                             celltype,\"_marker_genes_only.pos_min.pct0.1_logfc.threshold0.25_noheader.tsv\")\n",
    "    write.table(markers_celltype,file=fn,\n",
    "            sep=\"\\t\",\n",
    "            quote=F,\n",
    "            row.names = F)\n",
    "    \n",
    "    out = paste0(\"seurat/markers/adrenal/adrenal_gen_celltype_\",\n",
    "                                             celltype,\"_marker_genes_only.pos_min.pct0.1_logfc.threshold0.25.tsv\")\n",
    "    system(paste0(\"cat ref/marker_gene_header \", fn, \"> \", out))\n",
    "    system(paste0(\"rm \", fn))\n",
    "}"
   ]
  },
  {
   "cell_type": "code",
   "execution_count": null,
   "id": "5e048fbc-d86f-499c-8dde-2ab8e8acf531",
   "metadata": {},
   "outputs": [],
   "source": [
    "DefaultAssay(combined.sct)= \"RNA\"\n",
    "Idents(combined.sct) = \"celltypes\"\n",
    "markers <- FindAllMarkers(combined.sct,\n",
    "                             only.pos = TRUE, \n",
    "                             min.pct = 0.1, \n",
    "                             logfc.threshold = 0.25, \n",
    "                             verbose = T)\n",
    "markers_formatted = format_marker_genes(markers)\n",
    "\n",
    "write.table(markers_formatted,file=paste0(\"seurat/markers/adrenal/adrenal_celltypes_marker_genes_only.pos_min.pct0.1_logfc.threshold0.25.tsv\"),\n",
    "            sep=\"\\t\",\n",
    "            quote=F,\n",
    "            row.names = F)\n"
   ]
  },
  {
   "cell_type": "code",
   "execution_count": null,
   "id": "ae1425e8-3df8-4abd-84ae-7108790b6b5f",
   "metadata": {},
   "outputs": [],
   "source": [
    "for (celltype in unique(markers_formatted$cluster)){\n",
    "    keep = c(\"gene_id\",\"gene_name\",\"p_val\",\n",
    "             \"avg_log2FC\",\"pct.1\",\"pct.2\",\n",
    "             \"p_val_adj\")\n",
    "    markers_celltype = markers_formatted[markers_formatted$cluster == celltype,]\n",
    "    markers_celltype$is_enriched = 1\n",
    "    markers_celltype = markers_celltype[,c(\"gene_id\",\"gene_name\",\"is_enriched\",\"p_val\",\"avg_log2FC\",\"pct.1\",\"pct.2\",\"p_val_adj\")]    \n",
    "    fn = paste0(\"seurat/markers/adrenal/adrenal_celltypes_\",\n",
    "                                             celltype,\"_marker_genes_only.pos_min.pct0.1_logfc.threshold0.25_noheader.tsv\")\n",
    "    write.table(markers_celltype,file=fn,\n",
    "            sep=\"\\t\",\n",
    "            quote=F,\n",
    "            row.names = F)\n",
    "    \n",
    "    out = paste0(\"seurat/markers/adrenal/adrenal_celltypes_\",\n",
    "                                             celltype,\"_marker_genes_only.pos_min.pct0.1_logfc.threshold0.25.tsv\")\n",
    "    system(paste0(\"cat ref/marker_gene_header \", fn, \"> \", out))\n",
    "    system(paste0(\"rm \", fn))\n",
    "}"
   ]
  },
  {
   "cell_type": "code",
   "execution_count": null,
   "id": "e0c49e1e-8cbc-47ff-a0d3-0a979da4f7d1",
   "metadata": {},
   "outputs": [],
   "source": [
    "DefaultAssay(combined.sct)= \"RNA\"\n",
    "Idents(combined.sct) = \"subtypes\"\n",
    "markers <- FindAllMarkers(combined.sct,\n",
    "                             only.pos = TRUE, \n",
    "                             min.pct = 0.1, \n",
    "                             logfc.threshold = 0.25, \n",
    "                             verbose = F)\n",
    "markers_formatted = format_marker_genes(markers)\n",
    "\n",
    "write.table(markers_formatted,file=paste0(\"seurat/markers/adrenal/adrenal_subtypes_marker_genes_only.pos_min.pct0.1_logfc.threshold0.25.tsv\"),\n",
    "            sep=\"\\t\",\n",
    "            quote=F,\n",
    "            row.names = F)\n"
   ]
  },
  {
   "cell_type": "code",
   "execution_count": null,
   "id": "32270475-d59c-4a1f-b26e-2c2adafa46a4",
   "metadata": {},
   "outputs": [],
   "source": [
    "for (celltype in unique(markers_formatted$cluster)){\n",
    "    keep = c(\"gene_id\",\"gene_name\",\"p_val\",\n",
    "             \"avg_log2FC\",\"pct.1\",\"pct.2\",\n",
    "             \"p_val_adj\")\n",
    "    markers_celltype = markers_formatted[markers_formatted$cluster == celltype,]\n",
    "    markers_celltype$is_enriched = 1\n",
    "    markers_celltype = markers_celltype[,c(\"gene_id\",\"gene_name\",\"is_enriched\",\"p_val\",\"avg_log2FC\",\"pct.1\",\"pct.2\",\"p_val_adj\")]    \n",
    "    fn = paste0(\"seurat/markers/adrenal/adrenal_subtypes_\",\n",
    "                                             celltype,\"_marker_genes_only.pos_min.pct0.1_logfc.threshold0.25_noheader.tsv\")\n",
    "    write.table(markers_celltype,file=fn,\n",
    "            sep=\"\\t\",\n",
    "            quote=F,\n",
    "            row.names = F)\n",
    "    \n",
    "    out = paste0(\"seurat/markers/adrenal/adrenal_subtypes_\",\n",
    "                                             celltype,\"_marker_genes_only.pos_min.pct0.1_logfc.threshold0.25.tsv\")\n",
    "    system(paste0(\"cat ref/marker_gene_header \", fn, \"> \", out))\n",
    "    system(paste0(\"rm \", fn))\n",
    "}"
   ]
  },
  {
   "cell_type": "markdown",
   "id": "a3c8c86d-7193-4693-a383-ea332430519a",
   "metadata": {},
   "source": [
    "# Save cell type labels file"
   ]
  },
  {
   "cell_type": "code",
   "execution_count": null,
   "id": "f2c70e5a-cc08-4eb0-9b17-d40862640cf1",
   "metadata": {},
   "outputs": [],
   "source": [
    "get_membership_scores = function(seurat_markers,slot){\n",
    "    celltype = unique(seurat_markers$cluster)\n",
    "    celltype_metadata_scored = list()\n",
    "    \n",
    "    # for each celltyp\n",
    "    for (i in 1:length(celltype)){ \n",
    "        celltype_markers = seurat_markers[seurat_markers$cluster == celltype[i],]\n",
    "        combined.sct[[\"membership_score\"]] = PercentageFeatureSet(combined.sct,\n",
    "                                                              pattern = NULL,\n",
    "                                                              features = celltype_markers$gene_name,\n",
    "                                                              assay = \"RNA\")\n",
    "        celltype_metadata = combined.sct@meta.data\n",
    "        celltype_metadata = celltype_metadata[,c(\"cellID\",slot,\"membership_score\")]\n",
    "        celltype_metadata_scored[[i]] = celltype_metadata[celltype_metadata[,2] == celltype[i], ]\n",
    "\n",
    "    }\n",
    "    celltype_metadata_scored = do.call(rbind.data.frame, celltype_metadata_scored)\n",
    "}\n",
    "\n",
    "# gen_celltype\n",
    "markers = read.delim(\"seurat/markers/adrenal/adrenal_gen_celltype_marker_genes_only.pos_min.pct0.1_logfc.threshold0.25.tsv\")\n",
    "gen_celltype_membership = get_membership_scores(markers,\"gen_celltype\")\n",
    "colnames(gen_celltype_membership) = c(\"cell_id\",\"general_cell_type_name\",\"general_cell_type_membership_score\")\n",
    "\n",
    "# celltypes\n",
    "markers = read.delim(\"seurat/markers/adrenal/adrenal_celltypes_marker_genes_only.pos_min.pct0.1_logfc.threshold0.25.tsv\")\n",
    "celltype_membership = get_membership_scores(markers,\"celltypes\")\n",
    "colnames(celltype_membership) = c(\"cell_id\",\"cell_type_name\",\"cell_type_membership_score\")\n",
    "\n",
    "# subtypes\n",
    "markers = read.delim(\"seurat/markers/adrenal/adrenal_subtypes_marker_genes_only.pos_min.pct0.1_logfc.threshold0.25.tsv\")\n",
    "subtype_membership = get_membership_scores(markers,\"subtypes\")\n",
    "colnames(subtype_membership) = c(\"cell_id\",\"sub_cell_type_name\",\"sub_type_membership_score\")\n",
    "\n",
    "fn = paste0(\"ref/adrenal_integrated_analysis_cell_type_labels_noheader.tsv\")\n",
    "write.table(membership_metadata,file=fn,\n",
    "            sep=\"\\t\",\n",
    "            quote=F,\n",
    "            row.names = F)\n",
    "out = paste0(\"ref/adrenal/adrenal_integrated_analysis_cell_type_labels.tsv\")\n",
    "system(paste0(\"cat ref/celltype_labels_header \", fn, \"> \", out))\n",
    "system(paste0(\"rm \", fn))\n"
   ]
  },
  {
   "cell_type": "markdown",
   "id": "be9c9404-4c83-4339-ad43-6b81372140c2",
   "metadata": {},
   "source": [
    "## Get unfiltered RNA information"
   ]
  },
  {
   "cell_type": "code",
   "execution_count": 271,
   "id": "a4d08d05-c243-4c01-87ca-fd61f7176d77",
   "metadata": {},
   "outputs": [],
   "source": [
    "get_orig_10x_counts = function(file){\n",
    "    metadata = metadata[metadata$file_accession == file,]\n",
    "    counts = readMM(paste0(\"counts_10x/\",file,\"/matrix.mtx\"))\n",
    "    \n",
    "    barcodes = read.delim(paste0(\"counts_10x/\",file,\"/barcodes.tsv\"),header = F, col.names=\"barcode\")\n",
    "    features = read.delim(paste0(\"counts_10x/\",file,\"/genes.tsv\"),header = F, col.names=\"gene_name\") \n",
    "    colnames(counts) = barcodes$barcode\n",
    "    rownames(counts) = features$gene_name\n",
    "    out = counts\n",
    "\n",
    "}\n",
    "\n",
    "metadata = read.delim(\"ref/enc4_mouse_snrna_metadata.tsv\")\n",
    "metadata = metadata[metadata$technology == \"10x\",]\n",
    "metadata = metadata[metadata$tissue == \"Adrenal\",]\n",
    "\n",
    "files = unique(metadata$file_accession)\n",
    "\n",
    "orig_10x = get_orig_10x_counts(files[1])\n",
    "\n",
    "for (j in 2:length(files)){\n",
    "    counts_adding = get_orig_10x_counts(files[j])\n",
    "    orig_10x = cbind(orig_10x, counts_adding)\n",
    "}\n"
   ]
  },
  {
   "cell_type": "code",
   "execution_count": 273,
   "id": "d4ba259d-c29a-40ef-8dae-8ab42ad8a3f4",
   "metadata": {},
   "outputs": [],
   "source": [
    "get_orig_parse_counts = function(file){\n",
    "    metadata = metadata[metadata$file_accession == file,]\n",
    "    counts = readMM(paste0(\"scrublet/\",file,\"_matrix.mtx\"))\n",
    "    \n",
    "    barcodes = read.delim(paste0(\"scrublet/\",file,\"_barcodes.tsv\"),header = F, col.names=\"barcode\")\n",
    "    features = read.delim(paste0(\"scrublet/\",file,\"_genes.tsv\"),header = F, col.names=\"gene_name\") \n",
    "    colnames(counts) = barcodes$barcode\n",
    "    rownames(counts) = features$gene_name\n",
    "    out = counts\n",
    "\n",
    "}\n",
    "\n",
    "metadata = read.delim(\"ref/enc4_mouse_snrna_metadata.tsv\")\n",
    "metadata = metadata[metadata$technology == \"Parse\",]\n",
    "metadata = metadata[metadata$tissue == \"Adrenal\",]\n",
    "\n",
    "files = unique(metadata$experiment_batch)\n",
    "\n",
    "orig_parse = get_orig_parse_counts(files[1])\n",
    "\n",
    "for (j in 2:length(files)){\n",
    "    counts_adding = get_orig_parse_counts(files[j])\n",
    "    orig_parse = cbind(orig_parse, counts_adding)\n",
    "}"
   ]
  },
  {
   "cell_type": "markdown",
   "id": "343f406c-6af6-45ac-a8a0-4301d425ff7e",
   "metadata": {},
   "source": [
    "## Join unfiltered RNA and ATAC metadata"
   ]
  },
  {
   "cell_type": "code",
   "execution_count": 274,
   "id": "896d6f62-efa6-45d7-bd80-d18faa32514d",
   "metadata": {},
   "outputs": [],
   "source": [
    "metadata = read.delim(\"../enc4_mouse_metadata.tsv\")\n",
    "\n",
    "orig_rna = cbind(orig_10x, orig_parse)\n",
    "obj = CreateSeuratObject(counts = orig_rna, min.cells = 0, min.features = 0)\n",
    "obj[[\"percent.mt\"]] = PercentageFeatureSet(obj, pattern = \"^mt-\")\n",
    "obj[[\"percent.ribo\"]] <- PercentageFeatureSet(obj, pattern = \"^Rp[sl][[:digit:]]|^Rplp[[:digit:]]|^Rpsa\")\n",
    "obj$cellID = colnames(obj)\n",
    "obj$rna_library_accession = do.call(\"rbind\", strsplit(as.character(obj$cellID), \"[.]\"))[,2]\n",
    "\n",
    "rna_metadata = left_join(obj@meta.data[,c(\"cellID\",\"rna_library_accession\",\"nCount_RNA\",\"percent.mt\",\"percent.ribo\")],\n",
    "                         metadata)\n",
    "\n",
    "atac_metadata = read.csv(\"../snatac/ref/atac_unfiltered_metadata_all_tissues.csv\")\n",
    "atac_metadata = atac_metadata[,c(\"cellID\",\"Sample\",\"nFrags\",\"TSSEnrichment\",\"original_atac_bc\")]\n",
    "atac_metadata$rna_library_accession = atac_metadata$Sample\n",
    "atac_metadata$Sample = NULL\n",
    "atac_metadata = left_join(atac_metadata, metadata)\n",
    "atac_metadata = atac_metadata[atac_metadata$tissue == \"Adrenal\",]\n",
    "\n",
    "combined_metadata = full_join(rna_metadata,atac_metadata)\n",
    "combined_metadata$rna_bc = do.call(\"rbind\", strsplit(as.character(combined_metadata$cellID), \"[.]\"))[,1]\n",
    "combined_metadata$passed_filtering = as.numeric(combined_metadata$cellID %in% combined.sct$cellID)"
   ]
  },
  {
   "cell_type": "markdown",
   "id": "9e1a04ff-0793-4d97-9e7c-f54951acc2d0",
   "metadata": {},
   "source": [
    "# Save cell metadata file"
   ]
  },
  {
   "cell_type": "code",
   "execution_count": 310,
   "id": "e1de4293-14f8-4a7d-bf4e-ca9d40b3b7a5",
   "metadata": {},
   "outputs": [],
   "source": [
    "combined_metadata = combined_metadata[,c(\"cellID\",\n",
    "                                         \"rna_library_accession\",\"rna_bc\",\n",
    "                                         \"atac_library_accession\",\"original_atac_bc\",\n",
    "                                         \"nCount_RNA\",\"nFrags\",\n",
    "                                         \"percent.mt\",\"percent.ribo\",\"TSSEnrichment\",\"passed_filtering\",\n",
    "                                        \"rna_experiment_accession\",\"atac_experiment_accession\",\n",
    "                                         \"rna_file_accession\",\"atac_file_accession\",\"multiome_experiment_accession\",\n",
    "                                         \"sample\",\"technology\",\"tissue\",\"sex\",\"timepoint\",\"rep\")]\n",
    "colnames(combined_metadata) = c(\"cell_id\",\"rna_dataset\",\"rna_barcode\",\"atac_dataset\",\"atac_barcode\",\n",
    "                                \"rna_umi_count\",\"atac_fragment_count\",\"rna_frac_mito\",\"rna_frac_ribo\",\"atac_tss_enrichment\",\"passed_filtering\",\n",
    "                                        \"rna_experiment_accession\",\"atac_experiment_accession\",\n",
    "                                         \"rna_file_accession\",\"atac_file_accession\",\"multiome_experiment_accession\",\n",
    "                                         \"sample\",\"technology\",\"tissue\",\"sex\",\"timepoint\",\"rep\")\n"
   ]
  },
  {
   "cell_type": "code",
   "execution_count": 311,
   "id": "0fdb9a73-2c5d-40ae-b3d8-0de61515b6ea",
   "metadata": {},
   "outputs": [],
   "source": [
    "fn = paste0(\"ref/adrenal/adrenal_integrated_analysis_cell_metadata_noheader.tsv\")\n",
    "write.table(combined_metadata,file=fn,\n",
    "            sep=\"\\t\",\n",
    "            quote=F,\n",
    "            row.names = F)\n",
    "out = paste0(\"ref/adrenal/adrenal_integrated_analysis_cell_metadata.tsv\")\n",
    "system(paste0(\"cat ref/cell_metadata_header \", fn, \"> \", out))\n",
    "system(paste0(\"rm \", fn))"
   ]
  }
 ],
 "metadata": {
  "kernelspec": {
   "display_name": "R",
   "language": "R",
   "name": "ir"
  },
  "language_info": {
   "codemirror_mode": "r",
   "file_extension": ".r",
   "mimetype": "text/x-r-source",
   "name": "R",
   "pygments_lexer": "r",
   "version": "4.1.2"
  }
 },
 "nbformat": 4,
 "nbformat_minor": 5
}
