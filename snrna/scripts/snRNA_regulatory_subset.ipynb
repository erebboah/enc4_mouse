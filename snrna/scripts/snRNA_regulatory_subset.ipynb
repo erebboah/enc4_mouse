{
 "cells": [
  {
   "cell_type": "markdown",
   "id": "131b6224-9457-426f-be6e-d9c6e104c637",
   "metadata": {},
   "source": [
    "# Subset tissue data on the regulatory genes only"
   ]
  },
  {
   "cell_type": "code",
   "execution_count": 16,
   "id": "266c09ba-0b85-4d16-ba0b-83476567d1c9",
   "metadata": {
    "tags": []
   },
   "outputs": [],
   "source": [
    "library(Matrix)\n",
    "suppressPackageStartupMessages(library(Seurat))\n",
    "suppressPackageStartupMessages(library(tidyverse))\n",
    "suppressPackageStartupMessages(library(viridis))\n",
    "library(glmGamPoi)\n",
    "library(RColorBrewer)\n",
    "library(data.table)\n",
    "options(future.globals.maxSize = 10000 * 1024^2)\n",
    "future.seed=TRUE\n"
   ]
  },
  {
   "cell_type": "code",
   "execution_count": 17,
   "id": "f8c581ea-82f0-4dcf-b18e-9e50a2460990",
   "metadata": {},
   "outputs": [],
   "source": [
    "setwd(\"/share/crsp/lab/seyedam/share/enc4_mouse/snrna/\")"
   ]
  },
  {
   "cell_type": "code",
   "execution_count": 18,
   "id": "9b1ba7e3-f0b9-40b9-9f2a-fef2a0c5e9f2",
   "metadata": {},
   "outputs": [],
   "source": [
    "genes = read.csv(\"ref/new_gene_display_table.csv\")"
   ]
  },
  {
   "cell_type": "code",
   "execution_count": 19,
   "id": "11ecaa42-f447-45bf-97c9-2289990ac83a",
   "metadata": {},
   "outputs": [],
   "source": [
    "subset_rna = function(seurat_obj_path){\n",
    "    obj = readRDS(seurat_obj_path)\n",
    "    rna_counts = obj@assays$RNA@counts\n",
    "    rna_counts = rna_counts[rownames(rna_counts) %in% genes$gene_name,]\n",
    "    new_obj = CreateSeuratObject(counts = rna_counts, min.cells = 0, min.features = 0)\n",
    "    new_obj@meta.data$cellID = obj@meta.data$cellID\n",
    "    new_obj@meta.data$file_accession = obj@meta.data$file_accession\n",
    "    new_obj@meta.data$library_accession = obj@meta.data$library_accession\n",
    "    new_obj@meta.data$experiment_accession = obj@meta.data$experiment_accession\n",
    "    \n",
    "    new_obj@meta.data$nCount_RNA = obj@meta.data$nCount_RNA\n",
    "    new_obj@meta.data$nFeature_RNA = obj@meta.data$nFeature_RNA\n",
    "    new_obj@meta.data$nCount_SCT = obj@meta.data$nCount_SCT\n",
    "    new_obj@meta.data$nFeature_SCT = obj@meta.data$nFeature_SCT\n",
    "    \n",
    "    new_obj@meta.data$technology = obj@meta.data$technology\n",
    "    new_obj@meta.data$species = obj@meta.data$species\n",
    "    new_obj@meta.data$tissue = obj@meta.data$tissue\n",
    "    new_obj@meta.data$sex = obj@meta.data$sex\n",
    "    new_obj@meta.data$timepoint = obj@meta.data$timepoint\n",
    "    new_obj@meta.data$rep = obj@meta.data$rep\n",
    "    new_obj@meta.data$sample = obj@meta.data$sample\n",
    "    new_obj@meta.data$depth1 = obj@meta.data$depth1\n",
    "    new_obj@meta.data$depth2 = obj@meta.data$depth2\n",
    "    new_obj@meta.data$experiment = obj@meta.data$experiment\n",
    "    new_obj@meta.data$experiment_batch = obj@meta.data$experiment_batch\n",
    "    new_obj@meta.data$integration_batch = obj@meta.data$integration_batch\n",
    "    new_obj@meta.data$run_number = obj@meta.data$run_number\n",
    "    \n",
    "    new_obj@meta.data$doublet_scores = obj@meta.data$doublet_scores\n",
    "    new_obj@meta.data$doublets = obj@meta.data$doublets\n",
    "    new_obj@meta.data$lower_nCount_RNA = obj@meta.data$lower_nCount_RNA\n",
    "    new_obj@meta.data$upper_nCount_RNA = obj@meta.data$upper_nCount_RNA\n",
    "    new_obj@meta.data$lower_nFeature_RNA = obj@meta.data$lower_nFeature_RNA\n",
    "    new_obj@meta.data$upper_doublet_scores = obj@meta.data$upper_doublet_scores\n",
    "    new_obj@meta.data$upper_percent.mt = obj@meta.data$upper_percent.mt\n",
    "    new_obj@meta.data$percent.mt = obj@meta.data$percent.mt\n",
    "    new_obj@meta.data$percent.ribo = obj@meta.data$percent.ribo\n",
    "\n",
    "    new_obj@meta.data$S.Score = obj@meta.data$S.Score    \n",
    "    new_obj@meta.data$G2M.Score = obj@meta.data$G2M.Score  \n",
    "    new_obj@meta.data$Phase = obj@meta.data$Phase\n",
    "\n",
    "    new_obj@meta.data$seurat_clusters = obj@meta.data$seurat_clusters\n",
    "    new_obj@meta.data$subtypes = obj@meta.data$subtypes\n",
    "    new_obj@meta.data$celltypes = obj@meta.data$celltypes\n",
    "    new_obj@meta.data$gen_celltype = obj@meta.data$gen_celltype    \n",
    "    \n",
    "    out = new_obj\n",
    "}"
   ]
  },
  {
   "cell_type": "markdown",
   "id": "ba123910-c305-49f9-b643-d8cef3d10085",
   "metadata": {},
   "source": [
    "## Adrenal"
   ]
  },
  {
   "cell_type": "code",
   "execution_count": 20,
   "id": "444f5413-24df-45cc-aef4-0a6e509d0fc5",
   "metadata": {},
   "outputs": [],
   "source": [
    "adr  = subset_rna(\"seurat/adrenal_Parse_10x_integrated.rds\")\n",
    "adr$c2c12_cluster = NA"
   ]
  },
  {
   "cell_type": "markdown",
   "id": "70c96476-6c35-4e9d-b2b3-bc599a569828",
   "metadata": {},
   "source": [
    "## Heart"
   ]
  },
  {
   "cell_type": "code",
   "execution_count": 21,
   "id": "16058fd8-7277-4771-8efc-397407894243",
   "metadata": {},
   "outputs": [],
   "source": [
    "hrt  = subset_rna(\"seurat/heart_Parse_10x_integrated.rds\")\n",
    "hrt$c2c12_cluster = NA"
   ]
  },
  {
   "cell_type": "markdown",
   "id": "cd2deaa1-1354-43ad-a1e3-5982de9b2b53",
   "metadata": {},
   "source": [
    "## Cortex"
   ]
  },
  {
   "cell_type": "code",
   "execution_count": 22,
   "id": "b7276b7a-f087-41d7-9dbd-da51bd1cd041",
   "metadata": {},
   "outputs": [],
   "source": [
    "ctx  = subset_rna(\"seurat/cortex_Parse_10x_integrated.rds\")\n",
    "ctx$c2c12_cluster = NA"
   ]
  },
  {
   "cell_type": "markdown",
   "id": "3e5de1ea-26f9-4d68-a5f7-5520bb81972c",
   "metadata": {},
   "source": [
    "## Hippocampus"
   ]
  },
  {
   "cell_type": "code",
   "execution_count": 23,
   "id": "3b244438-0276-4f8d-8fb5-517e89d5ca73",
   "metadata": {},
   "outputs": [],
   "source": [
    "hc  = subset_rna(\"seurat/hippocampus_Parse_10x_integrated.rds\")\n",
    "hc$c2c12_cluster = NA"
   ]
  },
  {
   "cell_type": "markdown",
   "id": "4fd8c99b-e4cb-48c0-b1fe-6b572371fd25",
   "metadata": {},
   "source": [
    "## Gastroc"
   ]
  },
  {
   "cell_type": "code",
   "execution_count": 24,
   "id": "8a65cb1f-f3a0-4e6b-bf74-fcd32007c88a",
   "metadata": {},
   "outputs": [],
   "source": [
    "gas  = subset_rna(\"seurat/gastrocnemius_Parse_10x_integrated.rds\")\n",
    "gas$c2c12_cluster = NA"
   ]
  },
  {
   "cell_type": "code",
   "execution_count": 25,
   "id": "18f8a8d9-9a74-492b-a9ad-3eee098d7649",
   "metadata": {},
   "outputs": [
    {
     "data": {
      "text/plain": [
       "\n",
       "   Adipocytes   Endothelial           FAP           MTJ   Macrophages \n",
       "          334          5074         11061          1616          1182 \n",
       "          NMJ     Perinatal     Satellite Schwann_cells Smooth_muscle \n",
       "          972          5603          1505           552          2275 \n",
       "    Tenocytes         Type1        Type2A        Type2B        Type2X \n",
       "         3067          1492          2775         30435          4449 "
      ]
     },
     "metadata": {},
     "output_type": "display_data"
    }
   ],
   "source": [
    "table(gas$celltypes)"
   ]
  },
  {
   "cell_type": "markdown",
   "id": "09ef8a44-79f4-4edb-8b8e-ff30013cad37",
   "metadata": {},
   "source": [
    "## C2C12"
   ]
  },
  {
   "cell_type": "code",
   "execution_count": 26,
   "id": "192af2a7-e5a1-4b99-94d2-140a4e0ae431",
   "metadata": {},
   "outputs": [],
   "source": [
    "c2  = subset_rna(\"seurat/c2c12_Parse_integrated.rds\")\n",
    "c2_obj = readRDS(\"seurat/c2c12_Parse_integrated.rds\")\n",
    "c2$c2c12_cluster = c2_obj$c2c12_cluster"
   ]
  },
  {
   "cell_type": "markdown",
   "id": "cf4695a3-69e2-4a89-9aa5-6ac6ac3f45b5",
   "metadata": {},
   "source": [
    "# Merge and save"
   ]
  },
  {
   "cell_type": "code",
   "execution_count": 27,
   "id": "e3f47c2c-6e26-4253-beec-8cc41e67c0ee",
   "metadata": {},
   "outputs": [],
   "source": [
    "all_tissue_c2c12 = merge(adr,c(hrt,ctx,hc,gas,c2))"
   ]
  },
  {
   "cell_type": "code",
   "execution_count": 28,
   "id": "bea8b2cc-4bea-4fc4-b26b-ced9d646bc1e",
   "metadata": {},
   "outputs": [
    {
     "data": {
      "text/plain": [
       "\n",
       "      Adrenal         C2C12        Cortex Gastrocnemius         Heart \n",
       "        79209         22234         98867         72392         93522 \n",
       "  Hippocampus \n",
       "        76386 "
      ]
     },
     "metadata": {},
     "output_type": "display_data"
    }
   ],
   "source": [
    "table(all_tissue_c2c12$tissue)"
   ]
  },
  {
   "cell_type": "code",
   "execution_count": 29,
   "id": "b9976d5b-6a02-48d7-96ee-fa54fcf83666",
   "metadata": {},
   "outputs": [
    {
     "data": {
      "text/plain": [
       "An object of class Seurat \n",
       "2701 features across 442610 samples within 1 assay \n",
       "Active assay: RNA (2701 features, 0 variable features)"
      ]
     },
     "metadata": {},
     "output_type": "display_data"
    }
   ],
   "source": [
    "all_tissue_c2c12"
   ]
  },
  {
   "cell_type": "code",
   "execution_count": 30,
   "id": "0004c94d-11df-449e-a539-5ba4a1a1c1c3",
   "metadata": {},
   "outputs": [],
   "source": [
    "# SAVE\n",
    "saveRDS(all_tissue_c2c12,file=\"seurat/all_tissues_Parse_10x_TFs_mirhgs_chromreg.rds\")\n",
    "write.csv(all_tissue_c2c12@meta.data,file=\"seurat/all_tissues_Parse_10x_TFs_mirhgs_chromreg_metadata.csv\")\n"
   ]
  },
  {
   "cell_type": "markdown",
   "id": "e8573ba6-e685-4306-8a95-66b6e2c2e0ec",
   "metadata": {},
   "source": [
    "## Save Parse only"
   ]
  },
  {
   "cell_type": "code",
   "execution_count": 31,
   "id": "98862a0f-1474-40a7-9099-797fa6b3d043",
   "metadata": {},
   "outputs": [
    {
     "data": {
      "text/plain": [
       "An object of class Seurat \n",
       "2701 features across 217296 samples within 1 assay \n",
       "Active assay: RNA (2701 features, 0 variable features)"
      ]
     },
     "metadata": {},
     "output_type": "display_data"
    },
    {
     "data": {
      "text/plain": [
       "\n",
       "      Adrenal         C2C12        Cortex Gastrocnemius         Heart \n",
       "        44213         22234         44747         30896         32593 \n",
       "  Hippocampus \n",
       "        42613 "
      ]
     },
     "metadata": {},
     "output_type": "display_data"
    }
   ],
   "source": [
    "all_tissue_c2c12_parse = subset(all_tissue_c2c12, subset = technology == \"Parse\")\n",
    "all_tissue_c2c12_parse\n",
    "table(all_tissue_c2c12_parse$tissue)\n",
    "saveRDS(all_tissue_c2c12_parse,file=\"seurat/all_tissues_Parse_TFs_mirhgs_chromreg.rds\")\n",
    "write.csv(all_tissue_c2c12_parse@meta.data,file=\"seurat/all_tissues_Parse_TFs_mirhgs_chromreg_metadata.csv\")\n"
   ]
  },
  {
   "cell_type": "markdown",
   "id": "af7707c8-c691-489e-a317-b86c7a5cad2f",
   "metadata": {},
   "source": [
    "## Save 10x only"
   ]
  },
  {
   "cell_type": "code",
   "execution_count": 32,
   "id": "3483e46c-83ae-4686-be93-8d68065ae340",
   "metadata": {},
   "outputs": [
    {
     "data": {
      "text/plain": [
       "An object of class Seurat \n",
       "2701 features across 225314 samples within 1 assay \n",
       "Active assay: RNA (2701 features, 0 variable features)"
      ]
     },
     "metadata": {},
     "output_type": "display_data"
    },
    {
     "data": {
      "text/plain": [
       "\n",
       "      Adrenal        Cortex Gastrocnemius         Heart   Hippocampus \n",
       "        34996         54120         41496         60929         33773 "
      ]
     },
     "metadata": {},
     "output_type": "display_data"
    }
   ],
   "source": [
    "all_tissue_c2c12_10x = subset(all_tissue_c2c12, subset = technology == \"10x\")\n",
    "all_tissue_c2c12_10x\n",
    "table(all_tissue_c2c12_10x$tissue)\n",
    "saveRDS(all_tissue_c2c12_10x,file=\"seurat/all_tissues_10x_TFs_mirhgs_chromreg.rds\")\n",
    "write.csv(all_tissue_c2c12_10x@meta.data,file=\"seurat/all_tissues_10x_TFs_mirhgs_chromreg_metadata.csv\")\n"
   ]
  }
 ],
 "metadata": {
  "kernelspec": {
   "display_name": "R",
   "language": "R",
   "name": "ir"
  },
  "language_info": {
   "codemirror_mode": "r",
   "file_extension": ".r",
   "mimetype": "text/x-r-source",
   "name": "R",
   "pygments_lexer": "r",
   "version": "4.1.2"
  }
 },
 "nbformat": 4,
 "nbformat_minor": 5
}
