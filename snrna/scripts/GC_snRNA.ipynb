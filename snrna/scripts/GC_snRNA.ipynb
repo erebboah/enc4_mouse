{
 "cells": [
  {
   "cell_type": "markdown",
   "id": "7cdd2f06-50b6-49b7-8848-ccdc1286d061",
   "metadata": {},
   "source": [
    "# Mouse snRNA Integrative Analysis\n",
    "## Gastrocnemius\n",
    "### Data\n",
    "- [Gastroc data table](https://github.com/erebboah/enc4_mouse/blob/master/snrna/ref/gastrocnemius_minimal_metadata.tsv)\n",
    "\n",
    "### Aims\n",
    "[integrate_parse_10x.R](https://github.com/erebboah/enc4_mouse/blob/master/snrna/scripts/integrate_parse_10x.R):\n",
    "1. Read in pre-processed Parse and 10x data and merge counts matrices across experiments (within the same technology) for each tissue.\n",
    "2. Filter nuclei by # genes, # UMIs, percent mitochondrial gene expression, and doublet score. See [detailed metadata](https://github.com/erebboah/enc4_mouse/blob/master/snrna/ref/enc4_mouse_snrna_metadata.tsv) for filter cutoffs. **Also filter 10x nuclei for those passing snATAC filters.**\n",
    "3. Run SCT on the 3 objects to regress `percent.mt` and `nFeature_RNA`. Use  `method = \"glmGamPoi\"` to speed up this step, and save pre-integrated data in `seurat` folder.\n",
    "4. Combine Parse standard, Parse deep, and 10x data by CCA integration. Use Parse standard as reference dataset because it contains all timepoints, while 10x data only contains 2 timepoints. \n",
    "5. Score nuclei by cell cycle using these [mouse cell cycle genes](https://github.com/erebboah/enc4_mouse/blob/master/snrna/ref/mouse_cellcycle_genes.rda) to aid in manual celltype annotation.\n",
    "\n",
    "[predict_gastroc_celltypes.R](https://github.com/erebboah/enc4_mouse/blob/master/snrna/scripts/predict_gastroc_celltypes.R): Use an [external TA dataset](https://www.synapse.org/#!Synapse:syn21676145/files/) from [this paper](https://www.ncbi.nlm.nih.gov/pmc/articles/PMC7733460/pdf/41467_2020_Article_20063.pdf) to predict celltype labels.\n",
    "\n",
    "**In this notebook**:\n",
    "Manual celltype annotation by assigning each cluster to the celltype predicted for the majority of cells in the cluster, then adjusting the labels as we see fit. Find marker genes for `gen_celltype`, `celltypes`, and `subtypes` and save in `seurat/markers`.\n",
    "\n",
    "### Results\n",
    "- Seurat CCA integration still works ok, but this tissue has the most difference between Parse and 10x, most likely due to differences in nuclei prep that are most apparent in muscle.\n",
    "- Low cluster definition, especially in myonuclei"
   ]
  },
  {
   "cell_type": "code",
   "execution_count": 1,
   "id": "e8dc8679-43e6-48ff-9213-875e7849c677",
   "metadata": {},
   "outputs": [
    {
     "name": "stderr",
     "output_type": "stream",
     "text": [
      "Warning message in system(\"timedatectl\", intern = TRUE):\n",
      "\"running command 'timedatectl' had status 1\"\n"
     ]
    }
   ],
   "source": [
    "library(Matrix)\n",
    "suppressPackageStartupMessages(library(Seurat))\n",
    "suppressPackageStartupMessages(library(tidyverse))\n",
    "suppressPackageStartupMessages(library(viridis))\n",
    "library(glmGamPoi)\n",
    "library(RColorBrewer)\n",
    "options(future.globals.maxSize = 10000 * 1024^2)\n",
    "future.seed=TRUE\n"
   ]
  },
  {
   "cell_type": "code",
   "execution_count": null,
   "id": "c3e2774d-2ebe-4156-bde4-0583f68fd81a",
   "metadata": {},
   "outputs": [],
   "source": [
    "setwd(\"../../enc4_mouse/snrna/\")"
   ]
  },
  {
   "cell_type": "code",
   "execution_count": 2,
   "id": "84e5e2cc-1f07-445b-affa-ca1327132523",
   "metadata": {},
   "outputs": [],
   "source": [
    "setwd(\"/share/crsp/lab/seyedam/share/enc4_mouse/snrna/\")"
   ]
  },
  {
   "cell_type": "code",
   "execution_count": 3,
   "id": "3abf50d5-1239-4627-ba71-65fded438948",
   "metadata": {},
   "outputs": [],
   "source": [
    "system(\"mkdir plots/gastrocnemius\")\n",
    "system(\"mkdir plots/gastrocnemius/qc\")\n",
    "system(\"mkdir plots/gastrocnemius/clustering\")\n",
    "system(\"mkdir plots/gastrocnemius/annotation\")\n",
    "system(\"mkdir seurat/markers/gastrocnemius\")\n",
    "system(\"mkdir ref/gastrocnemius\")"
   ]
  },
  {
   "cell_type": "markdown",
   "id": "2b7bce59-98d4-430c-afab-0b0c7a1e8cfb",
   "metadata": {},
   "source": [
    "# Functions"
   ]
  },
  {
   "cell_type": "code",
   "execution_count": 4,
   "id": "cdce3009-5d78-4595-b10b-bda09f07c0fa",
   "metadata": {},
   "outputs": [],
   "source": [
    "get_orig_counts = function(file){\n",
    "    metadata = metadata[metadata$file_accession == file,]\n",
    "    counts = readMM(paste0(\"counts_10x/\",file,\"/matrix.mtx\"))\n",
    "    \n",
    "    barcodes = read.delim(paste0(\"counts_10x/\",file,\"/barcodes.tsv\"),header = F, col.names=\"barcode\")\n",
    "    features = read.delim(paste0(\"counts_10x/\",file,\"/genes.tsv\"),header = F, col.names=\"gene_name\") \n",
    "    colnames(counts) = barcodes$barcode\n",
    "    rownames(counts) = features$gene_name\n",
    "    out = counts\n",
    "\n",
    "}"
   ]
  },
  {
   "cell_type": "code",
   "execution_count": 5,
   "id": "ac3217ef-07a6-49ef-836b-70e1ae75cd10",
   "metadata": {},
   "outputs": [],
   "source": [
    "knee_df = function(mtx,expt_name){\n",
    "    df = as.data.frame(rowSums(mtx))\n",
    "    colnames(df) = c(\"nUMI\")\n",
    "    df <- tibble(total = df$nUMI,\n",
    "               rank = row_number(dplyr::desc(total))) %>%\n",
    "    distinct() %>%\n",
    "    arrange(rank)\n",
    "    df$experiment = expt_name\n",
    "    out = df\n",
    "}"
   ]
  },
  {
   "cell_type": "markdown",
   "id": "76092e49-cc8f-4a38-8a75-ccfdcd3d8ac3",
   "metadata": {},
   "source": [
    "# QC plots"
   ]
  },
  {
   "cell_type": "markdown",
   "id": "5d7496df-3066-49f8-9aa3-3bcc80bf4be4",
   "metadata": {},
   "source": [
    "## Knee plot"
   ]
  },
  {
   "cell_type": "code",
   "execution_count": 3,
   "id": "361cc08c-d22c-4d4f-a8b7-093b8248d162",
   "metadata": {},
   "outputs": [],
   "source": [
    "combined.sct = readRDS(\"seurat/gastrocnemius_Parse_10x_integrated.rds\")\n",
    "cellbend_10x = subset(combined.sct,subset=technology ==\"10x\")\n",
    "orig_parse = subset(combined.sct,subset=technology ==\"Parse\")\n",
    "parse_standard = subset(orig_parse,subset=depth1 ==\"shallow\")\n",
    "parse_deep = subset(orig_parse,subset=depth1 ==\"deep\")"
   ]
  },
  {
   "cell_type": "code",
   "execution_count": 23,
   "id": "84330cc5-156b-4790-9d77-2bac6459b433",
   "metadata": {},
   "outputs": [],
   "source": [
    "metadata = read.delim(\"ref/enc4_mouse_snrna_metadata.tsv\")\n",
    "metadata = metadata[metadata$technology == \"10x\",]\n",
    "metadata = metadata[metadata$tissue == \"Gastrocnemius\",]\n",
    "\n",
    "files = metadata$file_accession\n",
    "\n",
    "orig_10x = get_orig_counts(files[1])\n",
    "\n",
    "for (j in 2:length(files)){\n",
    "    counts_adding = get_orig_counts(files[j])\n",
    "    orig_10x = cbind(orig_10x, counts_adding)\n",
    "}\n"
   ]
  },
  {
   "cell_type": "code",
   "execution_count": 24,
   "id": "de5e5208-39eb-4c92-93e2-c9dc88ca734f",
   "metadata": {},
   "outputs": [
    {
     "name": "stderr",
     "output_type": "stream",
     "text": [
      "Warning message:\n",
      "\"Transformation introduced infinite values in continuous y-axis\"\n"
     ]
    },
    {
     "data": {
      "text/html": [
       "<strong>png:</strong> 2"
      ],
      "text/latex": [
       "\\textbf{png:} 2"
      ],
      "text/markdown": [
       "**png:** 2"
      ],
      "text/plain": [
       "png \n",
       "  2 "
      ]
     },
     "metadata": {},
     "output_type": "display_data"
    }
   ],
   "source": [
    "cellbend_knee_plot = knee_df(cellbend_10x@assays$RNA@counts, \"10x + Cellbender\")\n",
    "orig_knee_plot = knee_df(orig_10x, \"10x\")\n",
    "\n",
    "parse_standard_knee_plot = knee_df(parse_standard@assays$RNA@counts, \"Parse standard\")\n",
    "parse_deep_knee_plot = knee_df(parse_deep@assays$RNA@counts, \"Parse deep\")\n",
    "\n",
    "pdf(file=\"plots/gastrocnemius/qc/experiment_kneeplots.pdf\",\n",
    "    width = 10, height = 8)\n",
    "ggplot(rbind(cellbend_knee_plot,orig_knee_plot,parse_standard_knee_plot,parse_deep_knee_plot), \n",
    "       aes(rank, total, group = experiment, color = experiment)) +\n",
    "geom_path() + \n",
    "scale_y_log10() + scale_x_log10() + annotation_logticks() +\n",
    "labs(y = \"Total UMI count\", x = \"Barcode rank\", title = \"Mouse gastrocnemius knee plot\") + \n",
    "geom_hline(yintercept=500, linetype=\"dashed\", color = \"red\", size=1)\n",
    "dev.off()\n"
   ]
  },
  {
   "cell_type": "code",
   "execution_count": 25,
   "id": "0f74790d-7e51-41c3-aa44-95c7d4e7b68b",
   "metadata": {},
   "outputs": [
    {
     "name": "stderr",
     "output_type": "stream",
     "text": [
      "Warning message:\n",
      "\"`fun.y` is deprecated. Use `fun` instead.\"\n",
      "Warning message:\n",
      "\"Groups with fewer than two data points have been dropped.\"\n",
      "Warning message:\n",
      "\"Groups with fewer than two data points have been dropped.\"\n",
      "Warning message:\n",
      "\"`fun.y` is deprecated. Use `fun` instead.\"\n",
      "Warning message:\n",
      "\"Groups with fewer than two data points have been dropped.\"\n",
      "Warning message:\n",
      "\"Groups with fewer than two data points have been dropped.\"\n",
      "Warning message:\n",
      "\"Groups with fewer than two data points have been dropped.\"\n",
      "Warning message:\n",
      "\"Groups with fewer than two data points have been dropped.\"\n"
     ]
    },
    {
     "data": {
      "text/html": [
       "<strong>png:</strong> 2"
      ],
      "text/latex": [
       "\\textbf{png:} 2"
      ],
      "text/markdown": [
       "**png:** 2"
      ],
      "text/plain": [
       "png \n",
       "  2 "
      ]
     },
     "metadata": {},
     "output_type": "display_data"
    }
   ],
   "source": [
    "pdf(file=\"plots/gastrocnemius/qc/experiment_violinplots.pdf\",\n",
    "    width = 20, height = 5)\n",
    "VlnPlot(combined.sct, features = c(\"nFeature_RNA\"), ncol = 1, split.by = \"depth2\",\n",
    "        pt.size = 0, group.by = \"sample\", cols = c(\"#811b74\",\"#C08DBA\",\"#00a1e0\"))+ ggtitle(\"# genes per nucleus\") +\n",
    "stat_summary(fun.y = median, geom='point', size = 15, colour = \"black\", shape = 95) & theme(text = element_text(size = 20), \n",
    "                                                                              axis.text.x = element_text(size = 20), \n",
    "                                                                              axis.text.y = element_text(size = 20))\n",
    "VlnPlot(combined.sct, features = c(\"nCount_RNA\"), ncol = 1, split.by = \"depth2\",\n",
    "        pt.size = 0, group.by = \"sample\", cols = c(\"#811b74\",\"#C08DBA\",\"#00a1e0\")) + ggtitle(\"# UMIs per nucleus\") +\n",
    "stat_summary(fun.y = median, geom='point', size = 15, colour = \"black\", shape = 95)& theme(text = element_text(size = 20), \n",
    "                                                  axis.text.x = element_text(size = 20), \n",
    "                                                  axis.text.y = element_text(size = 20))\n",
    "VlnPlot(combined.sct, features = c(\"percent.mt\"), ncol = 1, split.by = \"depth2\",\n",
    "        pt.size = 0, group.by = \"sample\", cols = c(\"#811b74\",\"#C08DBA\",\"#00a1e0\")) & theme(text = element_text(size = 20), \n",
    "                                                  axis.text.x = element_text(size = 20), \n",
    "                                                  axis.text.y = element_text(size = 20)) \n",
    "dev.off()"
   ]
  },
  {
   "cell_type": "markdown",
   "id": "a154762c-c12a-461a-ad39-194a32ebf50d",
   "metadata": {},
   "source": [
    "## UMAP \"Feature Plots\" of QC metadata"
   ]
  },
  {
   "cell_type": "code",
   "execution_count": 26,
   "id": "04822cc6-3df1-4556-806a-4df0730b4e51",
   "metadata": {},
   "outputs": [
    {
     "name": "stderr",
     "output_type": "stream",
     "text": [
      "Scale for 'colour' is already present. Adding another scale for 'colour',\n",
      "which will replace the existing scale.\n",
      "\n",
      "Scale for 'colour' is already present. Adding another scale for 'colour',\n",
      "which will replace the existing scale.\n",
      "\n",
      "Scale for 'colour' is already present. Adding another scale for 'colour',\n",
      "which will replace the existing scale.\n",
      "\n",
      "Scale for 'colour' is already present. Adding another scale for 'colour',\n",
      "which will replace the existing scale.\n",
      "\n",
      "Scale for 'colour' is already present. Adding another scale for 'colour',\n",
      "which will replace the existing scale.\n",
      "\n",
      "Scale for 'colour' is already present. Adding another scale for 'colour',\n",
      "which will replace the existing scale.\n",
      "\n"
     ]
    },
    {
     "data": {
      "text/html": [
       "<strong>png:</strong> 2"
      ],
      "text/latex": [
       "\\textbf{png:} 2"
      ],
      "text/markdown": [
       "**png:** 2"
      ],
      "text/plain": [
       "png \n",
       "  2 "
      ]
     },
     "metadata": {},
     "output_type": "display_data"
    }
   ],
   "source": [
    "pdf(file=\"plots/gastrocnemius/qc/qc_featureplot.pdf\",\n",
    "    width = 25, height = 10)\n",
    "FeaturePlot(combined.sct, pt.size = 0.1, order = T,\n",
    "            features =c(\"nFeature_RNA\",\n",
    "                        \"nCount_RNA\",\n",
    "                        \"percent.mt\",\n",
    "                        \"percent.ribo\",\n",
    "                        \"doublet_scores\",\n",
    "                        \"G2M.Score\"), ncol =3)  & scale_colour_gradientn(colours = viridis(11)) & \n",
    "                        NoAxes()& \n",
    "                        theme(text = element_text(size = 20))\n",
    "\n",
    "dev.off()\n"
   ]
  },
  {
   "cell_type": "markdown",
   "id": "853e7e3a-226d-439e-8d1d-247757cf0b6f",
   "metadata": {},
   "source": [
    "# Check integration and clustering\n",
    "Adjusting UMAP function to cluster nuclei more tightly, and increasing cluster resolution."
   ]
  },
  {
   "cell_type": "code",
   "execution_count": 27,
   "id": "74925a5b-5fd9-41cd-9bd5-07cbbcaff34b",
   "metadata": {},
   "outputs": [],
   "source": [
    "nclusters = length(unique(combined.sct$seurat_clusters))\n",
    "cluster_cols = colorRampPalette(brewer.pal(9,\"Set1\"))(nclusters)"
   ]
  },
  {
   "cell_type": "code",
   "execution_count": 28,
   "id": "c60f69dd-de28-4ae3-8483-7478757ac6df",
   "metadata": {},
   "outputs": [
    {
     "data": {
      "text/html": [
       "<strong>png:</strong> 2"
      ],
      "text/latex": [
       "\\textbf{png:} 2"
      ],
      "text/markdown": [
       "**png:** 2"
      ],
      "text/plain": [
       "png \n",
       "  2 "
      ]
     },
     "metadata": {},
     "output_type": "display_data"
    }
   ],
   "source": [
    "pdf(file=\"plots/gastrocnemius/clustering/UMAP_Parse_10x.pdf\",\n",
    "    width = 20, height = 8)\n",
    "p1 <- DimPlot(combined.sct, reduction = \"umap\", group.by = \"technology\")\n",
    "p2 <- DimPlot(combined.sct, reduction = \"umap\", label = TRUE, repel = TRUE, cols = cluster_cols)\n",
    "p1 + p2\n",
    "\n",
    "dev.off()"
   ]
  },
  {
   "cell_type": "code",
   "execution_count": 29,
   "id": "1c977813-c941-40e4-8650-97aa7ed652c9",
   "metadata": {},
   "outputs": [
    {
     "data": {
      "text/html": [
       "<strong>png:</strong> 2"
      ],
      "text/latex": [
       "\\textbf{png:} 2"
      ],
      "text/markdown": [
       "**png:** 2"
      ],
      "text/plain": [
       "png \n",
       "  2 "
      ]
     },
     "metadata": {},
     "output_type": "display_data"
    }
   ],
   "source": [
    "pdf(file=\"plots/gastrocnemius/clustering/Parse_10x_experiment_distribution.pdf\",\n",
    "    width = 20, height = 6)\n",
    "DimPlot(combined.sct, reduction = \"umap\", group.by = \"seurat_clusters\",split.by = \"depth2\", label = TRUE, label.size = 6, repel = TRUE, shuffle = T,cols = cluster_cols)\n",
    "\n",
    "ggplot(combined.sct@meta.data, aes(x=seurat_clusters, fill=depth2)) + geom_bar(position = \"fill\") & \n",
    "theme(text = element_text(size = 20), axis.text.x = element_text(size = 20), axis.text.y = element_text(size = 20))\n",
    "\n",
    "dev.off()\n"
   ]
  },
  {
   "cell_type": "code",
   "execution_count": 30,
   "id": "5bd391a9-e7ea-4d89-ba26-5a6a97c76bfa",
   "metadata": {},
   "outputs": [
    {
     "data": {
      "text/html": [
       "<strong>png:</strong> 2"
      ],
      "text/latex": [
       "\\textbf{png:} 2"
      ],
      "text/markdown": [
       "**png:** 2"
      ],
      "text/plain": [
       "png \n",
       "  2 "
      ]
     },
     "metadata": {},
     "output_type": "display_data"
    }
   ],
   "source": [
    "combined.sct$sample = factor(combined.sct$sample, levels=paste0(\"G_\",rep(c(\"4\",\"10\",\"14\",\"25\",\"36\",\"2m\",\"18m\"),each=4),rep(c(\"_M\",\"_F\"),each=2),c(\"_1\",\"_2\")))\n",
    "\n",
    "pdf(file=\"plots/gastrocnemius/clustering/UMAP_cluster_sample_barplot.pdf\",\n",
    "    width = 20, height = 10)\n",
    "p1=DimPlot(combined.sct, reduction = \"umap\", group.by = \"seurat_clusters\", label = TRUE, label.size = 8, repel = TRUE, \n",
    "          cols = cluster_cols)\n",
    "p2=ggplot(combined.sct@meta.data, aes(x=seurat_clusters, fill=sample)) + geom_bar(position = \"fill\") +\n",
    "theme(text = element_text(size = 20), axis.text.x = element_text(size = 20), axis.text.y = element_text(size = 20)) & coord_flip()\n",
    "gridExtra::grid.arrange(\n",
    "  p1, p2,\n",
    "  widths = c(2,1.6),\n",
    "  layout_matrix = rbind(c(1, 2)))\n",
    "\n",
    "dev.off()"
   ]
  },
  {
   "cell_type": "code",
   "execution_count": 31,
   "id": "179a8a70-fa13-4d9b-b30a-671e0044630e",
   "metadata": {},
   "outputs": [
    {
     "data": {
      "text/html": [
       "<strong>png:</strong> 2"
      ],
      "text/latex": [
       "\\textbf{png:} 2"
      ],
      "text/markdown": [
       "**png:** 2"
      ],
      "text/plain": [
       "png \n",
       "  2 "
      ]
     },
     "metadata": {},
     "output_type": "display_data"
    }
   ],
   "source": [
    "pdf(file=\"plots/gastrocnemius/clustering/age_sex_barplot.pdf\",\n",
    "    width = 18, height = 19)\n",
    "p1=DimPlot(combined.sct, reduction = \"umap\", group.by = \"timepoint\", label = TRUE, label.size = 5, repel = TRUE)\n",
    "p2 = ggplot(combined.sct@meta.data, aes(x=seurat_clusters, fill=timepoint)) + geom_bar(position = \"fill\") & \n",
    "theme(text = element_text(size = 20), axis.text.x = element_text(size = 20), axis.text.y = element_text(size = 20)) & coord_flip()\n",
    "\n",
    "p3=DimPlot(combined.sct, reduction = \"umap\", group.by = \"sex\", label = TRUE, label.size = 5, repel = TRUE, shuffle = T)\n",
    "p4 = ggplot(combined.sct@meta.data, aes(x=seurat_clusters, fill=sex)) + geom_bar(position = \"fill\") & \n",
    "theme(text = element_text(size = 20), axis.text.x = element_text(size = 20), axis.text.y = element_text(size = 20)) & coord_flip()\n",
    "gridExtra::grid.arrange(\n",
    "  p1, p2, p3, p4,\n",
    "  widths = c(2,1),\n",
    "  layout_matrix = rbind(c(1, 2),\n",
    "                        c(3, 4)))\n",
    "\n",
    "dev.off()"
   ]
  },
  {
   "cell_type": "markdown",
   "id": "5c3bd69f-2cdb-420d-a441-662feabd83e3",
   "metadata": {},
   "source": [
    "# Plotting: check predicted celltypes"
   ]
  },
  {
   "cell_type": "code",
   "execution_count": 32,
   "id": "1253ae5b-faec-4c67-b241-c031b836933d",
   "metadata": {},
   "outputs": [
    {
     "data": {
      "text/html": [
       "<strong>png:</strong> 2"
      ],
      "text/latex": [
       "\\textbf{png:} 2"
      ],
      "text/markdown": [
       "**png:** 2"
      ],
      "text/plain": [
       "png \n",
       "  2 "
      ]
     },
     "metadata": {},
     "output_type": "display_data"
    }
   ],
   "source": [
    "pdf(file=\"plots/gastrocnemius/annotation/UMAP_predictions.pdf\",\n",
    "    width = 15, height = 12)\n",
    "nclusters = length(unique(combined.sct$predictions))\n",
    "DimPlot(combined.sct, reduction = \"umap\", group.by = \"predictions\",\n",
    "        label = TRUE, label.size = 6, repel = TRUE,cols = colorRampPalette(brewer.pal(9,\"Set1\"))(nclusters)) + NoLegend()\n",
    "\n",
    "dev.off()"
   ]
  },
  {
   "cell_type": "markdown",
   "id": "e5a5d0e7-893c-4664-a955-d5f59346ba95",
   "metadata": {},
   "source": [
    "# Rename clusters based on maximum predicted celltype"
   ]
  },
  {
   "cell_type": "code",
   "execution_count": 7,
   "id": "39008e96-c530-4d5f-92f1-eb632de15865",
   "metadata": {},
   "outputs": [
    {
     "name": "stderr",
     "output_type": "stream",
     "text": [
      "\u001b[1m\u001b[22mJoining, by = \"seurat_clusters\"\n"
     ]
    }
   ],
   "source": [
    "Idents(combined.sct) = \"seurat_clusters\"\n",
    "mat = as.matrix(table(Idents(combined.sct), combined.sct$predictions))\n",
    "ct = data.frame(predicted_celltypes = colnames(mat)[max.col(mat)])\n",
    "ct$seurat_clusters = 0:(nrow(ct)-1)\n",
    "ct$seurat_clusters = factor(ct$seurat_clusters, levels = 0:(nrow(ct)-1))\n",
    "ct$predicted_celltypes = paste0(ct$predicted_celltypes, \".\", ct$seurat_clusters)\n",
    "\n",
    "metadata = as.data.frame(combined.sct@meta.data)\n",
    "metadata = left_join(metadata, ct)\n",
    "\n",
    "combined.sct$predicted_celltypes = metadata$predicted_celltypes"
   ]
  },
  {
   "cell_type": "code",
   "execution_count": 34,
   "id": "2c0a3d49-5a3e-4673-adb9-177afd33e23d",
   "metadata": {},
   "outputs": [
    {
     "data": {
      "text/html": [
       "<strong>png:</strong> 2"
      ],
      "text/latex": [
       "\\textbf{png:} 2"
      ],
      "text/markdown": [
       "**png:** 2"
      ],
      "text/plain": [
       "png \n",
       "  2 "
      ]
     },
     "metadata": {},
     "output_type": "display_data"
    }
   ],
   "source": [
    "pdf(file=\"plots/gastrocnemius/annotation/UMAP_maximum_predictions.pdf\",\n",
    "    width = 15, height = 12)\n",
    "\n",
    "#options(repr.plot.width=20,repr.plot.height=20)\n",
    "\n",
    "nclusters = length(unique(combined.sct$predicted_celltypes))\n",
    "DimPlot(combined.sct, reduction = \"umap\", group.by = \"predicted_celltypes\",\n",
    "        label = TRUE, label.size = 4, repel = TRUE,cols = colorRampPalette(brewer.pal(9,\"Set1\"))(nclusters))  & NoLegend()\n",
    "dev.off()\n"
   ]
  },
  {
   "cell_type": "markdown",
   "id": "77862b18-2e73-4776-aa24-fee207870dc8",
   "metadata": {},
   "source": [
    "## Fix clusters\n",
    "Type 2X: Myh1\n",
    "\n",
    "Type 2A: Myh2\n",
    "\n",
    "Type 2B: Myh4"
   ]
  },
  {
   "cell_type": "code",
   "execution_count": 16,
   "id": "f140e09f-ffeb-48be-a4f2-1bee07627cc9",
   "metadata": {},
   "outputs": [],
   "source": [
    "combined.sct$subtypes = combined.sct$predicted_celltypes\n",
    "combined.sct$subtypes = gsub(\"\\\\<FAPs.40\\\\>\",\"Adipocytes.40\",combined.sct$subtypes)\n",
    "combined.sct$subtypes = gsub(\"\\\\<FAPs.34\\\\>\",\"Tenocytes.34\",combined.sct$subtypes)\n",
    "combined.sct$subtypes = gsub(\"\\\\<Type IIx Myonuclei.14\\\\>\",\"Perinatal.14\",combined.sct$subtypes)\n",
    "combined.sct$subtypes = gsub(\"\\\\<Type IIx Myonuclei.16\\\\>\",\"Perinatal.16\",combined.sct$subtypes)\n",
    "combined.sct$subtypes = gsub(\"\\\\<Type IIx Myonuclei.31\\\\>\",\"Perinatal.31\",combined.sct$subtypes)\n",
    "combined.sct$subtypes = gsub(\"\\\\<Type IIx Myonuclei.27\\\\>\",\"Perinatal.27\",combined.sct$subtypes)\n",
    "\n",
    "combined.sct$subtypes = gsub(\"\\\\<Type IIx Myonuclei.7\\\\>\",\"Type IIa Myonuclei.7\",combined.sct$subtypes)\n",
    "combined.sct$subtypes = gsub(\"\\\\<Type IIx Myonuclei.8\\\\>\",\"Type IIb Myonuclei.8\",combined.sct$subtypes)\n",
    "\n",
    "combined.sct$subtypes = gsub(\"\\\\<Type IIx Myonuclei.4\\\\>\",\"Type IIb Myonuclei.4\",combined.sct$subtypes)\n",
    "combined.sct$subtypes = gsub(\"\\\\<Type IIx Myonuclei.39\\\\>\",\"Type IIb Myonuclei.39\",combined.sct$subtypes)\n",
    "combined.sct$subtypes = gsub(\"\\\\<FAPs.35\\\\>\",\"Type IIb Myonuclei.35\",combined.sct$subtypes)\n",
    "combined.sct$subtypes = gsub(\"\\\\<FAPs.36\\\\>\",\"Type IIb Myonuclei.35\",combined.sct$subtypes)\n",
    "\n"
   ]
  },
  {
   "cell_type": "markdown",
   "id": "7ff7f8f9-4c5f-43b9-8f36-5e581b1e749d",
   "metadata": {},
   "source": [
    "## Get rid of cluster number"
   ]
  },
  {
   "cell_type": "code",
   "execution_count": 17,
   "id": "d8c64cf0-f1cb-4216-a579-2476850a3769",
   "metadata": {},
   "outputs": [],
   "source": [
    "# get rid of cluster #\n",
    "combined.sct$subtypes = do.call(\"rbind\", strsplit(as.character(combined.sct$subtypes), \"[.]\"))[,1]\n"
   ]
  },
  {
   "cell_type": "markdown",
   "id": "2b8ecd98-bd18-4672-adac-fe095180d9af",
   "metadata": {},
   "source": [
    "## Change some names"
   ]
  },
  {
   "cell_type": "code",
   "execution_count": 18,
   "id": "547faf68-6409-47e1-87e4-8031769490dc",
   "metadata": {},
   "outputs": [],
   "source": [
    "combined.sct$subtypes = gsub(\"\\\\<Endothelial Cells\\\\>\",\"Endothelial\",combined.sct$subtypes) \n",
    "combined.sct$subtypes = gsub(\"\\\\<Smooth Muscle\\\\>\",\"Smooth_muscle\",combined.sct$subtypes) \n",
    "combined.sct$subtypes = gsub(\"\\\\<Schwann Cells\\\\>\",\"Schwann_cells\",combined.sct$subtypes) \n",
    "combined.sct$subtypes = gsub(\"\\\\<Satellite Cells\\\\>\",\"Satellite\",combined.sct$subtypes) \n",
    "combined.sct$subtypes = gsub(\"\\\\<FAPs\\\\>\",\"FAP\",combined.sct$subtypes) \n",
    "combined.sct$subtypes = gsub(\"\\\\<Immune Cells\\\\>\",\"Macrophages\",combined.sct$subtypes) \n",
    "combined.sct$subtypes = gsub(\"\\\\<Neuromuscular Junction\\\\>\",\"NMJ\",combined.sct$subtypes) \n",
    "combined.sct$subtypes = gsub(\"\\\\<Myotendinous Junction\\\\>\",\"MTJ\",combined.sct$subtypes) \n",
    "combined.sct$subtypes = gsub(\"\\\\<Type I Myonuclei\\\\>\",\"Type1\",combined.sct$subtypes) \n",
    "\n",
    "\n",
    "combined.sct$subtypes = gsub(\"\\\\<Type IIx Myonuclei\\\\>\",\"Type2X\",combined.sct$subtypes) \n",
    "combined.sct$subtypes = gsub(\"\\\\<Type IIb Myonuclei\\\\>\",\"Type2B\",combined.sct$subtypes) \n",
    "combined.sct$subtypes = gsub(\"\\\\<Type IIa Myonuclei\\\\>\",\"Type2A\",combined.sct$subtypes) \n",
    "\n"
   ]
  },
  {
   "cell_type": "markdown",
   "id": "62534f26-b922-44b4-93eb-13e8cd3d8724",
   "metadata": {},
   "source": [
    "# Add celltypes and gen_celltypes metadata\n",
    "Based on the subtypes annotation, we can group the cells into broader categories."
   ]
  },
  {
   "cell_type": "code",
   "execution_count": 34,
   "id": "ef9c68a3-dd2c-40c7-a971-44a859a19c3a",
   "metadata": {},
   "outputs": [],
   "source": [
    "combined.sct$celltypes = combined.sct$subtypes\n",
    "combined.sct$gen_celltype = combined.sct$celltypes\n",
    "\n",
    "combined.sct$gen_celltype = gsub(\"\\\\<Type1\\\\>\",\"Myonuclei\",combined.sct$gen_celltype)\n",
    "combined.sct$gen_celltype = gsub(\"\\\\<Type2A\\\\>\",\"Myonuclei\",combined.sct$gen_celltype)\n",
    "combined.sct$gen_celltype = gsub(\"\\\\<Type2B\\\\>\",\"Myonuclei\",combined.sct$gen_celltype)\n",
    "combined.sct$gen_celltype = gsub(\"\\\\<Type2X\\\\>\",\"Myonuclei\",combined.sct$gen_celltype)\n",
    "combined.sct$gen_celltype = gsub(\"\\\\<NMJ\\\\>\",\"Myonuclei\",combined.sct$gen_celltype)\n",
    "combined.sct$gen_celltype = gsub(\"\\\\<MTJ\\\\>\",\"Myonuclei\",combined.sct$gen_celltype)\n",
    "combined.sct$gen_celltype = gsub(\"\\\\<Satellite\\\\>\",\"Myonuclei\",combined.sct$gen_celltype)\n",
    "combined.sct$gen_celltype = gsub(\"\\\\<Perinatal\\\\>\",\"Myonuclei\",combined.sct$gen_celltype)\n",
    "combined.sct$gen_celltype = gsub(\"\\\\<FAP\\\\>\",\"Stromal\",combined.sct$gen_celltype)\n",
    "combined.sct$gen_celltype = gsub(\"\\\\<Macrophages\\\\>\",\"Myeloid\",combined.sct$gen_celltype)\n"
   ]
  },
  {
   "cell_type": "markdown",
   "id": "cdd4cefd-11fa-4236-bbea-c9660b586535",
   "metadata": {},
   "source": [
    "### Dot plot of marker genes"
   ]
  },
  {
   "cell_type": "code",
   "execution_count": 35,
   "id": "d320ea2d-75dc-4ecf-890f-cb1072203a15",
   "metadata": {},
   "outputs": [],
   "source": [
    "genes = c(\"Col22a1\",\"Myh1\",\"Myh2\",\"Myh3\",\"Myh4\",\"Myh6\",\"Myh7\",\"Myh8\",\"Myh9\",\"Myh11\")"
   ]
  },
  {
   "cell_type": "code",
   "execution_count": 36,
   "id": "617ea9c6-5b9f-47c7-b50d-e576f903b925",
   "metadata": {},
   "outputs": [
    {
     "data": {
      "text/html": [
       "<strong>png:</strong> 2"
      ],
      "text/latex": [
       "\\textbf{png:} 2"
      ],
      "text/markdown": [
       "**png:** 2"
      ],
      "text/plain": [
       "png \n",
       "  2 "
      ]
     },
     "metadata": {},
     "output_type": "display_data"
    }
   ],
   "source": [
    "pdf(file=\"plots/gastrocnemius/annotation/subtype_marker_dotplot.pdf\",\n",
    "    width = 20, height = 12)\n",
    "\n",
    "options(repr.plot.width=15, repr.plot.height=10)\n",
    "\n",
    "DefaultAssay(combined.sct) = \"SCT\"\n",
    "Idents(combined.sct) = \"subtypes\"\n",
    "Idents(combined.sct) = factor(Idents(combined.sct), levels = sort(as.character(unique(Idents(combined.sct)))))\n",
    "DotPlot(combined.sct, features = genes)+ \n",
    "theme(axis.text.x = element_text(angle = 45, hjust = 1)) \n",
    "dev.off()"
   ]
  },
  {
   "cell_type": "markdown",
   "id": "6c032223-aaec-453d-9f75-43d36a5d666d",
   "metadata": {},
   "source": [
    "## Plotting the 3 levels of annotation"
   ]
  },
  {
   "cell_type": "code",
   "execution_count": 38,
   "id": "3381f0cc-870d-48b5-a577-aebd29639fdc",
   "metadata": {},
   "outputs": [
    {
     "data": {
      "text/html": [
       "<strong>png:</strong> 2"
      ],
      "text/latex": [
       "\\textbf{png:} 2"
      ],
      "text/markdown": [
       "**png:** 2"
      ],
      "text/plain": [
       "png \n",
       "  2 "
      ]
     },
     "metadata": {},
     "output_type": "display_data"
    }
   ],
   "source": [
    "color_ref = read.delim(\"ref/enc4_mouse_snrna_celltypes_c2c12.csv\",sep=\",\",col.names = c(\"tissue\",\"gen_celltype\",\"celltypes\",\n",
    "                                                                              \"subtypes\",\"gen_celltype_color\",\n",
    "                                                                              \"celltype_color\",\"subtype_color\"))\n",
    "gen_celltype_colors = unique(color_ref[color_ref$tissue == \"Gastrocnemius\",c(\"gen_celltype\",\"gen_celltype_color\")])\n",
    "rownames(gen_celltype_colors) = gen_celltype_colors$gen_celltype\n",
    "gen_celltype_colors = gen_celltype_colors[sort(unique(combined.sct$gen_celltype)),]\n",
    "\n",
    "pdf(file=\"plots/gastrocnemius/annotation/UMAP_final_gen_celltype.pdf\",\n",
    "   width = 15, height = 10)\n",
    "\n",
    "#options(repr.plot.width=15,repr.plot.height=10)\n",
    "DimPlot(combined.sct, reduction = \"umap\", \n",
    "        group.by = \"gen_celltype\", \n",
    "        label = TRUE, label.size = 8, repel = TRUE,\n",
    "       cols = gen_celltype_colors$gen_celltype_color)\n",
    "\n",
    "dev.off()"
   ]
  },
  {
   "cell_type": "code",
   "execution_count": 40,
   "id": "95686e30-5f80-47d5-baef-2781ce885d56",
   "metadata": {},
   "outputs": [
    {
     "data": {
      "text/html": [
       "<strong>png:</strong> 2"
      ],
      "text/latex": [
       "\\textbf{png:} 2"
      ],
      "text/markdown": [
       "**png:** 2"
      ],
      "text/plain": [
       "png \n",
       "  2 "
      ]
     },
     "metadata": {},
     "output_type": "display_data"
    }
   ],
   "source": [
    "celltype_colors = unique(color_ref[color_ref$tissue == \"Gastrocnemius\",c(\"celltypes\",\"celltype_color\")])\n",
    "rownames(celltype_colors) = celltype_colors$celltypes\n",
    "celltype_colors = celltype_colors[sort(unique(combined.sct$celltypes)),]\n",
    "\n",
    "pdf(file=\"plots/gastrocnemius/annotation/UMAP_final_celltypes.pdf\",\n",
    "    width = 15, height = 10)\n",
    "\n",
    "DimPlot(combined.sct, reduction = \"umap\", \n",
    "        group.by = \"celltypes\", \n",
    "        label = TRUE, label.size = 8, repel = TRUE,\n",
    "       cols = celltype_colors$celltype_color)\n",
    "\n",
    "dev.off()"
   ]
  },
  {
   "cell_type": "code",
   "execution_count": 42,
   "id": "5fa69426-57af-4e74-9022-b00f529da9a5",
   "metadata": {},
   "outputs": [
    {
     "data": {
      "text/html": [
       "<strong>png:</strong> 2"
      ],
      "text/latex": [
       "\\textbf{png:} 2"
      ],
      "text/markdown": [
       "**png:** 2"
      ],
      "text/plain": [
       "png \n",
       "  2 "
      ]
     },
     "metadata": {},
     "output_type": "display_data"
    }
   ],
   "source": [
    "subtype_colors = unique(color_ref[color_ref$tissue == \"Gastrocnemius\",c(\"subtypes\",\"subtype_color\")])\n",
    "rownames(subtype_colors) = subtype_colors$subtypes\n",
    "subtype_colors = subtype_colors[sort(unique(combined.sct$subtypes)),]\n",
    "\n",
    "pdf(file=\"plots/gastrocnemius/annotation/UMAP_final_subtypes.pdf\",\n",
    "    width = 15, height = 10)\n",
    "\n",
    "DimPlot(combined.sct, reduction = \"umap\", \n",
    "        group.by = \"subtypes\", \n",
    "        label = TRUE, label.size = 8, repel = TRUE,\n",
    "       cols = subtype_colors$subtype_color)\n",
    "\n",
    "dev.off()"
   ]
  },
  {
   "cell_type": "code",
   "execution_count": 20,
   "id": "33b3e72c-2b83-41dd-b92a-99f7daf7172c",
   "metadata": {},
   "outputs": [],
   "source": [
    "saveRDS(combined.sct,file=\"seurat/gastrocnemius_Parse_10x_integrated.rds\")"
   ]
  },
  {
   "cell_type": "code",
   "execution_count": null,
   "id": "d3dbee85-965f-47c7-b0ae-aa555b952a8e",
   "metadata": {},
   "outputs": [],
   "source": []
  }
 ],
 "metadata": {
  "kernelspec": {
   "display_name": "R",
   "language": "R",
   "name": "ir"
  },
  "language_info": {
   "codemirror_mode": "r",
   "file_extension": ".r",
   "mimetype": "text/x-r-source",
   "name": "R",
   "pygments_lexer": "r",
   "version": "4.1.2"
  }
 },
 "nbformat": 4,
 "nbformat_minor": 5
}
