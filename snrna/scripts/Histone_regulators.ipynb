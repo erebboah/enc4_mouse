{
 "cells": [
  {
   "cell_type": "markdown",
   "id": "ece4c61d-8002-4422-80fe-eb02695368cc",
   "metadata": {},
   "source": [
    "# Get histone regulators to include in regulatory analysis"
   ]
  },
  {
   "cell_type": "markdown",
   "id": "5429450f-550a-46bf-bc8a-eba9a0844a1f",
   "metadata": {},
   "source": [
    "## Download"
   ]
  },
  {
   "cell_type": "code",
   "execution_count": 31,
   "id": "a1c39047-4925-46f1-9871-8fb8fecd820a",
   "metadata": {},
   "outputs": [],
   "source": [
    "setwd(\"/share/crsp/lab/seyedam/share/enc4_mouse/snrna/ref\")"
   ]
  },
  {
   "cell_type": "code",
   "execution_count": 32,
   "id": "67a6b13d-a5ed-4c83-b905-69ae33a58c74",
   "metadata": {},
   "outputs": [],
   "source": [
    "system(\"wget \\'http://www.informatics.jax.org/go/report.txt?goID=GO:0004402&results=83&startIndex=0&sort=term&dir=\\'\")\n",
    "system(\"mv report.txt* GO_term_summary_0004402.txt\")\n",
    "\n",
    "system(\"wget \\'http://www.informatics.jax.org/go/report.txt?goID=GO:0004407&results=70&startIndex=0&sort=term&dir=\\'\")\n",
    "system(\"mv report.txt* GO_term_summary_0004407.txt\")\n",
    "\n",
    "system(\"wget \\'http://www.informatics.jax.org/go/report.txt?goID=GO:0042054&results=173&startIndex=0&sort=term&dir=\\'\")\n",
    "system(\"mv report.txt* GO_term_summary_0042054.txt\")\n",
    "\n",
    "system(\"wget \\'http://www.informatics.jax.org/go/report.txt?goID=GO:0032452&results=113&startIndex=0&sort=term&dir=\\'\")\n",
    "system(\"mv report.txt* GO_term_summary_0032452.txt\")\n",
    "\n",
    "system(\"wget \\'http://www.informatics.jax.org/go/report.txt?goID=GO:0016592&results=97&startIndex=0&sort=term&dir=\\'\")\n",
    "system(\"mv report.txt* GO_term_summary_0016592.txt\")\n",
    "\n",
    "system(\"wget \\'http://www.informatics.jax.org/go/report.txt?goID=GO:0006352&results=247&startIndex=0&sort=term&dir=\\'\")\n",
    "system(\"mv report.txt* GO_term_summary_0006352.txt\")\n",
    "\n",
    "system(\"wget \\'http://www.informatics.jax.org/go/report.txt?goID=GO:0003682&results=1209&startIndex=0&sort=term&dir=\\'\")\n",
    "system(\"mv report.txt* GO_term_summary_0003682.txt\")\n",
    "\n",
    "system(\"wget \\'http://www.informatics.jax.org/go/report.txt?goID=GO:0006325&results=1059&startIndex=0&sort=term&dir=\\'\")\n",
    "system(\"mv report.txt* GO_term_summary_0006325.txt\")\n",
    "\n",
    "system(\"wget \\'http://www.informatics.jax.org/go/report.txt?goID=GO:0030527&results=59&startIndex=0&sort=term&dir=\\'\")\n",
    "system(\"mv report.txt* GO_term_summary_0030527.txt\")\n",
    "\n",
    "system(\"wget \\'http://www.informatics.jax.org/go/report.txt?goID=GO:0140110&results=4374&startIndex=0&sort=term&dir=\\'\")\n",
    "system(\"mv report.txt* GO_term_summary_0140110.txt\")"
   ]
  },
  {
   "cell_type": "markdown",
   "id": "d515fbbc-2cac-42cc-ba97-9a696fd62fcb",
   "metadata": {},
   "source": [
    "## Merge"
   ]
  },
  {
   "cell_type": "code",
   "execution_count": 33,
   "id": "5e63684c-1790-4ec3-9867-4569ef1b74bd",
   "metadata": {},
   "outputs": [],
   "source": [
    "hats = read.delim(\"GO_term_summary_0004402.txt\",row.names = NULL)\n",
    "hats$Type = \"HAT\"\n",
    "hats$GO_term_ID = \"0004402\"\n",
    "hats$GO_term = \"histone acetyltransferase activity\"\n",
    "\n",
    "hdacs = read.delim(\"GO_term_summary_0004407.txt\",row.names = NULL)\n",
    "hdacs$Type = \"HDAC\"\n",
    "hdacs$GO_term_ID = \"0004407\"\n",
    "hdacs$GO_term = \"histone deacetylase activity\"\n",
    "\n",
    "hmts = read.delim(\"GO_term_summary_0042054.txt\",row.names = NULL)\n",
    "hmts$Type = \"HMT\"\n",
    "hmts$GO_term_ID = \"0042054\"\n",
    "hmts$GO_term = \"histone methyltransferase activity\"\n",
    "\n",
    "hdms = read.delim(\"GO_term_summary_0032452.txt\",row.names = NULL)\n",
    "hdms$Type = \"HDM\"\n",
    "hdms$GO_term_ID = \"0032452\"\n",
    "hdms$GO_term = \"histone demethylase activity\"\n",
    "\n",
    "med = read.delim(\"GO_term_summary_0016592.txt\",row.names = NULL)\n",
    "med$Type = \"Mediator\"\n",
    "med$GO_term_ID = \"0016592\"\n",
    "med$GO_term = \"mediator complex\"\n",
    "\n",
    "tafs = read.delim(\"GO_term_summary_0006352.txt\",row.names = NULL)\n",
    "tafs$Type = \"TAF\"\n",
    "tafs$GO_term_ID = \"0006352\"\n",
    "tafs$GO_term = \"DNA-templated transcription, initiation\"\n",
    "\n",
    "chrombind = read.delim(\"GO_term_summary_0003682.txt\",row.names = NULL)\n",
    "chrombind$Type = \"Chromatin_binding\"\n",
    "chrombind$GO_term_ID = \"0003682\"\n",
    "chrombind$GO_term = \"chromatin binding\"\n",
    "\n",
    "chromorg = read.delim(\"GO_term_summary_0006325.txt\",row.names = NULL)\n",
    "chromorg$Type = \"Chromatin_organization\"\n",
    "chromorg$GO_term_ID = \"0006325\"\n",
    "chromorg$GO_term = \"chromatin organization\"\n",
    "\n",
    "struct = read.delim(\"GO_term_summary_0030527.txt\",row.names = NULL)\n",
    "struct$Type = \"Chromatin_component\"\n",
    "struct$GO_term_ID = \"0030527\"\n",
    "struct$GO_term = \"structural constituent of chromatin\"\n",
    "\n",
    "trans_reg = read.delim(\"GO_term_summary_0140110.txt\",row.names = NULL)\n",
    "trans_reg$Type = \"Transcription_regulator\"\n",
    "trans_reg$GO_term_ID = \"0140110\"\n",
    "trans_reg$GO_term = \"transcription regulator activity\""
   ]
  },
  {
   "cell_type": "code",
   "execution_count": 34,
   "id": "56d5c6cf-8ef1-4aa7-8c77-4ff30a2065ee",
   "metadata": {},
   "outputs": [],
   "source": [
    "histone_regulators = rbind(unique(hats[,c(\"MGI.Gene.Marker.ID\",\"Proteoform\",\"Type\",\"GO_term_ID\",\"GO_term\")]),\n",
    "                          unique(hdacs[,c(\"MGI.Gene.Marker.ID\",\"Proteoform\",\"Type\",\"GO_term_ID\",\"GO_term\")]),\n",
    "                          unique(hmts[,c(\"MGI.Gene.Marker.ID\",\"Proteoform\",\"Type\",\"GO_term_ID\",\"GO_term\")]),\n",
    "                          unique(hdms[,c(\"MGI.Gene.Marker.ID\",\"Proteoform\",\"Type\",\"GO_term_ID\",\"GO_term\")]),\n",
    "                          unique(med[,c(\"MGI.Gene.Marker.ID\",\"Proteoform\",\"Type\",\"GO_term_ID\",\"GO_term\")]),\n",
    "                          unique(tafs[,c(\"MGI.Gene.Marker.ID\",\"Proteoform\",\"Type\",\"GO_term_ID\",\"GO_term\")]),\n",
    "                          unique(chrombind[,c(\"MGI.Gene.Marker.ID\",\"Proteoform\",\"Type\",\"GO_term_ID\",\"GO_term\")]),\n",
    "                          unique(chromorg[,c(\"MGI.Gene.Marker.ID\",\"Proteoform\",\"Type\",\"GO_term_ID\",\"GO_term\")]),\n",
    "                          unique(struct[,c(\"MGI.Gene.Marker.ID\",\"Proteoform\",\"Type\",\"GO_term_ID\",\"GO_term\")]),\n",
    "                          unique(trans_reg[,c(\"MGI.Gene.Marker.ID\",\"Proteoform\",\"Type\",\"GO_term_ID\",\"GO_term\")]))\n",
    "\n",
    "colnames(histone_regulators) = c(\"gene_name\",\"Evidence\",\"Type\",\"GO_term_ID\",\"GO_term\")\n",
    "write.table(histone_regulators,file=\"histone_regulators.tsv\",sep=\"\\t\",quote=F,row.names=F)\n"
   ]
  }
 ],
 "metadata": {
  "kernelspec": {
   "display_name": "R",
   "language": "R",
   "name": "ir"
  },
  "language_info": {
   "codemirror_mode": "r",
   "file_extension": ".r",
   "mimetype": "text/x-r-source",
   "name": "R",
   "pygments_lexer": "r",
   "version": "4.1.2"
  }
 },
 "nbformat": 4,
 "nbformat_minor": 5
}
