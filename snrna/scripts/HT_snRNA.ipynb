{
 "cells": [
  {
   "cell_type": "markdown",
   "id": "7cdd2f06-50b6-49b7-8848-ccdc1286d061",
   "metadata": {},
   "source": [
    "# Mouse snRNA Integrative Analysis\n",
    "## Heart\n",
    "### Data\n",
    "- [Heart data table](https://github.com/erebboah/enc4_mouse/blob/master/snrna/ref/cortex_minimal_metadata.tsv)\n",
    "\n",
    "### Aims\n",
    "[integrate_parse_10x.R](https://github.com/erebboah/enc4_mouse/blob/master/snrna/scripts/integrate_parse_10x.R):\n",
    "1. Read in pre-processed Parse and 10x data and merge counts matrices across experiments (within the same technology) for each tissue.\n",
    "2. Filter nuclei by # genes, # UMIs, percent mitochondrial gene expression, and doublet score. See [detailed metadata](https://github.com/erebboah/enc4_mouse/blob/master/snrna/ref/enc4_mouse_snrna_metadata.tsv) for filter cutoffs. **Also filter 10x nuclei for those passing snATAC filters.**\n",
    "3. Run SCT on the 3 objects to regress `percent.mt` and `nFeature_RNA`. Use  `method = \"glmGamPoi\"` to speed up this step, and save pre-integrated data in `seurat` folder.\n",
    "4. Combine Parse standard, Parse deep, and 10x data by CCA integration. Use Parse standard as reference dataset because it contains all timepoints, while 10x data only contains 2 timepoints. \n",
    "5. Score nuclei by cell cycle using these [mouse cell cycle genes](https://github.com/erebboah/enc4_mouse/blob/master/snrna/ref/mouse_cellcycle_genes.rda) to aid in manual celltype annotation.\n",
    "\n",
    "[predict_heart_celltypes.R](https://github.com/erebboah/enc4_mouse/blob/master/snrna/scripts/predict_cortex_celltypes.R): use 2 external datasets to predict celltypes.\n",
    "\n",
    "- [Stressed mouse ventricles](https://www.ebi.ac.uk/arrayexpress/experiments/E-MTAB-8810/files/) and associated [paper](https://www.ahajournals.org/doi/10.1161/CIRCULATIONAHA.119.045115)\n",
    "- [Human heart cell atlas](https://www.heartcellatlas.org/) converted to mouse gene IDs.\n",
    "\n",
    "**In this notebook**:\n",
    "Manual celltype annotation by assigning each cluster to the celltype predicted for the majority of cells in the cluster, then adjusting the labels as we see fit. Find marker genes for `gen_celltype`, `celltypes`, and `subtypes` and save in `seurat/markers`.\n",
    "\n",
    "### Results\n",
    "- Stressed heart data did not include annotations, so I annotated them manually in [predict_heart_celltypes.R](https://github.com/erebboah/enc4_mouse/blob/master/snrna/scripts/predict_cortex_celltypes.R) using the marker genes in [Fig. 1C](https://www.ahajournals.org/cms/asset/5d52d0eb-9c13-4a10-81f4-58e18559d64d/circulationaha.119.045115.fig01.jpg)\n",
    "- Main heart celltypes are CM (cardiomyocytes), CF (cardiac fibroblasts), and CE (cardiac endothelial)\n",
    "- Split CM, CF, CE clusters by timepoint (early, middle, late) when appropriate\n",
    "- Split other clusters by cycling\n",
    "- Stressed heart data predicted most celltypes, but I used the adipocyte and atrial cardiomyocyte labelling information from the heart atlas data\n"
   ]
  },
  {
   "cell_type": "code",
   "execution_count": 114,
   "id": "e8dc8679-43e6-48ff-9213-875e7849c677",
   "metadata": {},
   "outputs": [],
   "source": [
    "library(Matrix)\n",
    "suppressPackageStartupMessages(library(Seurat))\n",
    "suppressPackageStartupMessages(library(tidyverse))\n",
    "suppressPackageStartupMessages(library(viridis))\n",
    "library(glmGamPoi)\n",
    "library(RColorBrewer)\n",
    "options(future.globals.maxSize = 10000 * 1024^2)\n",
    "future.seed=TRUE\n"
   ]
  },
  {
   "cell_type": "code",
   "execution_count": null,
   "id": "924d5043-4429-472d-8afb-deb8a5140c3f",
   "metadata": {},
   "outputs": [],
   "source": [
    "setwd(\"../../enc4_mouse/snrna/\")"
   ]
  },
  {
   "cell_type": "code",
   "execution_count": 115,
   "id": "9e607fa6-4228-46b7-9c45-d88e3b0ac82c",
   "metadata": {},
   "outputs": [],
   "source": [
    "setwd(\"/share/crsp/lab/seyedam/share/enc4_mouse/snrna/\")"
   ]
  },
  {
   "cell_type": "code",
   "execution_count": 1,
   "id": "3abf50d5-1239-4627-ba71-65fded438948",
   "metadata": {},
   "outputs": [],
   "source": [
    "system(\"mkdir plots/heart/\")\n",
    "system(\"mkdir plots/heart/qc\")\n",
    "system(\"mkdir plots/heart/clustering\")\n",
    "system(\"mkdir plots/heart/annotation\")\n",
    "system(\"mkdir seurat/markers/heart\")\n",
    "system(\"mkdir ref/heart\")"
   ]
  },
  {
   "cell_type": "markdown",
   "id": "2b7bce59-98d4-430c-afab-0b0c7a1e8cfb",
   "metadata": {},
   "source": [
    "# Functions"
   ]
  },
  {
   "cell_type": "code",
   "execution_count": 3,
   "id": "cdce3009-5d78-4595-b10b-bda09f07c0fa",
   "metadata": {},
   "outputs": [],
   "source": [
    "get_orig_counts = function(file){\n",
    "    metadata = metadata[metadata$file_accession == file,]\n",
    "    counts = readMM(paste0(\"counts_10x/\",file,\"/matrix.mtx\"))\n",
    "    \n",
    "    barcodes = read.delim(paste0(\"counts_10x/\",file,\"/barcodes.tsv\"),header = F, col.names=\"barcode\")\n",
    "    features = read.delim(paste0(\"counts_10x/\",file,\"/genes.tsv\"),header = F, col.names=\"gene_name\") \n",
    "    colnames(counts) = barcodes$barcode\n",
    "    rownames(counts) = features$gene_name\n",
    "    out = counts\n",
    "\n",
    "}"
   ]
  },
  {
   "cell_type": "code",
   "execution_count": 4,
   "id": "ac3217ef-07a6-49ef-836b-70e1ae75cd10",
   "metadata": {},
   "outputs": [],
   "source": [
    "knee_df = function(mtx,expt_name){\n",
    "    df = as.data.frame(rowSums(mtx))\n",
    "    colnames(df) = c(\"nUMI\")\n",
    "    df <- tibble(total = df$nUMI,\n",
    "               rank = row_number(dplyr::desc(total))) %>%\n",
    "    distinct() %>%\n",
    "    arrange(rank)\n",
    "    df$experiment = expt_name\n",
    "    out = df\n",
    "}"
   ]
  },
  {
   "cell_type": "markdown",
   "id": "76092e49-cc8f-4a38-8a75-ccfdcd3d8ac3",
   "metadata": {},
   "source": [
    "# QC plots"
   ]
  },
  {
   "cell_type": "markdown",
   "id": "5d7496df-3066-49f8-9aa3-3bcc80bf4be4",
   "metadata": {},
   "source": [
    "## Knee plot"
   ]
  },
  {
   "cell_type": "code",
   "execution_count": 5,
   "id": "361cc08c-d22c-4d4f-a8b7-093b8248d162",
   "metadata": {},
   "outputs": [],
   "source": [
    "combined.sct = readRDS(\"seurat/heart_Parse_10x_integrated.rds\")\n",
    "cellbend_10x = subset(combined.sct,subset=technology ==\"10x\")\n",
    "orig_parse = subset(combined.sct,subset=technology ==\"Parse\")\n",
    "parse_standard = subset(orig_parse,subset=depth1 ==\"shallow\")\n",
    "parse_deep = subset(orig_parse,subset=depth1 ==\"deep\")"
   ]
  },
  {
   "cell_type": "code",
   "execution_count": 6,
   "id": "84330cc5-156b-4790-9d77-2bac6459b433",
   "metadata": {},
   "outputs": [],
   "source": [
    "metadata = read.delim(\"ref/enc4_mouse_snrna_metadata.tsv\")\n",
    "metadata = metadata[metadata$technology == \"10x\",]\n",
    "metadata = metadata[metadata$tissue == \"Heart\",]\n",
    "\n",
    "files = metadata$file_accession\n",
    "\n",
    "orig_10x = get_orig_counts(files[1])\n",
    "\n",
    "for (j in 2:length(files)){\n",
    "    counts_adding = get_orig_counts(files[j])\n",
    "    orig_10x = cbind(orig_10x, counts_adding)\n",
    "}\n"
   ]
  },
  {
   "cell_type": "code",
   "execution_count": 7,
   "id": "de5e5208-39eb-4c92-93e2-c9dc88ca734f",
   "metadata": {},
   "outputs": [
    {
     "name": "stderr",
     "output_type": "stream",
     "text": [
      "Warning message:\n",
      "\"Transformation introduced infinite values in continuous y-axis\"\n"
     ]
    },
    {
     "data": {
      "text/html": [
       "<strong>png:</strong> 2"
      ],
      "text/latex": [
       "\\textbf{png:} 2"
      ],
      "text/markdown": [
       "**png:** 2"
      ],
      "text/plain": [
       "png \n",
       "  2 "
      ]
     },
     "metadata": {},
     "output_type": "display_data"
    }
   ],
   "source": [
    "cellbend_knee_plot = knee_df(cellbend_10x@assays$RNA@counts, \"10x + Cellbender\")\n",
    "orig_knee_plot = knee_df(orig_10x, \"10x\")\n",
    "\n",
    "parse_standard_knee_plot = knee_df(parse_standard@assays$RNA@counts, \"Parse standard\")\n",
    "parse_deep_knee_plot = knee_df(parse_deep@assays$RNA@counts, \"Parse deep\")\n",
    "\n",
    "pdf(file=\"plots/heart/qc/experiment_kneeplots.pdf\",\n",
    "    width = 10, height = 8)\n",
    "ggplot(rbind(cellbend_knee_plot,orig_knee_plot,parse_standard_knee_plot,parse_deep_knee_plot), \n",
    "       aes(rank, total, group = experiment, color = experiment)) +\n",
    "geom_path() + \n",
    "scale_y_log10() + scale_x_log10() + annotation_logticks() +\n",
    "labs(y = \"Total UMI count\", x = \"Barcode rank\", title = \"Mouse heart knee plot\") + \n",
    "geom_hline(yintercept=500, linetype=\"dashed\", color = \"red\", size=1)\n",
    "dev.off()\n"
   ]
  },
  {
   "cell_type": "code",
   "execution_count": 8,
   "id": "0f74790d-7e51-41c3-aa44-95c7d4e7b68b",
   "metadata": {},
   "outputs": [
    {
     "name": "stderr",
     "output_type": "stream",
     "text": [
      "The default behaviour of split.by has changed.\n",
      "Separate violin plots are now plotted side-by-side.\n",
      "To restore the old behaviour of a single split violin,\n",
      "set split.plot = TRUE.\n",
      "      \n",
      "This message will be shown once per session.\n",
      "\n",
      "Warning message:\n",
      "\"`fun.y` is deprecated. Use `fun` instead.\"\n",
      "Warning message:\n",
      "\"`fun.y` is deprecated. Use `fun` instead.\"\n"
     ]
    },
    {
     "data": {
      "text/html": [
       "<strong>png:</strong> 2"
      ],
      "text/latex": [
       "\\textbf{png:} 2"
      ],
      "text/markdown": [
       "**png:** 2"
      ],
      "text/plain": [
       "png \n",
       "  2 "
      ]
     },
     "metadata": {},
     "output_type": "display_data"
    }
   ],
   "source": [
    "pdf(file=\"plots/heart/qc/experiment_violinplots.pdf\",\n",
    "    width = 20, height = 5)\n",
    "VlnPlot(combined.sct, features = c(\"nFeature_RNA\"), ncol = 1, split.by = \"depth2\",\n",
    "        pt.size = 0, group.by = \"sample\", cols = c(\"#811b74\",\"#C08DBA\",\"#00a1e0\"))+ ggtitle(\"# genes per nucleus\") +\n",
    "stat_summary(fun.y = median, geom='point', size = 15, colour = \"black\", shape = 95) & theme(text = element_text(size = 20), \n",
    "                                                                              axis.text.x = element_text(size = 20), \n",
    "                                                                              axis.text.y = element_text(size = 20))\n",
    "VlnPlot(combined.sct, features = c(\"nCount_RNA\"), ncol = 1, split.by = \"depth2\",\n",
    "        pt.size = 0, group.by = \"sample\", cols = c(\"#811b74\",\"#C08DBA\",\"#00a1e0\")) + ggtitle(\"# UMIs per nucleus\") +\n",
    "stat_summary(fun.y = median, geom='point', size = 15, colour = \"black\", shape = 95)& theme(text = element_text(size = 20), \n",
    "                                                  axis.text.x = element_text(size = 20), \n",
    "                                                  axis.text.y = element_text(size = 20))\n",
    "VlnPlot(combined.sct, features = c(\"percent.mt\"), ncol = 1, split.by = \"depth2\",\n",
    "        pt.size = 0, group.by = \"sample\", cols = c(\"#811b74\",\"#C08DBA\",\"#00a1e0\")) & theme(text = element_text(size = 20), \n",
    "                                                  axis.text.x = element_text(size = 20), \n",
    "                                                  axis.text.y = element_text(size = 20)) \n",
    "dev.off()"
   ]
  },
  {
   "cell_type": "markdown",
   "id": "a154762c-c12a-461a-ad39-194a32ebf50d",
   "metadata": {},
   "source": [
    "## UMAP \"Feature Plots\" of QC metadata"
   ]
  },
  {
   "cell_type": "code",
   "execution_count": 9,
   "id": "04822cc6-3df1-4556-806a-4df0730b4e51",
   "metadata": {},
   "outputs": [
    {
     "name": "stderr",
     "output_type": "stream",
     "text": [
      "Scale for 'colour' is already present. Adding another scale for 'colour',\n",
      "which will replace the existing scale.\n",
      "\n",
      "Scale for 'colour' is already present. Adding another scale for 'colour',\n",
      "which will replace the existing scale.\n",
      "\n",
      "Scale for 'colour' is already present. Adding another scale for 'colour',\n",
      "which will replace the existing scale.\n",
      "\n",
      "Scale for 'colour' is already present. Adding another scale for 'colour',\n",
      "which will replace the existing scale.\n",
      "\n",
      "Scale for 'colour' is already present. Adding another scale for 'colour',\n",
      "which will replace the existing scale.\n",
      "\n",
      "Scale for 'colour' is already present. Adding another scale for 'colour',\n",
      "which will replace the existing scale.\n",
      "\n"
     ]
    },
    {
     "data": {
      "text/html": [
       "<strong>png:</strong> 2"
      ],
      "text/latex": [
       "\\textbf{png:} 2"
      ],
      "text/markdown": [
       "**png:** 2"
      ],
      "text/plain": [
       "png \n",
       "  2 "
      ]
     },
     "metadata": {},
     "output_type": "display_data"
    }
   ],
   "source": [
    "png(file=\"plots/heart/qc/qc_featureplot.png\",\n",
    "    width = 1200, height = 500)\n",
    "\n",
    "FeaturePlot(combined.sct, pt.size = 0.1,\n",
    "            features =c(\"nFeature_RNA\",\n",
    "                        \"nCount_RNA\",\n",
    "                        \"percent.mt\",\n",
    "                        \"percent.ribo\",\n",
    "                        \"doublet_scores\",\n",
    "                        \"G2M.Score\"), ncol =3,order=T)  & scale_colour_gradientn(colours = viridis(11)) & \n",
    "                        NoAxes()& \n",
    "                        theme(text = element_text(size = 18))\n",
    "\n",
    "dev.off()\n"
   ]
  },
  {
   "cell_type": "markdown",
   "id": "853e7e3a-226d-439e-8d1d-247757cf0b6f",
   "metadata": {},
   "source": [
    "# Check integration and clustering\n",
    "Increased resolution to split a cluster that combined CF and CE."
   ]
  },
  {
   "cell_type": "code",
   "execution_count": null,
   "id": "c990c6aa-de05-4c0d-8a7c-5414b8a8dfb4",
   "metadata": {},
   "outputs": [],
   "source": [
    "DefaultAssay(combined.sct) = \"integrated\"\n",
    "combined.sct <- FindClusters(combined.sct,resolution=2,verbose = F)\n"
   ]
  },
  {
   "cell_type": "code",
   "execution_count": 223,
   "id": "74925a5b-5fd9-41cd-9bd5-07cbbcaff34b",
   "metadata": {},
   "outputs": [],
   "source": [
    "nclusters = length(unique(combined.sct$seurat_clusters))\n",
    "cluster_cols = colorRampPalette(brewer.pal(9,\"Set1\"))(nclusters)"
   ]
  },
  {
   "cell_type": "code",
   "execution_count": 224,
   "id": "c60f69dd-de28-4ae3-8483-7478757ac6df",
   "metadata": {},
   "outputs": [
    {
     "data": {
      "text/html": [
       "<strong>png:</strong> 2"
      ],
      "text/latex": [
       "\\textbf{png:} 2"
      ],
      "text/markdown": [
       "**png:** 2"
      ],
      "text/plain": [
       "png \n",
       "  2 "
      ]
     },
     "metadata": {},
     "output_type": "display_data"
    }
   ],
   "source": [
    "pdf(file=\"plots/heart/clustering/UMAP_Parse_10x.pdf\",\n",
    "    width = 20, height = 8)\n",
    "p1 <- DimPlot(combined.sct, reduction = \"umap\", group.by = \"technology\")\n",
    "p2 <- DimPlot(combined.sct, reduction = \"umap\", label = TRUE, repel = TRUE, cols = cluster_cols)\n",
    "p1 + p2\n",
    "\n",
    "dev.off()"
   ]
  },
  {
   "cell_type": "code",
   "execution_count": 225,
   "id": "1c977813-c941-40e4-8650-97aa7ed652c9",
   "metadata": {},
   "outputs": [
    {
     "data": {
      "text/html": [
       "<strong>png:</strong> 2"
      ],
      "text/latex": [
       "\\textbf{png:} 2"
      ],
      "text/markdown": [
       "**png:** 2"
      ],
      "text/plain": [
       "png \n",
       "  2 "
      ]
     },
     "metadata": {},
     "output_type": "display_data"
    }
   ],
   "source": [
    "pdf(file=\"plots/heart/clustering/Parse_10x_experiment_distribution.pdf\",\n",
    "    width = 20, height = 6)\n",
    "DimPlot(combined.sct, reduction = \"umap\", group.by = \"seurat_clusters\",split.by = \"depth2\", label = TRUE, label.size = 6, repel = TRUE, shuffle = T,cols = cluster_cols)\n",
    "\n",
    "ggplot(combined.sct@meta.data, aes(x=seurat_clusters, fill=depth2)) + geom_bar(position = \"fill\") & \n",
    "theme(text = element_text(size = 20), axis.text.x = element_text(size = 20), axis.text.y = element_text(size = 20))\n",
    "\n",
    "dev.off()\n"
   ]
  },
  {
   "cell_type": "code",
   "execution_count": 226,
   "id": "5bd391a9-e7ea-4d89-ba26-5a6a97c76bfa",
   "metadata": {},
   "outputs": [
    {
     "data": {
      "text/html": [
       "<strong>png:</strong> 2"
      ],
      "text/latex": [
       "\\textbf{png:} 2"
      ],
      "text/markdown": [
       "**png:** 2"
      ],
      "text/plain": [
       "png \n",
       "  2 "
      ]
     },
     "metadata": {},
     "output_type": "display_data"
    }
   ],
   "source": [
    "combined.sct$sample = factor(combined.sct$sample, levels=paste0(\"H_\",rep(c(\"4\",\"10\",\"14\",\"25\",\"36\",\"2m\",\"18m\"),each=4),rep(c(\"_M\",\"_F\"),each=2),c(\"_1\",\"_2\")))\n",
    "\n",
    "pdf(file=\"plots/heart/clustering/UMAP_cluster_sample_barplot.pdf\",\n",
    "    width = 20, height = 10)\n",
    "p1=DimPlot(combined.sct, reduction = \"umap\", group.by = \"seurat_clusters\", label = TRUE, label.size = 8, repel = TRUE, \n",
    "          cols = cluster_cols)\n",
    "p2=ggplot(combined.sct@meta.data, aes(x=seurat_clusters, fill=sample)) + geom_bar(position = \"fill\") +\n",
    "theme(text = element_text(size = 20), axis.text.x = element_text(size = 20), axis.text.y = element_text(size = 20)) & coord_flip()\n",
    "gridExtra::grid.arrange(\n",
    "  p1, p2,\n",
    "  widths = c(2,1.6),\n",
    "  layout_matrix = rbind(c(1, 2)))\n",
    "\n",
    "dev.off()"
   ]
  },
  {
   "cell_type": "code",
   "execution_count": 227,
   "id": "179a8a70-fa13-4d9b-b30a-671e0044630e",
   "metadata": {},
   "outputs": [
    {
     "data": {
      "text/html": [
       "<strong>png:</strong> 2"
      ],
      "text/latex": [
       "\\textbf{png:} 2"
      ],
      "text/markdown": [
       "**png:** 2"
      ],
      "text/plain": [
       "png \n",
       "  2 "
      ]
     },
     "metadata": {},
     "output_type": "display_data"
    }
   ],
   "source": [
    "pdf(file=\"plots/heart/clustering/age_sex_barplot.pdf\",\n",
    "    width = 18, height = 19)\n",
    "p1=DimPlot(combined.sct, reduction = \"umap\", group.by = \"timepoint\", label = TRUE, label.size = 5, repel = TRUE)\n",
    "p2 = ggplot(combined.sct@meta.data, aes(x=seurat_clusters, fill=timepoint)) + geom_bar(position = \"fill\") & \n",
    "theme(text = element_text(size = 20), axis.text.x = element_text(size = 20), axis.text.y = element_text(size = 20)) & coord_flip()\n",
    "\n",
    "p3=DimPlot(combined.sct, reduction = \"umap\", group.by = \"sex\", label = TRUE, label.size = 5, repel = TRUE, shuffle = T)\n",
    "p4 = ggplot(combined.sct@meta.data, aes(x=seurat_clusters, fill=sex)) + geom_bar(position = \"fill\") & \n",
    "theme(text = element_text(size = 20), axis.text.x = element_text(size = 20), axis.text.y = element_text(size = 20)) & coord_flip()\n",
    "gridExtra::grid.arrange(\n",
    "  p1, p2, p3, p4,\n",
    "  widths = c(2,1),\n",
    "  layout_matrix = rbind(c(1, 2),\n",
    "                        c(3, 4)))\n",
    "\n",
    "dev.off()"
   ]
  },
  {
   "cell_type": "markdown",
   "id": "a0941fe0-0a65-4a9c-8fd5-5f69de5e83c1",
   "metadata": {},
   "source": [
    "# Plotting: check predicted celltypes"
   ]
  },
  {
   "cell_type": "code",
   "execution_count": 228,
   "id": "032b5fea-f93f-4432-bed5-b945ccb6cda5",
   "metadata": {},
   "outputs": [
    {
     "data": {
      "text/html": [
       "<strong>png:</strong> 2"
      ],
      "text/latex": [
       "\\textbf{png:} 2"
      ],
      "text/markdown": [
       "**png:** 2"
      ],
      "text/plain": [
       "png \n",
       "  2 "
      ]
     },
     "metadata": {},
     "output_type": "display_data"
    }
   ],
   "source": [
    "pdf(file=\"plots/heart/annotation/UMAP_predictions.pdf\",\n",
    "    width = 15, height = 12)\n",
    "nclusters = length(unique(combined.sct$predictions))\n",
    "DimPlot(combined.sct, reduction = \"umap\", group.by = \"predictions\",\n",
    "        label = TRUE, label.size = 6, repel = TRUE,cols = colorRampPalette(brewer.pal(9,\"Set1\"))(nclusters)) + NoLegend()\n",
    "\n",
    "nclusters = length(unique(combined.sct$atlas_predictions))\n",
    "DimPlot(combined.sct, reduction = \"umap\", group.by = \"atlas_predictions\",\n",
    "        label = TRUE, label.size = 6, repel = TRUE,cols = colorRampPalette(brewer.pal(9,\"Set1\"))(nclusters)) + NoLegend()\n",
    "\n",
    "dev.off()"
   ]
  },
  {
   "cell_type": "markdown",
   "id": "2577bea7-f6fc-4176-8684-7d47e784b5e0",
   "metadata": {},
   "source": [
    "# Rename clusters based on maximum predicted celltype"
   ]
  },
  {
   "cell_type": "code",
   "execution_count": 229,
   "id": "ed1a0b2d-fda3-45e2-b063-ae107add7f2d",
   "metadata": {
    "tags": []
   },
   "outputs": [],
   "source": [
    "Idents(combined.sct) =\"seurat_clusters\"\n",
    "mat = as.matrix(table(Idents(combined.sct), combined.sct$atlas_predictions))\n",
    "ct = colnames(mat)[max.col(mat)]\n",
    "names(ct) = 0:(length(ct)-1)\n",
    "\n",
    "# basically add the cluster info to the maximum predicted celltype\n",
    "for (i in 1:length(unique(Idents(combined.sct))))\n",
    "{\n",
    "    search = paste0(\"\\\\<\",names(ct)[i],\"\\\\>\")\n",
    "    replace = paste0(ct[i],\".\",names(ct)[i])\n",
    "    Idents(combined.sct) = gsub(search,replace,Idents(combined.sct))\n",
    "}\n",
    "\n",
    "combined.sct[[\"atlas_celltypes\"]] <- Idents(combined.sct)"
   ]
  },
  {
   "cell_type": "code",
   "execution_count": 230,
   "id": "3f940f53-7a26-491e-8895-c71274898fe9",
   "metadata": {},
   "outputs": [],
   "source": [
    "Idents(combined.sct) = \"seurat_clusters\"\n",
    "mat = as.matrix(table(Idents(combined.sct), combined.sct$predictions))\n",
    "ct = colnames(mat)[max.col(mat)]\n",
    "names(ct) = 0:(length(ct)-1)\n",
    "\n",
    "# basically add the cluster info to the maximum predicted celltype\n",
    "for (i in 1:length(unique(Idents(combined.sct))))\n",
    "{\n",
    "    search = paste0(\"\\\\<\",names(ct)[i],\"\\\\>\")\n",
    "    replace = paste0(ct[i],\".\",names(ct)[i])\n",
    "    Idents(combined.sct) = gsub(search,replace,Idents(combined.sct))\n",
    "}\n",
    "\n",
    "combined.sct[[\"stressed_celltypes\"]] <- Idents(combined.sct)"
   ]
  },
  {
   "cell_type": "code",
   "execution_count": 231,
   "id": "ff6b35a6-a091-49e9-a183-4681b90d24ed",
   "metadata": {},
   "outputs": [
    {
     "data": {
      "text/html": [
       "<strong>png:</strong> 2"
      ],
      "text/latex": [
       "\\textbf{png:} 2"
      ],
      "text/markdown": [
       "**png:** 2"
      ],
      "text/plain": [
       "png \n",
       "  2 "
      ]
     },
     "metadata": {},
     "output_type": "display_data"
    }
   ],
   "source": [
    "pdf(file=\"plots/heart/annotation/UMAP_maximum_predictions.pdf\",\n",
    "    width = 15, height = 12)\n",
    "nclusters = length(unique(combined.sct$stressed_celltypes))\n",
    "DimPlot(combined.sct, reduction = \"umap\", group.by = \"stressed_celltypes\",\n",
    "        label = TRUE, label.size = 6, repel = TRUE,cols = colorRampPalette(brewer.pal(9,\"Set1\"))(nclusters))  & NoLegend()\n",
    "\n",
    "nclusters = length(unique(combined.sct$atlas_celltypes))\n",
    "DimPlot(combined.sct, reduction = \"umap\", group.by = \"atlas_celltypes\",\n",
    "        label = TRUE, label.size = 6, repel = TRUE,cols = colorRampPalette(brewer.pal(9,\"Set1\"))(nclusters))  & NoLegend()\n",
    "\n",
    "\n",
    "dev.off()"
   ]
  },
  {
   "cell_type": "markdown",
   "id": "a118c76a-04da-42f0-9094-502e80b8c249",
   "metadata": {},
   "source": [
    "# Manual celltype annotation"
   ]
  },
  {
   "cell_type": "markdown",
   "id": "4403e13a-8c28-4e5f-9d4e-8e3291ebd630",
   "metadata": {},
   "source": [
    "## Fix clusters"
   ]
  },
  {
   "cell_type": "code",
   "execution_count": 244,
   "id": "074bd293-6684-4f58-9562-ffcbb8660683",
   "metadata": {},
   "outputs": [],
   "source": [
    "combined.sct$subtypes = combined.sct$stressed_celltypes # this slot is closer to what my final celltypes will be\n",
    "combined.sct$subtypes = gsub(\"[+]\",\"\",combined.sct$subtypes )\n",
    "\n",
    "combined.sct$subtypes = gsub(\"\\\\<Smooth_muscle.31\\\\>\",\"Smooth_muscle1.31\",combined.sct$subtypes) \n",
    "combined.sct$subtypes = gsub(\"\\\\<Fibroblasts.38\\\\>\",\"Smooth_muscle2.38\",combined.sct$subtypes) \n",
    "combined.sct$subtypes = gsub(\"\\\\<DC-like_cells.47\\\\>\",\"Pericytes_cycling.47\",combined.sct$subtypes) \n",
    "combined.sct$subtypes = gsub(\"\\\\<Smooth_muscle.16\\\\>\",\"Pericytes.16\",combined.sct$subtypes) \n",
    "combined.sct$subtypes = gsub(\"\\\\<Smooth_muscle.13\\\\>\",\"Pericytes.13\",combined.sct$subtypes) \n",
    "combined.sct$subtypes = gsub(\"\\\\<Fibroblasts.41\\\\>\",\"CF_cycling.41\",combined.sct$subtypes) \n",
    "combined.sct$subtypes = gsub(\"\\\\<Fibroblasts.3\\\\>\",\"CF_late.3\",combined.sct$subtypes) \n",
    "combined.sct$subtypes = gsub(\"\\\\<DC-like_cells.35\\\\>\",\"CE_cycling.35\",combined.sct$subtypes) \n",
    "combined.sct$subtypes = gsub(\"\\\\<DC-like_cells.36\\\\>\",\"CM_cycling.36\",combined.sct$subtypes) \n",
    "combined.sct$subtypes = gsub(\"\\\\<Fibroblasts.17\\\\>\",\"CM_atrial.17\",combined.sct$subtypes) \n",
    "combined.sct$subtypes = gsub(\"\\\\<Fibroblasts.48\\\\>\",\"CM_atrial.48\",combined.sct$subtypes) \n",
    "combined.sct$subtypes = gsub(\"\\\\<Fibroblasts.23\\\\>\",\"CM_int.43\",combined.sct$subtypes) \n",
    "combined.sct$subtypes = gsub(\"\\\\<Fibroblasts.22\\\\>\",\"CM_int.43\",combined.sct$subtypes) \n",
    "combined.sct$subtypes = gsub(\"\\\\<Cardiomyocytes.27\\\\>\",\"CM_int.27\",combined.sct$subtypes) \n",
    "combined.sct$subtypes = gsub(\"\\\\<Cardiomyocytes.40\\\\>\",\"CM_late.40\",combined.sct$subtypes) \n",
    "combined.sct$subtypes = gsub(\"\\\\<Cardiomyocytes.24\\\\>\",\"CM_int.24\",combined.sct$subtypes) \n",
    "combined.sct$subtypes = gsub(\"\\\\<Cardiomyocytes.1\\\\>\",\"CM_int.1\",combined.sct$subtypes) \n",
    "combined.sct$subtypes = gsub(\"\\\\<Cardiomyocytes.0\\\\>\",\"CM_int.0\",combined.sct$subtypes) \n",
    "combined.sct$subtypes = gsub(\"\\\\<Cardiomyocytes.6\\\\>\",\"CM_int.6\",combined.sct$subtypes) \n",
    "combined.sct$subtypes = gsub(\"\\\\<Cardiomyocytes.2\\\\>\",\"CM_int.2\",combined.sct$subtypes) \n",
    "combined.sct$subtypes = gsub(\"\\\\<Cardiomyocytes.4\\\\>\",\"CM_late.4\",combined.sct$subtypes) \n",
    "combined.sct$subtypes = gsub(\"\\\\<Cardiomyocytes.21\\\\>\",\"CM_early.21\",combined.sct$subtypes) \n",
    "combined.sct$subtypes = gsub(\"\\\\<Endothelial.9\\\\>\",\"CE_late.9\",combined.sct$subtypes) \n",
    "combined.sct$subtypes = gsub(\"\\\\<Endothelial.18\\\\>\",\"CE_late.18\",combined.sct$subtypes) \n",
    "combined.sct$subtypes = gsub(\"\\\\<Fibroblasts.Wif1.45\\\\>\",\"Adipocytes.45\",combined.sct$subtypes) \n",
    "combined.sct$subtypes = gsub(\"\\\\<DC-like_cells.44\\\\>\",\"Macrophages_cycling.44\",combined.sct$subtypes) \n",
    "combined.sct$subtypes = gsub(\"\\\\<T_cells.28\\\\>\",\"Lymphoid.28\",combined.sct$subtypes) \n",
    "\n"
   ]
  },
  {
   "cell_type": "code",
   "execution_count": 245,
   "id": "510f21aa-6717-4912-bc8c-374652c0aeb0",
   "metadata": {},
   "outputs": [],
   "source": [
    "# get rid of cluster #\n",
    "combined.sct$subtypes = do.call(\"rbind\", strsplit(as.character(combined.sct$subtypes), \"[.]\"))[,1]\n",
    "combined.sct$subtypes = gsub(\"\\\\<Cardiomyocytes\\\\>\",\"CM\",combined.sct$subtypes) \n",
    "combined.sct$subtypes = gsub(\"\\\\<Fibroblasts\\\\>\",\"CF\",combined.sct$subtypes) \n",
    "combined.sct$subtypes = gsub(\"\\\\<Endothelial\\\\>\",\"CE\",combined.sct$subtypes) \n"
   ]
  },
  {
   "cell_type": "markdown",
   "id": "24072bb0-a584-4f95-9cbf-f26d38f616d1",
   "metadata": {},
   "source": [
    "## Check final clusters with marker gene dotplot"
   ]
  },
  {
   "cell_type": "code",
   "execution_count": 247,
   "id": "c530d1c5-c5b3-4e54-8f92-c5ffd67aa500",
   "metadata": {},
   "outputs": [],
   "source": [
    "DefaultAssay(combined.sct) = \"SCT\"\n",
    "genes = c(\"Ryr2\",\"Ttn\",\"Myh6\",\"Gata4\",\n",
    "          \"Flt1\",\"Pecam1\",\"Ptprb\",\n",
    "          \"Lyve1\",\"Prox1\",\n",
    "          \"Mgp\",\"Dcn\",\"Col1a1\",\n",
    "          \"Pdgfrb\",\"Abcc9\",\n",
    "          \"Myh11\",\"Mylk\",\"Eln\",\"Myl6\",\n",
    "          \"Nrg1\",\"Heg1\", # endocard\n",
    "          \"Slit3\",\"Abi1\",\n",
    "          \"F13a1\",\n",
    "          \"Ikzf1\",\"Ikzf3\",\"Bcl11a\",\n",
    "          \"Themis\",\"Il7r\",\n",
    "          \"Adipoq\",\"Pnpla2\", # adipocytes\n",
    "          \"Sox10\",\"Cadm2\",\"Postn\",\n",
    "          \"Mki67\",\"Top2a\")# cycling"
   ]
  },
  {
   "cell_type": "code",
   "execution_count": 248,
   "id": "25aa02b2-a9b6-45d5-b027-410e12c85b57",
   "metadata": {},
   "outputs": [
    {
     "data": {
      "text/html": [
       "<strong>png:</strong> 2"
      ],
      "text/latex": [
       "\\textbf{png:} 2"
      ],
      "text/markdown": [
       "**png:** 2"
      ],
      "text/plain": [
       "png \n",
       "  2 "
      ]
     },
     "metadata": {},
     "output_type": "display_data"
    }
   ],
   "source": [
    "pdf(file=\"plots/heart/annotation/subtypes_marker_dotplot.pdf\",\n",
    "    width = 20, height = 10)\n",
    "options(repr.plot.width = 20,repr.plot.height = 10)\n",
    "DefaultAssay(combined.sct) = \"SCT\"\n",
    "Idents(combined.sct) = \"subtypes\"\n",
    "Idents(combined.sct) = factor(Idents(combined.sct), \n",
    "                              levels = c(\"CM_early\",\"CM_int\",\n",
    "                                         \"CM_late\",\n",
    "                                         \"CM_cycling\",\"CM_atrial\",\n",
    "                                         \"CE\",\"CE_late\",\n",
    "                                         \"CE_cycling\",\"Lymphatic_ECs\",\"CF\",\n",
    "                                         \"CF_late\",\"CF_cycling\",\n",
    "                                         \"Pericytes\",\"Pericytes_cycling\",\n",
    "                                         \"Smooth_muscle1\",\"Smooth_muscle2\",\n",
    "                                         \"Endocardial\",\"Epicardial\",\n",
    "                                         \"Macrophages\",\"Macrophages_cycling\",\n",
    "                                         \"Lymphoid\",\n",
    "                                         \"Adipocytes\",\n",
    "                                         \"Schwann_cells\")) \n",
    "DotPlot(combined.sct, features = genes)+ theme(axis.text.x = element_text(angle = 45, hjust = 1)) \n",
    "dev.off()"
   ]
  },
  {
   "cell_type": "markdown",
   "id": "b39ef52a-80e7-442e-bcd2-5805dfa152ad",
   "metadata": {},
   "source": [
    "# Add celltypes and gen_celltypes metadata\n",
    "Based on the subtypes annotation, we can group the cells into broader categories."
   ]
  },
  {
   "cell_type": "code",
   "execution_count": 249,
   "id": "6bd56b4c-4957-45f1-ab0f-415a40b92d61",
   "metadata": {},
   "outputs": [],
   "source": [
    "combined.sct$celltypes = combined.sct$subtypes\n",
    "combined.sct$celltypes = gsub(\"\\\\<CF_cycling\\\\>\",\"CF\",combined.sct$celltypes)\n",
    "combined.sct$celltypes = gsub(\"\\\\<CF_late\\\\>\",\"CF\",combined.sct$celltypes)\n",
    "combined.sct$celltypes = gsub(\"\\\\<CM_atrial\\\\>\",\"CM\",combined.sct$celltypes)\n",
    "combined.sct$celltypes = gsub(\"\\\\<CM_early\\\\>\",\"CM\",combined.sct$celltypes)\n",
    "combined.sct$celltypes = gsub(\"\\\\<CM_late\\\\>\",\"CM\",combined.sct$celltypes)\n",
    "combined.sct$celltypes = gsub(\"\\\\<CM_int\\\\>\",\"CM\",combined.sct$celltypes)\n",
    "combined.sct$celltypes = gsub(\"\\\\<CM_ribo\\\\>\",\"CM\",combined.sct$celltypes)\n",
    "combined.sct$celltypes = gsub(\"\\\\<CM_cycling\\\\>\",\"CM\",combined.sct$celltypes)\n",
    "combined.sct$celltypes = gsub(\"\\\\<CE_cycling\\\\>\",\"CE\",combined.sct$celltypes)\n",
    "combined.sct$celltypes = gsub(\"\\\\<CE_late\\\\>\",\"CE\",combined.sct$celltypes)\n",
    "combined.sct$celltypes = gsub(\"\\\\<Macrophages_cycling\\\\>\",\"Macrophages\",combined.sct$celltypes)\n",
    "combined.sct$celltypes = gsub(\"\\\\<Pericytes_cycling\\\\>\",\"Pericytes\",combined.sct$celltypes)\n",
    "combined.sct$celltypes = gsub(\"\\\\<Smooth_muscle2\\\\>\",\"Smooth_muscle\",combined.sct$celltypes)\n",
    "combined.sct$celltypes = gsub(\"\\\\<Smooth_muscle1\\\\>\",\"Smooth_muscle\",combined.sct$celltypes)"
   ]
  },
  {
   "cell_type": "code",
   "execution_count": 250,
   "id": "b2429e7d-6c2f-4b40-b341-202f31decbbf",
   "metadata": {},
   "outputs": [],
   "source": [
    "combined.sct$gen_celltype = combined.sct$celltypes\n",
    "\n",
    "combined.sct$gen_celltype = gsub(\"\\\\<Macrophages\\\\>\",\"Myeloid\",combined.sct$gen_celltype)\n",
    "combined.sct$gen_celltype = gsub(\"\\\\<Epicardial\\\\>\",\"Stromal\",combined.sct$gen_celltype)\n",
    "combined.sct$gen_celltype = gsub(\"\\\\<Endocardial\\\\>\",\"Stromal\",combined.sct$gen_celltype)\n",
    "combined.sct$gen_celltype = gsub(\"\\\\<Lymphatic_ECs\\\\>\",\"Endothelial\",combined.sct$gen_celltype)\n",
    "combined.sct$gen_celltype = gsub(\"\\\\<CE\\\\>\",\"Endothelial\",combined.sct$gen_celltype)\n",
    "combined.sct$gen_celltype = gsub(\"\\\\<CF\\\\>\",\"Cardiac_fibroblast\",combined.sct$gen_celltype)\n",
    "combined.sct$gen_celltype = gsub(\"\\\\<CM\\\\>\",\"Cardiomyocyte\",combined.sct$gen_celltype)"
   ]
  },
  {
   "cell_type": "markdown",
   "id": "08bc7efe-e3f3-4416-b45d-21d3a75b3d5f",
   "metadata": {},
   "source": [
    "# Plotting the 3 levels of annotations"
   ]
  },
  {
   "cell_type": "code",
   "execution_count": 251,
   "id": "4d848652-a0a2-4471-99bf-b4f258cd8844",
   "metadata": {},
   "outputs": [
    {
     "data": {
      "text/html": [
       "<strong>png:</strong> 2"
      ],
      "text/latex": [
       "\\textbf{png:} 2"
      ],
      "text/markdown": [
       "**png:** 2"
      ],
      "text/plain": [
       "png \n",
       "  2 "
      ]
     },
     "metadata": {},
     "output_type": "display_data"
    }
   ],
   "source": [
    "color_ref = read.delim(\"ref/enc4_mouse_snrna_celltypes_c2c12.csv\",sep=\",\",col.names = c(\"tissue\",\"gen_celltype\",\"celltypes\",\n",
    "                                                                              \"subtypes\",\"gen_celltype_color\",\n",
    "                                                                              \"celltype_color\",\"subtype_color\"))\n",
    "gen_celltype_colors = unique(color_ref[color_ref$tissue == \"Heart\",c(\"gen_celltype\",\"gen_celltype_color\")])\n",
    "rownames(gen_celltype_colors) = gen_celltype_colors$gen_celltype\n",
    "gen_celltype_colors = gen_celltype_colors[sort(unique(combined.sct$gen_celltype)),]\n",
    "\n",
    "pdf(file=\"plots/heart/annotation/UMAP_final_gen_celltype.pdf\",\n",
    "   width = 15, height = 10)\n",
    "\n",
    "DimPlot(combined.sct, reduction = \"umap\", \n",
    "        group.by = \"gen_celltype\", \n",
    "        label = TRUE, label.size = 8, repel = TRUE,\n",
    "       cols = gen_celltype_colors$gen_celltype_color)\n",
    "\n",
    "dev.off()"
   ]
  },
  {
   "cell_type": "code",
   "execution_count": 254,
   "id": "1a38d571-37e8-40b4-9a1f-87171ebd3399",
   "metadata": {},
   "outputs": [
    {
     "data": {
      "text/html": [
       "<strong>png:</strong> 2"
      ],
      "text/latex": [
       "\\textbf{png:} 2"
      ],
      "text/markdown": [
       "**png:** 2"
      ],
      "text/plain": [
       "png \n",
       "  2 "
      ]
     },
     "metadata": {},
     "output_type": "display_data"
    }
   ],
   "source": [
    "color_ref = read.delim(\"ref/enc4_mouse_snrna_celltypes_c2c12.csv\",sep=\",\",col.names = c(\"tissue\",\"gen_celltype\",\"celltypes\",\n",
    "                                                                              \"subtypes\",\"gen_celltype_color\",\n",
    "                                                                              \"celltype_color\",\"subtype_color\"))\n",
    "celltype_colors = unique(color_ref[color_ref$tissue == \"Heart\",c(\"celltypes\",\"celltype_color\")])\n",
    "rownames(celltype_colors) = celltype_colors$celltypes\n",
    "celltype_colors = celltype_colors[sort(unique(combined.sct$celltypes)),]\n",
    "\n",
    "pdf(file=\"plots/heart/annotation/UMAP_final_celltypes.pdf\",\n",
    "    width = 15, height = 10)\n",
    "\n",
    "DimPlot(combined.sct, reduction = \"umap\", \n",
    "        group.by = \"celltypes\", \n",
    "        label = TRUE, label.size = 8, repel = TRUE,\n",
    "       cols = celltype_colors$celltype_color)\n",
    "\n",
    "dev.off()"
   ]
  },
  {
   "cell_type": "code",
   "execution_count": 255,
   "id": "97128675-b4a1-4893-b138-152d2d55ff3e",
   "metadata": {},
   "outputs": [
    {
     "data": {
      "text/html": [
       "<strong>png:</strong> 2"
      ],
      "text/latex": [
       "\\textbf{png:} 2"
      ],
      "text/markdown": [
       "**png:** 2"
      ],
      "text/plain": [
       "png \n",
       "  2 "
      ]
     },
     "metadata": {},
     "output_type": "display_data"
    }
   ],
   "source": [
    "color_ref = read.delim(\"ref/enc4_mouse_snrna_celltypes_c2c12.csv\",sep=\",\",col.names = c(\"tissue\",\"gen_celltype\",\"celltypes\",\n",
    "                                                                              \"subtypes\",\"gen_celltype_color\",\n",
    "                                                                              \"celltype_color\",\"subtype_color\"))\n",
    "subtype_colors = unique(color_ref[color_ref$tissue == \"Heart\",c(\"subtypes\",\"subtype_color\")])\n",
    "rownames(subtype_colors) = subtype_colors$subtypes\n",
    "subtype_colors = subtype_colors[sort(unique(combined.sct$subtypes)),]\n",
    "\n",
    "pdf(file=\"plots/heart/annotation/UMAP_final_subtypes.pdf\",\n",
    "    width = 15, height = 10)\n",
    "\n",
    "DimPlot(combined.sct, reduction = \"umap\", \n",
    "        group.by = \"subtypes\", \n",
    "        label = TRUE, label.size = 6, repel = TRUE,\n",
    "       cols = subtype_colors$subtype_color)\n",
    "\n",
    "dev.off()"
   ]
  },
  {
   "cell_type": "markdown",
   "id": "9ee04912-344f-4e84-b1a3-5d0f506b8973",
   "metadata": {},
   "source": [
    "## Proportion plot of celltypes over timepoint"
   ]
  },
  {
   "cell_type": "code",
   "execution_count": 256,
   "id": "a6995108-cbbb-4847-99f9-5c6b75e91348",
   "metadata": {
    "tags": []
   },
   "outputs": [],
   "source": [
    "combined.sct_parse = subset(combined.sct,subset= technology == \"Parse\")\n",
    "\n",
    "samples = sort(unique(combined.sct_parse$timepoint))\n",
    "dflist = list()\n",
    "for (i in 1:length(unique(combined.sct_parse$timepoint))){\n",
    "  tp=combined.sct_parse@meta.data[combined.sct_parse@meta.data$timepoint == samples[i],]\n",
    "  #tp=tp[complete.cases(tp),]\n",
    "  tp_df=as.data.frame(table(tp$celltypes))\n",
    "  tp_df$percentage=tp_df$Freq/nrow(tp)\n",
    "  tp_df$timepoint=rep(i,nrow(tp_df))\n",
    "  dflist[[i]]=tp_df\n",
    "}\n",
    "df = do.call(rbind, dflist)\n",
    "df <- df[order(df$timepoint),]\n",
    "colnames(df)= c(\"celltypes\",\"Freq\",\"percentage\",\"timepoint\")\n",
    "\n"
   ]
  },
  {
   "cell_type": "code",
   "execution_count": 257,
   "id": "076caa42-9d57-4d7a-81c9-2ff7df4ff5f2",
   "metadata": {},
   "outputs": [
    {
     "data": {
      "text/html": [
       "<strong>png:</strong> 2"
      ],
      "text/latex": [
       "\\textbf{png:} 2"
      ],
      "text/markdown": [
       "**png:** 2"
      ],
      "text/plain": [
       "png \n",
       "  2 "
      ]
     },
     "metadata": {},
     "output_type": "display_data"
    }
   ],
   "source": [
    "pdf(file=\"plots/heart/annotation/timepoint_celltypes_proportions.pdf\",\n",
    "    width = 15, height = 10)\n",
    "\n",
    "ggplot(df, aes(x=timepoint, y=percentage, fill=celltypes)) + \n",
    "  geom_area()  +\n",
    "  scale_fill_manual(values= celltype_colors$celltype_color) + \n",
    "  scale_x_continuous(breaks = c(1,2,3,4,5,6,7),labels= c(\"PND_04\",\"PND_10\",\"PND_14\",\n",
    "                                                         \"PND_25\",\"PND_36\",\"PNM_02\",\"PNM_18-20\"))+\n",
    "  scale_y_continuous(breaks = c(0,0.1,0.2,0.3,0.4,0.5,\n",
    "                                0.6,0.7,0.8,0.9,1.0),labels= c(\"0%\",\"10%\",\"20%\",\"30%\",\"40%\",\"50%\",\"60%\",\"70%\",\"80%\",\"90%\",\"100%\")) + \n",
    "theme_minimal()+theme(text = element_text(size = 30)) + \n",
    "theme(axis.text.x = element_text(size = 30))  + \n",
    "theme(axis.text.y = element_text(size = 30))   + \n",
    "theme(axis.text.x = element_text(angle = 45, hjust = 1))\n",
    "  \n",
    "dev.off()"
   ]
  },
  {
   "cell_type": "markdown",
   "id": "4a9f2467-036b-4d6a-b023-c3a6444f017d",
   "metadata": {},
   "source": [
    "# Save "
   ]
  },
  {
   "cell_type": "code",
   "execution_count": 260,
   "id": "5e7c6894-afbc-4d60-a9e6-1f78adbd2bfb",
   "metadata": {},
   "outputs": [],
   "source": [
    "saveRDS(combined.sct,file=\"seurat/heart_Parse_10x_integrated.rds\")"
   ]
  },
  {
   "cell_type": "markdown",
   "id": "7bc480d5-63dc-4602-bb67-667acc4a9008",
   "metadata": {},
   "source": [
    "# Save embedding coordinates file"
   ]
  },
  {
   "cell_type": "code",
   "execution_count": 259,
   "id": "cf4c98df-1b68-451a-a603-e5c0b7af0448",
   "metadata": {},
   "outputs": [],
   "source": [
    "cell_id = colnames(combined.sct)\n",
    "coords = cbind(cell_id,combined.sct@reductions$umap@cell.embeddings,\n",
    "               combined.sct@reductions$pca@cell.embeddings)\n",
    "fn = paste0(\"ref/heart/heart_integrated_analysis_embedding_coordinates_noheader.tsv\")\n",
    "write.table(coords,file=fn,\n",
    "            sep=\"\\t\",\n",
    "            quote=F,\n",
    "            row.names = F)\n",
    "out = paste0(\"ref/heart/heart_integrated_analysis_embedding_coordinates.tsv\")\n",
    "system(paste0(\"cat ref/embedding_coordinates_header \", fn, \"> \", out))\n",
    "system(paste0(\"rm \", fn))"
   ]
  },
  {
   "cell_type": "markdown",
   "id": "0eaf1837-2466-46ce-85f7-8a3b89d4a27a",
   "metadata": {},
   "source": [
    "# Get marker genes"
   ]
  },
  {
   "cell_type": "code",
   "execution_count": null,
   "id": "b012c111-ca1a-4542-9b2f-0db6a3f4cd37",
   "metadata": {},
   "outputs": [],
   "source": [
    "combined.sct  = readRDS(\"seurat/heart_Parse_10x_integrated.rds\")"
   ]
  },
  {
   "cell_type": "code",
   "execution_count": null,
   "id": "3c101483-9046-4ee8-93eb-1b006b0f983c",
   "metadata": {},
   "outputs": [],
   "source": [
    "gene_id_to_name = read.csv(\"ref/gene_id_to_name.csv\",row.names = 1)\n",
    "gene_id_to_name$seurat_gene_name = rownames(combined.sct@assays$RNA)"
   ]
  },
  {
   "cell_type": "code",
   "execution_count": null,
   "id": "5824f04a-7f80-438c-a631-a9675e9f48a2",
   "metadata": {},
   "outputs": [],
   "source": [
    "format_marker_genes = function(seurat_markers){\n",
    "    markers$seurat_gene_name = markers$gene\n",
    "    markers = left_join(markers, gene_id_to_name)\n",
    "    markers = markers[,c(\"gene_id\",\"gene_name\",\"p_val\",\n",
    "                     \"avg_log2FC\",\"pct.1\",\"pct.2\",\n",
    "                     \"p_val_adj\",\"cluster\")]\n",
    "    out = markers\n",
    "}"
   ]
  },
  {
   "cell_type": "code",
   "execution_count": null,
   "id": "47d2d7f1-0dc4-4d5e-9e7a-8f9a433b24a7",
   "metadata": {},
   "outputs": [],
   "source": [
    "DefaultAssay(combined.sct)= \"RNA\"\n",
    "Idents(combined.sct) = \"gen_celltype\"\n",
    "markers <- FindAllMarkers(combined.sct,\n",
    "                             only.pos = TRUE, \n",
    "                             min.pct = 0.1, \n",
    "                             logfc.threshold = 0.25, \n",
    "                             verbose = T)\n",
    "markers_formatted = format_marker_genes(markers)\n",
    "\n",
    "write.table(markers_formatted,file=paste0(\"seurat/markers/heart/heart_gen_celltype_marker_genes_only.pos_min.pct0.1_logfc.threshold0.25.tsv\"),\n",
    "            sep=\"\\t\",\n",
    "            quote=F,\n",
    "            row.names = F)\n"
   ]
  },
  {
   "cell_type": "code",
   "execution_count": null,
   "id": "00db3996-a6d3-4be0-8eba-135c95b75218",
   "metadata": {},
   "outputs": [],
   "source": [
    "for (celltype in unique(markers_formatted$cluster)){\n",
    "    keep = c(\"gene_id\",\"gene_name\",\"p_val\",\n",
    "             \"avg_log2FC\",\"pct.1\",\"pct.2\",\n",
    "             \"p_val_adj\")\n",
    "    markers_celltype = markers_formatted[markers_formatted$cluster == celltype,]\n",
    "    markers_celltype$is_enriched = 1\n",
    "    markers_celltype = markers_celltype[,c(\"gene_id\",\"gene_name\",\"is_enriched\",\"p_val\",\"avg_log2FC\",\"pct.1\",\"pct.2\",\"p_val_adj\")]    \n",
    "    fn = paste0(\"seurat/markers/heart/heart_gen_celltype_\",\n",
    "                                             celltype,\"_marker_genes_only.pos_min.pct0.1_logfc.threshold0.25_noheader.tsv\")\n",
    "    write.table(markers_celltype,file=fn,\n",
    "            sep=\"\\t\",\n",
    "            quote=F,\n",
    "            row.names = F)\n",
    "    \n",
    "    out = paste0(\"seurat/markers/heart/heart_gen_celltype_\",\n",
    "                                             celltype,\"_marker_genes_only.pos_min.pct0.1_logfc.threshold0.25.tsv\")\n",
    "    system(paste0(\"cat ref/marker_gene_header \", fn, \"> \", out))\n",
    "    system(paste0(\"rm \", fn))\n",
    "}"
   ]
  },
  {
   "cell_type": "code",
   "execution_count": null,
   "id": "a9741b7e-105e-4fb8-8467-b32505abe49f",
   "metadata": {},
   "outputs": [],
   "source": [
    "DefaultAssay(combined.sct)= \"RNA\"\n",
    "Idents(combined.sct) = \"celltypes\"\n",
    "markers <- FindAllMarkers(combined.sct,\n",
    "                             only.pos = TRUE, \n",
    "                             min.pct = 0.1, \n",
    "                             logfc.threshold = 0.25, \n",
    "                             verbose = T)\n",
    "markers_formatted = format_marker_genes(markers)\n",
    "\n",
    "write.table(markers_formatted,file=paste0(\"seurat/markers/heart/heart_celltypes_marker_genes_only.pos_min.pct0.1_logfc.threshold0.25.tsv\"),\n",
    "            sep=\"\\t\",\n",
    "            quote=F,\n",
    "            row.names = F)\n"
   ]
  },
  {
   "cell_type": "code",
   "execution_count": null,
   "id": "02a4e21b-d500-44a8-8da1-d0cd7738c42d",
   "metadata": {},
   "outputs": [],
   "source": [
    "for (celltype in unique(markers_formatted$cluster)){\n",
    "    keep = c(\"gene_id\",\"gene_name\",\"p_val\",\n",
    "             \"avg_log2FC\",\"pct.1\",\"pct.2\",\n",
    "             \"p_val_adj\")\n",
    "    markers_celltype = markers_formatted[markers_formatted$cluster == celltype,]\n",
    "    markers_celltype$is_enriched = 1\n",
    "    markers_celltype = markers_celltype[,c(\"gene_id\",\"gene_name\",\"is_enriched\",\"p_val\",\"avg_log2FC\",\"pct.1\",\"pct.2\",\"p_val_adj\")]    \n",
    "    fn = paste0(\"seurat/markers/heart/heart_celltypes_\",\n",
    "                                             celltype,\"_marker_genes_only.pos_min.pct0.1_logfc.threshold0.25_noheader.tsv\")\n",
    "    write.table(markers_celltype,file=fn,\n",
    "            sep=\"\\t\",\n",
    "            quote=F,\n",
    "            row.names = F)\n",
    "    \n",
    "    out = paste0(\"seurat/markers/heart/heart_celltypes_\",\n",
    "                                             celltype,\"_marker_genes_only.pos_min.pct0.1_logfc.threshold0.25.tsv\")\n",
    "    system(paste0(\"cat ref/marker_gene_header \", fn, \"> \", out))\n",
    "    system(paste0(\"rm \", fn))\n",
    "}"
   ]
  },
  {
   "cell_type": "code",
   "execution_count": null,
   "id": "9f57f48e-50bf-4aa2-9b69-7c9cd6e4324a",
   "metadata": {},
   "outputs": [],
   "source": [
    "DefaultAssay(combined.sct)= \"RNA\"\n",
    "Idents(combined.sct) = \"subtypes\"\n",
    "markers <- FindAllMarkers(combined.sct,\n",
    "                             only.pos = TRUE, \n",
    "                             min.pct = 0.1, \n",
    "                             logfc.threshold = 0.25, \n",
    "                             verbose = T)\n",
    "markers_formatted = format_marker_genes(markers)\n",
    "\n",
    "write.table(markers_formatted,file=paste0(\"seurat/markers/heart/heart_subtypes_marker_genes_only.pos_min.pct0.1_logfc.threshold0.25.tsv\"),\n",
    "            sep=\"\\t\",\n",
    "            quote=F,\n",
    "            row.names = F)\n"
   ]
  },
  {
   "cell_type": "code",
   "execution_count": null,
   "id": "d97a32f3-c11a-4108-b291-50fbea1c1640",
   "metadata": {},
   "outputs": [],
   "source": [
    "for (celltype in unique(markers_formatted$cluster)){\n",
    "    keep = c(\"gene_id\",\"gene_name\",\"p_val\",\n",
    "             \"avg_log2FC\",\"pct.1\",\"pct.2\",\n",
    "             \"p_val_adj\")\n",
    "    markers_celltype = markers_formatted[markers_formatted$cluster == celltype,]\n",
    "    markers_celltype$is_enriched = 1\n",
    "    markers_celltype = markers_celltype[,c(\"gene_id\",\"gene_name\",\"is_enriched\",\"p_val\",\"avg_log2FC\",\"pct.1\",\"pct.2\",\"p_val_adj\")]    \n",
    "    fn = paste0(\"seurat/markers/heart/heart_subtypes_\",\n",
    "                                             celltype,\"_marker_genes_only.pos_min.pct0.1_logfc.threshold0.25_noheader.tsv\")\n",
    "    write.table(markers_celltype,file=fn,\n",
    "            sep=\"\\t\",\n",
    "            quote=F,\n",
    "            row.names = F)\n",
    "    \n",
    "    out = paste0(\"seurat/markers/heart/heart_subtypes_\",\n",
    "                                             celltype,\"_marker_genes_only.pos_min.pct0.1_logfc.threshold0.25.tsv\")\n",
    "    system(paste0(\"cat ref/marker_gene_header \", fn, \"> \", out))\n",
    "    system(paste0(\"rm \", fn))\n",
    "}"
   ]
  },
  {
   "cell_type": "markdown",
   "id": "314fcfb8-2a74-4db9-bcc3-57349bc897c5",
   "metadata": {},
   "source": [
    "# Save cell type labels file"
   ]
  },
  {
   "cell_type": "code",
   "execution_count": null,
   "id": "18a846f2-7480-4799-bd0d-d93a13731c08",
   "metadata": {},
   "outputs": [],
   "source": [
    "get_membership_scores = function(seurat_markers,slot){\n",
    "    celltype = unique(seurat_markers$cluster)\n",
    "    celltype_metadata_scored = list()\n",
    "    \n",
    "    # for each celltyp\n",
    "    for (i in 1:length(celltype)){ \n",
    "        celltype_markers = seurat_markers[seurat_markers$cluster == celltype[i],]\n",
    "        combined.sct[[\"membership_score\"]] = PercentageFeatureSet(combined.sct,\n",
    "                                                              pattern = NULL,\n",
    "                                                              features = celltype_markers$gene_name,\n",
    "                                                              assay = \"RNA\")\n",
    "        celltype_metadata = combined.sct@meta.data\n",
    "        celltype_metadata = celltype_metadata[,c(\"cellID\",slot,\"membership_score\")]\n",
    "        celltype_metadata_scored[[i]] = celltype_metadata[celltype_metadata[,2] == celltype[i], ]\n",
    "\n",
    "    }\n",
    "    celltype_metadata_scored = do.call(rbind.data.frame, celltype_metadata_scored)\n",
    "}\n",
    "\n",
    "\n",
    "# gen_celltype\n",
    "markers = read.delim(\"seurat/markers/heart/heart_gen_celltype_marker_genes_only.pos_min.pct0.1_logfc.threshold0.25.tsv\")\n",
    "gen_celltype_membership = get_membership_scores(markers,\"gen_celltype\")\n",
    "colnames(gen_celltype_membership) = c(\"cell_id\",\"general_cell_type_name\",\"general_cell_type_membership_score\")\n",
    "\n",
    "# celltypes\n",
    "markers = read.delim(\"seurat/markers/heart/heart_celltypes_marker_genes_only.pos_min.pct0.1_logfc.threshold0.25.tsv\")\n",
    "celltype_membership = get_membership_scores(markers,\"celltypes\")\n",
    "colnames(celltype_membership) = c(\"cell_id\",\"cell_type_name\",\"cell_type_membership_score\")\n",
    "\n",
    "# subtypes\n",
    "markers = read.delim(\"seurat/markers/heart/heart_subtypes_marker_genes_only.pos_min.pct0.1_logfc.threshold0.25.tsv\")\n",
    "subtype_membership = get_membership_scores(markers,\"subtypes\")\n",
    "colnames(subtype_membership) = c(\"cell_id\",\"sub_cell_type_name\",\"sub_type_membership_score\")\n",
    "\n",
    "fn = paste0(\"ref/heart_integrated_analysis_cell_type_labels_noheader.tsv\")\n",
    "write.table(membership_metadata,file=fn,\n",
    "            sep=\"\\t\",\n",
    "            quote=F,\n",
    "            row.names = F)\n",
    "out = paste0(\"ref/heart/heart_integrated_analysis_cell_type_labels.tsv\")\n",
    "system(paste0(\"cat ref/celltype_labels_header \", fn, \"> \", out))\n",
    "system(paste0(\"rm \", fn))\n"
   ]
  },
  {
   "cell_type": "markdown",
   "id": "06321309-ac0d-4eab-a611-c8270c446d39",
   "metadata": {},
   "source": [
    "## Get unfiltered RNA information"
   ]
  },
  {
   "cell_type": "code",
   "execution_count": 272,
   "id": "64bb42a1-b0cb-4a55-ab4b-cdc9506238b8",
   "metadata": {},
   "outputs": [],
   "source": [
    "get_orig_10x_counts = function(file){\n",
    "    metadata = metadata[metadata$file_accession == file,]\n",
    "    counts = readMM(paste0(\"counts_10x/\",file,\"/matrix.mtx\"))\n",
    "    \n",
    "    barcodes = read.delim(paste0(\"counts_10x/\",file,\"/barcodes.tsv\"),header = F, col.names=\"barcode\")\n",
    "    features = read.delim(paste0(\"counts_10x/\",file,\"/genes.tsv\"),header = F, col.names=\"gene_name\") \n",
    "    colnames(counts) = barcodes$barcode\n",
    "    rownames(counts) = features$gene_name\n",
    "    out = counts\n",
    "\n",
    "}\n",
    "\n",
    "metadata = read.delim(\"ref/enc4_mouse_snrna_metadata.tsv\")\n",
    "metadata = metadata[metadata$technology == \"10x\",]\n",
    "metadata = metadata[metadata$tissue == \"Heart\",]\n",
    "\n",
    "files = unique(metadata$file_accession)\n",
    "\n",
    "orig_10x = get_orig_10x_counts(files[1])\n",
    "\n",
    "for (j in 2:length(files)){\n",
    "    counts_adding = get_orig_10x_counts(files[j])\n",
    "    orig_10x = cbind(orig_10x, counts_adding)\n",
    "}\n"
   ]
  },
  {
   "cell_type": "code",
   "execution_count": 273,
   "id": "1c60f0e7-f2f4-48f0-8758-1f7e125f2fa7",
   "metadata": {},
   "outputs": [],
   "source": [
    "get_orig_parse_counts = function(file){\n",
    "    metadata = metadata[metadata$file_accession == file,]\n",
    "    counts = readMM(paste0(\"scrublet/\",file,\"_matrix.mtx\"))\n",
    "    \n",
    "    barcodes = read.delim(paste0(\"scrublet/\",file,\"_barcodes.tsv\"),header = F, col.names=\"barcode\")\n",
    "    features = read.delim(paste0(\"scrublet/\",file,\"_genes.tsv\"),header = F, col.names=\"gene_name\") \n",
    "    colnames(counts) = barcodes$barcode\n",
    "    rownames(counts) = features$gene_name\n",
    "    out = counts\n",
    "\n",
    "}\n",
    "\n",
    "metadata = read.delim(\"ref/enc4_mouse_snrna_metadata.tsv\")\n",
    "metadata = metadata[metadata$technology == \"Parse\",]\n",
    "metadata = metadata[metadata$tissue == \"Heart\",]\n",
    "\n",
    "files = unique(metadata$experiment_batch)\n",
    "\n",
    "orig_parse = get_orig_parse_counts(files[1])\n",
    "\n",
    "for (j in 2:length(files)){\n",
    "    counts_adding = get_orig_parse_counts(files[j])\n",
    "    orig_parse = cbind(orig_parse, counts_adding)\n",
    "}"
   ]
  },
  {
   "cell_type": "markdown",
   "id": "24d9d2a7-5b70-4801-bae3-ff7115162330",
   "metadata": {},
   "source": [
    "## Join unfiltered RNA and ATAC metadata"
   ]
  },
  {
   "cell_type": "code",
   "execution_count": 274,
   "id": "cbe834a0-1b46-4a0b-91b8-0e41f3e10d89",
   "metadata": {},
   "outputs": [
    {
     "name": "stderr",
     "output_type": "stream",
     "text": [
      "Warning message:\n",
      "\"Non-unique features (rownames) present in the input matrix, making unique\"\n",
      "\u001b[1m\u001b[22mJoining, by = \"rna_library_accession\"\n"
     ]
    }
   ],
   "source": [
    "metadata = read.delim(\"../enc4_mouse_metadata.tsv\")\n",
    "orig_rna = cbind(orig_10x, orig_parse)\n",
    "obj = CreateSeuratObject(counts = orig_rna, min.cells = 0, min.features = 0)\n",
    "obj[[\"percent.mt\"]] = PercentageFeatureSet(obj, pattern = \"^mt-\")\n",
    "obj[[\"percent.ribo\"]] <- PercentageFeatureSet(obj, pattern = \"^Rp[sl][[:digit:]]|^Rplp[[:digit:]]|^Rpsa\")\n",
    "obj$cellID = colnames(obj)\n",
    "obj$rna_library_accession = do.call(\"rbind\", strsplit(as.character(obj$cellID), \"[.]\"))[,2]\n",
    "\n",
    "\n",
    "rna_metadata = left_join(obj@meta.data[,c(\"cellID\",\"rna_library_accession\",\"nCount_RNA\",\"percent.mt\",\"percent.ribo\")],\n",
    "                         metadata)\n"
   ]
  },
  {
   "cell_type": "code",
   "execution_count": 275,
   "id": "c069b483-12e0-42f1-b253-be210d7e72a9",
   "metadata": {},
   "outputs": [
    {
     "name": "stderr",
     "output_type": "stream",
     "text": [
      "\u001b[1m\u001b[22mJoining, by = \"rna_library_accession\"\n"
     ]
    }
   ],
   "source": [
    "atac_metadata = read.csv(\"../snatac/ref/atac_unfiltered_metadata_all_tissues.csv\")\n",
    "atac_metadata = atac_metadata[,c(\"cellID\",\"Sample\",\"nFrags\",\"TSSEnrichment\",\"original_atac_bc\")]\n",
    "atac_metadata$rna_library_accession = atac_metadata$Sample\n",
    "atac_metadata$Sample = NULL\n",
    "atac_metadata = left_join(atac_metadata, metadata)\n",
    "atac_metadata = atac_metadata[atac_metadata$tissue == \"Heart\",]\n"
   ]
  },
  {
   "cell_type": "code",
   "execution_count": 276,
   "id": "92e3e26c-3d3a-4ad3-9cdb-a1a891da72dc",
   "metadata": {},
   "outputs": [
    {
     "name": "stderr",
     "output_type": "stream",
     "text": [
      "\u001b[1m\u001b[22mJoining, by = c(\"cellID\", \"rna_library_accession\", \"technology\", \"species\",\n",
      "\"tissue\", \"sex\", \"timepoint\", \"rep\", \"sample\", \"depth1\", \"depth2\",\n",
      "\"experiment\", \"experiment_batch\", \"integration_batch\", \"run_number\",\n",
      "\"lower_nCount_RNA\", \"upper_nCount_RNA\", \"lower_nFeature_RNA\",\n",
      "\"upper_doublet_scores\", \"upper_percent.mt\", \"rna_experiment_accession\",\n",
      "\"rna_file_accession\", \"multiome_experiment_accession\",\n",
      "\"atac_experiment_accession\", \"atac_library_accession\", \"atac_file_accession\",\n",
      "\"minTSS\", \"minFrags\")\n"
     ]
    }
   ],
   "source": [
    "combined_metadata = full_join(rna_metadata,atac_metadata)\n",
    "combined_metadata$rna_bc = do.call(\"rbind\", strsplit(as.character(combined_metadata$cellID), \"[.]\"))[,1]\n",
    "combined_metadata$passed_filtering = as.numeric(combined_metadata$cellID %in% combined.sct$cellID)\n"
   ]
  },
  {
   "cell_type": "markdown",
   "id": "95c79b47-aa28-4f63-9b91-eff9dd0fa2e0",
   "metadata": {},
   "source": [
    "# Save cell metadata file"
   ]
  },
  {
   "cell_type": "code",
   "execution_count": 277,
   "id": "e90d8910-d1b1-4dba-80e5-df7a1e9e3dad",
   "metadata": {},
   "outputs": [],
   "source": [
    "combined_metadata = combined_metadata[,c(\"cellID\",\n",
    "                                         \"rna_library_accession\",\"rna_bc\",\n",
    "                                         \"atac_library_accession\",\"original_atac_bc\",\n",
    "                                         \"nCount_RNA\",\"nFrags\",\n",
    "                                         \"percent.mt\",\"percent.ribo\",\"TSSEnrichment\",\"passed_filtering\",\n",
    "                                        \"rna_experiment_accession\",\"atac_experiment_accession\",\n",
    "                                         \"rna_file_accession\",\"atac_file_accession\",\"multiome_experiment_accession\",\n",
    "                                         \"sample\",\"technology\",\"tissue\",\"sex\",\"timepoint\",\"rep\")]\n",
    "colnames(combined_metadata) = c(\"cell_id\",\"rna_dataset\",\"rna_barcode\",\"atac_dataset\",\"atac_barcode\",\n",
    "                                \"rna_umi_count\",\"atac_fragment_count\",\"rna_frac_mito\",\"rna_frac_ribo\",\"atac_tss_enrichment\",\"passed_filtering\",\n",
    "                                        \"rna_experiment_accession\",\"atac_experiment_accession\",\n",
    "                                         \"rna_file_accession\",\"atac_file_accession\",\"multiome_experiment_accession\",\n",
    "                                         \"sample\",\"technology\",\"tissue\",\"sex\",\"timepoint\",\"rep\")\n"
   ]
  },
  {
   "cell_type": "code",
   "execution_count": 278,
   "id": "e3520ee0-0b23-4324-b65e-70b88d4279e6",
   "metadata": {},
   "outputs": [],
   "source": [
    "fn = paste0(\"ref/heart/heart_integrated_analysis_cell_metadata_noheader.tsv\")\n",
    "write.table(combined_metadata,file=fn,\n",
    "            sep=\"\\t\",\n",
    "            quote=F,\n",
    "            row.names = F)\n",
    "out = paste0(\"ref/heart/heart_integrated_analysis_cell_metadata.tsv\")\n",
    "system(paste0(\"cat ref/cell_metadata_header \", fn, \"> \", out))\n",
    "system(paste0(\"rm \", fn))"
   ]
  },
  {
   "cell_type": "markdown",
   "id": "30b33d99-eb75-4a4b-b143-3b81607224ac",
   "metadata": {},
   "source": [
    "# Cerebro"
   ]
  },
  {
   "cell_type": "code",
   "execution_count": null,
   "id": "cd6b1ff9-e401-4beb-bfed-07a51e2510f1",
   "metadata": {},
   "outputs": [],
   "source": [
    "combined.sct = readRDS(\"seurat/heart_Parse_10x_integrated.rds\")\n"
   ]
  },
  {
   "cell_type": "code",
   "execution_count": null,
   "id": "1fb00182-1892-4ef8-a9a2-9fb75a7b730b",
   "metadata": {},
   "outputs": [],
   "source": [
    "# also add markers for my annotated cell types\n",
    "combined.sct <- cerebroApp::getMarkerGenes(combined.sct, organism = 'mm',groups = c('subtypes'), \n",
    "                                  min_pct = 0.1,thresh_logFC = 0.25, assay = \"RNA\")\n",
    "\n",
    "combined.sct <- cerebroApp::getEnrichedPathways(combined.sct, adj_p_cutoff = 0.01, max_terms = 100)\n",
    "\n",
    "\n",
    "DefaultAssay(combined.sct) = \"integrated\"\n",
    "\n",
    "combined.sct <- RunUMAP(\n",
    "  combined.sct,\n",
    "  reduction.name = 'UMAP_3D',\n",
    "  reduction.key = 'UMAP3D_',\n",
    "  dims = 1:30,\n",
    "  n.components = 3,\n",
    "  seed.use = 100\n",
    ")\n",
    "\n",
    "\n",
    "library(cerebroApp)\n",
    "exportFromSeurat(\n",
    "  object = combined.sct,\n",
    "  assay = \"SCT\",\n",
    "  slot = \"data\",\n",
    "  file = \"seurat/heart_Parse_10x_integrated.crb\",\n",
    "  experiment_name = \"Mouse heart\",\n",
    "  organism = \"mm\",\n",
    "  groups = c('doublet_scores','doublets','library_accession','technology','species',\n",
    "             'tissue','sex','timepoint','rep','sample','depth1','depth2','experiment',\n",
    "             'experiment_batch','integration_batch','run_number','experiment_accession',\n",
    "             'file_accession','atlas_predictions','S.Score','G2M.Score',\n",
    "             'Phase','celltypes','gen_celltype','atlas_celltypes','subtypes','seurat_clusters','predicted.id'),\n",
    "  nUMI = 'nCount_RNA',\n",
    "  nGene = 'nFeature_RNA',\n",
    "  use_delayed_array = FALSE,\n",
    "  verbose = TRUE\n",
    ")"
   ]
  }
 ],
 "metadata": {
  "kernelspec": {
   "display_name": "R",
   "language": "R",
   "name": "ir"
  },
  "language_info": {
   "codemirror_mode": "r",
   "file_extension": ".r",
   "mimetype": "text/x-r-source",
   "name": "R",
   "pygments_lexer": "r",
   "version": "4.1.2"
  }
 },
 "nbformat": 4,
 "nbformat_minor": 5
}
