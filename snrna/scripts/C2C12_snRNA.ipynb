{
 "cells": [
  {
   "cell_type": "code",
   "execution_count": 188,
   "id": "dfcfa2d4-683c-4de2-8099-977cd6f933ec",
   "metadata": {},
   "outputs": [],
   "source": [
    "library(Matrix)\n",
    "suppressPackageStartupMessages(library(Seurat))\n",
    "suppressPackageStartupMessages(library(tidyverse))\n",
    "suppressPackageStartupMessages(library(viridis))\n",
    "library(glmGamPoi)\n",
    "library(RColorBrewer)\n",
    "library(stringr)\n",
    "options(future.globals.maxSize = 16000 * 1024^2)\n"
   ]
  },
  {
   "cell_type": "code",
   "execution_count": 189,
   "id": "b3316821-3050-46fe-b9df-005106a82b3c",
   "metadata": {},
   "outputs": [],
   "source": [
    "#setwd(\"../../snrna/\")\n",
    "setwd(\"/share/crsp/lab/seyedam/share/enc4_mouse/snrna/\")\n",
    "meta = read.delim(\"ref/enc4_mouse_snrna_metadata.tsv\")\n",
    "tissue = \"C2C12\"\n",
    "\n",
    "# Functions\n",
    "# read in sparse matrix and assign row and column names\n",
    "get_counts = function(batch){\n",
    "    counts = readMM(paste0(\"scrublet/\",batch,\"_matrix.mtx\"))\n",
    "    barcodes = read.delim(paste0(\"scrublet/\",batch,\"_barcodes_scrublet.tsv\"),header = F, \n",
    "                          col.names=c(\"cellID\",\"doublet_scores\",\"doublets\"))\n",
    "    \n",
    "    features = read.delim(paste0(\"scrublet/\",batch,\"_genes.tsv\"),header = F) \n",
    "    rownames(counts) = features$V1 \n",
    "    colnames(counts) = barcodes$cellID\n",
    "    out = counts\n",
    "}\n",
    "\n",
    "# read in associated metadata\n",
    "get_metadata = function(batch){\n",
    "    barcodes = read.delim(paste0(\"scrublet/\",batch,\"_barcodes_scrublet.tsv\"),header = F, \n",
    "                          col.names=c(\"cellID\",\"doublet_scores\",\"doublets\"))\n",
    "    barcodes$library_accession = do.call(\"rbind\", strsplit(barcodes$cellID, \"[.]\"))[,2]\n",
    "    barcodes = left_join(barcodes,meta,by = \"library_accession\")\n",
    "    out = barcodes\n",
    "}\n",
    "\n",
    "# merge the counts across experimental \"batches\"\n",
    "\n",
    "merge_counts = function(batches_list){\n",
    "    matrix_list = list()\n",
    "    for (i in 1:length(batches_list)){\n",
    "        batch = batches_list[i]\n",
    "        matrix_list[[i]] = get_counts(batch)\n",
    "    }\n",
    "    \n",
    "    if (length(batches_list) < 2){\n",
    "       matrix = matrix_list[[1]] \n",
    "       out = matrix\n",
    "    } else {\n",
    "        matrix = matrix_list[[1]]\n",
    "        for (j in 2:length(batches_list)){\n",
    "            matrix = RowMergeSparseMatrices(matrix,matrix_list[[j]])\n",
    "        }\n",
    "        out = matrix\n",
    "    }\n",
    "}\n",
    "\n",
    "# merge the metadata across experimental \"batches\"\n",
    "merge_metadata = function(batches_list){\n",
    "    meta_list = list()\n",
    "    for (i in 1:length(batches_list)){\n",
    "        batch = batches_list[i]\n",
    "        meta_list[[i]] = get_metadata(batch)\n",
    "    }\n",
    "    \n",
    "    if (length(batches_list) < 2){\n",
    "       meta = meta_list[[1]] \n",
    "       out = meta\n",
    "    } else {\n",
    "        meta = meta_list[[1]]\n",
    "        for (j in 2:length(batches_list)){\n",
    "            meta = rbind(meta,meta_list[[j]])\n",
    "        }\n",
    "        out = meta\n",
    "    }\n",
    "}\n",
    "\n",
    "# make seurat object\n",
    "seurat_obj = function(counts,metadata){\n",
    "    obj = CreateSeuratObject(counts = counts, min.cells = 0, min.features = 0)\n",
    "    obj@meta.data = cbind(obj@meta.data,metadata)\n",
    "    obj[[\"percent.mt\"]] = PercentageFeatureSet(obj, pattern = \"^mt-\")\n",
    "    obj[[\"percent.ribo\"]] <- PercentageFeatureSet(obj, pattern = \"^Rp[sl][[:digit:]]|^Rplp[[:digit:]]|^Rpsa\")\n",
    "    out = obj\n",
    "}\n"
   ]
  },
  {
   "cell_type": "code",
   "execution_count": 190,
   "id": "333ac7cf-dc10-4143-9041-49845ea59bd9",
   "metadata": {},
   "outputs": [
    {
     "name": "stderr",
     "output_type": "stream",
     "text": [
      "Warning message:\n",
      "\"Non-unique features (rownames) present in the input matrix, making unique\"\n"
     ]
    },
    {
     "data": {
      "text/plain": [
       "An object of class Seurat \n",
       "47721 features across 25615 samples within 1 assay \n",
       "Active assay: RNA (47721 features, 0 variable features)"
      ]
     },
     "metadata": {},
     "output_type": "display_data"
    }
   ],
   "source": [
    "# Read in data\n",
    "#Use functions defined above to create 1 Parse Seurat object\n",
    "meta = meta[meta$tissue == tissue,]\n",
    "\n",
    "# get the experimental batches for Parse\n",
    "parse_batches = unique(meta$experiment_batch[meta$technology == \"Parse\"])\n",
    "parse_counts = merge_counts(parse_batches)\n",
    "parse_meta = merge_metadata(parse_batches)\n",
    "\n",
    "# Make Seurat object\n",
    "obj_parse= seurat_obj(parse_counts, parse_meta)\n",
    "\n",
    "obj_parse"
   ]
  },
  {
   "cell_type": "code",
   "execution_count": 191,
   "id": "eba9221c-ca30-405f-8f53-2279d6a17923",
   "metadata": {},
   "outputs": [],
   "source": [
    "# Filter by unique cells in original object\n",
    "load(\"ref/mb_mt_36869_cells_20clusters.rda\")\n"
   ]
  },
  {
   "cell_type": "code",
   "execution_count": 192,
   "id": "d899e068-7d63-4ad3-9a46-ee9b1ba4293c",
   "metadata": {},
   "outputs": [],
   "source": [
    "mb_mt$cellID = colnames(mb_mt)\n",
    "mb_mt$cellID = gsub(\"single_cells_barcoded_headAligned_sorted_ZE3GQ:\",\"\",mb_mt$cellID)\n",
    "mb_mt$cellID = do.call(\"rbind\", strsplit(as.character(mb_mt$cellID), \"_\"))[,1]\n"
   ]
  },
  {
   "cell_type": "code",
   "execution_count": 193,
   "id": "affd44fe-606d-4793-94da-96beba8962c9",
   "metadata": {},
   "outputs": [],
   "source": [
    "mb_mt_1k = subset(mb_mt, subset = Library == \"1k\")\n",
    "mb_mt_1k_mb_nuc = subset(mb_mt_1k, subset = SampleType == \"MB_nuclei\")\n",
    "mb_mt_1k_mb_nuc$cellID = paste0(mb_mt_1k_mb_nuc$cellID,\".ENCLB514RKT\")\n",
    "mb_mt_1k_mb_nuc$subtypes = mb_mt_1k_mb_nuc$SampleType\n",
    "\n",
    "mb_mt_1k_mb_cells = subset(mb_mt_1k, subset = SampleType == \"MB_cells\")\n",
    "mb_mt_1k_mb_cells$cellID = paste0(mb_mt_1k_mb_cells$cellID,\".ENCLB952MZJ\")\n",
    "mb_mt_1k_mb_cells$subtypes = mb_mt_1k_mb_cells$SampleType\n",
    "\n",
    "mb_mt_1k_mt = subset(mb_mt_1k, subset = SampleType == \"MT_nuclei\")\n",
    "mb_mt_1k_mt$cellID = paste0(mb_mt_1k_mt$cellID,\".ENCLB273ZWE\")\n",
    "mb_mt_1k_mt$subtypes = mb_mt_1k_mt$final_clusters_ordered\n",
    "mb_mt_1k_mt$subtypes = gsub(\"\\\\<1\\\\>\",\"MB_cells\",mb_mt_1k_mt$subtypes)\n",
    "mb_mt_1k_mt$subtypes = gsub(\"\\\\<2\\\\>\",\"MB_cells\",mb_mt_1k_mt$subtypes)\n",
    "mb_mt_1k_mt$subtypes = gsub(\"\\\\<3\\\\>\",\"MB_nuclei\",mb_mt_1k_mt$subtypes)\n",
    "mb_mt_1k_mt$subtypes = gsub(\"\\\\<4\\\\>\",\"MB_nuclei\",mb_mt_1k_mt$subtypes)\n",
    "mb_mt_1k_mt$subtypes = gsub(\"\\\\<5\\\\>\",\"MB_nuclei\",mb_mt_1k_mt$subtypes)\n",
    "mb_mt_1k_mt$subtypes = gsub(\"\\\\<6\\\\>\",\"MB_nuclei\",mb_mt_1k_mt$subtypes)\n",
    "mb_mt_1k_mt$subtypes = gsub(\"\\\\<7\\\\>\",\"MB_nuclei\",mb_mt_1k_mt$subtypes)\n",
    "mb_mt_1k_mt$subtypes = gsub(\"\\\\<7\\\\>\",\"Pax7hi_nuclei\",mb_mt_1k_mt$subtypes)\n",
    "mb_mt_1k_mt$subtypes = gsub(\"\\\\<8\\\\>\",\"Pax7hi_nuclei\",mb_mt_1k_mt$subtypes)\n",
    "mb_mt_1k_mt$subtypes = gsub(\"\\\\<9\\\\>\",\"Pax7hi_nuclei\",mb_mt_1k_mt$subtypes)\n",
    "mb_mt_1k_mt$subtypes = gsub(\"\\\\<10\\\\>\",\"Pax7hi_nuclei\",mb_mt_1k_mt$subtypes)\n",
    "mb_mt_1k_mt$subtypes = gsub(\"\\\\<11\\\\>\",\"Pax7hi_nuclei\",mb_mt_1k_mt$subtypes)\n",
    "mb_mt_1k_mt$subtypes = gsub(\"\\\\<12\\\\>\",\"Pax7hi_nuclei\",mb_mt_1k_mt$subtypes)\n",
    "mb_mt_1k_mt$subtypes = gsub(\"\\\\<13\\\\>\",\"Pax7hi_nuclei\",mb_mt_1k_mt$subtypes)\n",
    "mb_mt_1k_mt$subtypes = gsub(\"\\\\<14\\\\>\",\"Pax7hi_nuclei\",mb_mt_1k_mt$subtypes)\n",
    "mb_mt_1k_mt$subtypes = gsub(\"\\\\<15\\\\>\",\"Pax7hi_nuclei\",mb_mt_1k_mt$subtypes)\n",
    "mb_mt_1k_mt$subtypes = gsub(\"\\\\<16\\\\>\",\"Myoghi_nuclei\",mb_mt_1k_mt$subtypes)\n",
    "mb_mt_1k_mt$subtypes = gsub(\"\\\\<17\\\\>\",\"Myoghi_nuclei\",mb_mt_1k_mt$subtypes)\n",
    "mb_mt_1k_mt$subtypes = gsub(\"\\\\<18\\\\>\",\"Myoghi_nuclei\",mb_mt_1k_mt$subtypes)\n",
    "mb_mt_1k_mt$subtypes = gsub(\"\\\\<19\\\\>\",\"Myoghi_nuclei\",mb_mt_1k_mt$subtypes)\n",
    "mb_mt_1k_mt$subtypes = gsub(\"\\\\<20\\\\>\",\"Myoghi_nuclei\",mb_mt_1k_mt$subtypes)\n",
    "\n",
    "mb_mt_9k = subset(mb_mt, subset = Library != \"1k\")\n",
    "mb_mt_9k_mb_nuc = subset(mb_mt_9k, subset = SampleType == \"MB_nuclei\")\n",
    "mb_mt_9k_mb_nuc$cellID = paste0(mb_mt_9k_mb_nuc$cellID,\".ENCLB294FBZ\")\n",
    "mb_mt_9k_mb_nuc = subset(mb_mt_9k_mb_nuc, cellID %in% mb_mt_9k_mb_nuc$cellID[!(duplicated(mb_mt_9k_mb_nuc$cellID)|duplicated(mb_mt_9k_mb_nuc$cellID, fromLast=TRUE))])\n",
    "mb_mt_9k_mb_nuc$subtypes = mb_mt_9k_mb_nuc$SampleType\n",
    "\n",
    "mb_mt_9k_mb_cells = subset(mb_mt_9k, subset = SampleType == \"MB_cells\")\n",
    "mb_mt_9k_mb_cells$cellID = paste0(mb_mt_9k_mb_cells$cellID,\".ENCLB129LMS\")\n",
    "mb_mt_9k_mb_cells = subset(mb_mt_9k_mb_cells, cellID %in% mb_mt_9k_mb_cells$cellID[!(duplicated(mb_mt_9k_mb_cells$cellID)|duplicated(mb_mt_9k_mb_cells$cellID, fromLast=TRUE))])\n",
    "mb_mt_9k_mb_cells$subtypes = mb_mt_9k_mb_cells$SampleType\n",
    "\n",
    "\n",
    "mb_mt_9k_mt = subset(mb_mt_9k, subset = SampleType == \"MT_nuclei\")\n",
    "mb_mt_9k_mt$cellID = paste0(mb_mt_9k_mt$cellID,\".ENCLB527JDU\")\n",
    "mb_mt_9k_mt = subset(mb_mt_9k_mt, cellID %in% mb_mt_9k_mt$cellID[!(duplicated(mb_mt_9k_mt$cellID)|duplicated(mb_mt_9k_mt$cellID, fromLast=TRUE))])\n",
    "mb_mt_9k_mt$subtypes = mb_mt_9k_mt$final_clusters_ordered\n",
    "mb_mt_9k_mt$subtypes = gsub(\"\\\\<1\\\\>\",\"MB_cells\",mb_mt_9k_mt$subtypes)\n",
    "mb_mt_9k_mt$subtypes = gsub(\"\\\\<2\\\\>\",\"MB_cells\",mb_mt_9k_mt$subtypes)\n",
    "mb_mt_9k_mt$subtypes = gsub(\"\\\\<3\\\\>\",\"MB_nuclei\",mb_mt_9k_mt$subtypes)\n",
    "mb_mt_9k_mt$subtypes = gsub(\"\\\\<4\\\\>\",\"MB_nuclei\",mb_mt_9k_mt$subtypes)\n",
    "mb_mt_9k_mt$subtypes = gsub(\"\\\\<5\\\\>\",\"MB_nuclei\",mb_mt_9k_mt$subtypes)\n",
    "mb_mt_9k_mt$subtypes = gsub(\"\\\\<6\\\\>\",\"MB_nuclei\",mb_mt_9k_mt$subtypes)\n",
    "mb_mt_9k_mt$subtypes = gsub(\"\\\\<7\\\\>\",\"MB_nuclei\",mb_mt_9k_mt$subtypes)\n",
    "mb_mt_9k_mt$subtypes = gsub(\"\\\\<7\\\\>\",\"Pax7hi_nuclei\",mb_mt_9k_mt$subtypes)\n",
    "mb_mt_9k_mt$subtypes = gsub(\"\\\\<8\\\\>\",\"Pax7hi_nuclei\",mb_mt_9k_mt$subtypes)\n",
    "mb_mt_9k_mt$subtypes = gsub(\"\\\\<9\\\\>\",\"Pax7hi_nuclei\",mb_mt_9k_mt$subtypes)\n",
    "mb_mt_9k_mt$subtypes = gsub(\"\\\\<10\\\\>\",\"Pax7hi_nuclei\",mb_mt_9k_mt$subtypes)\n",
    "mb_mt_9k_mt$subtypes = gsub(\"\\\\<11\\\\>\",\"Pax7hi_nuclei\",mb_mt_9k_mt$subtypes)\n",
    "mb_mt_9k_mt$subtypes = gsub(\"\\\\<12\\\\>\",\"Pax7hi_nuclei\",mb_mt_9k_mt$subtypes)\n",
    "mb_mt_9k_mt$subtypes = gsub(\"\\\\<13\\\\>\",\"Pax7hi_nuclei\",mb_mt_9k_mt$subtypes)\n",
    "mb_mt_9k_mt$subtypes = gsub(\"\\\\<14\\\\>\",\"Pax7hi_nuclei\",mb_mt_9k_mt$subtypes)\n",
    "mb_mt_9k_mt$subtypes = gsub(\"\\\\<15\\\\>\",\"Pax7hi_nuclei\",mb_mt_9k_mt$subtypes)\n",
    "mb_mt_9k_mt$subtypes = gsub(\"\\\\<16\\\\>\",\"Myoghi_nuclei\",mb_mt_9k_mt$subtypes)\n",
    "mb_mt_9k_mt$subtypes = gsub(\"\\\\<17\\\\>\",\"Myoghi_nuclei\",mb_mt_9k_mt$subtypes)\n",
    "mb_mt_9k_mt$subtypes = gsub(\"\\\\<18\\\\>\",\"Myoghi_nuclei\",mb_mt_9k_mt$subtypes)\n",
    "mb_mt_9k_mt$subtypes = gsub(\"\\\\<19\\\\>\",\"Myoghi_nuclei\",mb_mt_9k_mt$subtypes)\n",
    "mb_mt_9k_mt$subtypes = gsub(\"\\\\<20\\\\>\",\"Myoghi_nuclei\",mb_mt_9k_mt$subtypes)\n",
    "\n",
    "\n",
    "                            "
   ]
  },
  {
   "cell_type": "code",
   "execution_count": 194,
   "id": "a2976cdb-9621-4f33-99f3-ee670021f87c",
   "metadata": {},
   "outputs": [],
   "source": [
    "mb_mt_unique = merge(mb_mt_1k_mb_nuc,\n",
    "                     c(mb_mt_1k_mb_cells,mb_mt_1k_mt,\n",
    "                       mb_mt_9k_mb_nuc, mb_mt_9k_mb_cells, mb_mt_9k_mt))"
   ]
  },
  {
   "cell_type": "code",
   "execution_count": 195,
   "id": "026e9d9e-5a56-4f70-bac4-cbea93ac49e8",
   "metadata": {},
   "outputs": [
    {
     "name": "stderr",
     "output_type": "stream",
     "text": [
      "\u001b[1m\u001b[22mJoining, by = \"Index\"\n",
      "\u001b[1m\u001b[22mJoining, by = \"cellID\"\n"
     ]
    }
   ],
   "source": [
    "# bc file \n",
    "bc = read.csv(\"ref/Rnd1_bc_8nt_v2.csv\",header=F)\n",
    "colnames(bc) = c(\"Index\",\"rnd1_Barcode\")\n",
    "\n",
    "barcodes = data.frame(barcode = colnames(obj_parse))\n",
    "\n",
    "barcodes$rnd3_rnd2 = do.call(\"rbind\", strsplit(as.character(barcodes$barcode), \"_\"))[,1]\n",
    "barcodes$Index = do.call(\"rbind\", strsplit(as.character(barcodes$barcode), \"_\"))[,2]\n",
    "barcodes$Index = as.numeric(do.call(\"rbind\", strsplit((barcodes$Index), \"[.]\"))[,1])\n",
    "barcodes$library = obj_parse$library_accession\n",
    "\n",
    "barcodes = left_join(barcodes,bc)\n",
    "barcodes$cellID = paste0(barcodes$rnd3_rnd2, barcodes$rnd1_Barcode, \".\", barcodes$library)\n",
    "barcodes = barcodes[barcodes$cellID %in% mb_mt_unique$cellID,]\n",
    "barcodes = left_join(barcodes, mb_mt_unique@meta.data[,c(\"cellID\",\"final_clusters_ordered\",\"SampleType\",\"CellType\",\"subtypes\")])\n",
    "barcodes$gen_celltype = barcodes$CellType\n",
    "barcodes$gen_celltype = gsub(\"\\\\<MB\\\\>\",\"Myoblast\",barcodes$gen_celltype) \n",
    "barcodes$gen_celltype = gsub(\"\\\\<MT\\\\>\",\"Myotube\",barcodes$gen_celltype) \n",
    "barcodes$celltypes = barcodes$SampleType\n",
    "barcodes = barcodes[barcodes$barcode %in% obj_parse$cellID,]"
   ]
  },
  {
   "cell_type": "code",
   "execution_count": 197,
   "id": "d1d8bd6b-a6ef-4b6a-b61b-de4b20ea7fe8",
   "metadata": {},
   "outputs": [],
   "source": [
    "# Filter \n",
    "obj_parse = subset(obj_parse, cellID %in% barcodes$barcode)\n",
    "barcodes = barcodes[match(obj_parse$cellID, barcodes$barcode),]"
   ]
  },
  {
   "cell_type": "code",
   "execution_count": 198,
   "id": "be139310-c305-404e-a97e-8ecf8a2845ec",
   "metadata": {},
   "outputs": [
    {
     "data": {
      "text/plain": [
       "\n",
       " TRUE \n",
       "23699 "
      ]
     },
     "metadata": {},
     "output_type": "display_data"
    }
   ],
   "source": [
    "table(barcodes$barcode == obj_parse$cellID)"
   ]
  },
  {
   "cell_type": "code",
   "execution_count": 202,
   "id": "c1c9cb5f-f7bf-426e-a2eb-8ae12da6bb48",
   "metadata": {},
   "outputs": [],
   "source": [
    "obj_parse$gen_celltype = barcodes$gen_celltype\n",
    "obj_parse$celltypes = barcodes$celltypes\n",
    "obj_parse$subtypes = barcodes$subtypes\n"
   ]
  },
  {
   "cell_type": "code",
   "execution_count": 203,
   "id": "c675894d-e18c-48a2-99c9-bce109ffd0e4",
   "metadata": {},
   "outputs": [],
   "source": [
    "obj_parse_standard = subset(obj_parse, subset = depth1 == \"shallow\")\n",
    "obj_parse_deep = subset(obj_parse, subset = depth1 == \"deep\")\n"
   ]
  },
  {
   "cell_type": "code",
   "execution_count": 204,
   "id": "863a23ea-4377-49fa-bc45-7af1779872ed",
   "metadata": {},
   "outputs": [],
   "source": [
    "# Filter\n",
    "#Use QC information in metadata to filter by # UMIs and # genes detected per nucleus as well as doublet scores and percent mitochondrial gene expression. \n",
    "obj_parse_standard = subset(obj_parse, subset = depth1 == \"shallow\")\n",
    "obj_parse_standard_cells = subset(obj_parse_standard, subset = sample == \"C2C12_0hr_cells\")\n",
    "obj_parse_standard_nuclei= subset(obj_parse_standard, subset = sample != \"C2C12_0hr_cells\")\n",
    "\n",
    "obj_parse_deep = subset(obj_parse, subset = depth1 == \"deep\")\n",
    "obj_parse_deep_cells = subset(obj_parse_deep, subset = sample == \"C2C12_0hr_cells\")\n",
    "obj_parse_deep_nuclei= subset(obj_parse_deep, subset = sample != \"C2C12_0hr_cells\")\n",
    "\n",
    "\n",
    "obj_parse_standard_cells <- subset(obj_parse_standard_cells, \n",
    "                            subset = nCount_RNA > unique(obj_parse_standard_cells$lower_nCount_RNA) & \n",
    "                            nCount_RNA < unique(obj_parse_standard_cells$upper_nCount_RNA)  & \n",
    "                            nFeature_RNA > unique(obj_parse_standard_cells$lower_nFeature_RNA) & \n",
    "                            doublet_scores < unique(obj_parse_standard_cells$upper_doublet_scores) & \n",
    "                            percent.mt < unique(obj_parse_standard_cells$upper_percent.mt))\n",
    "\n",
    "obj_parse_standard_nuclei <- subset(obj_parse_standard_nuclei, \n",
    "                            subset = nCount_RNA > unique(obj_parse_standard_nuclei$lower_nCount_RNA) & \n",
    "                            nCount_RNA < unique(obj_parse_standard_nuclei$upper_nCount_RNA)  & \n",
    "                            nFeature_RNA > unique(obj_parse_standard_nuclei$lower_nFeature_RNA) & \n",
    "                            doublet_scores < unique(obj_parse_standard_nuclei$upper_doublet_scores) & \n",
    "                            percent.mt < unique(obj_parse_standard_nuclei$upper_percent.mt))\n",
    "\n",
    "obj_parse_deep_cells <- subset(obj_parse_deep_cells, \n",
    "                         subset = nCount_RNA > unique(obj_parse_deep_cells$lower_nCount_RNA) & \n",
    "                         nCount_RNA < unique(obj_parse_deep_cells$upper_nCount_RNA)  & \n",
    "                         nFeature_RNA > unique(obj_parse_deep_cells$lower_nFeature_RNA) & \n",
    "                         doublet_scores < unique(obj_parse_deep_cells$upper_doublet_scores) & \n",
    "                         percent.mt < unique(obj_parse_deep_cells$upper_percent.mt))\n",
    "\n",
    "obj_parse_deep_nuclei <- subset(obj_parse_deep_nuclei, \n",
    "                         subset = nCount_RNA > unique(obj_parse_deep_nuclei$lower_nCount_RNA) & \n",
    "                         nCount_RNA < unique(obj_parse_deep_nuclei$upper_nCount_RNA)  & \n",
    "                         nFeature_RNA > unique(obj_parse_deep_nuclei$lower_nFeature_RNA) & \n",
    "                         doublet_scores < unique(obj_parse_deep_nuclei$upper_doublet_scores) & \n",
    "                         percent.mt < unique(obj_parse_deep_nuclei$upper_percent.mt))\n",
    "\n",
    "obj_parse_filt = merge(obj_parse_standard_cells,c(obj_parse_standard_nuclei,\n",
    "                      obj_parse_deep_cells,obj_parse_deep_nuclei))\n"
   ]
  },
  {
   "cell_type": "code",
   "execution_count": null,
   "id": "6d93f443-dc3a-45b3-b4b8-643e9b703038",
   "metadata": {},
   "outputs": [],
   "source": [
    "## SCT , PCA, etc. No need to integrate based on depth based on previous work\n",
    "obj_parse_filt <- SCTransform(obj_parse_filt, method = \"glmGamPoi\", \n",
    "                         vars.to.regress = c(\"percent.mt\",\"nFeature_RNA\"), verbose = F)\n",
    "\n",
    "#Dimensionality reduction and clustering\n",
    "# PCA\n",
    "obj_parse_filt <- RunPCA(obj_parse_filt, verbose = T, npcs = 50)\n",
    "\n",
    "# UMAP and clustering\n",
    "obj_parse_filt <- RunUMAP(obj_parse_filt, reduction = \"pca\", dims = 1:30,verbose = F)\n",
    "obj_parse_filt <- FindNeighbors(obj_parse_filt, reduction = \"pca\", dims = 1:30,verbose = F)\n",
    "obj_parse_filt <- FindClusters(obj_parse_filt,resolution=1.6,verbose = F)\n"
   ]
  },
  {
   "cell_type": "code",
   "execution_count": 206,
   "id": "c0eba4cd-1ddd-4e98-9edf-48ff76d9c77e",
   "metadata": {},
   "outputs": [],
   "source": [
    "# Add cell cycle scores \n",
    "load(\"ref/mouse_cellcycle_genes.rda\")\n",
    "DefaultAssay(obj_parse_filt) = \"SCT\"\n",
    "obj_parse_filt<- CellCycleScoring(obj_parse_filt, s.features = m.s.genes, g2m.features = m.g2m.genes)\n"
   ]
  },
  {
   "cell_type": "markdown",
   "id": "55e01b0e-7878-4286-bb6d-150f86b9addd",
   "metadata": {},
   "source": [
    "# Plot annotations"
   ]
  },
  {
   "cell_type": "code",
   "execution_count": 210,
   "id": "41173c1b-2deb-4b74-8d6c-530700a30fc0",
   "metadata": {},
   "outputs": [],
   "source": [
    "system(\"mkdir plots/c2c12/\")\n",
    "system(\"mkdir plots/c2c12/annotation\")"
   ]
  },
  {
   "cell_type": "code",
   "execution_count": 214,
   "id": "b20f17ae-df47-4784-84aa-602f5c25f10c",
   "metadata": {},
   "outputs": [
    {
     "data": {
      "text/html": [
       "<strong>png:</strong> 2"
      ],
      "text/latex": [
       "\\textbf{png:} 2"
      ],
      "text/markdown": [
       "**png:** 2"
      ],
      "text/plain": [
       "png \n",
       "  2 "
      ]
     },
     "metadata": {},
     "output_type": "display_data"
    }
   ],
   "source": [
    "color_ref = read.delim(\"ref/enc4_mouse_snrna_celltypes_c2c12.csv\",sep=\",\",col.names = c(\"tissue\",\"gen_celltype\",\"celltypes\",\n",
    "                                                                              \"subtypes\",\"gen_celltype_color\",\n",
    "                                                                              \"celltype_color\",\"subtype_color\"))\n",
    "gen_celltype_colors = unique(color_ref[color_ref$tissue == \"C2C12\",c(\"gen_celltype\",\"gen_celltype_color\")])\n",
    "rownames(gen_celltype_colors) = gen_celltype_colors$gen_celltype\n",
    "gen_celltype_colors = gen_celltype_colors[sort(unique(obj_parse_filt$gen_celltype)),]\n",
    "\n",
    "pdf(file=\"plots/c2c12/annotation/UMAP_final_gen_celltype.pdf\",\n",
    "   width = 15, height = 10)\n",
    "\n",
    "DimPlot(obj_parse_filt, reduction = \"umap\", \n",
    "        group.by = \"gen_celltype\", \n",
    "        label = TRUE, label.size = 8, repel = TRUE,\n",
    "       cols = gen_celltype_colors$gen_celltype_color)\n",
    "\n",
    "dev.off()"
   ]
  },
  {
   "cell_type": "code",
   "execution_count": 216,
   "id": "1da8c1b7-3f51-41ae-9045-6f2d9027da0f",
   "metadata": {},
   "outputs": [
    {
     "data": {
      "text/html": [
       "<strong>png:</strong> 2"
      ],
      "text/latex": [
       "\\textbf{png:} 2"
      ],
      "text/markdown": [
       "**png:** 2"
      ],
      "text/plain": [
       "png \n",
       "  2 "
      ]
     },
     "metadata": {},
     "output_type": "display_data"
    }
   ],
   "source": [
    "celltype_colors = unique(color_ref[color_ref$tissue == \"C2C12\",c(\"celltypes\",\"celltype_color\")])\n",
    "rownames(celltype_colors) = celltype_colors$celltypes\n",
    "celltype_colors = celltype_colors[sort(unique(obj_parse_filt$celltypes)),]\n",
    "\n",
    "pdf(file=\"plots/cortex/annotation/UMAP_final_celltypes.pdf\",\n",
    "    width = 15, height = 10)\n",
    "\n",
    "DimPlot(obj_parse_filt, reduction = \"umap\", \n",
    "        group.by = \"celltypes\", \n",
    "        label = TRUE, label.size = 8, repel = TRUE,\n",
    "       cols = celltype_colors$celltype_color)\n",
    "\n",
    "dev.off()"
   ]
  },
  {
   "cell_type": "code",
   "execution_count": 218,
   "id": "fb392170-3f1e-45a6-95d5-82a4e1e9506b",
   "metadata": {},
   "outputs": [
    {
     "data": {
      "text/html": [
       "<strong>png:</strong> 2"
      ],
      "text/latex": [
       "\\textbf{png:} 2"
      ],
      "text/markdown": [
       "**png:** 2"
      ],
      "text/plain": [
       "png \n",
       "  2 "
      ]
     },
     "metadata": {},
     "output_type": "display_data"
    }
   ],
   "source": [
    "subtype_colors = unique(color_ref[color_ref$tissue == \"C2C12\",c(\"subtypes\",\"subtype_color\")])\n",
    "rownames(subtype_colors) = subtype_colors$subtypes\n",
    "subtype_colors = subtype_colors[sort(unique(obj_parse_filt$subtypes)),]\n",
    "\n",
    "pdf(file=\"plots/cortex/annotation/UMAP_final_subtypes.pdf\",\n",
    "    width = 15, height = 10)\n",
    "\n",
    "DimPlot(obj_parse_filt, reduction = \"umap\", \n",
    "        group.by = \"subtypes\", \n",
    "        label = TRUE, label.size = 8, repel = TRUE,\n",
    "       cols = subtype_colors$subtype_color)\n",
    "\n",
    "dev.off()"
   ]
  },
  {
   "cell_type": "code",
   "execution_count": 219,
   "id": "750bf0a3-1f19-410c-8c0d-cb0ca32fff3a",
   "metadata": {},
   "outputs": [],
   "source": [
    "# SAVE\n",
    "saveRDS(obj_parse_filt,file=paste0(\"seurat/\",str_to_lower(tissue),\"_Parse_integrated.rds\"))\n",
    "write.csv(obj_parse_filt@meta.data,file=paste0(\"seurat/\",str_to_lower(tissue),\"_Parse_integrated_metadata.csv\"))\n"
   ]
  }
 ],
 "metadata": {
  "kernelspec": {
   "display_name": "R",
   "language": "R",
   "name": "ir"
  },
  "language_info": {
   "codemirror_mode": "r",
   "file_extension": ".r",
   "mimetype": "text/x-r-source",
   "name": "R",
   "pygments_lexer": "r",
   "version": "4.1.2"
  }
 },
 "nbformat": 4,
 "nbformat_minor": 5
}
