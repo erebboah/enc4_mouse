{
 "cells": [
  {
   "cell_type": "markdown",
   "id": "7cdd2f06-50b6-49b7-8848-ccdc1286d061",
   "metadata": {},
   "source": [
    "# Mouse snRNA Integrative Analysis\n",
    "## Hippocampus\n",
    "### Data\n",
    "- [Hippocampus data table](https://github.com/erebboah/ENC4_Mouse_SingleCell/blob/master/snrna/ref/hippocampus_minimal_metadata.tsv)\n",
    "\n",
    "### Aims\n",
    "[integrate_parse_10x.R](https://github.com/erebboah/ENC4_Mouse_SingleCell/blob/master/snrna/scripts/integrate_parse_10x.R):\n",
    "1. Read in pre-processed Parse and 10x data and merge counts matrices across experiments (within the same technology) for each tissue.\n",
    "2. Filter nuclei by # genes, # UMIs, percent mitochondrial gene expression, and doublet score. See [detailed metadata](https://github.com/erebboah/ENC4_Mouse_SingleCell/blob/master/snrna/ref/enc4_mouse_snrna_metadata.tsv) for filter cutoffs.\n",
    "3. Run SCT on the 3 objects to regress `percent.mt` and `nFeature_RNA`. Use  `method = \"glmGamPoi\"` to speed up this step, and save pre-integrated data in `seurat` folder.\n",
    "4. Combine Parse standard, Parse deep, and 10x data by CCA integration. Use Parse standard as reference dataset because it contains all timepoints, while 10x data only contains 2 timepoints. \n",
    "5. Score nuclei by cell cycle using these [mouse cell cycle genes](https://github.com/erebboah/ENC4_Mouse_SingleCell/blob/master/snrna/ref/mouse_cellcycle_genes.rda) to aid in manual celltype annotation.\n",
    "\n",
    "[predict_hippocampus_celltypes.R](https://github.com/erebboah/ENC4_Mouse_SingleCell/blob/master/snrna/scripts/predict_hippocampus_celltypes.R): Use an [external 10x brain atlas](https://portal.brain-map.org/atlases-and-data/rnaseq/mouse-whole-cortex-and-hippocampus-10x) to predict celltype labels. The 1.1M cell dataset was subset for 1,000 cells in each celltype for a ~250,000 cell dataset (code coming soon).\n",
    "\n",
    "**In this notebook**:\n",
    "Manual celltype annotation by assigning each cluster to the celltype predicted for the majority of cells in the cluster, then adjusting the labels as we see fit. Find marker genes for `gen_celltype`, `celltypes`, and `subtypes` and save in `seurat/markers`.\n",
    "\n",
    "\n",
    "### Results\n",
    "- Seurat CCA works pretty well for integrating the 3 types of experiments: Parse standard, Parse deep, and 10x multiome. \n",
    "- We decided on 3 levels of annotation: `gen_celltype` or general celltype (e.g. \"Neuron\"), `celltypes` for higher resolution (e.g. \"Inhibitory\"), and finally `subtypes` for the highest resolution of celltype annotations (e.g. \"Pvalb\"). \n",
    "- The external atlas did not separate their oligodendrocytes into OPCs, MFOLs, and MOLs, but we use our expertise with the brain to check marker genes and assign cell type labels.\n"
   ]
  },
  {
   "cell_type": "code",
   "execution_count": 11,
   "id": "e8dc8679-43e6-48ff-9213-875e7849c677",
   "metadata": {},
   "outputs": [
    {
     "name": "stderr",
     "output_type": "stream",
     "text": [
      "Warning message in system(\"timedatectl\", intern = TRUE):\n",
      "\"running command 'timedatectl' had status 1\"\n"
     ]
    }
   ],
   "source": [
    "library(Matrix)\n",
    "suppressPackageStartupMessages(library(Seurat))\n",
    "suppressPackageStartupMessages(library(tidyverse))\n",
    "suppressPackageStartupMessages(library(viridis))\n",
    "library(glmGamPoi)\n",
    "library(RColorBrewer)\n",
    "options(future.globals.maxSize = 10000 * 1024^2)\n",
    "future.seed=TRUE\n"
   ]
  },
  {
   "cell_type": "code",
   "execution_count": null,
   "id": "27ae4143-29c2-426a-963c-19ecd9ebcd26",
   "metadata": {},
   "outputs": [],
   "source": [
    "setwd(\"../../enc4_mouse/snrna/\")"
   ]
  },
  {
   "cell_type": "code",
   "execution_count": 19,
   "id": "3abf50d5-1239-4627-ba71-65fded438948",
   "metadata": {},
   "outputs": [],
   "source": [
    "system(\"mkdir plots/hippocampus\")\n",
    "system(\"mkdir plots/hippocampus/qc\")\n",
    "system(\"mkdir plots/hippocampus/clustering\")\n",
    "system(\"mkdir plots/hippocampus/annotation\")\n",
    "system(\"mkdir seurat/markers\")"
   ]
  },
  {
   "cell_type": "markdown",
   "id": "2b7bce59-98d4-430c-afab-0b0c7a1e8cfb",
   "metadata": {},
   "source": [
    "# Functions"
   ]
  },
  {
   "cell_type": "code",
   "execution_count": 55,
   "id": "cdce3009-5d78-4595-b10b-bda09f07c0fa",
   "metadata": {},
   "outputs": [],
   "source": [
    "get_orig_counts = function(file){\n",
    "    metadata = metadata[metadata$file_accession == file,]\n",
    "    counts = readMM(paste0(\"counts_10x/\",file,\"/matrix.mtx\"))\n",
    "    \n",
    "    barcodes = read.delim(paste0(\"counts_10x/\",file,\"/barcodes.tsv\"),header = F, col.names=\"barcode\")\n",
    "    features = read.delim(paste0(\"counts_10x/\",file,\"/genes.tsv\"),header = F, col.names=\"gene_name\") \n",
    "    colnames(counts) = barcodes$barcode\n",
    "    rownames(counts) = features$gene_name\n",
    "    out = counts\n",
    "\n",
    "}"
   ]
  },
  {
   "cell_type": "code",
   "execution_count": 56,
   "id": "ac3217ef-07a6-49ef-836b-70e1ae75cd10",
   "metadata": {},
   "outputs": [],
   "source": [
    "knee_df = function(mtx,expt_name){\n",
    "    df = as.data.frame(rowSums(mtx))\n",
    "    colnames(df) = c(\"nUMI\")\n",
    "    df <- tibble(total = df$nUMI,\n",
    "               rank = row_number(dplyr::desc(total))) %>%\n",
    "    distinct() %>%\n",
    "    arrange(rank)\n",
    "    df$experiment = expt_name\n",
    "    out = df\n",
    "}"
   ]
  },
  {
   "cell_type": "markdown",
   "id": "76092e49-cc8f-4a38-8a75-ccfdcd3d8ac3",
   "metadata": {},
   "source": [
    "# QC plots"
   ]
  },
  {
   "cell_type": "markdown",
   "id": "5d7496df-3066-49f8-9aa3-3bcc80bf4be4",
   "metadata": {},
   "source": [
    "## Knee plot"
   ]
  },
  {
   "cell_type": "code",
   "execution_count": 12,
   "id": "361cc08c-d22c-4d4f-a8b7-093b8248d162",
   "metadata": {},
   "outputs": [],
   "source": [
    "combined.sct = readRDS(\"seurat/hippocampus_Parse_10x_integrated.rds\")\n",
    "cellbend_10x = subset(combined.sct,subset=technology ==\"10x\")\n",
    "orig_parse = subset(combined.sct,subset=technology ==\"Parse\")\n",
    "parse_standard = subset(orig_parse,subset=depth1 ==\"shallow\")\n",
    "parse_deep = subset(orig_parse,subset=depth1 ==\"deep\")"
   ]
  },
  {
   "cell_type": "code",
   "execution_count": 58,
   "id": "84330cc5-156b-4790-9d77-2bac6459b433",
   "metadata": {},
   "outputs": [],
   "source": [
    "metadata = read.delim(\"ref/enc4_mouse_snrna_metadata.tsv\")\n",
    "metadata = metadata[metadata$technology == \"10x\",]\n",
    "metadata = metadata[metadata$tissue == \"Hippocampus\",]\n",
    "\n",
    "files = metadata$file_accession\n",
    "\n",
    "orig_10x = get_orig_counts(files[1])\n",
    "\n",
    "for (j in 2:length(files)){\n",
    "    counts_adding = get_orig_counts(files[j])\n",
    "    orig_10x = cbind(orig_10x, counts_adding)\n",
    "}\n"
   ]
  },
  {
   "cell_type": "code",
   "execution_count": 59,
   "id": "de5e5208-39eb-4c92-93e2-c9dc88ca734f",
   "metadata": {},
   "outputs": [
    {
     "name": "stderr",
     "output_type": "stream",
     "text": [
      "Warning message:\n",
      "\"Transformation introduced infinite values in continuous y-axis\"\n"
     ]
    },
    {
     "data": {
      "text/html": [
       "<strong>png:</strong> 2"
      ],
      "text/latex": [
       "\\textbf{png:} 2"
      ],
      "text/markdown": [
       "**png:** 2"
      ],
      "text/plain": [
       "png \n",
       "  2 "
      ]
     },
     "metadata": {},
     "output_type": "display_data"
    }
   ],
   "source": [
    "cellbend_knee_plot = knee_df(cellbend_10x@assays$RNA@counts, \"10x + Cellbender\")\n",
    "orig_knee_plot = knee_df(orig_10x, \"10x\")\n",
    "\n",
    "parse_standard_knee_plot = knee_df(parse_standard@assays$RNA@counts, \"Parse standard\")\n",
    "parse_deep_knee_plot = knee_df(parse_deep@assays$RNA@counts, \"Parse deep\")\n",
    "\n",
    "pdf(file=\"plots/hippocampus/qc/experiment_kneeplots.pdf\",\n",
    "    width = 10, height = 8)\n",
    "ggplot(rbind(cellbend_knee_plot,orig_knee_plot,parse_standard_knee_plot,parse_deep_knee_plot), \n",
    "       aes(rank, total, group = experiment, color = experiment)) +\n",
    "geom_path() + \n",
    "scale_y_log10() + scale_x_log10() + annotation_logticks() +\n",
    "labs(y = \"Total UMI count\", x = \"Barcode rank\", title = \"Mouse hippocampus knee plot\") + \n",
    "geom_hline(yintercept=500, linetype=\"dashed\", color = \"red\", size=1)\n",
    "dev.off()\n"
   ]
  },
  {
   "cell_type": "code",
   "execution_count": 60,
   "id": "0f74790d-7e51-41c3-aa44-95c7d4e7b68b",
   "metadata": {},
   "outputs": [
    {
     "name": "stderr",
     "output_type": "stream",
     "text": [
      "Warning message:\n",
      "\"`fun.y` is deprecated. Use `fun` instead.\"\n",
      "Warning message:\n",
      "\"`fun.y` is deprecated. Use `fun` instead.\"\n"
     ]
    },
    {
     "data": {
      "text/html": [
       "<strong>png:</strong> 2"
      ],
      "text/latex": [
       "\\textbf{png:} 2"
      ],
      "text/markdown": [
       "**png:** 2"
      ],
      "text/plain": [
       "png \n",
       "  2 "
      ]
     },
     "metadata": {},
     "output_type": "display_data"
    }
   ],
   "source": [
    "pdf(file=\"plots/hippocampus/qc/experiment_violinplots.pdf\",\n",
    "    width = 20, height = 5)\n",
    "VlnPlot(combined.sct, features = c(\"nFeature_RNA\"), ncol = 1, split.by = \"depth2\",\n",
    "        pt.size = 0, group.by = \"sample\", cols = c(\"#811b74\",\"#C08DBA\",\"#00a1e0\"))+ ggtitle(\"# genes per nucleus\") +\n",
    "stat_summary(fun.y = median, geom='point', size = 15, colour = \"black\", shape = 95) & theme(text = element_text(size = 20), \n",
    "                                                                              axis.text.x = element_text(size = 20), \n",
    "                                                                              axis.text.y = element_text(size = 20))\n",
    "VlnPlot(combined.sct, features = c(\"nCount_RNA\"), ncol = 1, split.by = \"depth2\",\n",
    "        pt.size = 0, group.by = \"sample\", cols = c(\"#811b74\",\"#C08DBA\",\"#00a1e0\")) + ggtitle(\"# UMIs per nucleus\") +\n",
    "stat_summary(fun.y = median, geom='point', size = 15, colour = \"black\", shape = 95)& theme(text = element_text(size = 20), \n",
    "                                                  axis.text.x = element_text(size = 20), \n",
    "                                                  axis.text.y = element_text(size = 20))\n",
    "VlnPlot(combined.sct, features = c(\"percent.mt\"), ncol = 1, split.by = \"depth2\",\n",
    "        pt.size = 0, group.by = \"sample\", cols = c(\"#811b74\",\"#C08DBA\",\"#00a1e0\")) & theme(text = element_text(size = 20), \n",
    "                                                  axis.text.x = element_text(size = 20), \n",
    "                                                  axis.text.y = element_text(size = 20)) \n",
    "dev.off()"
   ]
  },
  {
   "cell_type": "markdown",
   "id": "a154762c-c12a-461a-ad39-194a32ebf50d",
   "metadata": {},
   "source": [
    "## UMAP \"Feature Plots\" of QC metadata"
   ]
  },
  {
   "cell_type": "code",
   "execution_count": 13,
   "id": "04822cc6-3df1-4556-806a-4df0730b4e51",
   "metadata": {},
   "outputs": [
    {
     "name": "stderr",
     "output_type": "stream",
     "text": [
      "Scale for 'colour' is already present. Adding another scale for 'colour',\n",
      "which will replace the existing scale.\n",
      "\n",
      "Scale for 'colour' is already present. Adding another scale for 'colour',\n",
      "which will replace the existing scale.\n",
      "\n",
      "Scale for 'colour' is already present. Adding another scale for 'colour',\n",
      "which will replace the existing scale.\n",
      "\n",
      "Scale for 'colour' is already present. Adding another scale for 'colour',\n",
      "which will replace the existing scale.\n",
      "\n",
      "Scale for 'colour' is already present. Adding another scale for 'colour',\n",
      "which will replace the existing scale.\n",
      "\n",
      "Scale for 'colour' is already present. Adding another scale for 'colour',\n",
      "which will replace the existing scale.\n",
      "\n"
     ]
    },
    {
     "data": {
      "text/html": [
       "<strong>png:</strong> 2"
      ],
      "text/latex": [
       "\\textbf{png:} 2"
      ],
      "text/markdown": [
       "**png:** 2"
      ],
      "text/plain": [
       "png \n",
       "  2 "
      ]
     },
     "metadata": {},
     "output_type": "display_data"
    }
   ],
   "source": [
    "png(file=\"plots/hippocampus/qc/qc_featureplot.png\",\n",
    "    width = 1200, height = 500)\n",
    "FeaturePlot(combined.sct, pt.size = 0.1,\n",
    "            features =c(\"nFeature_RNA\",\n",
    "                        \"nCount_RNA\",\n",
    "                        \"percent.mt\",\n",
    "                        \"percent.ribo\",\n",
    "                        \"doublet_scores\",\n",
    "                        \"G2M.Score\"), ncol =3)  & scale_colour_gradientn(colours = viridis(11)) & \n",
    "                        NoAxes()& \n",
    "                        theme(text = element_text(size = 18))\n",
    "\n",
    "dev.off()\n"
   ]
  },
  {
   "cell_type": "markdown",
   "id": "853e7e3a-226d-439e-8d1d-247757cf0b6f",
   "metadata": {},
   "source": [
    "# Check integration and clustering"
   ]
  },
  {
   "cell_type": "code",
   "execution_count": 107,
   "id": "74925a5b-5fd9-41cd-9bd5-07cbbcaff34b",
   "metadata": {},
   "outputs": [],
   "source": [
    "nclusters = length(unique(combined.sct$seurat_clusters))\n",
    "cluster_cols = colorRampPalette(brewer.pal(9,\"Set1\"))(nclusters)"
   ]
  },
  {
   "cell_type": "code",
   "execution_count": 108,
   "id": "c60f69dd-de28-4ae3-8483-7478757ac6df",
   "metadata": {},
   "outputs": [
    {
     "data": {
      "text/html": [
       "<strong>png:</strong> 2"
      ],
      "text/latex": [
       "\\textbf{png:} 2"
      ],
      "text/markdown": [
       "**png:** 2"
      ],
      "text/plain": [
       "png \n",
       "  2 "
      ]
     },
     "metadata": {},
     "output_type": "display_data"
    }
   ],
   "source": [
    "pdf(file=\"plots/hippocampus/clustering/UMAP_Parse_10x.pdf\",\n",
    "    width = 20, height = 8)\n",
    "p1 <- DimPlot(combined.sct, reduction = \"umap\", group.by = \"technology\")\n",
    "p2 <- DimPlot(combined.sct, reduction = \"umap\", label = TRUE, repel = TRUE, cols = cluster_cols)\n",
    "p1 + p2\n",
    "\n",
    "dev.off()"
   ]
  },
  {
   "cell_type": "code",
   "execution_count": 109,
   "id": "1c977813-c941-40e4-8650-97aa7ed652c9",
   "metadata": {},
   "outputs": [
    {
     "data": {
      "text/html": [
       "<strong>png:</strong> 2"
      ],
      "text/latex": [
       "\\textbf{png:} 2"
      ],
      "text/markdown": [
       "**png:** 2"
      ],
      "text/plain": [
       "png \n",
       "  2 "
      ]
     },
     "metadata": {},
     "output_type": "display_data"
    }
   ],
   "source": [
    "pdf(file=\"plots/hippocampus/clustering/Parse_10x_experiment_distribution.pdf\",\n",
    "    width = 20, height = 6)\n",
    "DimPlot(combined.sct, reduction = \"umap\", group.by = \"seurat_clusters\",split.by = \"depth2\", label = TRUE, label.size = 6, repel = TRUE, shuffle = T,cols = cluster_cols)\n",
    "\n",
    "ggplot(combined.sct@meta.data, aes(x=seurat_clusters, fill=depth2)) + geom_bar(position = \"fill\") & \n",
    "theme(text = element_text(size = 20), axis.text.x = element_text(size = 20), axis.text.y = element_text(size = 20))\n",
    "\n",
    "dev.off()\n"
   ]
  },
  {
   "cell_type": "code",
   "execution_count": 110,
   "id": "5bd391a9-e7ea-4d89-ba26-5a6a97c76bfa",
   "metadata": {},
   "outputs": [
    {
     "data": {
      "text/html": [
       "<strong>png:</strong> 2"
      ],
      "text/latex": [
       "\\textbf{png:} 2"
      ],
      "text/markdown": [
       "**png:** 2"
      ],
      "text/plain": [
       "png \n",
       "  2 "
      ]
     },
     "metadata": {},
     "output_type": "display_data"
    }
   ],
   "source": [
    "combined.sct$sample = factor(combined.sct$sample, levels=paste0(\"HC_\",rep(c(\"10\",\"14\",\"25\",\"36\",\"2m\",\"18m\"),each=4),rep(c(\"_M\",\"_F\"),each=2),c(\"_1\",\"_2\")))\n",
    "\n",
    "pdf(file=\"plots/hippocampus/clustering/UMAP_cluster_sample_barplot.pdf\",\n",
    "    width = 20, height = 10)\n",
    "p1=DimPlot(combined.sct, reduction = \"umap\", group.by = \"seurat_clusters\", label = TRUE, label.size = 8, repel = TRUE, \n",
    "          cols = cluster_cols)\n",
    "p2=ggplot(combined.sct@meta.data, aes(x=seurat_clusters, fill=sample)) + geom_bar(position = \"fill\") +\n",
    "theme(text = element_text(size = 20), axis.text.x = element_text(size = 20), axis.text.y = element_text(size = 20)) & coord_flip()\n",
    "gridExtra::grid.arrange(\n",
    "  p1, p2,\n",
    "  widths = c(2,1.6),\n",
    "  layout_matrix = rbind(c(1, 2)))\n",
    "\n",
    "dev.off()"
   ]
  },
  {
   "cell_type": "code",
   "execution_count": 111,
   "id": "179a8a70-fa13-4d9b-b30a-671e0044630e",
   "metadata": {},
   "outputs": [
    {
     "data": {
      "text/html": [
       "<strong>png:</strong> 2"
      ],
      "text/latex": [
       "\\textbf{png:} 2"
      ],
      "text/markdown": [
       "**png:** 2"
      ],
      "text/plain": [
       "png \n",
       "  2 "
      ]
     },
     "metadata": {},
     "output_type": "display_data"
    }
   ],
   "source": [
    "pdf(file=\"plots/hippocampus/clustering/age_sex_barplot.pdf\",\n",
    "    width = 18, height = 19)\n",
    "p1=DimPlot(combined.sct, reduction = \"umap\", group.by = \"timepoint\", label = TRUE, label.size = 5, repel = TRUE)\n",
    "p2 = ggplot(combined.sct@meta.data, aes(x=seurat_clusters, fill=timepoint)) + geom_bar(position = \"fill\") & \n",
    "theme(text = element_text(size = 20), axis.text.x = element_text(size = 20), axis.text.y = element_text(size = 20)) & coord_flip()\n",
    "\n",
    "p3=DimPlot(combined.sct, reduction = \"umap\", group.by = \"sex\", label = TRUE, label.size = 5, repel = TRUE, shuffle = T)\n",
    "p4 = ggplot(combined.sct@meta.data, aes(x=seurat_clusters, fill=sex)) + geom_bar(position = \"fill\") & \n",
    "theme(text = element_text(size = 20), axis.text.x = element_text(size = 20), axis.text.y = element_text(size = 20)) & coord_flip()\n",
    "gridExtra::grid.arrange(\n",
    "  p1, p2, p3, p4,\n",
    "  widths = c(2,1),\n",
    "  layout_matrix = rbind(c(1, 2),\n",
    "                        c(3, 4)))\n",
    "\n",
    "dev.off()"
   ]
  },
  {
   "cell_type": "code",
   "execution_count": 120,
   "id": "4876390c-db1b-4be8-8776-1e13d9dcd461",
   "metadata": {},
   "outputs": [
    {
     "name": "stderr",
     "output_type": "stream",
     "text": [
      "Scale for 'colour' is already present. Adding another scale for 'colour',\n",
      "which will replace the existing scale.\n",
      "\n",
      "Scale for 'colour' is already present. Adding another scale for 'colour',\n",
      "which will replace the existing scale.\n",
      "\n",
      "Scale for 'colour' is already present. Adding another scale for 'colour',\n",
      "which will replace the existing scale.\n",
      "\n",
      "Scale for 'colour' is already present. Adding another scale for 'colour',\n",
      "which will replace the existing scale.\n",
      "\n"
     ]
    },
    {
     "data": {
      "text/html": [
       "<strong>png:</strong> 2"
      ],
      "text/latex": [
       "\\textbf{png:} 2"
      ],
      "text/markdown": [
       "**png:** 2"
      ],
      "text/plain": [
       "png \n",
       "  2 "
      ]
     },
     "metadata": {},
     "output_type": "display_data"
    }
   ],
   "source": [
    "# I want Vip+ and Sncg+ clusters to be separate, and Sst+ and Pvalb+.\n",
    "png(file=\"plots/hippocampus/clustering/inhib_neuron_featureplots.png\",\n",
    "    width = 1200, height = 1000)\n",
    "DefaultAssay(combined.sct) = \"SCT\" # do NOT use integrated assay to visualize gene expression\n",
    "FeaturePlot(combined.sct, pt.size = 0.1, order = T,\n",
    "            features =c(\"Sst\",\"Pvalb\",\n",
    "                        \"Vip\",\"Sncg\"), ncol =2)  & scale_colour_gradientn(colours = viridis(11)) & \n",
    "                        NoAxes()& \n",
    "                        theme(text = element_text(size = 20))\n",
    "\n",
    "dev.off()"
   ]
  },
  {
   "cell_type": "markdown",
   "id": "a0941fe0-0a65-4a9c-8fd5-5f69de5e83c1",
   "metadata": {},
   "source": [
    "# Plotting: check predicted celltypes"
   ]
  },
  {
   "cell_type": "code",
   "execution_count": 68,
   "id": "032b5fea-f93f-4432-bed5-b945ccb6cda5",
   "metadata": {},
   "outputs": [
    {
     "data": {
      "text/html": [
       "<strong>png:</strong> 2"
      ],
      "text/latex": [
       "\\textbf{png:} 2"
      ],
      "text/markdown": [
       "**png:** 2"
      ],
      "text/plain": [
       "png \n",
       "  2 "
      ]
     },
     "metadata": {},
     "output_type": "display_data"
    }
   ],
   "source": [
    "pdf(file=\"plots/hippocampus/annotation/UMAP_predictions.pdf\",\n",
    "    width = 15, height = 12)\n",
    "nclusters = length(unique(combined.sct$atlas_predictions))\n",
    "DimPlot(combined.sct, reduction = \"umap\", group.by = \"atlas_predictions\",\n",
    "        label = TRUE, label.size = 6, repel = TRUE,cols = colorRampPalette(brewer.pal(9,\"Set1\"))(nclusters)) + NoLegend()\n",
    "dev.off()"
   ]
  },
  {
   "cell_type": "markdown",
   "id": "2577bea7-f6fc-4176-8684-7d47e784b5e0",
   "metadata": {},
   "source": [
    "# Rename clusters based on maximum predicted celltype"
   ]
  },
  {
   "cell_type": "code",
   "execution_count": 69,
   "id": "63d1ca96-e189-4368-8fb4-d157680ac28c",
   "metadata": {},
   "outputs": [],
   "source": [
    "Idents(combined.sct) = \"seurat_clusters\"\n",
    "mat = as.matrix(table(Idents(combined.sct), combined.sct$atlas_predictions))\n",
    "ct = colnames(mat)[max.col(mat)]\n",
    "names(ct) = 0:(length(ct)-1)\n",
    "\n",
    "# basically add the cluster info to the maximum predicted celltype\n",
    "for (i in 1:length(unique(Idents(combined.sct))))\n",
    "{\n",
    "    search = paste0(\"\\\\<\",names(ct)[i],\"\\\\>\")\n",
    "    replace = paste0(ct[i],\".\",names(ct)[i])\n",
    "    Idents(combined.sct) = gsub(search,replace,Idents(combined.sct))\n",
    "}\n",
    "\n",
    "combined.sct[[\"atlas_celltypes\"]] <- Idents(combined.sct)"
   ]
  },
  {
   "cell_type": "code",
   "execution_count": 70,
   "id": "ff6b35a6-a091-49e9-a183-4681b90d24ed",
   "metadata": {},
   "outputs": [
    {
     "data": {
      "text/html": [
       "<strong>png:</strong> 2"
      ],
      "text/latex": [
       "\\textbf{png:} 2"
      ],
      "text/markdown": [
       "**png:** 2"
      ],
      "text/plain": [
       "png \n",
       "  2 "
      ]
     },
     "metadata": {},
     "output_type": "display_data"
    }
   ],
   "source": [
    "pdf(file=\"plots/hippocampus/annotation/UMAP_maximum_predictions.pdf\",\n",
    "    width = 15, height = 12)\n",
    "nclusters = length(unique(combined.sct$atlas_celltypes))\n",
    "DimPlot(combined.sct, reduction = \"umap\", group.by = \"atlas_celltypes\",\n",
    "        label = TRUE, label.size = 6, repel = TRUE,cols = colorRampPalette(brewer.pal(9,\"Set1\"))(nclusters))  & NoLegend()\n",
    "\n",
    "dev.off()"
   ]
  },
  {
   "cell_type": "markdown",
   "id": "a118c76a-04da-42f0-9094-502e80b8c249",
   "metadata": {},
   "source": [
    "# Manual celltype annotation"
   ]
  },
  {
   "cell_type": "code",
   "execution_count": 71,
   "id": "743f05f4-516d-49e4-8243-4051cd137969",
   "metadata": {},
   "outputs": [],
   "source": [
    "combined.sct$subtypes = combined.sct$atlas_celltypes"
   ]
  },
  {
   "cell_type": "code",
   "execution_count": 72,
   "id": "1f113d23-74aa-4a06-9c6c-95399fdb6da2",
   "metadata": {},
   "outputs": [],
   "source": [
    "genes = c( \"Gfap\",\"Slc1a2\",\"Slc1a3\",\"Gja1\", # astro\n",
    "                                   \"Pde1a\",\"Galntl6\",\"Cpne4\",\"Hs3st4\",# TEGLUs\n",
    "                                   \"Fibcd1\",\"4921539H07Rik\",\"Wfs1\",# CA1\n",
    "                                   \"Nr4a3\",\"Grik4\", # CA3\n",
    "                                   \"Ndnf\",\"Reln\",\"Trp73\", # cajal-retzius\n",
    "                                    \"Prox1\",\"Bhlhe22\",\"Igfbpl1\", # early DG\n",
    "                                    \"Flt1\", # endothelial \n",
    "                                   \"Dnah6\",\"Dnah12\", \"Ccdc153\",# ependymal\n",
    "                                   \"Nr4a2\",\"Hs3st2\",\"Tshz2\",\"Vwc2l\", # TEGLUs\n",
    "                                   \"Lamp5\",\"Lhx6\",\n",
    "                                   \"Pdgfra\",\"Sox6\",\"C1ql1\",# OPC\n",
    "                                   \"Csf1r\",\"Cx3cr1\",\"P2ry12\",# microglia\n",
    "                                   \"Plp1\",\"Mbp\",\"Ccp110\",# MFOL\n",
    "                                   \"Mog\",\"Opalin\",\"Ninj2\",\"Hapln2\",\"Dock5\", # MOL\n",
    "                                   \"Sncg\",\"Sst\",\n",
    "                                   \"Dcn\",\"Slc6a13\",\"Ptgds\",  # VLMC\n",
    "                                   \"Vip\" # inhibitory subtype\n",
    "          )\n",
    "        "
   ]
  },
  {
   "cell_type": "code",
   "execution_count": 73,
   "id": "34aeb867-e87d-4374-9aa4-b12d0951cbe0",
   "metadata": {},
   "outputs": [
    {
     "data": {
      "text/html": [
       "<strong>png:</strong> 2"
      ],
      "text/latex": [
       "\\textbf{png:} 2"
      ],
      "text/markdown": [
       "**png:** 2"
      ],
      "text/plain": [
       "png \n",
       "  2 "
      ]
     },
     "metadata": {},
     "output_type": "display_data"
    }
   ],
   "source": [
    "# dot plot of some marker genes\n",
    "# http://www.mousebrain.org/adolescent/celltypes.html\n",
    "pdf(file=\"plots/hippocampus/annotation/marker_dotplot.pdf\",\n",
    "    width = 20, height = 12)\n",
    "Idents(combined.sct) = \"subtypes\"\n",
    "Idents(combined.sct) = factor(Idents(combined.sct), levels = sort(as.character(unique(Idents(combined.sct)))))\n",
    "DotPlot(combined.sct, features = genes)+ \n",
    "theme(axis.text.x = element_text(angle = 45, hjust = 1)) \n",
    "dev.off()"
   ]
  },
  {
   "cell_type": "markdown",
   "id": "4403e13a-8c28-4e5f-9d4e-8e3291ebd630",
   "metadata": {},
   "source": [
    "## Fix oligodendrocyte clusters"
   ]
  },
  {
   "cell_type": "code",
   "execution_count": 74,
   "id": "d1bf02c0-531d-4a42-b6a4-cddc82a18ff0",
   "metadata": {},
   "outputs": [],
   "source": [
    "combined.sct$subtypes = gsub(\"\\\\<Oligo.48\\\\>\",\"OPC.48\",combined.sct$subtypes) \n",
    "combined.sct$subtypes = gsub(\"\\\\<Oligo.43\\\\>\",\"OPC.43\",combined.sct$subtypes) \n",
    "combined.sct$subtypes = gsub(\"\\\\<Oligo.8\\\\>\",\"OPC.8\",combined.sct$subtypes) \n",
    "combined.sct$subtypes = gsub(\"\\\\<Oligo.14\\\\>\",\"MFOL.14\",combined.sct$subtypes) \n",
    "combined.sct$subtypes = gsub(\"\\\\<Oligo.50\\\\>\",\"MOL.50\",combined.sct$subtypes) \n",
    "combined.sct$subtypes = gsub(\"\\\\<Oligo.13\\\\>\",\"MOL.13\",combined.sct$subtypes) \n"
   ]
  },
  {
   "cell_type": "markdown",
   "id": "97112931-8735-48ac-ba42-c687ff6f8e20",
   "metadata": {},
   "source": [
    "## Add early DG, ependymal, another VLMC"
   ]
  },
  {
   "cell_type": "code",
   "execution_count": 75,
   "id": "e813e51f-cfdf-4a3b-8a99-8e965f766c7d",
   "metadata": {},
   "outputs": [],
   "source": [
    "combined.sct$subtypes = gsub(\"\\\\Vip.11\\\\>\",\"DG_early.11\",combined.sct$subtypes)\n",
    "combined.sct$subtypes = gsub(\"\\\\<Vip.16\\\\>\",\"DG_early.16\",combined.sct$subtypes)\n",
    "combined.sct$subtypes = gsub(\"\\\\<Vip.41\\\\>\",\"DG_early.41\",combined.sct$subtypes)\n",
    "combined.sct$subtypes = gsub(\"\\\\<L6 IT CTX.42\\\\>\",\"DG_early.42\",combined.sct$subtypes)\n",
    "combined.sct$subtypes = gsub(\"\\\\<DG.3\\\\>\",\"DG_early.3\",combined.sct$subtypes)\n",
    "combined.sct$subtypes = gsub(\"\\\\<Astro.46\\\\>\",\"Ependymal.46\",combined.sct$subtypes) \n",
    "combined.sct$subtypes = gsub(\"\\\\<Astro.49\\\\>\",\"VLMC.49\",combined.sct$subtypes) \n"
   ]
  },
  {
   "cell_type": "markdown",
   "id": "33e0674b-a161-4247-938a-9bf0aecd4110",
   "metadata": {},
   "source": [
    "## Fix some neuron clusters"
   ]
  },
  {
   "cell_type": "code",
   "execution_count": 76,
   "id": "1c4f248f-4812-4a32-aee8-2d04674285c8",
   "metadata": {},
   "outputs": [],
   "source": [
    "combined.sct$subtypes = gsub(\"\\\\<L2 IT ENTm.40\\\\>\",\"CA1-ProS.40\",combined.sct$subtypes)\n",
    "combined.sct$subtypes = gsub(\"\\\\<Sst.44\\\\>\",\"CA1-ProS.44\",combined.sct$subtypes)\n",
    "combined.sct$subtypes = gsub(\"\\\\<L6 CT CTX.31\\\\>\",\"CA3.31\",combined.sct$subtypes)\n",
    "combined.sct$subtypes = gsub(\"\\\\<L5 PT CTX.21\\\\>\",\"CA1-ProS.21\",combined.sct$subtypes)"
   ]
  },
  {
   "cell_type": "code",
   "execution_count": 77,
   "id": "fcb37847-1ceb-4aa9-bd83-cff26730f0e1",
   "metadata": {},
   "outputs": [],
   "source": [
    "# get rid of cluster #\n",
    "combined.sct$subtypes = do.call(\"rbind\", strsplit(as.character(combined.sct$subtypes), \"[.]\"))[,1]"
   ]
  },
  {
   "cell_type": "markdown",
   "id": "3caf920d-4aa3-43da-b18e-47ce3942344b",
   "metadata": {},
   "source": [
    "## Change some names and check UMAP"
   ]
  },
  {
   "cell_type": "code",
   "execution_count": 78,
   "id": "437269e6-8e6d-4813-ba65-25c1047711f9",
   "metadata": {},
   "outputs": [],
   "source": [
    "combined.sct$subtypes = gsub(\"\\\\<Astro\\\\>\",\"Astrocyte\",combined.sct$subtypes) \n",
    "combined.sct$subtypes = gsub(\"\\\\<Endo\\\\>\",\"Endothelial\",combined.sct$subtypes) \n",
    "combined.sct$subtypes = gsub(\"\\\\<CA1-ProS\\\\>\",\"CA1\",combined.sct$subtypes) \n"
   ]
  },
  {
   "cell_type": "code",
   "execution_count": 80,
   "id": "eb88c012-12cd-448a-b17a-73e2fd8e3b7f",
   "metadata": {},
   "outputs": [
    {
     "data": {
      "text/html": [
       "<strong>png:</strong> 2"
      ],
      "text/latex": [
       "\\textbf{png:} 2"
      ],
      "text/markdown": [
       "**png:** 2"
      ],
      "text/plain": [
       "png \n",
       "  2 "
      ]
     },
     "metadata": {},
     "output_type": "display_data"
    }
   ],
   "source": [
    "pdf(file=\"plots/hippocampus/annotation/UMAP_subtypes.pdf\",\n",
    "    width = 15, height = 10)\n",
    "nclusters = length(unique(combined.sct$subtypes))\n",
    "DimPlot(combined.sct, reduction = \"umap\", group.by = \"subtypes\", label = TRUE, label.size = 8, repel = TRUE, \n",
    "          cols = colorRampPalette(brewer.pal(9,\"Set1\"))(nclusters))\n",
    "dev.off()"
   ]
  },
  {
   "cell_type": "markdown",
   "id": "b39ef52a-80e7-442e-bcd2-5805dfa152ad",
   "metadata": {},
   "source": [
    "# Add celltypes and gen_celltypes metadata\n",
    "Based on the subtypes annotation, we can group the cells into broader categories."
   ]
  },
  {
   "cell_type": "code",
   "execution_count": 81,
   "id": "6bd56b4c-4957-45f1-ab0f-415a40b92d61",
   "metadata": {},
   "outputs": [],
   "source": [
    "combined.sct$celltypes = combined.sct$subtypes\n",
    "\n",
    "combined.sct$celltypes = gsub(\"\\\\<CA1\\\\>\",\"Excitatory\",combined.sct$celltypes)\n",
    "combined.sct$celltypes = gsub(\"\\\\<CA3\\\\>\",\"Excitatory\",combined.sct$celltypes)\n",
    "combined.sct$celltypes = gsub(\"\\\\<CR\\\\>\",\"Excitatory\",combined.sct$celltypes)\n",
    "combined.sct$celltypes = gsub(\"\\\\<CT SUB\\\\>\",\"Excitatory\",combined.sct$celltypes)\n",
    "combined.sct$celltypes = gsub(\"\\\\<DG\\\\>\",\"Excitatory\",combined.sct$celltypes)\n",
    "combined.sct$celltypes = gsub(\"\\\\<DG_early\\\\>\",\"Excitatory\",combined.sct$celltypes)\n",
    "combined.sct$celltypes = gsub(\"\\\\<L2/3 IT PPP\\\\>\",\"Excitatory\",combined.sct$celltypes)\n",
    "combined.sct$celltypes = gsub(\"\\\\<L4/5 IT CTX\\\\>\",\"Excitatory\",combined.sct$celltypes)\n",
    "combined.sct$celltypes = gsub(\"\\\\<L5/6 NP CTX\\\\>\",\"Excitatory\",combined.sct$celltypes)\n",
    "combined.sct$celltypes = gsub(\"\\\\<SUB-ProS\\\\>\",\"Excitatory\",combined.sct$celltypes)\n",
    "combined.sct$celltypes = gsub(\"\\\\<Lamp5\\\\>\",\"Inhibitory\",combined.sct$celltypes)\n",
    "combined.sct$celltypes = gsub(\"\\\\<Pvalb\\\\>\",\"Inhibitory\",combined.sct$celltypes)\n",
    "combined.sct$celltypes = gsub(\"\\\\<Sncg\\\\>\",\"Inhibitory\",combined.sct$celltypes)\n",
    "combined.sct$celltypes = gsub(\"\\\\<Vip\\\\>\",\"Inhibitory\",combined.sct$celltypes)\n",
    "combined.sct$celltypes = gsub(\"\\\\<Sst\\\\>\",\"Inhibitory\",combined.sct$celltypes)\n",
    "combined.sct$celltypes = gsub(\"\\\\<MFOL\\\\>\",\"Oligodendrocyte\",combined.sct$celltypes)\n",
    "combined.sct$celltypes = gsub(\"\\\\<MOL\\\\>\",\"Oligodendrocyte\",combined.sct$celltypes)\n",
    "combined.sct$celltypes = gsub(\"\\\\<SMC-Peri\\\\>\",\"Smooth_muscle\",combined.sct$celltypes)\n",
    "combined.sct$celltypes = gsub(\"\\\\<Micro-PVM\\\\>\",\"Microglia\",combined.sct$celltypes)\n"
   ]
  },
  {
   "cell_type": "code",
   "execution_count": 82,
   "id": "b2429e7d-6c2f-4b40-b341-202f31decbbf",
   "metadata": {},
   "outputs": [],
   "source": [
    "combined.sct$gen_celltype = combined.sct$celltypes\n",
    "\n",
    "combined.sct$gen_celltype = gsub(\"\\\\<Excitatory\\\\>\",\"Neuron\",combined.sct$gen_celltype)\n",
    "combined.sct$gen_celltype = gsub(\"\\\\<Inhibitory\\\\>\",\"Neuron\",combined.sct$gen_celltype)\n",
    "combined.sct$gen_celltype = gsub(\"\\\\<Astrocyte\\\\>\",\"Glial\",combined.sct$gen_celltype)\n",
    "combined.sct$gen_celltype = gsub(\"\\\\<OPC\\\\>\",\"Glial\",combined.sct$gen_celltype)\n",
    "combined.sct$gen_celltype = gsub(\"\\\\<Oligodendrocyte\\\\>\",\"Glial\",combined.sct$gen_celltype)\n",
    "combined.sct$gen_celltype = gsub(\"\\\\<Microglia\\\\>\",\"Myeloid\",combined.sct$gen_celltype)\n",
    "combined.sct$gen_celltype = gsub(\"\\\\<Ependymal\\\\>\",\"Stromal\",combined.sct$gen_celltype)\n",
    "\n"
   ]
  },
  {
   "cell_type": "markdown",
   "id": "08bc7efe-e3f3-4416-b45d-21d3a75b3d5f",
   "metadata": {},
   "source": [
    "# Plotting the 3 levels of annotations"
   ]
  },
  {
   "cell_type": "code",
   "execution_count": 14,
   "id": "4d848652-a0a2-4471-99bf-b4f258cd8844",
   "metadata": {},
   "outputs": [
    {
     "data": {
      "text/html": [
       "<strong>png:</strong> 2"
      ],
      "text/latex": [
       "\\textbf{png:} 2"
      ],
      "text/markdown": [
       "**png:** 2"
      ],
      "text/plain": [
       "png \n",
       "  2 "
      ]
     },
     "metadata": {},
     "output_type": "display_data"
    }
   ],
   "source": [
    "color_ref = read.delim(\"ref/enc4_mouse_snrna_celltypes_c2c12.csv\",sep=\",\",col.names = c(\"tissue\",\"gen_celltype\",\"celltypes\",\n",
    "                                                                              \"subtypes\",\"gen_celltype_color\",\n",
    "                                                                              \"celltype_color\",\"subtype_color\"))\n",
    "gen_celltype_colors = unique(color_ref[color_ref$tissue == \"Hippocampus\",c(\"gen_celltype\",\"gen_celltype_color\")])\n",
    "rownames(gen_celltype_colors) = gen_celltype_colors$gen_celltype\n",
    "gen_celltype_colors = gen_celltype_colors[sort(unique(combined.sct$gen_celltype)),]\n",
    "\n",
    "pdf(file=\"plots/hippocampus/annotation/UMAP_final_gen_celltype.pdf\",\n",
    "    width = 15, height = 10)\n",
    "\n",
    "DimPlot(combined.sct, reduction = \"umap\", \n",
    "        group.by = \"gen_celltype\", \n",
    "        label = TRUE, label.size = 8, repel = TRUE,\n",
    "       cols = gen_celltype_colors$gen_celltype_color)\n",
    "\n",
    "dev.off()"
   ]
  },
  {
   "cell_type": "code",
   "execution_count": 15,
   "id": "1a38d571-37e8-40b4-9a1f-87171ebd3399",
   "metadata": {},
   "outputs": [
    {
     "data": {
      "text/html": [
       "<strong>png:</strong> 2"
      ],
      "text/latex": [
       "\\textbf{png:} 2"
      ],
      "text/markdown": [
       "**png:** 2"
      ],
      "text/plain": [
       "png \n",
       "  2 "
      ]
     },
     "metadata": {},
     "output_type": "display_data"
    }
   ],
   "source": [
    "celltype_colors = unique(color_ref[color_ref$tissue == \"Hippocampus\",c(\"celltypes\",\"celltype_color\")])\n",
    "rownames(celltype_colors) = celltype_colors$celltypes\n",
    "celltype_colors = celltype_colors[sort(unique(combined.sct$celltypes)),]\n",
    "\n",
    "pdf(file=\"plots/hippocampus/annotation/UMAP_final_celltypes.pdf\",\n",
    "    width = 15, height = 10)\n",
    "\n",
    "DimPlot(combined.sct, reduction = \"umap\", \n",
    "        group.by = \"celltypes\", \n",
    "        label = TRUE, label.size = 8, repel = TRUE,\n",
    "       cols = celltype_colors$celltype_color)\n",
    "\n",
    "dev.off()"
   ]
  },
  {
   "cell_type": "code",
   "execution_count": 16,
   "id": "97128675-b4a1-4893-b138-152d2d55ff3e",
   "metadata": {},
   "outputs": [
    {
     "data": {
      "text/html": [
       "<strong>png:</strong> 2"
      ],
      "text/latex": [
       "\\textbf{png:} 2"
      ],
      "text/markdown": [
       "**png:** 2"
      ],
      "text/plain": [
       "png \n",
       "  2 "
      ]
     },
     "metadata": {},
     "output_type": "display_data"
    }
   ],
   "source": [
    "subtype_colors = unique(color_ref[color_ref$tissue == \"Hippocampus\",c(\"subtypes\",\"subtype_color\")])\n",
    "rownames(subtype_colors) = subtype_colors$subtypes\n",
    "subtype_colors = subtype_colors[sort(unique(combined.sct$subtypes)),]\n",
    "\n",
    "pdf(file=\"plots/hippocampus/annotation/UMAP_final_subtypes.pdf\",\n",
    "    width = 15, height = 10)\n",
    "\n",
    "DimPlot(combined.sct, reduction = \"umap\", \n",
    "        group.by = \"subtypes\", \n",
    "        label = TRUE, label.size = 8, repel = TRUE,\n",
    "       cols = subtype_colors$subtype_color)\n",
    "\n",
    "dev.off()"
   ]
  },
  {
   "cell_type": "markdown",
   "id": "9ee04912-344f-4e84-b1a3-5d0f506b8973",
   "metadata": {},
   "source": [
    "## Proportion plot of celltypes over timepoint"
   ]
  },
  {
   "cell_type": "code",
   "execution_count": 94,
   "id": "a6995108-cbbb-4847-99f9-5c6b75e91348",
   "metadata": {
    "tags": []
   },
   "outputs": [],
   "source": [
    "combined.sct_parse = subset(combined.sct,subset= technology == \"Parse\")\n",
    "\n",
    "samples = sort(unique(combined.sct_parse$timepoint))\n",
    "dflist = list()\n",
    "for (i in 1:length(unique(combined.sct_parse$timepoint))){\n",
    "  tp=combined.sct_parse@meta.data[combined.sct_parse@meta.data$timepoint == samples[i],]\n",
    "  #tp=tp[complete.cases(tp),]\n",
    "  tp_df=as.data.frame(table(tp$celltypes))\n",
    "  tp_df$percentage=tp_df$Freq/nrow(tp)\n",
    "  tp_df$timepoint=rep(i,nrow(tp_df))\n",
    "  dflist[[i]]=tp_df\n",
    "}\n",
    "df = do.call(rbind, dflist)\n",
    "df <- df[order(df$timepoint),]\n",
    "colnames(df)= c(\"celltypes\",\"Freq\",\"percentage\",\"timepoint\")\n",
    "\n"
   ]
  },
  {
   "cell_type": "code",
   "execution_count": 95,
   "id": "076caa42-9d57-4d7a-81c9-2ff7df4ff5f2",
   "metadata": {},
   "outputs": [
    {
     "data": {
      "text/html": [
       "<strong>png:</strong> 2"
      ],
      "text/latex": [
       "\\textbf{png:} 2"
      ],
      "text/markdown": [
       "**png:** 2"
      ],
      "text/plain": [
       "png \n",
       "  2 "
      ]
     },
     "metadata": {},
     "output_type": "display_data"
    }
   ],
   "source": [
    "pdf(file=\"plots/hippocampus/annotation/timepoint_celltypes_proportions.pdf\",\n",
    "    width = 15, height = 10)\n",
    "\n",
    "ggplot(df, aes(x=timepoint, y=percentage, fill=celltypes)) + \n",
    "  geom_area()  +\n",
    "  scale_fill_manual(values= celltype_colors$celltype_color) + \n",
    "  scale_x_continuous(breaks = c(1,2,3,4,5,6),labels= c(\"PND_10\",\"PND_14\",\n",
    "                                                         \"PND_25\",\"PND_36\",\"PNM_02\",\"PNM_18-20\"))+\n",
    "  scale_y_continuous(breaks = c(0,0.1,0.2,0.3,0.4,0.5,\n",
    "                                0.6,0.7,0.8,0.9,1.0),labels= c(\"0%\",\"10%\",\"20%\",\"30%\",\"40%\",\"50%\",\"60%\",\"70%\",\"80%\",\"90%\",\"100%\")) + \n",
    "theme_minimal()+theme(text = element_text(size = 30)) + \n",
    "theme(axis.text.x = element_text(size = 30))  + \n",
    "theme(axis.text.y = element_text(size = 30))   + \n",
    "theme(axis.text.x = element_text(angle = 45, hjust = 1))\n",
    "  \n",
    "dev.off()"
   ]
  },
  {
   "cell_type": "code",
   "execution_count": 51,
   "id": "5e7c6894-afbc-4d60-a9e6-1f78adbd2bfb",
   "metadata": {},
   "outputs": [],
   "source": [
    "saveRDS(combined.sct,file=\"seurat/hippocampus_Parse_10x_integrated.rds\")\n"
   ]
  },
  {
   "cell_type": "markdown",
   "id": "8dca35a1-af91-46dc-b0e9-08497c053620",
   "metadata": {},
   "source": [
    "# Celltype marker genes"
   ]
  },
  {
   "cell_type": "code",
   "execution_count": 18,
   "id": "1967321b-4417-4a59-9fc6-11c33e9f2b8e",
   "metadata": {},
   "outputs": [],
   "source": [
    "DefaultAssay(combined.sct)= \"integrated\"\n",
    "Idents(combined.sct) = \"gen_celltype\"\n",
    "markers <- FindAllMarkers(combined.sct, \n",
    "                             only.pos = TRUE, \n",
    "                             min.pct = 0.1, \n",
    "                             logfc.threshold = 0.25, \n",
    "                             verbose = F)\n",
    "\n",
    "write.table(markers,file=paste0(\"seurat/markers/hippocampus_gen_celltype_marker_genes_only.pos_min.pct0.1_logfc.threshold0.25.tsv\"),\n",
    "            sep=\"\\t\",\n",
    "            quote=F,\n",
    "            row.names = F)\n",
    "\n"
   ]
  },
  {
   "cell_type": "code",
   "execution_count": null,
   "id": "305a234b-9371-4a6e-bd43-258750840f8e",
   "metadata": {},
   "outputs": [],
   "source": [
    "Idents(combined.sct) = \"celltypes\"\n",
    "markers <- FindAllMarkers(combined.sct, \n",
    "                             only.pos = TRUE, \n",
    "                             min.pct = 0.1, \n",
    "                             logfc.threshold = 0.25, \n",
    "                             verbose = F)\n",
    "\n",
    "write.table(markers,file=paste0(\"seurat/markers/hippocampus_celltypes_marker_genes_only.pos_min.pct0.1_logfc.threshold0.25.tsv\"),\n",
    "            sep=\"\\t\",\n",
    "            quote=F,\n",
    "            row.names = F)\n",
    "\n"
   ]
  },
  {
   "cell_type": "code",
   "execution_count": null,
   "id": "274a1f73-34f9-4044-b102-e4206023d136",
   "metadata": {},
   "outputs": [],
   "source": [
    "Idents(combined.sct) = \"subtypes\"\n",
    "markers <- FindAllMarkers(combined.sct, \n",
    "                             only.pos = TRUE, \n",
    "                             min.pct = 0.1, \n",
    "                             logfc.threshold = 0.25, \n",
    "                             verbose = F)\n",
    "\n",
    "write.table(markers,file=paste0(\"seurat/markers/hippocampus_subtypes_marker_genes_only.pos_min.pct0.1_logfc.threshold0.25.tsv\"),\n",
    "            sep=\"\\t\",\n",
    "            quote=F,\n",
    "            row.names = F)\n",
    "\n"
   ]
  },
  {
   "cell_type": "code",
   "execution_count": null,
   "id": "089a40f8-d699-4032-aca3-5d6983ec8046",
   "metadata": {},
   "outputs": [],
   "source": []
  }
 ],
 "metadata": {
  "kernelspec": {
   "display_name": "R",
   "language": "R",
   "name": "ir"
  },
  "language_info": {
   "codemirror_mode": "r",
   "file_extension": ".r",
   "mimetype": "text/x-r-source",
   "name": "R",
   "pygments_lexer": "r",
   "version": "4.1.2"
  }
 },
 "nbformat": 4,
 "nbformat_minor": 5
}
