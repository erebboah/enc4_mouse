{
 "cells": [
  {
   "cell_type": "markdown",
   "id": "7cdd2f06-50b6-49b7-8848-ccdc1286d061",
   "metadata": {},
   "source": [
    "# Mouse Hippocampus snRNA Integrative Analysis Overview\n",
    "## Data\n",
    "The data used in this notebook originates from [these](https://www.encodeproject.org/carts/enc4_mouse_snrna_parse/) [carts](https://www.encodeproject.org/carts/enc4_mouse_snrna_10x/). For a simple table of the specific data used in this notebook, see the [hippocampus metadata](https://github.com/erebboah/ENC4_Mouse_SingleCell/blob/master/snrna/ref/hippocampus_minimal_metadata.tsv).\n",
    "\n",
    "## Aims\n",
    "This notebook reads in the pre-processed hippocampus Parse and 10x data and merges by technology. Then we combine technologies by CCA integration. Next we use an [external 10x brain atlas](https://portal.brain-map.org/atlases-and-data/rnaseq/mouse-whole-cortex-and-hippocampus-10x) to predict celltype labels. Finally, we perform manual celltype annotation by assigning each cluster to the celltype predicted for the majority of cells in the cluster, then adjusting the labels as we see fit.\n",
    "\n",
    "## Results\n",
    "Seurat CCA works pretty well for integrating the 3 types of experiments: Parse standard, Parse deep, and 10x multiome. We decided on 3 levels of annotation: `gen_celltypes` or general celltypes (e.g. \"Neuron\"), `celltypes` for higher resolution (e.g. \"Inhibitory\"), and finally `subtypes` for the highest resolution of celltype annotations (e.g. \"Pvalb\"). The external atlas did not separate their oligodendrocytes into OPCs, MFOLs, and MOLs, but we use our expertise with the brain to check marker genes and assign cell type labels."
   ]
  },
  {
   "cell_type": "code",
   "execution_count": 16,
   "id": "09cf163a-dc0f-4f94-baac-962f9133187d",
   "metadata": {},
   "outputs": [],
   "source": [
    "# TODO\n",
    "# script that converts outputs to formats that austin has organized\n",
    "# explain space requirements\n",
    "# \"shallow\" --> \"standard\"\n",
    "# store outputs in synapse"
   ]
  },
  {
   "cell_type": "code",
   "execution_count": 1,
   "id": "e8dc8679-43e6-48ff-9213-875e7849c677",
   "metadata": {},
   "outputs": [
    {
     "name": "stderr",
     "output_type": "stream",
     "text": [
      "Warning message in system(\"timedatectl\", intern = TRUE):\n",
      "\"running command 'timedatectl' had status 1\"\n"
     ]
    }
   ],
   "source": [
    "library(Matrix)\n",
    "suppressPackageStartupMessages(library(Seurat))\n",
    "suppressPackageStartupMessages(library(tidyverse))\n",
    "suppressPackageStartupMessages(library(viridis))\n",
    "library(glmGamPoi)\n",
    "\n",
    "options(future.globals.maxSize = 8000 * 1024^2)\n",
    "future.seed=TRUE\n",
    "\n",
    "setwd(\"/share/crsp/lab/seyedam/share/enc4_mouse/snrna/\")\n",
    "meta = read.delim(\"ref/enc4_mouse_snrna_metadata.tsv\")"
   ]
  },
  {
   "cell_type": "markdown",
   "id": "9ba2805a-4673-4756-8f2c-1f6f401e0cf7",
   "metadata": {},
   "source": [
    "# Functions"
   ]
  },
  {
   "cell_type": "code",
   "execution_count": 19,
   "id": "6c905800-a3f2-4469-bf46-7b7bce0640a5",
   "metadata": {},
   "outputs": [],
   "source": [
    "# read in sparse matrix and assign row and column names\n",
    "get_counts = function(batch){\n",
    "    counts = readMM(paste0(\"scrublet/\",batch,\"_matrix.mtx\"))\n",
    "    barcodes = read.delim(paste0(\"scrublet/\",batch,\"_barcodes_scrublet.tsv\"),header = F, \n",
    "                          col.names=c(\"cellID\",\"doublet_scores\",\"doublets\"))\n",
    "    \n",
    "    features = read.delim(paste0(\"scrublet/\",batch,\"_genes.tsv\"),header = F) \n",
    "    rownames(counts) = features$V1 \n",
    "    colnames(counts) = barcodes$cellID\n",
    "    out = counts\n",
    "}\n",
    "\n"
   ]
  },
  {
   "cell_type": "code",
   "execution_count": 20,
   "id": "42229a90-d513-46bf-bd41-d907982533fe",
   "metadata": {},
   "outputs": [],
   "source": [
    "# read in associated metadata\n",
    "get_metadata = function(batch){\n",
    "    barcodes = read.delim(paste0(\"scrublet/\",batch,\"_barcodes_scrublet.tsv\"),header = F, \n",
    "                          col.names=c(\"cellID\",\"doublet_scores\",\"doublets\"))\n",
    "    barcodes$library_accession = do.call(\"rbind\", strsplit(barcodes$cellID, \"[.]\"))[,2]\n",
    "    barcodes = left_join(barcodes,meta,by = \"library_accession\")\n",
    "    out = barcodes\n",
    "}\n",
    "\n"
   ]
  },
  {
   "cell_type": "code",
   "execution_count": 21,
   "id": "00d1077e-32fc-4e6c-88d9-9f57f2e4391d",
   "metadata": {},
   "outputs": [],
   "source": [
    "# merge the counts across experimental \"batches\"\n",
    "# for example we sequenced 2 Parse \"deep\" libraries that should be combined into 1 counts matrix\n",
    "# the technical batch effects between the standard and deep Parse libraries (and the Parse and 10x libraries) requires CCA integration\n",
    "\n",
    "merge_counts = function(batches_list){\n",
    "    matrix_list = list()\n",
    "    for (i in 1:length(batches_list)){\n",
    "        batch = batches_list[i]\n",
    "        matrix_list[[i]] = get_counts(batch)\n",
    "    }\n",
    "    \n",
    "    if (length(batches_list) < 2){\n",
    "       matrix = matrix_list[[1]] \n",
    "       out = matrix\n",
    "    } else {\n",
    "        matrix = matrix_list[[1]]\n",
    "        for (j in 2:length(batches_list)){\n",
    "            matrix = RowMergeSparseMatrices(matrix,matrix_list[[j]])\n",
    "        }\n",
    "        out = matrix\n",
    "    }\n",
    "}"
   ]
  },
  {
   "cell_type": "code",
   "execution_count": 22,
   "id": "692740c3-86e5-4b50-ba64-4a42fb2dff5a",
   "metadata": {},
   "outputs": [],
   "source": [
    "# merge the metadata across experimental \"batches\"\n",
    "merge_metadata = function(batches_list){\n",
    "    meta_list = list()\n",
    "    for (i in 1:length(batches_list)){\n",
    "        batch = batches_list[i]\n",
    "        meta_list[[i]] = get_metadata(batch)\n",
    "    }\n",
    "    \n",
    "    if (length(batches_list) < 2){\n",
    "       meta = meta_list[[1]] \n",
    "       out = meta\n",
    "    } else {\n",
    "        meta = meta_list[[1]]\n",
    "        for (j in 2:length(batches_list)){\n",
    "            meta = rbind(meta,meta_list[[j]])\n",
    "        }\n",
    "        out = meta\n",
    "    }\n",
    "}\n"
   ]
  },
  {
   "cell_type": "code",
   "execution_count": 23,
   "id": "27c20516-46d6-487a-b9a9-a3bed3c498af",
   "metadata": {},
   "outputs": [],
   "source": [
    "# make seurat object\n",
    "seurat_obj = function(counts,metadata){\n",
    "    obj = CreateSeuratObject(counts = counts, min.cells = 0, min.features = 0)\n",
    "    obj@meta.data = cbind(obj@meta.data,metadata)\n",
    "    obj[[\"percent.mt\"]] = PercentageFeatureSet(obj, pattern = \"^mt-\")\n",
    "    obj[[\"percent.ribo\"]] <- PercentageFeatureSet(obj, pattern = \"^Rp[sl][[:digit:]]|^Rplp[[:digit:]]|^Rpsa\")\n",
    "    out = obj\n",
    "}\n"
   ]
  },
  {
   "cell_type": "markdown",
   "id": "15c94219-00c8-4c85-8440-29a21130b359",
   "metadata": {},
   "source": [
    "# Read in data\n",
    "Use functions defined above to create 3 Seurat objects: Parse standard, Parse deep, and 10x. Also make sure to get associated metadata, which includes the QC filter information."
   ]
  },
  {
   "cell_type": "code",
   "execution_count": 24,
   "id": "fc326430-d281-438c-9f1a-2eea12c43ec1",
   "metadata": {},
   "outputs": [],
   "source": [
    "meta = meta[meta$tissue == \"Hippocampus\",]"
   ]
  },
  {
   "cell_type": "code",
   "execution_count": 25,
   "id": "a84cbdeb-d260-4a62-99a8-7782d548d638",
   "metadata": {},
   "outputs": [],
   "source": [
    "# get the experimental batches for 10x, Parse standard, and Parse deep\n",
    "tenx_batches = unique(meta$experiment_batch[meta$technology == \"10x\"])\n",
    "\n",
    "parse_standard_batches = unique(meta$experiment_batch[meta$technology == \"Parse\" & \n",
    "                                              meta$depth1 == \"shallow\"])\n",
    "\n",
    "parse_deep_batches = unique(meta$experiment_batch[meta$technology == \"Parse\" & \n",
    "                                                  meta$depth1 == \"deep\"])"
   ]
  },
  {
   "cell_type": "code",
   "execution_count": 26,
   "id": "1e94bd5e-78d6-42ed-b249-01d59620cd1c",
   "metadata": {},
   "outputs": [],
   "source": [
    "#tenx_counts = merge_counts(tenx_batches)\n",
    "#tenx_meta = merge_metadata(tenx_batches)\n",
    "\n",
    "parse_standard_counts = merge_counts(parse_standard_batches)\n",
    "parse_standard_meta = merge_metadata(parse_standard_batches)\n",
    "\n",
    "parse_deep_counts = merge_counts(parse_deep_batches)\n",
    "parse_deep_meta = merge_metadata(parse_deep_batches)\n"
   ]
  },
  {
   "cell_type": "markdown",
   "id": "09c0eff3-ed25-4612-b6b0-651c2749c346",
   "metadata": {},
   "source": [
    "# Make Seurat objects"
   ]
  },
  {
   "cell_type": "code",
   "execution_count": 27,
   "id": "9f3d9f0d-f175-4fec-87b8-12f87f72a142",
   "metadata": {},
   "outputs": [],
   "source": [
    "#obj_10x = seurat_obj(tenx_counts, \n",
    "#                     tenx_meta)"
   ]
  },
  {
   "cell_type": "code",
   "execution_count": 28,
   "id": "7ccf4881-4447-4e7b-ac10-e98033272e92",
   "metadata": {},
   "outputs": [
    {
     "name": "stderr",
     "output_type": "stream",
     "text": [
      "Warning message:\n",
      "\"Non-unique features (rownames) present in the input matrix, making unique\"\n"
     ]
    }
   ],
   "source": [
    "obj_parse_standard = seurat_obj(parse_standard_counts, \n",
    "                                parse_standard_meta)"
   ]
  },
  {
   "cell_type": "code",
   "execution_count": 29,
   "id": "15512c0c-22b0-4ba4-9664-c94a31e0c236",
   "metadata": {},
   "outputs": [
    {
     "name": "stderr",
     "output_type": "stream",
     "text": [
      "Warning message:\n",
      "\"Non-unique features (rownames) present in the input matrix, making unique\"\n"
     ]
    }
   ],
   "source": [
    "obj_parse_deep = seurat_obj(parse_deep_counts, \n",
    "                            parse_deep_meta)"
   ]
  },
  {
   "cell_type": "markdown",
   "id": "209691e3-026d-470e-ae29-577549dd99cf",
   "metadata": {},
   "source": [
    "# Filter\n",
    "Use QC information in metadata to filter by # UMIs and # genes detected per nucleus as well as doublet scores and percent mitochondrial gene expression. See [detailed metadata](https://github.com/erebboah/ENC4_Mouse_SingleCell/blob/master/snrna/ref/enc4_mouse_snrna_metadata.tsv) for more information."
   ]
  },
  {
   "cell_type": "code",
   "execution_count": 30,
   "id": "5d99dd37-0580-4b5f-aedd-1a0a133ea85c",
   "metadata": {},
   "outputs": [],
   "source": [
    "#obj_10x <- subset(obj_10x, \n",
    "#                  subset = nCount_RNA > unique(obj_10x$lower_nCount_RNA) & \n",
    "#                  nCount_RNA < unique(obj_10x$upper_nCount_RNA)  & \n",
    "#                  nFeature_RNA > unique(obj_10x$lower_nFeature_RNA) & \n",
    "#                  doublet_scores < unique(obj_10x$upper_doublet_scores) & \n",
    "#                  percent.mt < unique(obj_10x$upper_percent.mt)) \n",
    "\n",
    "obj_parse_standard <- subset(obj_parse_standard, \n",
    "                            subset = nCount_RNA > unique(obj_parse_standard$lower_nCount_RNA) & \n",
    "                            nCount_RNA < unique(obj_parse_standard$upper_nCount_RNA)  & \n",
    "                            nFeature_RNA > unique(obj_parse_standard$lower_nFeature_RNA) & \n",
    "                            doublet_scores < unique(obj_parse_standard$upper_doublet_scores) & \n",
    "                            percent.mt < unique(obj_parse_standard$upper_percent.mt))\n",
    "\n",
    "obj_parse_deep <- subset(obj_parse_deep, \n",
    "                         subset = nCount_RNA > unique(obj_parse_deep$lower_nCount_RNA) & \n",
    "                         nCount_RNA < unique(obj_parse_deep$upper_nCount_RNA)  & \n",
    "                         nFeature_RNA > unique(obj_parse_deep$lower_nFeature_RNA) & \n",
    "                         doublet_scores < unique(obj_parse_deep$upper_doublet_scores) & \n",
    "                         percent.mt < unique(obj_parse_deep$upper_percent.mt))\n",
    "\n",
    "             "
   ]
  },
  {
   "cell_type": "markdown",
   "id": "04e75464-9501-4503-b29e-071b19517b2f",
   "metadata": {},
   "source": [
    "# SCT + CCA normalization and integration \n",
    "Use pretty standard Seurat pipeline to perform SCT normalization and integration. Create list of the 3 Seurat objects, use additional package to make SCT go faster (`method = \"glmGamPoi\"`), and save pre-integrated data in `seurat` folder. Use Parse standard Seurat object as reference dataset because it contains all timepoints, while 10x data only contains 2 timepoints. The integration takes a while, so make sure to save the object after it finishes."
   ]
  },
  {
   "cell_type": "code",
   "execution_count": 32,
   "id": "c92f9a3d-bc48-4c9d-a1c2-483faf516b3d",
   "metadata": {},
   "outputs": [],
   "source": [
    "#obj.list = list(obj_10x,obj_parse_standard,obj_parse_deep)\n",
    "obj.list = list(obj_parse_standard,obj_parse_deep)\n",
    "\n",
    "obj.list <- lapply(X = obj.list, FUN = SCTransform, method = \"glmGamPoi\", \n",
    "                   vars.to.regress = c(\"percent.mt\",\"nFeature_RNA\"), verbose = F)\n",
    "\n",
    "saveRDS(obj.list,file=\"seurat/hippocampus_Parse_10x_to_integrate.rds\")"
   ]
  },
  {
   "cell_type": "code",
   "execution_count": 40,
   "id": "4bc9cf13-0dc5-462a-8b6a-23ad9ebf3d69",
   "metadata": {},
   "outputs": [
    {
     "name": "stderr",
     "output_type": "stream",
     "text": [
      "Warning message:\n",
      "\"UNRELIABLE VALUE: One of the 'future.apply' iterations ('future_lapply-1') unexpectedly generated random numbers without declaring so. There is a risk that those random numbers are not statistically sound and the overall results might be invalid. To fix this, specify 'future.seed=TRUE'. This ensures that proper, parallel-safe random numbers are produced via the L'Ecuyer-CMRG method. To disable this check, use 'future.seed = NULL', or set option 'future.rng.onMisuse' to \"ignore\".\"\n"
     ]
    }
   ],
   "source": [
    "obj.list = readRDS(\"seurat/hippocampus_Parse_10x_to_integrate.rds\")\n",
    "\n",
    "features <- SelectIntegrationFeatures(object.list = obj.list, nfeatures = 3000, verbose = F)\n",
    "obj.list <- PrepSCTIntegration(object.list = obj.list, anchor.features = features, verbose = F)\n",
    "\n",
    "#names(obj.list) = c(\"10x\",\"standard\",\"deep\")\n",
    "names(obj.list) = c(\"standard\",\"deep\")\n",
    "\n",
    "reference_dataset <- which(names(obj.list) == \"standard\")\n",
    "\n",
    "anchors <- FindIntegrationAnchors(object.list = obj.list, normalization.method = \"SCT\", \n",
    "    anchor.features = features, reference = reference_dataset, verbose = F)\n",
    "combined.sct <- IntegrateData(anchorset = anchors, normalization.method = \"SCT\", verbose = F)\n",
    "\n",
    "saveRDS(combined.sct,file=\"seurat/hippocampus_Parse_10x_integrated.rds\")\n"
   ]
  },
  {
   "cell_type": "markdown",
   "id": "abf3a705-910b-4534-943a-fafe0d98c14e",
   "metadata": {},
   "source": [
    "# Dimensionality reduction and clustering\n",
    "Standard Seurat processing with PCA, UMAP, SNN graph construction, and clustering. Use high clustering resolution to separate smaller subtypes."
   ]
  },
  {
   "cell_type": "code",
   "execution_count": 41,
   "id": "9dff11d3-fc35-4d4a-af03-d564d0db3c80",
   "metadata": {},
   "outputs": [],
   "source": [
    "combined.sct = readRDS(\"seurat/hippocampus_Parse_10x_integrated.rds\")\n",
    "DefaultAssay(combined.sct) = \"integrated\" # Make sure to cluster on the integrated assay\n"
   ]
  },
  {
   "cell_type": "markdown",
   "id": "e940453f-1783-4c22-b05d-a0f933afa0ce",
   "metadata": {},
   "source": [
    "## PCA"
   ]
  },
  {
   "cell_type": "code",
   "execution_count": 42,
   "id": "fe40289c-0452-4635-a03e-4d6075953682",
   "metadata": {
    "tags": []
   },
   "outputs": [
    {
     "name": "stderr",
     "output_type": "stream",
     "text": [
      "PC_ 1 \n",
      "Positive:  Kcnip4, Rbfox1, Celf2, Lrrtm4, Grin2a, Tenm2, Lingo2, Dlg2, Dab1, Gria1 \n",
      "\t   Nrg3, Slit3, Epha6, Erc2, Ryr2, Kcnd2, Opcml, Kalrn, Fam155a, Rfx3 \n",
      "\t   Dlgap2, Meg3, Dlgap1, Ptprd, Ppfia2, Hs6st3, Lrp1b, Fam19a1, Grm7, Galnt17 \n",
      "Negative:  Slc1a2, Gpc5, Slc1a3, Npas3, Atp1a2, Ntm, Msi2, Ptprz1, Mertk, Rora \n",
      "\t   Nrxn1, Rgs20, Rorb, Plpp3, Gm3764, Ptprt, Prex2, Qk, Grm3, Sox6 \n",
      "\t   Htra1, Farp1, Gpc6, Nwd1, Gli3, Slc39a12, Daam2, Rmst, Prdm16, Phka1 \n",
      "PC_ 2 \n",
      "Positive:  Erbb4, Nxph1, Sox2ot, Grip1, Nrxn3, Grik1, Meg3, Pde4b, Lhfpl3, Rbms3 \n",
      "\t   Sgcz, Pcdh15, Dpp10, Galntl6, Kcnmb2, Plp1, Lrrc4c, Astn2, Ptprt, Etl4 \n",
      "\t   Alk, Elmo1, Snhg11, Pcdh9, Gabrg3, Ptprm, Mbp, Bcas1, Cntnap4, Zfp536 \n",
      "Negative:  Trpm3, Slc1a2, Slc4a4, Rfx3, Kcnip4, Zbtb20, Glis3, Slc1a3, Celf2, Dab1 \n",
      "\t   Maml2, Lrp1b, Atp1a2, Lingo2, Ahcyl2, Prex2, Lrrtm4, Gpc5, Gabrb1, Slit3 \n",
      "\t   Kirrel3, Dgkh, Grin2a, Fam19a2, Ryr2, Cadm2, Ccdc85a, Btbd9, Kalrn, Sparcl1 \n",
      "PC_ 3 \n",
      "Positive:  Dock10, Plcl1, St18, Plp1, Mbp, Lrrtm4, Nkain2, Pde4b, Mobp, Tmeff2 \n",
      "\t   Trpm3, Rfx3, Gm16168, Lrp1b, Adarb2, Rnf220, Frmd5, Mag, Qk, Maml2 \n",
      "\t   Prr5l, Glis3, Zfp536, Pcdh9, Sema5a, Edil3, Synpr, Fam19a2, Lingo2, Erbb4 \n",
      "Negative:  Galntl6, Cntnap2, Meg3, Hs6st3, Nrxn3, Epha6, Ntm, Snhg11, Chrm3, Lsamp \n",
      "\t   Rbfox1, Tenm3, Kcnh7, Hs3st4, Nrg1, Kcnq5, Khdrbs3, Etl4, Fam19a1, Gm2164 \n",
      "\t   Hcn1, Mgat4c, Gpc5, Cntnap5c, Nell1, Slc8a1, Dmd, Ryr3, Gm10754, Sorcs3 \n",
      "PC_ 4 \n",
      "Positive:  Hs6st3, Plp1, Pex5l, Pde4b, Mbp, Mobp, Fam19a1, Hs3st4, Epha6, Cntnap2 \n",
      "\t   Malat1, St18, Rnf220, Slc24a2, Prr5l, Gm16168, Mag, Slc8a1, Khdrbs3, Chrm3 \n",
      "\t   Enpp2, Mog, Pcdh9, Map7, Man1a, Plcl1, Kcnq5, Tspan2, Ryr3, Qk \n",
      "Negative:  Lrrtm4, Nxph1, Adarb2, Grip1, Sgcz, Rbms3, Kcnmb2, Grik1, Unc5d, Dpp10 \n",
      "\t   Ptprt, Erbb4, Trpm3, Alk, Npas3, Cntn5, Fam19a2, Lingo2, Kcnip1, Lhfpl3 \n",
      "\t   Cntnap4, Gria4, Gm45341, C130073E24Rik, Ptprm, Zfp804b, Dlx6os1, Gad2, Col19a1, Col25a1 \n",
      "PC_ 5 \n",
      "Positive:  Pcdh9, Pde4b, Gpc5, Lsamp, Erbb4, Mbp, Plp1, Nkain2, Slc1a2, Npas3 \n",
      "\t   St18, Mobp, Ntm, Sox2ot, Gm16168, Tmeff2, Nrxn1, Kirrel3, Ptprd, Ptprt \n",
      "\t   Ptprz1, Lrp1b, Grid2, Mag, Slc24a2, Malat1, Dock10, Magi2, Zfp536, Phlpp1 \n",
      "Negative:  Flt1, Ebf1, Mecom, Slco1a4, Adgrl4, Ptprb, Sparc, Fli1, Ccdc141, St3gal6 \n",
      "\t   Gm42418, Abcb1a, Hmcn1, Rasgrp3, Adgrf5, Utrn, Igf1r, Slco2b1, Ets1, Ptprm \n",
      "\t   Zfp366, Lef1, Pecam1, Cyyr1, Cmss1, Itga1, Epas1, Atp10a, Ahnak, Eng \n",
      "\n"
     ]
    }
   ],
   "source": [
    "DefaultAssay(combined.sct) = \"integrated\"\n",
    "combined.sct <- RunPCA(combined.sct, verbose = T, npcs = 50)\n"
   ]
  },
  {
   "cell_type": "markdown",
   "id": "670ccf10-0e3d-4f78-9a0d-4eb40d19b4cd",
   "metadata": {},
   "source": [
    "## UMAP and clustering"
   ]
  },
  {
   "cell_type": "code",
   "execution_count": 44,
   "id": "69d64665-c7c3-4c76-8fc4-0a884fc5c680",
   "metadata": {
    "tags": []
   },
   "outputs": [
    {
     "name": "stderr",
     "output_type": "stream",
     "text": [
      "Warning message:\n",
      "\"The default method for RunUMAP has changed from calling Python UMAP via reticulate to the R-native UWOT using the cosine metric\n",
      "To use Python UMAP via reticulate, set umap.method to 'umap-learn' and metric to 'correlation'\n",
      "This message will be shown once per session\"\n"
     ]
    }
   ],
   "source": [
    "combined.sct <- RunUMAP(combined.sct, reduction = \"pca\", dims = 1:30,verbose = F)\n",
    "combined.sct <- FindNeighbors(combined.sct, reduction = \"pca\", dims = 1:30,verbose = F)"
   ]
  },
  {
   "cell_type": "code",
   "execution_count": 45,
   "id": "6ec0bcc4-a52e-4586-a08e-82afb77f94d1",
   "metadata": {},
   "outputs": [],
   "source": [
    "combined.sct <- FindClusters(combined.sct,resolution=1.6,verbose = F)"
   ]
  },
  {
   "cell_type": "markdown",
   "id": "853e7e3a-226d-439e-8d1d-247757cf0b6f",
   "metadata": {},
   "source": [
    "# Plotting: check integration and clustering"
   ]
  },
  {
   "cell_type": "code",
   "execution_count": 55,
   "id": "74925a5b-5fd9-41cd-9bd5-07cbbcaff34b",
   "metadata": {},
   "outputs": [],
   "source": [
    "nclusters = length(unique(combined.sct$seurat_clusters))\n",
    "cluster_cols = colorRampPalette(brewer.pal(9,\"Set1\"))(nclusters)"
   ]
  },
  {
   "cell_type": "code",
   "execution_count": 168,
   "id": "c60f69dd-de28-4ae3-8483-7478757ac6df",
   "metadata": {},
   "outputs": [
    {
     "data": {
      "text/html": [
       "<strong>png:</strong> 2"
      ],
      "text/latex": [
       "\\textbf{png:} 2"
      ],
      "text/markdown": [
       "**png:** 2"
      ],
      "text/plain": [
       "png \n",
       "  2 "
      ]
     },
     "metadata": {},
     "output_type": "display_data"
    }
   ],
   "source": [
    "pdf(file=\"plots/hippocampus_umap_technologies.pdf\",\n",
    "    width = 20, height = 8)\n",
    "p1 <- DimPlot(combined.sct, reduction = \"umap\", group.by = \"technology\")\n",
    "p2 <- DimPlot(combined.sct, reduction = \"umap\", label = TRUE, repel = TRUE, cols = cluster_cols)\n",
    "p1 + p2\n",
    "\n",
    "dev.off()"
   ]
  },
  {
   "cell_type": "code",
   "execution_count": 169,
   "id": "1c977813-c941-40e4-8650-97aa7ed652c9",
   "metadata": {},
   "outputs": [
    {
     "data": {
      "text/html": [
       "<strong>png:</strong> 2"
      ],
      "text/latex": [
       "\\textbf{png:} 2"
      ],
      "text/markdown": [
       "**png:** 2"
      ],
      "text/plain": [
       "png \n",
       "  2 "
      ]
     },
     "metadata": {},
     "output_type": "display_data"
    }
   ],
   "source": [
    "pdf(file=\"plots/hippocampus_experiment_distribution.pdf\",\n",
    "    width = 20, height = 6)\n",
    "DimPlot(combined.sct, reduction = \"umap\", group.by = \"seurat_clusters\",split.by = \"depth2\", label = TRUE, label.size = 6, repel = TRUE, shuffle = T,cols = cluster_cols)\n",
    "\n",
    "ggplot(combined.sct@meta.data, aes(x=seurat_clusters, fill=depth2)) + geom_bar(position = \"fill\") & \n",
    "theme(text = element_text(size = 20), axis.text.x = element_text(size = 20), axis.text.y = element_text(size = 20))\n",
    "\n",
    "dev.off()\n"
   ]
  },
  {
   "cell_type": "code",
   "execution_count": 170,
   "id": "5bd391a9-e7ea-4d89-ba26-5a6a97c76bfa",
   "metadata": {},
   "outputs": [
    {
     "data": {
      "text/html": [
       "<strong>png:</strong> 2"
      ],
      "text/latex": [
       "\\textbf{png:} 2"
      ],
      "text/markdown": [
       "**png:** 2"
      ],
      "text/plain": [
       "png \n",
       "  2 "
      ]
     },
     "metadata": {},
     "output_type": "display_data"
    }
   ],
   "source": [
    "combined.sct$sample = factor(combined.sct$sample, levels=paste0(\"HC_\",rep(c(\"10\",\"14\",\"25\",\"36\",\"2m\",\"18m\"),each=4),rep(c(\"_M\",\"_F\"),each=2),c(\"_1\",\"_2\")))\n",
    "\n",
    "pdf(file=\"plots/hippocampus_umaps_sample_barplot.pdf\",\n",
    "    width = 20, height = 10)\n",
    "p1=DimPlot(combined.sct, reduction = \"umap\", group.by = \"seurat_clusters\", label = TRUE, label.size = 8, repel = TRUE, \n",
    "          cols = cluster_cols)\n",
    "p2=ggplot(combined.sct@meta.data, aes(x=seurat_clusters, fill=sample)) + geom_bar(position = \"fill\") +\n",
    "theme(text = element_text(size = 20), axis.text.x = element_text(size = 20), axis.text.y = element_text(size = 20)) & coord_flip()\n",
    "gridExtra::grid.arrange(\n",
    "  p1, p2,\n",
    "  widths = c(2,1.6),\n",
    "  layout_matrix = rbind(c(1, 2)))\n",
    "\n",
    "dev.off()"
   ]
  },
  {
   "cell_type": "code",
   "execution_count": 171,
   "id": "179a8a70-fa13-4d9b-b30a-671e0044630e",
   "metadata": {},
   "outputs": [
    {
     "data": {
      "text/html": [
       "<strong>png:</strong> 2"
      ],
      "text/latex": [
       "\\textbf{png:} 2"
      ],
      "text/markdown": [
       "**png:** 2"
      ],
      "text/plain": [
       "png \n",
       "  2 "
      ]
     },
     "metadata": {},
     "output_type": "display_data"
    }
   ],
   "source": [
    "pdf(file=\"plots/hippocampus_umaps_age_sex_distribution.pdf\",\n",
    "    width = 18, height = 19)\n",
    "p1=DimPlot(combined.sct, reduction = \"umap\", group.by = \"timepoint\", label = TRUE, label.size = 5, repel = TRUE)\n",
    "p2 = ggplot(combined.sct@meta.data, aes(x=seurat_clusters, fill=timepoint)) + geom_bar(position = \"fill\") & \n",
    "theme(text = element_text(size = 20), axis.text.x = element_text(size = 20), axis.text.y = element_text(size = 20)) & coord_flip()\n",
    "\n",
    "p3=DimPlot(combined.sct, reduction = \"umap\", group.by = \"sex\", label = TRUE, label.size = 5, repel = TRUE, shuffle = T)\n",
    "p4 = ggplot(combined.sct@meta.data, aes(x=seurat_clusters, fill=sex)) + geom_bar(position = \"fill\") & \n",
    "theme(text = element_text(size = 20), axis.text.x = element_text(size = 20), axis.text.y = element_text(size = 20)) & coord_flip()\n",
    "gridExtra::grid.arrange(\n",
    "  p1, p2, p3, p4,\n",
    "  widths = c(2,1),\n",
    "  layout_matrix = rbind(c(1, 2),\n",
    "                        c(3, 4)))\n",
    "\n",
    "dev.off()"
   ]
  },
  {
   "cell_type": "code",
   "execution_count": 172,
   "id": "4876390c-db1b-4be8-8776-1e13d9dcd461",
   "metadata": {},
   "outputs": [
    {
     "name": "stderr",
     "output_type": "stream",
     "text": [
      "Scale for 'colour' is already present. Adding another scale for 'colour',\n",
      "which will replace the existing scale.\n",
      "\n",
      "Scale for 'colour' is already present. Adding another scale for 'colour',\n",
      "which will replace the existing scale.\n",
      "\n",
      "Scale for 'colour' is already present. Adding another scale for 'colour',\n",
      "which will replace the existing scale.\n",
      "\n",
      "Scale for 'colour' is already present. Adding another scale for 'colour',\n",
      "which will replace the existing scale.\n",
      "\n"
     ]
    },
    {
     "data": {
      "text/html": [
       "<strong>png:</strong> 2"
      ],
      "text/latex": [
       "\\textbf{png:} 2"
      ],
      "text/markdown": [
       "**png:** 2"
      ],
      "text/plain": [
       "png \n",
       "  2 "
      ]
     },
     "metadata": {},
     "output_type": "display_data"
    }
   ],
   "source": [
    "# I want Vip+ and Sncg+ clusters to be separate, and Sst+ and Pvalb+.\n",
    "pdf(file=\"plots/hippocampus_inhib_neuron_featureplots.pdf\",\n",
    "    width = 35, height = 20)\n",
    "DefaultAssay(combined.sct) = \"SCT\" # do NOT use integrated assay to visualize gene expression\n",
    "FeaturePlot(combined.sct, pt.size = 0.1, order = T,\n",
    "            features =c(\"Sst\",\"Pvalb\",\n",
    "                        \"Vip\",\"Sncg\"), ncol =2)  & scale_colour_gradientn(colours = viridis(11)) & \n",
    "                        NoAxes()& \n",
    "                        theme(text = element_text(size = 20))\n",
    "\n",
    "dev.off()"
   ]
  },
  {
   "cell_type": "code",
   "execution_count": 48,
   "id": "bb957cd9-6b34-432d-bf9f-4e11039b03b8",
   "metadata": {},
   "outputs": [],
   "source": [
    "saveRDS(combined.sct,file=\"seurat/hippocampus_Parse_10x_integrated.rds\")\n"
   ]
  },
  {
   "cell_type": "markdown",
   "id": "f05123ed-bcf6-4aea-ae5a-7a9a42b11323",
   "metadata": {},
   "source": [
    "# Predict cell types from references\n",
    "[10x brain atlas](https://portal.brain-map.org/atlases-and-data/rnaseq/mouse-whole-cortex-and-hippocampus-10x) and [associated paper](https://www.sciencedirect.com/science/article/pii/S0092867421005018?via%3Dihub).\n",
    "Subsampled 1000 nuclei per `cell_type_alias_label`. `/share/crsp/lab/seyedam/share/enc4_mouse/snrna/ref/external_data/brain_atlas_subsampled_sct_pca.rds`"
   ]
  },
  {
   "cell_type": "code",
   "execution_count": 49,
   "id": "f4b4c9ba-04ca-49d6-8dc9-751b3f1a80f4",
   "metadata": {
    "tags": []
   },
   "outputs": [],
   "source": [
    "referencehippocampus = readRDS(\"ref/external_data/brain_atlas_subsampled_sct_pca.rds\")\n",
    "\n",
    "DefaultAssay(combined.sct) <- \"SCT\"\n",
    "DefaultAssay(referencehippocampus) <- \"SCT\"\n",
    "\n",
    "transfer_anchors <- FindTransferAnchors(\n",
    "    reference = referencehippocampus,\n",
    "    query = combined.sct,\n",
    "    reference.assay = \"SCT\",\n",
    "    normalization.method = \"SCT\",\n",
    "    reference.reduction = \"pca\",\n",
    "    recompute.residuals = FALSE,\n",
    "    dims = 1:50,\n",
    "    verbose = F)\n"
   ]
  },
  {
   "cell_type": "code",
   "execution_count": 50,
   "id": "3a55357a-07ca-4794-ac51-937814433438",
   "metadata": {},
   "outputs": [],
   "source": [
    "predictions <- TransferData(\n",
    "    anchorset = transfer_anchors, \n",
    "    refdata = referencehippocampus$subclass_label, \n",
    "    weight.reduction = combined.sct[['pca']],\n",
    "    dims = 1:50,\n",
    "    verbose = F)\n",
    "\n",
    "combined.sct <- AddMetaData(\n",
    "    object = combined.sct,\n",
    "    metadata = predictions)\n",
    "    \n",
    "combined.sct$atlas_predictions = combined.sct$predicted.id"
   ]
  },
  {
   "cell_type": "code",
   "execution_count": 51,
   "id": "d72cb193-5b60-4e07-b000-7ca0455957ed",
   "metadata": {},
   "outputs": [],
   "source": [
    "saveRDS(combined.sct,file=\"seurat/hippocampus_Parse_10x_integrated.rds\")\n"
   ]
  },
  {
   "cell_type": "markdown",
   "id": "732cc81f-3793-4ee4-8f23-d365ee1f3f6b",
   "metadata": {},
   "source": [
    "# Add cell cycle scores"
   ]
  },
  {
   "cell_type": "code",
   "execution_count": 53,
   "id": "fcc51180-353b-48c0-9332-90912232ce64",
   "metadata": {},
   "outputs": [],
   "source": [
    "load(\"ref/mouse_cellcycle_genes.rda\")\n",
    "DefaultAssay(combined.sct) = \"SCT\"\n",
    "combined.sct<- CellCycleScoring(combined.sct, s.features = m.s.genes, g2m.features = m.g2m.genes)\n"
   ]
  },
  {
   "cell_type": "markdown",
   "id": "a0941fe0-0a65-4a9c-8fd5-5f69de5e83c1",
   "metadata": {},
   "source": [
    "# Plotting: check predicted celltypes"
   ]
  },
  {
   "cell_type": "code",
   "execution_count": 173,
   "id": "032b5fea-f93f-4432-bed5-b945ccb6cda5",
   "metadata": {},
   "outputs": [
    {
     "data": {
      "text/html": [
       "<strong>png:</strong> 2"
      ],
      "text/latex": [
       "\\textbf{png:} 2"
      ],
      "text/markdown": [
       "**png:** 2"
      ],
      "text/plain": [
       "png \n",
       "  2 "
      ]
     },
     "metadata": {},
     "output_type": "display_data"
    }
   ],
   "source": [
    "pdf(file=\"plots/hippocampus_umaps_predictions.pdf\",\n",
    "    width = 15, height = 12)\n",
    "nclusters = length(unique(combined.sct$atlas_predictions))\n",
    "DimPlot(combined.sct, reduction = \"umap\", group.by = \"atlas_predictions\",\n",
    "        label = TRUE, label.size = 6, repel = TRUE,cols = colorRampPalette(brewer.pal(9,\"Set1\"))(nclusters)) + NoLegend()\n",
    "dev.off()"
   ]
  },
  {
   "cell_type": "code",
   "execution_count": 174,
   "id": "b34ad73d-0e7f-4e14-96a9-77f8c057eeee",
   "metadata": {},
   "outputs": [
    {
     "name": "stderr",
     "output_type": "stream",
     "text": [
      "Scale for 'colour' is already present. Adding another scale for 'colour',\n",
      "which will replace the existing scale.\n",
      "\n",
      "Scale for 'colour' is already present. Adding another scale for 'colour',\n",
      "which will replace the existing scale.\n",
      "\n",
      "Scale for 'colour' is already present. Adding another scale for 'colour',\n",
      "which will replace the existing scale.\n",
      "\n",
      "Scale for 'colour' is already present. Adding another scale for 'colour',\n",
      "which will replace the existing scale.\n",
      "\n",
      "Scale for 'colour' is already present. Adding another scale for 'colour',\n",
      "which will replace the existing scale.\n",
      "\n"
     ]
    },
    {
     "data": {
      "text/html": [
       "<strong>png:</strong> 2"
      ],
      "text/latex": [
       "\\textbf{png:} 2"
      ],
      "text/markdown": [
       "**png:** 2"
      ],
      "text/plain": [
       "png \n",
       "  2 "
      ]
     },
     "metadata": {},
     "output_type": "display_data"
    }
   ],
   "source": [
    "pdf(file=\"plots/hippocampus_qc_featureplots.pdf\",\n",
    "    width = 25, height = 10)\n",
    "FeaturePlot(combined.sct, pt.size = 0.1, order = T,\n",
    "            features =c(\"nFeature_RNA\",\n",
    "                        \"percent.mt\",\n",
    "                        \"percent.ribo\",\n",
    "                        \"doublet_scores\",\n",
    "                        \"G2M.Score\"), ncol =3)  & scale_colour_gradientn(colours = viridis(11)) & \n",
    "                        NoAxes()& \n",
    "                        theme(text = element_text(size = 20))\n",
    "\n",
    "dev.off()\n"
   ]
  },
  {
   "cell_type": "markdown",
   "id": "2577bea7-f6fc-4176-8684-7d47e784b5e0",
   "metadata": {},
   "source": [
    "# Rename clusters based on maximum predicted celltype"
   ]
  },
  {
   "cell_type": "code",
   "execution_count": 175,
   "id": "63d1ca96-e189-4368-8fb4-d157680ac28c",
   "metadata": {},
   "outputs": [],
   "source": [
    "Idents(combined.sct) = \"seurat_clusters\"\n",
    "mat = as.matrix(table(Idents(combined.sct), combined.sct$atlas_predictions))\n",
    "ct = colnames(mat)[max.col(mat)]\n",
    "names(ct) = 0:(length(ct)-1)\n",
    "\n",
    "# basically add the cluster info to the maximum predicted celltype\n",
    "for (i in 1:length(unique(Idents(combined.sct))))\n",
    "{\n",
    "    search = paste0(\"\\\\<\",names(ct)[i],\"\\\\>\")\n",
    "    replace = paste0(ct[i],\".\",names(ct)[i])\n",
    "    Idents(combined.sct) = gsub(search,replace,Idents(combined.sct))\n",
    "}\n",
    "\n",
    "combined.sct[[\"atlas_celltypes\"]] <- Idents(combined.sct)"
   ]
  },
  {
   "cell_type": "code",
   "execution_count": 176,
   "id": "ff6b35a6-a091-49e9-a183-4681b90d24ed",
   "metadata": {},
   "outputs": [
    {
     "data": {
      "text/html": [
       "<strong>png:</strong> 2"
      ],
      "text/latex": [
       "\\textbf{png:} 2"
      ],
      "text/markdown": [
       "**png:** 2"
      ],
      "text/plain": [
       "png \n",
       "  2 "
      ]
     },
     "metadata": {},
     "output_type": "display_data"
    }
   ],
   "source": [
    "pdf(file=\"plots/hippocampus_umaps_maximum_predictions.pdf\",\n",
    "    width = 15, height = 12)\n",
    "nclusters = length(unique(combined.sct$atlas_celltypes))\n",
    "DimPlot(combined.sct, reduction = \"umap\", group.by = \"atlas_celltypes\",\n",
    "        label = TRUE, label.size = 6, repel = TRUE,cols = colorRampPalette(brewer.pal(9,\"Set1\"))(nclusters))  & NoLegend()\n",
    "\n",
    "dev.off()"
   ]
  },
  {
   "cell_type": "markdown",
   "id": "a118c76a-04da-42f0-9094-502e80b8c249",
   "metadata": {},
   "source": [
    "# Manual celltype annotation"
   ]
  },
  {
   "cell_type": "code",
   "execution_count": 178,
   "id": "743f05f4-516d-49e4-8243-4051cd137969",
   "metadata": {},
   "outputs": [],
   "source": [
    "combined.sct$subtypes = combined.sct$atlas_celltypes"
   ]
  },
  {
   "cell_type": "code",
   "execution_count": 179,
   "id": "34aeb867-e87d-4374-9aa4-b12d0951cbe0",
   "metadata": {},
   "outputs": [
    {
     "data": {
      "text/html": [
       "<strong>png:</strong> 2"
      ],
      "text/latex": [
       "\\textbf{png:} 2"
      ],
      "text/markdown": [
       "**png:** 2"
      ],
      "text/plain": [
       "png \n",
       "  2 "
      ]
     },
     "metadata": {},
     "output_type": "display_data"
    }
   ],
   "source": [
    "# dot plot of some marker genes\n",
    "pdf(file=\"plots/hippocampus_dotplot.pdf\",\n",
    "    width = 12, height = 12)\n",
    "Idents(combined.sct) = \"subtypes\"\n",
    "DotPlot(combined.sct, features = c(\"Dnah6\",\"Dnah12\", # ependymal\n",
    "                                   \"Prox1\", # early DG\n",
    "                                   \"Pcdh15\",\"Sox6\", # OPC\n",
    "                                   \"Plp1\",\"Mbp\", # MFOL\n",
    "                                  \"Mag\",\"Mog\",# MOL\n",
    "                                  \"Tmem119\",\"Csf1r\",\"Cx3cr1\")) # microglia\n",
    "dev.off()"
   ]
  },
  {
   "cell_type": "markdown",
   "id": "4403e13a-8c28-4e5f-9d4e-8e3291ebd630",
   "metadata": {},
   "source": [
    "## Fix oligodendrocyte clusters"
   ]
  },
  {
   "cell_type": "code",
   "execution_count": 180,
   "id": "d1bf02c0-531d-4a42-b6a4-cddc82a18ff0",
   "metadata": {},
   "outputs": [],
   "source": [
    "combined.sct$subtypes = gsub(\"\\\\<Oligo.20\\\\>\",\"OPC.20\",combined.sct$subtypes) \n",
    "combined.sct$subtypes = gsub(\"\\\\<Oligo.11\\\\>\",\"OPC.11\",combined.sct$subtypes) \n",
    "combined.sct$subtypes = gsub(\"\\\\<Oligo.23\\\\>\",\"MFOL.23\",combined.sct$subtypes) \n",
    "combined.sct$subtypes = gsub(\"\\\\<Oligo.9\\\\>\",\"MOL.9\",combined.sct$subtypes) \n",
    "combined.sct$subtypes = gsub(\"\\\\<Oligo.44\\\\>\",\"MOL.44\",combined.sct$subtypes) \n"
   ]
  },
  {
   "cell_type": "markdown",
   "id": "97112931-8735-48ac-ba42-c687ff6f8e20",
   "metadata": {},
   "source": [
    "## Add early DG and ependymal clusters"
   ]
  },
  {
   "cell_type": "code",
   "execution_count": 181,
   "id": "e813e51f-cfdf-4a3b-8a99-8e965f766c7d",
   "metadata": {},
   "outputs": [],
   "source": [
    "combined.sct$subtypes = gsub(\"\\\\DG.8\\\\>\",\"DG_early.8\",combined.sct$subtypes)\n",
    "combined.sct$subtypes = gsub(\"\\\\<Vip.7\\\\>\",\"DG_early.7\",combined.sct$subtypes)\n",
    "combined.sct$subtypes = gsub(\"\\\\<Micro-PVM.41\\\\>\",\"DG_early.41\",combined.sct$subtypes)\n",
    "\n",
    "combined.sct$subtypes = gsub(\"\\\\<CA3.39\\\\>\",\"Ependymal.39\",combined.sct$subtypes) \n",
    "combined.sct$subtypes = gsub(\"\\\\<Sncg.45\\\\>\",\"Ependymal.45\",combined.sct$subtypes) \n"
   ]
  },
  {
   "cell_type": "code",
   "execution_count": 182,
   "id": "fcb37847-1ceb-4aa9-bd83-cff26730f0e1",
   "metadata": {},
   "outputs": [],
   "source": [
    "# get rid of cluster #\n",
    "combined.sct$subtypes = do.call(\"rbind\", strsplit(as.character(combined.sct$subtypes), \"[.]\"))[,1]"
   ]
  },
  {
   "cell_type": "code",
   "execution_count": 183,
   "id": "437269e6-8e6d-4813-ba65-25c1047711f9",
   "metadata": {},
   "outputs": [],
   "source": [
    "combined.sct$subtypes = gsub(\"\\\\<Astro\\\\>\",\"Astrocyte\",combined.sct$subtypes) \n",
    "combined.sct$subtypes = gsub(\"\\\\<Endo\\\\>\",\"Endothelial\",combined.sct$subtypes) \n",
    "combined.sct$subtypes = gsub(\"\\\\<Sst Chodl\\\\>\",\"Sst\",combined.sct$subtypes) \n"
   ]
  },
  {
   "cell_type": "code",
   "execution_count": 184,
   "id": "eb88c012-12cd-448a-b17a-73e2fd8e3b7f",
   "metadata": {},
   "outputs": [
    {
     "data": {
      "text/html": [
       "<strong>png:</strong> 2"
      ],
      "text/latex": [
       "\\textbf{png:} 2"
      ],
      "text/markdown": [
       "**png:** 2"
      ],
      "text/plain": [
       "png \n",
       "  2 "
      ]
     },
     "metadata": {},
     "output_type": "display_data"
    }
   ],
   "source": [
    "pdf(file=\"plots/hippocampus_prelim_subtypes.pdf\",\n",
    "    width = 15, height = 10)\n",
    "# clusters and celltypes\n",
    "nclusters = length(unique(combined.sct$subtypes))\n",
    "DimPlot(combined.sct, reduction = \"umap\", group.by = \"subtypes\", label = TRUE, label.size = 8, repel = TRUE, \n",
    "          cols = colorRampPalette(brewer.pal(9,\"Set1\"))(nclusters))\n",
    "dev.off()"
   ]
  },
  {
   "cell_type": "markdown",
   "id": "b39ef52a-80e7-442e-bcd2-5805dfa152ad",
   "metadata": {},
   "source": [
    "# Add celltypes and gen_celltypes metadata\n",
    "Based on the subtypes annotation, we can group the cells into broader categories."
   ]
  },
  {
   "cell_type": "code",
   "execution_count": 185,
   "id": "6bd56b4c-4957-45f1-ab0f-415a40b92d61",
   "metadata": {},
   "outputs": [],
   "source": [
    "combined.sct$celltypes = combined.sct$subtypes\n",
    "\n",
    "combined.sct$celltypes = gsub(\"\\\\<CA1-ProS\\\\>\",\"Excitatory\",combined.sct$celltypes)\n",
    "combined.sct$celltypes = gsub(\"\\\\<CA3\\\\>\",\"Excitatory\",combined.sct$celltypes)\n",
    "combined.sct$celltypes = gsub(\"\\\\<CR\\\\>\",\"Excitatory\",combined.sct$celltypes)\n",
    "combined.sct$celltypes = gsub(\"\\\\<CT SUB\\\\>\",\"Excitatory\",combined.sct$celltypes)\n",
    "combined.sct$celltypes = gsub(\"\\\\<Car3\\\\>\",\"Excitatory\",combined.sct$celltypes)\n",
    "combined.sct$celltypes = gsub(\"\\\\<DG\\\\>\",\"Excitatory\",combined.sct$celltypes)\n",
    "combined.sct$celltypes = gsub(\"\\\\<DG_early\\\\>\",\"Excitatory\",combined.sct$celltypes)\n",
    "combined.sct$celltypes = gsub(\"\\\\<L2 IT ENTm\\\\>\",\"Excitatory\",combined.sct$celltypes)\n",
    "combined.sct$celltypes = gsub(\"\\\\<L2/3 IT PPP\\\\>\",\"Excitatory\",combined.sct$celltypes)\n",
    "combined.sct$celltypes = gsub(\"\\\\<L3 IT ENT\\\\>\",\"Excitatory\",combined.sct$celltypes)\n",
    "combined.sct$celltypes = gsub(\"\\\\<L6 CT CTX\\\\>\",\"Excitatory\",combined.sct$celltypes)\n",
    "combined.sct$celltypes = gsub(\"\\\\<NP SUB\\\\>\",\"Excitatory\",combined.sct$celltypes)\n",
    "combined.sct$celltypes = gsub(\"\\\\<SUB-ProS\\\\>\",\"Excitatory\",combined.sct$celltypes)\n",
    "\n",
    "combined.sct$celltypes = gsub(\"\\\\<Lamp5\\\\>\",\"Inhibitory\",combined.sct$celltypes)\n",
    "combined.sct$celltypes = gsub(\"\\\\<Pvalb\\\\>\",\"Inhibitory\",combined.sct$celltypes)\n",
    "combined.sct$celltypes = gsub(\"\\\\<Sncg\\\\>\",\"Inhibitory\",combined.sct$celltypes)\n",
    "combined.sct$celltypes = gsub(\"\\\\<Sst\\\\>\",\"Inhibitory\",combined.sct$celltypes)\n",
    "\n",
    "combined.sct$celltypes = gsub(\"\\\\<MFOL\\\\>\",\"Oligodendrocyte\",combined.sct$celltypes)\n",
    "combined.sct$celltypes = gsub(\"\\\\<MOL\\\\>\",\"Oligodendrocyte\",combined.sct$celltypes)\n",
    "\n",
    "combined.sct$celltypes = gsub(\"\\\\<SMC-Peri\\\\>\",\"Smooth_muscle\",combined.sct$celltypes)\n",
    "\n",
    "combined.sct$celltypes = gsub(\"\\\\<Micro-PVM\\\\>\",\"Microglia\",combined.sct$celltypes)\n"
   ]
  },
  {
   "cell_type": "code",
   "execution_count": 186,
   "id": "071a88d1-7473-493f-8c75-081d93b8a983",
   "metadata": {},
   "outputs": [
    {
     "data": {
      "text/plain": [
       "\n",
       "      Astrocyte     Endothelial       Ependymal      Excitatory      Inhibitory \n",
       "           4561             521             244           29383            3157 \n",
       "      Microglia             OPC Oligodendrocyte   Smooth_muscle            VLMC \n",
       "            575            1849            1935             118             270 "
      ]
     },
     "metadata": {},
     "output_type": "display_data"
    }
   ],
   "source": [
    "table(combined.sct$celltypes)"
   ]
  },
  {
   "cell_type": "code",
   "execution_count": 187,
   "id": "b2429e7d-6c2f-4b40-b341-202f31decbbf",
   "metadata": {},
   "outputs": [],
   "source": [
    "combined.sct$gen_celltype = combined.sct$celltypes\n",
    "\n",
    "combined.sct$gen_celltype = gsub(\"\\\\<Excitatory\\\\>\",\"Neuron\",combined.sct$gen_celltype)\n",
    "combined.sct$gen_celltype = gsub(\"\\\\<Inhibitory\\\\>\",\"Neuron\",combined.sct$gen_celltype)\n",
    "combined.sct$gen_celltype = gsub(\"\\\\<Astrocyte\\\\>\",\"Glial\",combined.sct$gen_celltype)\n",
    "combined.sct$gen_celltype = gsub(\"\\\\<OPC\\\\>\",\"Glial\",combined.sct$gen_celltype)\n",
    "combined.sct$gen_celltype = gsub(\"\\\\<Oligodendrocyte\\\\>\",\"Glial\",combined.sct$gen_celltype)\n",
    "combined.sct$gen_celltype = gsub(\"\\\\<Microglia\\\\>\",\"Myeloid\",combined.sct$gen_celltype)\n",
    "combined.sct$gen_celltype = gsub(\"\\\\<Ependymal\\\\>\",\"Stromal\",combined.sct$gen_celltype)\n",
    "\n"
   ]
  },
  {
   "cell_type": "code",
   "execution_count": 188,
   "id": "60117575-fd94-40f7-ae18-76ee9507ee1e",
   "metadata": {},
   "outputs": [
    {
     "data": {
      "text/plain": [
       "\n",
       "  Endothelial         Glial       Myeloid        Neuron Smooth_muscle \n",
       "          521          8345           575         32540           118 \n",
       "      Stromal          VLMC \n",
       "          244           270 "
      ]
     },
     "metadata": {},
     "output_type": "display_data"
    }
   ],
   "source": [
    "table(combined.sct$gen_celltype)"
   ]
  },
  {
   "cell_type": "markdown",
   "id": "08bc7efe-e3f3-4416-b45d-21d3a75b3d5f",
   "metadata": {},
   "source": [
    "# Plotting the 3 levels of annotations"
   ]
  },
  {
   "cell_type": "code",
   "execution_count": 189,
   "id": "4d848652-a0a2-4471-99bf-b4f258cd8844",
   "metadata": {},
   "outputs": [
    {
     "data": {
      "text/html": [
       "<strong>png:</strong> 2"
      ],
      "text/latex": [
       "\\textbf{png:} 2"
      ],
      "text/markdown": [
       "**png:** 2"
      ],
      "text/plain": [
       "png \n",
       "  2 "
      ]
     },
     "metadata": {},
     "output_type": "display_data"
    }
   ],
   "source": [
    "color_ref = read.csv(\"ref/enc4_mouse_snrna_celltypes_c2c12.csv\")\n",
    "gen_celltype_colors = unique(color_ref[color_ref$X...tissue == \"Hippocampus\",c(\"gen_celltype\",\"gen_celltype_color\")])\n",
    "rownames(gen_celltype_colors) = gen_celltype_colors$gen_celltype\n",
    "gen_celltype_colors = gen_celltype_colors[sort(unique(combined.sct$gen_celltype)),]\n",
    "\n",
    "pdf(file=\"plots/hippocampus_gen_celltype.pdf\",\n",
    "    width = 15, height = 10)\n",
    "\n",
    "DimPlot(combined.sct, reduction = \"umap\", \n",
    "        group.by = \"gen_celltype\", \n",
    "        label = TRUE, label.size = 8, repel = TRUE,\n",
    "       cols = gen_celltype_colors$gen_celltype_color)\n",
    "\n",
    "dev.off()"
   ]
  },
  {
   "cell_type": "code",
   "execution_count": 190,
   "id": "1a38d571-37e8-40b4-9a1f-87171ebd3399",
   "metadata": {},
   "outputs": [
    {
     "data": {
      "text/html": [
       "<strong>png:</strong> 2"
      ],
      "text/latex": [
       "\\textbf{png:} 2"
      ],
      "text/markdown": [
       "**png:** 2"
      ],
      "text/plain": [
       "png \n",
       "  2 "
      ]
     },
     "metadata": {},
     "output_type": "display_data"
    }
   ],
   "source": [
    "celltype_colors = unique(color_ref[color_ref$X...tissue == \"Hippocampus\",c(\"celltypes\",\"celltype_color\")])\n",
    "rownames(celltype_colors) = celltype_colors$celltypes\n",
    "celltype_colors = celltype_colors[sort(unique(combined.sct$celltypes)),]\n",
    "\n",
    "pdf(file=\"plots/hippocampus_celltypes.pdf\",\n",
    "    width = 15, height = 10)\n",
    "\n",
    "DimPlot(combined.sct, reduction = \"umap\", \n",
    "        group.by = \"celltypes\", \n",
    "        label = TRUE, label.size = 8, repel = TRUE,\n",
    "       cols = celltype_colors$celltype_color)\n",
    "\n",
    "dev.off()"
   ]
  },
  {
   "cell_type": "code",
   "execution_count": 191,
   "id": "97128675-b4a1-4893-b138-152d2d55ff3e",
   "metadata": {},
   "outputs": [
    {
     "data": {
      "text/html": [
       "<strong>png:</strong> 2"
      ],
      "text/latex": [
       "\\textbf{png:} 2"
      ],
      "text/markdown": [
       "**png:** 2"
      ],
      "text/plain": [
       "png \n",
       "  2 "
      ]
     },
     "metadata": {},
     "output_type": "display_data"
    }
   ],
   "source": [
    "subtype_colors = unique(color_ref[color_ref$X...tissue == \"Hippocampus\",c(\"subtypes\",\"subtype_color\")])\n",
    "rownames(subtype_colors) = subtype_colors$subtypes\n",
    "subtype_colors = subtype_colors[sort(unique(combined.sct$subtypes)),]\n",
    "\n",
    "pdf(file=\"plots/hippocampus_subtypes.pdf\",\n",
    "    width = 15, height = 10)\n",
    "\n",
    "DimPlot(combined.sct, reduction = \"umap\", \n",
    "        group.by = \"subtypes\", \n",
    "        label = TRUE, label.size = 8, repel = TRUE,\n",
    "       cols = celltype_colors$subtype_color)\n",
    "\n",
    "dev.off()"
   ]
  },
  {
   "cell_type": "markdown",
   "id": "9ee04912-344f-4e84-b1a3-5d0f506b8973",
   "metadata": {},
   "source": [
    "## Proportion plot of celltypes over timepoint"
   ]
  },
  {
   "cell_type": "code",
   "execution_count": 192,
   "id": "a6995108-cbbb-4847-99f9-5c6b75e91348",
   "metadata": {
    "tags": []
   },
   "outputs": [],
   "source": [
    "combined.sct_parse = subset(combined.sct,subset= technology == \"Parse\")\n",
    "\n",
    "samples = sort(unique(combined.sct_parse$timepoint))\n",
    "dflist = list()\n",
    "for (i in 1:length(unique(combined.sct_parse$timepoint))){\n",
    "  tp=combined.sct_parse@meta.data[combined.sct_parse@meta.data$timepoint == samples[i],]\n",
    "  #tp=tp[complete.cases(tp),]\n",
    "  tp_df=as.data.frame(table(tp$celltypes))\n",
    "  tp_df$percentage=tp_df$Freq/nrow(tp)\n",
    "  tp_df$timepoint=rep(i,nrow(tp_df))\n",
    "  dflist[[i]]=tp_df\n",
    "}\n",
    "df = do.call(rbind, dflist)\n",
    "df <- df[order(df$timepoint),]\n",
    "colnames(df)= c(\"celltypes\",\"Freq\",\"percentage\",\"timepoint\")\n",
    "\n"
   ]
  },
  {
   "cell_type": "code",
   "execution_count": 193,
   "id": "076caa42-9d57-4d7a-81c9-2ff7df4ff5f2",
   "metadata": {},
   "outputs": [
    {
     "data": {
      "text/html": [
       "<strong>png:</strong> 2"
      ],
      "text/latex": [
       "\\textbf{png:} 2"
      ],
      "text/markdown": [
       "**png:** 2"
      ],
      "text/plain": [
       "png \n",
       "  2 "
      ]
     },
     "metadata": {},
     "output_type": "display_data"
    }
   ],
   "source": [
    "pdf(file=\"plots/hippocampus_timepoint_celltypes_proportions.pdf\",\n",
    "    width = 15, height = 10)\n",
    "\n",
    "ggplot(df, aes(x=timepoint, y=percentage, fill=celltypes)) + \n",
    "  geom_area()  +\n",
    "  scale_fill_manual(values= celltype_colors$celltype_color) + \n",
    "  scale_x_continuous(breaks = c(1,2,3,4,5,6),labels= c(\"PND_10\",\"PND_14\",\n",
    "                                                         \"PND_25\",\"PND_36\",\"PNM_02\",\"PNM_18-20\"))+\n",
    "  scale_y_continuous(breaks = c(0,0.1,0.2,0.3,0.4,0.5,\n",
    "                                0.6,0.7,0.8,0.9,1.0),labels= c(\"0%\",\"10%\",\"20%\",\"30%\",\"40%\",\"50%\",\"60%\",\"70%\",\"80%\",\"90%\",\"100%\")) + \n",
    "theme_minimal()+theme(text = element_text(size = 30)) + \n",
    "theme(axis.text.x = element_text(size = 30))  + \n",
    "theme(axis.text.y = element_text(size = 30))   + \n",
    "theme(axis.text.x = element_text(angle = 45, hjust = 1))\n",
    "  \n",
    "dev.off()"
   ]
  },
  {
   "cell_type": "code",
   "execution_count": 167,
   "id": "5e7c6894-afbc-4d60-a9e6-1f78adbd2bfb",
   "metadata": {},
   "outputs": [],
   "source": [
    "saveRDS(combined.sct,file=\"seurat/hippocampus_Parse_10x_integrated.rds\")\n"
   ]
  },
  {
   "cell_type": "code",
   "execution_count": 2,
   "id": "f570e257-c97b-4b48-80fa-b21acb79e1c0",
   "metadata": {},
   "outputs": [
    {
     "data": {
      "text/plain": [
       "R version 4.1.2 (2021-11-01)\n",
       "Platform: x86_64-pc-linux-gnu (64-bit)\n",
       "Running under: CentOS Linux 7 (Core)\n",
       "\n",
       "Matrix products: default\n",
       "BLAS/LAPACK: /opt/apps/OpenBLAS/0.3.6/lib/libopenblas_zenp-r0.3.6.so\n",
       "\n",
       "locale:\n",
       "[1] C\n",
       "\n",
       "attached base packages:\n",
       "[1] stats     graphics  grDevices utils     datasets  methods   base     \n",
       "\n",
       "other attached packages:\n",
       " [1] glmGamPoi_1.6.0    viridis_0.6.2      viridisLite_0.4.0  forcats_0.5.1     \n",
       " [5] stringr_1.4.0      dplyr_1.0.9        purrr_0.3.4        readr_2.1.2       \n",
       " [9] tidyr_1.2.0        tibble_3.1.7       ggplot2_3.3.6      tidyverse_1.3.1   \n",
       "[13] SeuratObject_4.0.4 Seurat_4.1.0       Matrix_1.3-4      \n",
       "\n",
       "loaded via a namespace (and not attached):\n",
       "  [1] readxl_1.3.1                uuid_1.0-3                 \n",
       "  [3] backports_1.4.1             plyr_1.8.7                 \n",
       "  [5] igraph_1.2.11               repr_1.1.4                 \n",
       "  [7] lazyeval_0.2.2              splines_4.1.2              \n",
       "  [9] listenv_0.8.0               scattermore_0.8            \n",
       " [11] GenomeInfoDb_1.30.1         digest_0.6.29              \n",
       " [13] htmltools_0.5.2             fansi_1.0.3                \n",
       " [15] magrittr_2.0.3              tensor_1.5                 \n",
       " [17] cluster_2.1.2               ROCR_1.0-11                \n",
       " [19] tzdb_0.3.0                  globals_0.14.0             \n",
       " [21] modelr_0.1.8                matrixStats_0.62.0         \n",
       " [23] spatstat.sparse_2.1-0       colorspace_2.0-3           \n",
       " [25] rvest_1.0.2                 ggrepel_0.9.1              \n",
       " [27] haven_2.4.3                 RCurl_1.98-1.7             \n",
       " [29] crayon_1.5.1                jsonlite_1.8.0             \n",
       " [31] spatstat.data_2.1-2         survival_3.2-13            \n",
       " [33] zoo_1.8-9                   glue_1.6.2                 \n",
       " [35] polyclip_1.10-0             gtable_0.3.0               \n",
       " [37] zlibbioc_1.40.0             XVector_0.34.0             \n",
       " [39] leiden_0.3.9                DelayedArray_0.20.0        \n",
       " [41] future.apply_1.8.1          BiocGenerics_0.40.0        \n",
       " [43] abind_1.4-5                 scales_1.2.0               \n",
       " [45] DBI_1.1.3                   spatstat.random_2.1-0      \n",
       " [47] miniUI_0.1.1.1              Rcpp_1.0.8.3               \n",
       " [49] xtable_1.8-4                reticulate_1.24            \n",
       " [51] spatstat.core_2.4-0         stats4_4.1.2               \n",
       " [53] htmlwidgets_1.5.4           httr_1.4.3                 \n",
       " [55] RColorBrewer_1.1-3          ellipsis_0.3.2             \n",
       " [57] ica_1.0-2                   pkgconfig_2.0.3            \n",
       " [59] uwot_0.1.11                 dbplyr_2.1.1               \n",
       " [61] deldir_1.0-6                utf8_1.2.2                 \n",
       " [63] tidyselect_1.1.2            rlang_1.0.3                \n",
       " [65] reshape2_1.4.4              later_1.3.0                \n",
       " [67] munsell_0.5.0               cellranger_1.1.0           \n",
       " [69] tools_4.1.2                 cli_3.3.0                  \n",
       " [71] generics_0.1.3              broom_0.7.12               \n",
       " [73] ggridges_0.5.3              evaluate_0.15              \n",
       " [75] fastmap_1.1.0               goftest_1.2-3              \n",
       " [77] fs_1.5.2                    fitdistrplus_1.1-6         \n",
       " [79] RANN_2.6.1                  pbapply_1.5-0              \n",
       " [81] future_1.24.0               nlme_3.1-153               \n",
       " [83] mime_0.12                   xml2_1.3.3                 \n",
       " [85] compiler_4.1.2              rstudioapi_0.13            \n",
       " [87] plotly_4.10.0               png_0.1-7                  \n",
       " [89] spatstat.utils_2.3-0        reprex_2.0.1               \n",
       " [91] stringi_1.7.6               lattice_0.20-45            \n",
       " [93] IRdisplay_1.1               vctrs_0.4.1                \n",
       " [95] pillar_1.7.0                lifecycle_1.0.1            \n",
       " [97] spatstat.geom_2.3-2         lmtest_0.9-39              \n",
       " [99] RcppAnnoy_0.0.19            bitops_1.0-7               \n",
       "[101] data.table_1.14.2           cowplot_1.1.1              \n",
       "[103] irlba_2.3.5                 GenomicRanges_1.46.1       \n",
       "[105] httpuv_1.6.5                patchwork_1.1.1            \n",
       "[107] R6_2.5.1                    promises_1.2.0.1           \n",
       "[109] KernSmooth_2.23-20          gridExtra_2.3              \n",
       "[111] IRanges_2.28.0              parallelly_1.30.0          \n",
       "[113] codetools_0.2-18            MASS_7.3-54                \n",
       "[115] assertthat_0.2.1            SummarizedExperiment_1.24.0\n",
       "[117] withr_2.5.0                 sctransform_0.3.3          \n",
       "[119] GenomeInfoDbData_1.2.7      S4Vectors_0.32.4           \n",
       "[121] mgcv_1.8-38                 parallel_4.1.2             \n",
       "[123] hms_1.1.1                   grid_4.1.2                 \n",
       "[125] rpart_4.1-15                IRkernel_1.3               \n",
       "[127] MatrixGenerics_1.6.0        Rtsne_0.16                 \n",
       "[129] pbdZMQ_0.3-7                Biobase_2.54.0             \n",
       "[131] shiny_1.7.1                 lubridate_1.8.0            \n",
       "[133] base64enc_0.1-3            "
      ]
     },
     "metadata": {},
     "output_type": "display_data"
    }
   ],
   "source": [
    "sessionInfo()\n"
   ]
  },
  {
   "cell_type": "code",
   "execution_count": null,
   "id": "168ed040-ae3c-45af-8059-14134bff693a",
   "metadata": {},
   "outputs": [],
   "source": []
  }
 ],
 "metadata": {
  "kernelspec": {
   "display_name": "R",
   "language": "R",
   "name": "ir"
  },
  "language_info": {
   "codemirror_mode": "r",
   "file_extension": ".r",
   "mimetype": "text/x-r-source",
   "name": "R",
   "pygments_lexer": "r",
   "version": "4.1.2"
  }
 },
 "nbformat": 4,
 "nbformat_minor": 5
}
