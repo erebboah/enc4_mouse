{
 "cells": [
  {
   "cell_type": "markdown",
   "id": "9d4b5c5a-cd57-4705-89e8-8b35e8357aa6",
   "metadata": {},
   "source": [
    "# Get miRNA host genes to include in regulatory analysis"
   ]
  },
  {
   "cell_type": "code",
   "execution_count": 1,
   "id": "a99ef309-2781-4d25-9212-1bce07114704",
   "metadata": {},
   "outputs": [
    {
     "name": "stderr",
     "output_type": "stream",
     "text": [
      "Warning message in system(\"timedatectl\", intern = TRUE):\n",
      "\"running command 'timedatectl' had status 1\"\n",
      "\n",
      "Attaching package: 'reshape2'\n",
      "\n",
      "\n",
      "The following object is masked from 'package:tidyr':\n",
      "\n",
      "    smiths\n",
      "\n",
      "\n"
     ]
    }
   ],
   "source": [
    "library(stringr)\n",
    "suppressPackageStartupMessages(library(tidyverse))\n",
    "suppressPackageStartupMessages(library(ggplot2))\n",
    "library(reshape2)"
   ]
  },
  {
   "cell_type": "markdown",
   "id": "9115fc1c-bd1c-4f06-b105-2c0c0b26a05e",
   "metadata": {},
   "source": [
    "# Make bed file of mm10 genes"
   ]
  },
  {
   "cell_type": "code",
   "execution_count": 2,
   "id": "37e98622-91e9-407c-95d3-a05c08316eee",
   "metadata": {},
   "outputs": [],
   "source": [
    "setwd(\"/share/crsp/lab/seyedam/share/enc4_mouse/snrna/\")"
   ]
  },
  {
   "cell_type": "code",
   "execution_count": 3,
   "id": "dd0d22bf-b7fe-485d-9d0b-ace78b78d1cc",
   "metadata": {},
   "outputs": [],
   "source": [
    "## here's the GTF we're querying for miRNAs:\n",
    "gtf <- rtracklayer::import('ref/gencode.vM21.primary_assembly.annotation_UCSC_names.gtf')\n",
    "gtf_df=as.data.frame(gtf)\n",
    "gtf_df_genes = gtf_df[gtf_df$type  == \"gene\",]\n",
    "\n",
    "bed = gtf_df_genes[,c(\"seqnames\",\"start\",\"end\",\n",
    "                \"gene_id\")]\n",
    "bed = unique(cbind(bed,rep(0,nrow(bed)),gtf_df_genes[,c(\"strand\")]))\n",
    "\n",
    "write.table(bed,file=\"ref/mm10_V21_ENCODE_scRNA_genes.bed\",quote=F,row.names=F,col.names=F,sep=\"\\t\")\n"
   ]
  },
  {
   "cell_type": "code",
   "execution_count": 4,
   "id": "c23036bf-1edd-43d3-9c29-a8fd5c3cfd02",
   "metadata": {},
   "outputs": [
    {
     "data": {
      "text/html": [
       "<table class=\"dataframe\">\n",
       "<caption>A data.frame: 6 x 6</caption>\n",
       "<thead>\n",
       "\t<tr><th></th><th scope=col>seqnames</th><th scope=col>start</th><th scope=col>end</th><th scope=col>gene_id</th><th scope=col>rep(0, nrow(bed))</th><th scope=col>gtf_df_genes[, c(\"strand\")]</th></tr>\n",
       "\t<tr><th></th><th scope=col>&lt;fct&gt;</th><th scope=col>&lt;int&gt;</th><th scope=col>&lt;int&gt;</th><th scope=col>&lt;chr&gt;</th><th scope=col>&lt;dbl&gt;</th><th scope=col>&lt;fct&gt;</th></tr>\n",
       "</thead>\n",
       "<tbody>\n",
       "\t<tr><th scope=row>1</th><td>chr1</td><td>3073253</td><td>3074322</td><td>ENSMUSG00000102693.1</td><td>0</td><td>+</td></tr>\n",
       "\t<tr><th scope=row>4</th><td>chr1</td><td>3102016</td><td>3102125</td><td>ENSMUSG00000064842.1</td><td>0</td><td>+</td></tr>\n",
       "\t<tr><th scope=row>7</th><td>chr1</td><td>3205901</td><td>3671498</td><td>ENSMUSG00000051951.5</td><td>0</td><td>-</td></tr>\n",
       "\t<tr><th scope=row>25</th><td>chr1</td><td>3252757</td><td>3253236</td><td>ENSMUSG00000102851.1</td><td>0</td><td>+</td></tr>\n",
       "\t<tr><th scope=row>28</th><td>chr1</td><td>3365731</td><td>3368549</td><td>ENSMUSG00000103377.1</td><td>0</td><td>-</td></tr>\n",
       "\t<tr><th scope=row>31</th><td>chr1</td><td>3375556</td><td>3377788</td><td>ENSMUSG00000104017.1</td><td>0</td><td>-</td></tr>\n",
       "</tbody>\n",
       "</table>\n"
      ],
      "text/latex": [
       "A data.frame: 6 x 6\n",
       "\\begin{tabular}{r|llllll}\n",
       "  & seqnames & start & end & gene\\_id & rep(0, nrow(bed)) & gtf\\_df\\_genes{[}, c(\"strand\"){]}\\\\\n",
       "  & <fct> & <int> & <int> & <chr> & <dbl> & <fct>\\\\\n",
       "\\hline\n",
       "\t1 & chr1 & 3073253 & 3074322 & ENSMUSG00000102693.1 & 0 & +\\\\\n",
       "\t4 & chr1 & 3102016 & 3102125 & ENSMUSG00000064842.1 & 0 & +\\\\\n",
       "\t7 & chr1 & 3205901 & 3671498 & ENSMUSG00000051951.5 & 0 & -\\\\\n",
       "\t25 & chr1 & 3252757 & 3253236 & ENSMUSG00000102851.1 & 0 & +\\\\\n",
       "\t28 & chr1 & 3365731 & 3368549 & ENSMUSG00000103377.1 & 0 & -\\\\\n",
       "\t31 & chr1 & 3375556 & 3377788 & ENSMUSG00000104017.1 & 0 & -\\\\\n",
       "\\end{tabular}\n"
      ],
      "text/markdown": [
       "\n",
       "A data.frame: 6 x 6\n",
       "\n",
       "| <!--/--> | seqnames &lt;fct&gt; | start &lt;int&gt; | end &lt;int&gt; | gene_id &lt;chr&gt; | rep(0, nrow(bed)) &lt;dbl&gt; | gtf_df_genes[, c(\"strand\")] &lt;fct&gt; |\n",
       "|---|---|---|---|---|---|---|\n",
       "| 1 | chr1 | 3073253 | 3074322 | ENSMUSG00000102693.1 | 0 | + |\n",
       "| 4 | chr1 | 3102016 | 3102125 | ENSMUSG00000064842.1 | 0 | + |\n",
       "| 7 | chr1 | 3205901 | 3671498 | ENSMUSG00000051951.5 | 0 | - |\n",
       "| 25 | chr1 | 3252757 | 3253236 | ENSMUSG00000102851.1 | 0 | + |\n",
       "| 28 | chr1 | 3365731 | 3368549 | ENSMUSG00000103377.1 | 0 | - |\n",
       "| 31 | chr1 | 3375556 | 3377788 | ENSMUSG00000104017.1 | 0 | - |\n",
       "\n"
      ],
      "text/plain": [
       "   seqnames start   end     gene_id              rep(0, nrow(bed))\n",
       "1  chr1     3073253 3074322 ENSMUSG00000102693.1 0                \n",
       "4  chr1     3102016 3102125 ENSMUSG00000064842.1 0                \n",
       "7  chr1     3205901 3671498 ENSMUSG00000051951.5 0                \n",
       "25 chr1     3252757 3253236 ENSMUSG00000102851.1 0                \n",
       "28 chr1     3365731 3368549 ENSMUSG00000103377.1 0                \n",
       "31 chr1     3375556 3377788 ENSMUSG00000104017.1 0                \n",
       "   gtf_df_genes[, c(\"strand\")]\n",
       "1  +                          \n",
       "4  +                          \n",
       "7  -                          \n",
       "25 +                          \n",
       "28 -                          \n",
       "31 -                          "
      ]
     },
     "metadata": {},
     "output_type": "display_data"
    },
    {
     "data": {
      "text/html": [
       "<style>\n",
       ".list-inline {list-style: none; margin:0; padding: 0}\n",
       ".list-inline>li {display: inline-block}\n",
       ".list-inline>li:not(:last-child)::after {content: \"\\00b7\"; padding: 0 .5ex}\n",
       "</style>\n",
       "<ol class=list-inline><li>55536</li><li>6</li></ol>\n"
      ],
      "text/latex": [
       "\\begin{enumerate*}\n",
       "\\item 55536\n",
       "\\item 6\n",
       "\\end{enumerate*}\n"
      ],
      "text/markdown": [
       "1. 55536\n",
       "2. 6\n",
       "\n",
       "\n"
      ],
      "text/plain": [
       "[1] 55536     6"
      ]
     },
     "metadata": {},
     "output_type": "display_data"
    }
   ],
   "source": [
    "head(bed)\n",
    "dim(bed)"
   ]
  },
  {
   "cell_type": "markdown",
   "id": "75f42567-45a9-4af3-85e3-9cac8c4a070d",
   "metadata": {},
   "source": [
    "# Get miRNA subset of mm10 bed file"
   ]
  },
  {
   "cell_type": "code",
   "execution_count": 5,
   "id": "8f6f9294-e71a-4ea4-9987-371b329d2ce4",
   "metadata": {},
   "outputs": [],
   "source": [
    "gtf_df_mirnas = gtf_df[gtf_df$type  == \"gene\" & gtf_df$gene_type == \"miRNA\",]\n",
    "\n",
    "bed = gtf_df_mirnas[,c(\"seqnames\",\"start\",\"end\",\n",
    "                \"gene_id\")]\n",
    "bed = unique(cbind(bed,rep(0,nrow(bed)),gtf_df_mirnas[,c(\"strand\")]))\n",
    "\n",
    "write.table(bed,file=\"ref/mm10_V21_ENCODE_scRNA_mirnas.bed\",quote=F,row.names=F,col.names=F,sep=\"\\t\")"
   ]
  },
  {
   "cell_type": "code",
   "execution_count": 6,
   "id": "33d86cf6-d559-45e2-9a1d-bf75787d808b",
   "metadata": {},
   "outputs": [
    {
     "data": {
      "text/html": [
       "<table class=\"dataframe\">\n",
       "<caption>A data.frame: 6 x 6</caption>\n",
       "<thead>\n",
       "\t<tr><th></th><th scope=col>seqnames</th><th scope=col>start</th><th scope=col>end</th><th scope=col>gene_id</th><th scope=col>rep(0, nrow(bed))</th><th scope=col>gtf_df_mirnas[, c(\"strand\")]</th></tr>\n",
       "\t<tr><th></th><th scope=col>&lt;fct&gt;</th><th scope=col>&lt;int&gt;</th><th scope=col>&lt;int&gt;</th><th scope=col>&lt;chr&gt;</th><th scope=col>&lt;dbl&gt;</th><th scope=col>&lt;fct&gt;</th></tr>\n",
       "</thead>\n",
       "<tbody>\n",
       "\t<tr><th scope=row>889</th><td>chr1</td><td> 5644645</td><td> 5644745</td><td>ENSMUSG00000093015.1</td><td>0</td><td>-</td></tr>\n",
       "\t<tr><th scope=row>1989</th><td>chr1</td><td> 8588615</td><td> 8588724</td><td>ENSMUSG00000093970.1</td><td>0</td><td>-</td></tr>\n",
       "\t<tr><th scope=row>2001</th><td>chr1</td><td> 8816138</td><td> 8816247</td><td>ENSMUSG00000076135.1</td><td>0</td><td>+</td></tr>\n",
       "\t<tr><th scope=row>4036</th><td>chr1</td><td>12425986</td><td>12426106</td><td>ENSMUSG00000098555.1</td><td>0</td><td>+</td></tr>\n",
       "\t<tr><th scope=row>4678</th><td>chr1</td><td>13262198</td><td>13262279</td><td>ENSMUSG00000099183.1</td><td>0</td><td>+</td></tr>\n",
       "\t<tr><th scope=row>5030</th><td>chr1</td><td>14182578</td><td>14182677</td><td>ENSMUSG00000095853.1</td><td>0</td><td>+</td></tr>\n",
       "</tbody>\n",
       "</table>\n"
      ],
      "text/latex": [
       "A data.frame: 6 x 6\n",
       "\\begin{tabular}{r|llllll}\n",
       "  & seqnames & start & end & gene\\_id & rep(0, nrow(bed)) & gtf\\_df\\_mirnas{[}, c(\"strand\"){]}\\\\\n",
       "  & <fct> & <int> & <int> & <chr> & <dbl> & <fct>\\\\\n",
       "\\hline\n",
       "\t889 & chr1 &  5644645 &  5644745 & ENSMUSG00000093015.1 & 0 & -\\\\\n",
       "\t1989 & chr1 &  8588615 &  8588724 & ENSMUSG00000093970.1 & 0 & -\\\\\n",
       "\t2001 & chr1 &  8816138 &  8816247 & ENSMUSG00000076135.1 & 0 & +\\\\\n",
       "\t4036 & chr1 & 12425986 & 12426106 & ENSMUSG00000098555.1 & 0 & +\\\\\n",
       "\t4678 & chr1 & 13262198 & 13262279 & ENSMUSG00000099183.1 & 0 & +\\\\\n",
       "\t5030 & chr1 & 14182578 & 14182677 & ENSMUSG00000095853.1 & 0 & +\\\\\n",
       "\\end{tabular}\n"
      ],
      "text/markdown": [
       "\n",
       "A data.frame: 6 x 6\n",
       "\n",
       "| <!--/--> | seqnames &lt;fct&gt; | start &lt;int&gt; | end &lt;int&gt; | gene_id &lt;chr&gt; | rep(0, nrow(bed)) &lt;dbl&gt; | gtf_df_mirnas[, c(\"strand\")] &lt;fct&gt; |\n",
       "|---|---|---|---|---|---|---|\n",
       "| 889 | chr1 |  5644645 |  5644745 | ENSMUSG00000093015.1 | 0 | - |\n",
       "| 1989 | chr1 |  8588615 |  8588724 | ENSMUSG00000093970.1 | 0 | - |\n",
       "| 2001 | chr1 |  8816138 |  8816247 | ENSMUSG00000076135.1 | 0 | + |\n",
       "| 4036 | chr1 | 12425986 | 12426106 | ENSMUSG00000098555.1 | 0 | + |\n",
       "| 4678 | chr1 | 13262198 | 13262279 | ENSMUSG00000099183.1 | 0 | + |\n",
       "| 5030 | chr1 | 14182578 | 14182677 | ENSMUSG00000095853.1 | 0 | + |\n",
       "\n"
      ],
      "text/plain": [
       "     seqnames start    end      gene_id              rep(0, nrow(bed))\n",
       "889  chr1      5644645  5644745 ENSMUSG00000093015.1 0                \n",
       "1989 chr1      8588615  8588724 ENSMUSG00000093970.1 0                \n",
       "2001 chr1      8816138  8816247 ENSMUSG00000076135.1 0                \n",
       "4036 chr1     12425986 12426106 ENSMUSG00000098555.1 0                \n",
       "4678 chr1     13262198 13262279 ENSMUSG00000099183.1 0                \n",
       "5030 chr1     14182578 14182677 ENSMUSG00000095853.1 0                \n",
       "     gtf_df_mirnas[, c(\"strand\")]\n",
       "889  -                           \n",
       "1989 -                           \n",
       "2001 +                           \n",
       "4036 +                           \n",
       "4678 +                           \n",
       "5030 +                           "
      ]
     },
     "metadata": {},
     "output_type": "display_data"
    },
    {
     "data": {
      "text/html": [
       "<style>\n",
       ".list-inline {list-style: none; margin:0; padding: 0}\n",
       ".list-inline>li {display: inline-block}\n",
       ".list-inline>li:not(:last-child)::after {content: \"\\00b7\"; padding: 0 .5ex}\n",
       "</style>\n",
       "<ol class=list-inline><li>2207</li><li>6</li></ol>\n"
      ],
      "text/latex": [
       "\\begin{enumerate*}\n",
       "\\item 2207\n",
       "\\item 6\n",
       "\\end{enumerate*}\n"
      ],
      "text/markdown": [
       "1. 2207\n",
       "2. 6\n",
       "\n",
       "\n"
      ],
      "text/plain": [
       "[1] 2207    6"
      ]
     },
     "metadata": {},
     "output_type": "display_data"
    }
   ],
   "source": [
    "head(bed)\n",
    "dim(bed)"
   ]
  },
  {
   "cell_type": "markdown",
   "id": "7313aeaa-13d5-4dc4-99b0-a38f6e7c7733",
   "metadata": {},
   "source": [
    "# Intersect miRNA bed file with gene bed file \n",
    "### Bedtools intersect\n",
    "- -s: keep strand info\n",
    "- -F 1: UTR must overlap **all base pairs** in binding site\n",
    "- -wo: of the UTRs overlapping the binding site, write the original A and B entries plus the number of base pairs of overlap between them\n",
    "\n"
   ]
  },
  {
   "cell_type": "code",
   "execution_count": 7,
   "id": "a9b34bb4-634d-42c6-be69-15d772cecb4c",
   "metadata": {},
   "outputs": [],
   "source": [
    "system(\"bedtools intersect -a ref/mm10_V21_ENCODE_scRNA_genes.bed -b ref/mm10_V21_ENCODE_scRNA_mirnas.bed -wo -s -F 1 > ref/mm10_V21_ENCODE_scRNA_mirna_host_genes.bed\")\n"
   ]
  },
  {
   "cell_type": "code",
   "execution_count": 8,
   "id": "9f3fb9d5-3379-4de7-9728-838fd57c6bd1",
   "metadata": {},
   "outputs": [],
   "source": [
    "result = read.delim(\"ref/mm10_V21_ENCODE_scRNA_mirna_host_genes.bed\",header=F)\n"
   ]
  },
  {
   "cell_type": "code",
   "execution_count": 9,
   "id": "386cf555-f588-44a5-9706-730bd1bbeb7e",
   "metadata": {},
   "outputs": [
    {
     "data": {
      "text/html": [
       "<table class=\"dataframe\">\n",
       "<caption>A data.frame: 6 x 13</caption>\n",
       "<thead>\n",
       "\t<tr><th></th><th scope=col>V1</th><th scope=col>V2</th><th scope=col>V3</th><th scope=col>V4</th><th scope=col>V5</th><th scope=col>V6</th><th scope=col>V7</th><th scope=col>V8</th><th scope=col>V9</th><th scope=col>V10</th><th scope=col>V11</th><th scope=col>V12</th><th scope=col>V13</th></tr>\n",
       "\t<tr><th></th><th scope=col>&lt;chr&gt;</th><th scope=col>&lt;int&gt;</th><th scope=col>&lt;int&gt;</th><th scope=col>&lt;chr&gt;</th><th scope=col>&lt;int&gt;</th><th scope=col>&lt;chr&gt;</th><th scope=col>&lt;chr&gt;</th><th scope=col>&lt;int&gt;</th><th scope=col>&lt;int&gt;</th><th scope=col>&lt;chr&gt;</th><th scope=col>&lt;int&gt;</th><th scope=col>&lt;chr&gt;</th><th scope=col>&lt;int&gt;</th></tr>\n",
       "</thead>\n",
       "<tbody>\n",
       "\t<tr><th scope=row>1</th><td>chr1</td><td> 5644645</td><td> 5644745</td><td>ENSMUSG00000093015.1 </td><td>0</td><td>-</td><td>chr1</td><td> 5644645</td><td> 5644745</td><td>ENSMUSG00000093015.1</td><td>0</td><td>-</td><td>100</td></tr>\n",
       "\t<tr><th scope=row>2</th><td>chr1</td><td> 8361475</td><td> 9299878</td><td>ENSMUSG00000025909.16</td><td>0</td><td>-</td><td>chr1</td><td> 8588615</td><td> 8588724</td><td>ENSMUSG00000093970.1</td><td>0</td><td>-</td><td>109</td></tr>\n",
       "\t<tr><th scope=row>3</th><td>chr1</td><td> 8588615</td><td> 8588724</td><td>ENSMUSG00000093970.1 </td><td>0</td><td>-</td><td>chr1</td><td> 8588615</td><td> 8588724</td><td>ENSMUSG00000093970.1</td><td>0</td><td>-</td><td>109</td></tr>\n",
       "\t<tr><th scope=row>4</th><td>chr1</td><td> 8816138</td><td> 8816247</td><td>ENSMUSG00000076135.1 </td><td>0</td><td>+</td><td>chr1</td><td> 8816138</td><td> 8816247</td><td>ENSMUSG00000076135.1</td><td>0</td><td>+</td><td>109</td></tr>\n",
       "\t<tr><th scope=row>5</th><td>chr1</td><td>12425986</td><td>12426106</td><td>ENSMUSG00000098555.1 </td><td>0</td><td>+</td><td>chr1</td><td>12425986</td><td>12426106</td><td>ENSMUSG00000098555.1</td><td>0</td><td>+</td><td>120</td></tr>\n",
       "\t<tr><th scope=row>6</th><td>chr1</td><td>13262198</td><td>13262279</td><td>ENSMUSG00000099183.1 </td><td>0</td><td>+</td><td>chr1</td><td>13262198</td><td>13262279</td><td>ENSMUSG00000099183.1</td><td>0</td><td>+</td><td> 81</td></tr>\n",
       "</tbody>\n",
       "</table>\n"
      ],
      "text/latex": [
       "A data.frame: 6 x 13\n",
       "\\begin{tabular}{r|lllllllllllll}\n",
       "  & V1 & V2 & V3 & V4 & V5 & V6 & V7 & V8 & V9 & V10 & V11 & V12 & V13\\\\\n",
       "  & <chr> & <int> & <int> & <chr> & <int> & <chr> & <chr> & <int> & <int> & <chr> & <int> & <chr> & <int>\\\\\n",
       "\\hline\n",
       "\t1 & chr1 &  5644645 &  5644745 & ENSMUSG00000093015.1  & 0 & - & chr1 &  5644645 &  5644745 & ENSMUSG00000093015.1 & 0 & - & 100\\\\\n",
       "\t2 & chr1 &  8361475 &  9299878 & ENSMUSG00000025909.16 & 0 & - & chr1 &  8588615 &  8588724 & ENSMUSG00000093970.1 & 0 & - & 109\\\\\n",
       "\t3 & chr1 &  8588615 &  8588724 & ENSMUSG00000093970.1  & 0 & - & chr1 &  8588615 &  8588724 & ENSMUSG00000093970.1 & 0 & - & 109\\\\\n",
       "\t4 & chr1 &  8816138 &  8816247 & ENSMUSG00000076135.1  & 0 & + & chr1 &  8816138 &  8816247 & ENSMUSG00000076135.1 & 0 & + & 109\\\\\n",
       "\t5 & chr1 & 12425986 & 12426106 & ENSMUSG00000098555.1  & 0 & + & chr1 & 12425986 & 12426106 & ENSMUSG00000098555.1 & 0 & + & 120\\\\\n",
       "\t6 & chr1 & 13262198 & 13262279 & ENSMUSG00000099183.1  & 0 & + & chr1 & 13262198 & 13262279 & ENSMUSG00000099183.1 & 0 & + &  81\\\\\n",
       "\\end{tabular}\n"
      ],
      "text/markdown": [
       "\n",
       "A data.frame: 6 x 13\n",
       "\n",
       "| <!--/--> | V1 &lt;chr&gt; | V2 &lt;int&gt; | V3 &lt;int&gt; | V4 &lt;chr&gt; | V5 &lt;int&gt; | V6 &lt;chr&gt; | V7 &lt;chr&gt; | V8 &lt;int&gt; | V9 &lt;int&gt; | V10 &lt;chr&gt; | V11 &lt;int&gt; | V12 &lt;chr&gt; | V13 &lt;int&gt; |\n",
       "|---|---|---|---|---|---|---|---|---|---|---|---|---|---|\n",
       "| 1 | chr1 |  5644645 |  5644745 | ENSMUSG00000093015.1  | 0 | - | chr1 |  5644645 |  5644745 | ENSMUSG00000093015.1 | 0 | - | 100 |\n",
       "| 2 | chr1 |  8361475 |  9299878 | ENSMUSG00000025909.16 | 0 | - | chr1 |  8588615 |  8588724 | ENSMUSG00000093970.1 | 0 | - | 109 |\n",
       "| 3 | chr1 |  8588615 |  8588724 | ENSMUSG00000093970.1  | 0 | - | chr1 |  8588615 |  8588724 | ENSMUSG00000093970.1 | 0 | - | 109 |\n",
       "| 4 | chr1 |  8816138 |  8816247 | ENSMUSG00000076135.1  | 0 | + | chr1 |  8816138 |  8816247 | ENSMUSG00000076135.1 | 0 | + | 109 |\n",
       "| 5 | chr1 | 12425986 | 12426106 | ENSMUSG00000098555.1  | 0 | + | chr1 | 12425986 | 12426106 | ENSMUSG00000098555.1 | 0 | + | 120 |\n",
       "| 6 | chr1 | 13262198 | 13262279 | ENSMUSG00000099183.1  | 0 | + | chr1 | 13262198 | 13262279 | ENSMUSG00000099183.1 | 0 | + |  81 |\n",
       "\n"
      ],
      "text/plain": [
       "  V1   V2       V3       V4                    V5 V6 V7   V8       V9      \n",
       "1 chr1  5644645  5644745 ENSMUSG00000093015.1  0  -  chr1  5644645  5644745\n",
       "2 chr1  8361475  9299878 ENSMUSG00000025909.16 0  -  chr1  8588615  8588724\n",
       "3 chr1  8588615  8588724 ENSMUSG00000093970.1  0  -  chr1  8588615  8588724\n",
       "4 chr1  8816138  8816247 ENSMUSG00000076135.1  0  +  chr1  8816138  8816247\n",
       "5 chr1 12425986 12426106 ENSMUSG00000098555.1  0  +  chr1 12425986 12426106\n",
       "6 chr1 13262198 13262279 ENSMUSG00000099183.1  0  +  chr1 13262198 13262279\n",
       "  V10                  V11 V12 V13\n",
       "1 ENSMUSG00000093015.1 0   -   100\n",
       "2 ENSMUSG00000093970.1 0   -   109\n",
       "3 ENSMUSG00000093970.1 0   -   109\n",
       "4 ENSMUSG00000076135.1 0   +   109\n",
       "5 ENSMUSG00000098555.1 0   +   120\n",
       "6 ENSMUSG00000099183.1 0   +    81"
      ]
     },
     "metadata": {},
     "output_type": "display_data"
    }
   ],
   "source": [
    "head(result)"
   ]
  },
  {
   "cell_type": "markdown",
   "id": "4a578dbf-2f86-4546-92da-23a35597fa0e",
   "metadata": {},
   "source": [
    "## Sanity check -- there should be 2,207 miRNAs that overlap with themselves "
   ]
  },
  {
   "cell_type": "code",
   "execution_count": 10,
   "id": "d55cee6d-129d-439c-b046-90bdee4015ea",
   "metadata": {},
   "outputs": [
    {
     "data": {
      "text/html": [
       "<style>\n",
       ".list-inline {list-style: none; margin:0; padding: 0}\n",
       ".list-inline>li {display: inline-block}\n",
       ".list-inline>li:not(:last-child)::after {content: \"\\00b7\"; padding: 0 .5ex}\n",
       "</style>\n",
       "<ol class=list-inline><li>2207</li><li>13</li></ol>\n"
      ],
      "text/latex": [
       "\\begin{enumerate*}\n",
       "\\item 2207\n",
       "\\item 13\n",
       "\\end{enumerate*}\n"
      ],
      "text/markdown": [
       "1. 2207\n",
       "2. 13\n",
       "\n",
       "\n"
      ],
      "text/plain": [
       "[1] 2207   13"
      ]
     },
     "metadata": {},
     "output_type": "display_data"
    }
   ],
   "source": [
    "mirs =  result[result$V4 == result$V10,]\n",
    "dim(mirs)"
   ]
  },
  {
   "cell_type": "markdown",
   "id": "ba9dae66-9340-486c-9568-abb7ac4491f0",
   "metadata": {},
   "source": [
    "# Get genes that entirely overlap miRNAs"
   ]
  },
  {
   "cell_type": "code",
   "execution_count": 11,
   "id": "e70145b8-50ca-48bc-b378-87efd134faaf",
   "metadata": {},
   "outputs": [],
   "source": [
    "hgs = result[result$V4 != result$V10,]\n",
    "gene_to_mir = unique(hgs[,c(\"V4\",\"V10\")])\n",
    "colnames(gene_to_mir) = c(\"gene_id\",\"mirna\")"
   ]
  },
  {
   "cell_type": "code",
   "execution_count": 12,
   "id": "ac6b31da-7274-4894-a089-1f21b4dba42b",
   "metadata": {},
   "outputs": [
    {
     "data": {
      "text/html": [
       "<table class=\"dataframe\">\n",
       "<caption>A data.frame: 6 x 2</caption>\n",
       "<thead>\n",
       "\t<tr><th></th><th scope=col>gene_id</th><th scope=col>mirna</th></tr>\n",
       "\t<tr><th></th><th scope=col>&lt;chr&gt;</th><th scope=col>&lt;chr&gt;</th></tr>\n",
       "</thead>\n",
       "<tbody>\n",
       "\t<tr><th scope=row>2</th><td>ENSMUSG00000025909.16</td><td>ENSMUSG00000093970.1</td></tr>\n",
       "\t<tr><th scope=row>8</th><td>ENSMUSG00000099906.2 </td><td>ENSMUSG00000065559.1</td></tr>\n",
       "\t<tr><th scope=row>9</th><td>ENSMUSG00000099906.2 </td><td>ENSMUSG00000065480.1</td></tr>\n",
       "\t<tr><th scope=row>13</th><td>ENSMUSG00000097970.1 </td><td>ENSMUSG00000065567.1</td></tr>\n",
       "\t<tr><th scope=row>20</th><td>ENSMUSG00000026131.18</td><td>ENSMUSG00000105982.1</td></tr>\n",
       "\t<tr><th scope=row>22</th><td>ENSMUSG00000102336.1 </td><td>ENSMUSG00000092852.1</td></tr>\n",
       "</tbody>\n",
       "</table>\n"
      ],
      "text/latex": [
       "A data.frame: 6 x 2\n",
       "\\begin{tabular}{r|ll}\n",
       "  & gene\\_id & mirna\\\\\n",
       "  & <chr> & <chr>\\\\\n",
       "\\hline\n",
       "\t2 & ENSMUSG00000025909.16 & ENSMUSG00000093970.1\\\\\n",
       "\t8 & ENSMUSG00000099906.2  & ENSMUSG00000065559.1\\\\\n",
       "\t9 & ENSMUSG00000099906.2  & ENSMUSG00000065480.1\\\\\n",
       "\t13 & ENSMUSG00000097970.1  & ENSMUSG00000065567.1\\\\\n",
       "\t20 & ENSMUSG00000026131.18 & ENSMUSG00000105982.1\\\\\n",
       "\t22 & ENSMUSG00000102336.1  & ENSMUSG00000092852.1\\\\\n",
       "\\end{tabular}\n"
      ],
      "text/markdown": [
       "\n",
       "A data.frame: 6 x 2\n",
       "\n",
       "| <!--/--> | gene_id &lt;chr&gt; | mirna &lt;chr&gt; |\n",
       "|---|---|---|\n",
       "| 2 | ENSMUSG00000025909.16 | ENSMUSG00000093970.1 |\n",
       "| 8 | ENSMUSG00000099906.2  | ENSMUSG00000065559.1 |\n",
       "| 9 | ENSMUSG00000099906.2  | ENSMUSG00000065480.1 |\n",
       "| 13 | ENSMUSG00000097970.1  | ENSMUSG00000065567.1 |\n",
       "| 20 | ENSMUSG00000026131.18 | ENSMUSG00000105982.1 |\n",
       "| 22 | ENSMUSG00000102336.1  | ENSMUSG00000092852.1 |\n",
       "\n"
      ],
      "text/plain": [
       "   gene_id               mirna               \n",
       "2  ENSMUSG00000025909.16 ENSMUSG00000093970.1\n",
       "8  ENSMUSG00000099906.2  ENSMUSG00000065559.1\n",
       "9  ENSMUSG00000099906.2  ENSMUSG00000065480.1\n",
       "13 ENSMUSG00000097970.1  ENSMUSG00000065567.1\n",
       "20 ENSMUSG00000026131.18 ENSMUSG00000105982.1\n",
       "22 ENSMUSG00000102336.1  ENSMUSG00000092852.1"
      ]
     },
     "metadata": {},
     "output_type": "display_data"
    }
   ],
   "source": [
    "head(gene_to_mir) # this is the beginning of the df I want"
   ]
  },
  {
   "cell_type": "code",
   "execution_count": 13,
   "id": "05b63243-b12e-40bd-b668-eafcd8ae45bb",
   "metadata": {},
   "outputs": [
    {
     "data": {
      "text/plain": [
       "\n",
       "FALSE  TRUE \n",
       " 1180    55 "
      ]
     },
     "metadata": {},
     "output_type": "display_data"
    },
    {
     "data": {
      "text/plain": [
       "\n",
       "FALSE  TRUE \n",
       "  980   255 "
      ]
     },
     "metadata": {},
     "output_type": "display_data"
    }
   ],
   "source": [
    "table(duplicated(gene_to_mir$mirna)) # 55 miRNAs have more than 1 host gene\n",
    "table(duplicated(gene_to_mir$gene)) # 255 genes host more than 1 miRNA"
   ]
  },
  {
   "cell_type": "markdown",
   "id": "689e40db-9d26-42f8-b0f8-d0883c28a735",
   "metadata": {},
   "source": [
    "## 1180 miRNAs have 980 host genes. 1027 miRNAs have no host gene.\n"
   ]
  },
  {
   "cell_type": "code",
   "execution_count": 14,
   "id": "4c5797b4-15c8-4303-9e6b-82fb6ce4976e",
   "metadata": {},
   "outputs": [
    {
     "data": {
      "text/html": [
       "1027"
      ],
      "text/latex": [
       "1027"
      ],
      "text/markdown": [
       "1027"
      ],
      "text/plain": [
       "[1] 1027"
      ]
     },
     "metadata": {},
     "output_type": "display_data"
    }
   ],
   "source": [
    "dim(mirs)[1]-1180 # 2207 annotated miRNAs - 1180 miRNAs with a host gene"
   ]
  },
  {
   "cell_type": "markdown",
   "id": "18a5923e-274b-4e66-888e-70e1ed810e80",
   "metadata": {},
   "source": [
    "# Continue making miR-to-host gene table\n",
    "Need the human-readable names. "
   ]
  },
  {
   "cell_type": "code",
   "execution_count": 15,
   "id": "e900a725-1886-41c6-97a3-05b6a866cfb4",
   "metadata": {},
   "outputs": [
    {
     "data": {
      "text/html": [
       "<table class=\"dataframe\">\n",
       "<caption>A data.frame: 6 x 2</caption>\n",
       "<thead>\n",
       "\t<tr><th></th><th scope=col>gene_id</th><th scope=col>gene_name</th></tr>\n",
       "\t<tr><th></th><th scope=col>&lt;chr&gt;</th><th scope=col>&lt;chr&gt;</th></tr>\n",
       "</thead>\n",
       "<tbody>\n",
       "\t<tr><th scope=row>1</th><td>ENSMUSG00000102693.1</td><td>4933401J01Rik</td></tr>\n",
       "\t<tr><th scope=row>4</th><td>ENSMUSG00000064842.1</td><td>Gm26206      </td></tr>\n",
       "\t<tr><th scope=row>7</th><td>ENSMUSG00000051951.5</td><td>Xkr4         </td></tr>\n",
       "\t<tr><th scope=row>25</th><td>ENSMUSG00000102851.1</td><td>Gm18956      </td></tr>\n",
       "\t<tr><th scope=row>28</th><td>ENSMUSG00000103377.1</td><td>Gm37180      </td></tr>\n",
       "\t<tr><th scope=row>31</th><td>ENSMUSG00000104017.1</td><td>Gm37363      </td></tr>\n",
       "</tbody>\n",
       "</table>\n"
      ],
      "text/latex": [
       "A data.frame: 6 x 2\n",
       "\\begin{tabular}{r|ll}\n",
       "  & gene\\_id & gene\\_name\\\\\n",
       "  & <chr> & <chr>\\\\\n",
       "\\hline\n",
       "\t1 & ENSMUSG00000102693.1 & 4933401J01Rik\\\\\n",
       "\t4 & ENSMUSG00000064842.1 & Gm26206      \\\\\n",
       "\t7 & ENSMUSG00000051951.5 & Xkr4         \\\\\n",
       "\t25 & ENSMUSG00000102851.1 & Gm18956      \\\\\n",
       "\t28 & ENSMUSG00000103377.1 & Gm37180      \\\\\n",
       "\t31 & ENSMUSG00000104017.1 & Gm37363      \\\\\n",
       "\\end{tabular}\n"
      ],
      "text/markdown": [
       "\n",
       "A data.frame: 6 x 2\n",
       "\n",
       "| <!--/--> | gene_id &lt;chr&gt; | gene_name &lt;chr&gt; |\n",
       "|---|---|---|\n",
       "| 1 | ENSMUSG00000102693.1 | 4933401J01Rik |\n",
       "| 4 | ENSMUSG00000064842.1 | Gm26206       |\n",
       "| 7 | ENSMUSG00000051951.5 | Xkr4          |\n",
       "| 25 | ENSMUSG00000102851.1 | Gm18956       |\n",
       "| 28 | ENSMUSG00000103377.1 | Gm37180       |\n",
       "| 31 | ENSMUSG00000104017.1 | Gm37363       |\n",
       "\n"
      ],
      "text/plain": [
       "   gene_id              gene_name    \n",
       "1  ENSMUSG00000102693.1 4933401J01Rik\n",
       "4  ENSMUSG00000064842.1 Gm26206      \n",
       "7  ENSMUSG00000051951.5 Xkr4         \n",
       "25 ENSMUSG00000102851.1 Gm18956      \n",
       "28 ENSMUSG00000103377.1 Gm37180      \n",
       "31 ENSMUSG00000104017.1 Gm37363      "
      ]
     },
     "metadata": {},
     "output_type": "display_data"
    }
   ],
   "source": [
    "gtf <- rtracklayer::import('ref/gencode.vM21.primary_assembly.annotation_UCSC_names.gtf')\n",
    "gtf_df=as.data.frame(gtf)\n",
    "gtf_df_genes = gtf_df[gtf_df$type  == \"gene\",]\n",
    "gtf_df_genes_to_name = gtf_df_genes[,c(\"gene_id\",\"gene_name\")]\n",
    "head(gtf_df_genes_to_name)\n"
   ]
  },
  {
   "cell_type": "markdown",
   "id": "d6ae724a-043b-4214-b127-6c44f9288e21",
   "metadata": {},
   "source": [
    "### First get the host gene name, then the miRNA name"
   ]
  },
  {
   "cell_type": "code",
   "execution_count": 16,
   "id": "9e153229-6605-4898-9969-44a3b5287066",
   "metadata": {},
   "outputs": [
    {
     "name": "stderr",
     "output_type": "stream",
     "text": [
      "\u001b[1m\u001b[22mJoining, by = \"gene_id\"\n",
      "\u001b[1m\u001b[22mJoining, by = \"gene_id\"\n"
     ]
    }
   ],
   "source": [
    "gene_to_mir_gene_names = left_join(gene_to_mir, gtf_df_genes_to_name)\n",
    "gene_to_mir_gene_names = gene_to_mir_gene_names[,c(\"gene_id\",\"gene_name\",\"mirna\")]\n",
    "colnames(gene_to_mir_gene_names) = c(\"host_gene_id\",\"host_gene_name\",\"gene_id\")\n",
    "\n",
    "gene_to_mir_gene_names = left_join(gene_to_mir_gene_names, gtf_df_genes_to_name)\n",
    "colnames(gene_to_mir_gene_names) = c(\"host_gene_id\",\"host_gene_name\",\"mirna_id\",\"mirna_name\")\n",
    "\n",
    "gene_to_mir_gene_names$host_gene_stable_id = do.call(\"rbind\", strsplit(as.character(gene_to_mir_gene_names$host_gene_id), \"[.]\"))[,1]\n",
    "gene_to_mir_gene_names$id = paste0(gene_to_mir_gene_names$host_gene_name,\" (\",gene_to_mir_gene_names$mirna_name, \")\")\n"
   ]
  },
  {
   "cell_type": "code",
   "execution_count": 17,
   "id": "e4c7b454-ee2c-4b01-92fd-d089d9b966c7",
   "metadata": {},
   "outputs": [
    {
     "data": {
      "text/html": [
       "<table class=\"dataframe\">\n",
       "<caption>A data.frame: 6 x 6</caption>\n",
       "<thead>\n",
       "\t<tr><th></th><th scope=col>host_gene_id</th><th scope=col>host_gene_name</th><th scope=col>mirna_id</th><th scope=col>mirna_name</th><th scope=col>host_gene_stable_id</th><th scope=col>id</th></tr>\n",
       "\t<tr><th></th><th scope=col>&lt;chr&gt;</th><th scope=col>&lt;chr&gt;</th><th scope=col>&lt;chr&gt;</th><th scope=col>&lt;chr&gt;</th><th scope=col>&lt;chr&gt;</th><th scope=col>&lt;chr&gt;</th></tr>\n",
       "</thead>\n",
       "<tbody>\n",
       "\t<tr><th scope=row>1</th><td>ENSMUSG00000025909.16</td><td>Sntg1  </td><td>ENSMUSG00000093970.1</td><td>Gm23358 </td><td>ENSMUSG00000025909</td><td>Sntg1 (Gm23358)   </td></tr>\n",
       "\t<tr><th scope=row>2</th><td>ENSMUSG00000099906.2 </td><td>Gm28653</td><td>ENSMUSG00000065559.1</td><td>Mir206  </td><td>ENSMUSG00000099906</td><td>Gm28653 (Mir206)  </td></tr>\n",
       "\t<tr><th scope=row>3</th><td>ENSMUSG00000099906.2 </td><td>Gm28653</td><td>ENSMUSG00000065480.1</td><td>Mir133b </td><td>ENSMUSG00000099906</td><td>Gm28653 (Mir133b) </td></tr>\n",
       "\t<tr><th scope=row>4</th><td>ENSMUSG00000097970.1 </td><td>Gm27028</td><td>ENSMUSG00000065567.1</td><td>Mir30c-2</td><td>ENSMUSG00000097970</td><td>Gm27028 (Mir30c-2)</td></tr>\n",
       "\t<tr><th scope=row>5</th><td>ENSMUSG00000026131.18</td><td>Dst    </td><td>ENSMUSG00000105982.1</td><td>Mir6896 </td><td>ENSMUSG00000026131</td><td>Dst (Mir6896)     </td></tr>\n",
       "\t<tr><th scope=row>6</th><td>ENSMUSG00000102336.1 </td><td>Gm37233</td><td>ENSMUSG00000092852.1</td><td>Mir5103 </td><td>ENSMUSG00000102336</td><td>Gm37233 (Mir5103) </td></tr>\n",
       "</tbody>\n",
       "</table>\n"
      ],
      "text/latex": [
       "A data.frame: 6 x 6\n",
       "\\begin{tabular}{r|llllll}\n",
       "  & host\\_gene\\_id & host\\_gene\\_name & mirna\\_id & mirna\\_name & host\\_gene\\_stable\\_id & id\\\\\n",
       "  & <chr> & <chr> & <chr> & <chr> & <chr> & <chr>\\\\\n",
       "\\hline\n",
       "\t1 & ENSMUSG00000025909.16 & Sntg1   & ENSMUSG00000093970.1 & Gm23358  & ENSMUSG00000025909 & Sntg1 (Gm23358)   \\\\\n",
       "\t2 & ENSMUSG00000099906.2  & Gm28653 & ENSMUSG00000065559.1 & Mir206   & ENSMUSG00000099906 & Gm28653 (Mir206)  \\\\\n",
       "\t3 & ENSMUSG00000099906.2  & Gm28653 & ENSMUSG00000065480.1 & Mir133b  & ENSMUSG00000099906 & Gm28653 (Mir133b) \\\\\n",
       "\t4 & ENSMUSG00000097970.1  & Gm27028 & ENSMUSG00000065567.1 & Mir30c-2 & ENSMUSG00000097970 & Gm27028 (Mir30c-2)\\\\\n",
       "\t5 & ENSMUSG00000026131.18 & Dst     & ENSMUSG00000105982.1 & Mir6896  & ENSMUSG00000026131 & Dst (Mir6896)     \\\\\n",
       "\t6 & ENSMUSG00000102336.1  & Gm37233 & ENSMUSG00000092852.1 & Mir5103  & ENSMUSG00000102336 & Gm37233 (Mir5103) \\\\\n",
       "\\end{tabular}\n"
      ],
      "text/markdown": [
       "\n",
       "A data.frame: 6 x 6\n",
       "\n",
       "| <!--/--> | host_gene_id &lt;chr&gt; | host_gene_name &lt;chr&gt; | mirna_id &lt;chr&gt; | mirna_name &lt;chr&gt; | host_gene_stable_id &lt;chr&gt; | id &lt;chr&gt; |\n",
       "|---|---|---|---|---|---|---|\n",
       "| 1 | ENSMUSG00000025909.16 | Sntg1   | ENSMUSG00000093970.1 | Gm23358  | ENSMUSG00000025909 | Sntg1 (Gm23358)    |\n",
       "| 2 | ENSMUSG00000099906.2  | Gm28653 | ENSMUSG00000065559.1 | Mir206   | ENSMUSG00000099906 | Gm28653 (Mir206)   |\n",
       "| 3 | ENSMUSG00000099906.2  | Gm28653 | ENSMUSG00000065480.1 | Mir133b  | ENSMUSG00000099906 | Gm28653 (Mir133b)  |\n",
       "| 4 | ENSMUSG00000097970.1  | Gm27028 | ENSMUSG00000065567.1 | Mir30c-2 | ENSMUSG00000097970 | Gm27028 (Mir30c-2) |\n",
       "| 5 | ENSMUSG00000026131.18 | Dst     | ENSMUSG00000105982.1 | Mir6896  | ENSMUSG00000026131 | Dst (Mir6896)      |\n",
       "| 6 | ENSMUSG00000102336.1  | Gm37233 | ENSMUSG00000092852.1 | Mir5103  | ENSMUSG00000102336 | Gm37233 (Mir5103)  |\n",
       "\n"
      ],
      "text/plain": [
       "  host_gene_id          host_gene_name mirna_id             mirna_name\n",
       "1 ENSMUSG00000025909.16 Sntg1          ENSMUSG00000093970.1 Gm23358   \n",
       "2 ENSMUSG00000099906.2  Gm28653        ENSMUSG00000065559.1 Mir206    \n",
       "3 ENSMUSG00000099906.2  Gm28653        ENSMUSG00000065480.1 Mir133b   \n",
       "4 ENSMUSG00000097970.1  Gm27028        ENSMUSG00000065567.1 Mir30c-2  \n",
       "5 ENSMUSG00000026131.18 Dst            ENSMUSG00000105982.1 Mir6896   \n",
       "6 ENSMUSG00000102336.1  Gm37233        ENSMUSG00000092852.1 Mir5103   \n",
       "  host_gene_stable_id id                \n",
       "1 ENSMUSG00000025909  Sntg1 (Gm23358)   \n",
       "2 ENSMUSG00000099906  Gm28653 (Mir206)  \n",
       "3 ENSMUSG00000099906  Gm28653 (Mir133b) \n",
       "4 ENSMUSG00000097970  Gm27028 (Mir30c-2)\n",
       "5 ENSMUSG00000026131  Dst (Mir6896)     \n",
       "6 ENSMUSG00000102336  Gm37233 (Mir5103) "
      ]
     },
     "metadata": {},
     "output_type": "display_data"
    }
   ],
   "source": [
    "head(gene_to_mir_gene_names)"
   ]
  },
  {
   "cell_type": "markdown",
   "id": "dc78a75b-0ad0-40c1-b65a-cb5aa1f6bb23",
   "metadata": {},
   "source": [
    "# Get miRNA data"
   ]
  },
  {
   "cell_type": "code",
   "execution_count": 18,
   "id": "957054c1-b75a-4b7d-8ca3-445efc621410",
   "metadata": {},
   "outputs": [
    {
     "data": {
      "text/plain": [
       "\n",
       "TRUE \n",
       " 324 "
      ]
     },
     "metadata": {},
     "output_type": "display_data"
    }
   ],
   "source": [
    "metadata = read.csv('ref/mouse_mirna_metadata.tsv', head=TRUE,sep=\"\\t\" , \n",
    "                    stringsAsFactors = FALSE)\n",
    "samples=metadata$File.accession\n",
    "\n",
    "thisMat=read.table(paste0(\"mirna_data/\",samples[1],\".tsv\"),sep=\"\",head=FALSE)\n",
    "counts=thisMat[-c(1:4),c(1,2)]\n",
    "\n",
    "for(i in 2:length(samples)){\n",
    "  thisMat=read.table(paste0(\"mirna_data/\",samples[i],\".tsv\"),sep=\"\",head=FALSE)\n",
    "  thisMat=thisMat[na.omit(match(counts$V1,thisMat$V1)),]\n",
    "  counts=as.data.frame(cbind(counts,thisMat[,\"V2\"]))\n",
    "}\n",
    "\n",
    "# Set rownames as ENSEMBL IDs\n",
    "rownames(counts) = counts$V1\n",
    "counts$V1 = NULL\n",
    "# Set rownames as data IDs\n",
    "colnames(counts) = metadata$File.accession\n",
    "\n",
    "# Save full counts matrix with ensembl IDs\n",
    "counts_full_ensembl = counts\n",
    "\n",
    "postnatal_c2c12 = metadata$File.accession[!grepl(\"ENCDO835CXP\",metadata$Donor.s.)]\n",
    "counts_matching_sc_data = counts[,colnames(counts) %in% postnatal_c2c12]\n",
    "\n",
    "metadata_postnatal_c2c12 = metadata[metadata$File.accession %in% postnatal_c2c12,]\n",
    "table(colnames(counts_matching_sc_data) == metadata_postnatal_c2c12$File.accession)\n",
    "\n",
    "metadata_postnatal_c2c12$Donor_sample = paste0(metadata_postnatal_c2c12$Donor.s.,\"_\",metadata_postnatal_c2c12$Sample)\n",
    "\n",
    "# Use nice function from google to convert to CPM (counts per million)\n",
    "cpm <- apply(counts_matching_sc_data,2, function(x) (x/sum(x))*1000000)\n",
    "\n",
    "cpm = as.matrix(cpm)\n",
    "rownames(cpm) = rownames(counts_matching_sc_data)\n",
    "colnames(cpm) = colnames(counts_matching_sc_data)\n",
    "\n",
    "colnames(cpm) = metadata_postnatal_c2c12$Donor_sample\n",
    "cpm = as.data.frame(cpm)\n",
    "cpm$mirna_id = rownames(cpm)\n",
    "             \n"
   ]
  },
  {
   "cell_type": "markdown",
   "id": "7aa99103-fa79-426e-b5ab-aa02776bf8c9",
   "metadata": {},
   "source": [
    "# Get mRNA data"
   ]
  },
  {
   "cell_type": "code",
   "execution_count": 23,
   "id": "fc1ba734-ddfc-499a-82c2-eed251d5b2cc",
   "metadata": {},
   "outputs": [],
   "source": [
    "metadata_rna = read.delim(\"ref/bulk_rna_metadata_fixed.txt\")\n",
    "metadata_rna$Donor_sample = paste0(metadata_rna$Donor.s.,\"_\",metadata_rna$Sample)\n",
    "\n",
    "samples=metadata_rna$File.accession\n",
    "\n",
    "thisMat=read.table(paste0(\"bulk_rna_data/\",samples[1],\".tsv\"),head=T)\n",
    "counts=thisMat[,c(1,6)]\n",
    "\n",
    "for(i in 2:length(samples)){\n",
    "  thisMat=read.table(paste0(\"bulk_rna_data/\",samples[i],\".tsv\"),head=T)\n",
    "  counts=as.data.frame(cbind(counts,thisMat[,\"TPM\"]))\n",
    "}\n",
    "\n",
    "# Set rownames as ENSEMBL IDs\n",
    "tpm=counts\n",
    "gid = tpm$gene_id\n",
    "tpm$gene_id  = NULL\n",
    "colnames(tpm) = metadata_rna$Donor_sample\n",
    "tpm$host_gene_id = gid\n"
   ]
  },
  {
   "cell_type": "markdown",
   "id": "078d125b-d6b9-440c-8bc3-2724004ba613",
   "metadata": {},
   "source": [
    "## 289 common samples between miRNA and mRNA"
   ]
  },
  {
   "cell_type": "code",
   "execution_count": 24,
   "id": "d76abd5f-11ea-468e-90ab-27f6078ec3cc",
   "metadata": {},
   "outputs": [
    {
     "data": {
      "text/plain": [
       "\n",
       "FALSE  TRUE \n",
       "   57   289 "
      ]
     },
     "metadata": {},
     "output_type": "display_data"
    }
   ],
   "source": [
    "table(colnames(tpm) %in% colnames(cpm))"
   ]
  },
  {
   "cell_type": "markdown",
   "id": "651d587e-3f26-4154-a7a9-d663788dceb5",
   "metadata": {},
   "source": [
    "# Make mRNA matrix with rownames as gene name (miRNA)\n",
    "Large batch effect between mRNA assay types, considering them separately."
   ]
  },
  {
   "cell_type": "markdown",
   "id": "d956c6cd-513a-4756-879e-28fcd259b6ac",
   "metadata": {},
   "source": [
    "## Subset mRNA expression for just the total RNA-seq assay"
   ]
  },
  {
   "cell_type": "code",
   "execution_count": 25,
   "id": "663e8a4a-4230-4250-9671-9463a7d5152b",
   "metadata": {},
   "outputs": [
    {
     "name": "stderr",
     "output_type": "stream",
     "text": [
      "\u001b[1m\u001b[22mJoining, by = \"host_gene_id\"\n"
     ]
    }
   ],
   "source": [
    "metadata_rna_total = metadata_rna[metadata_rna$Assay == \"total RNA-seq\",]\n",
    "tpm_total = tpm\n",
    "tpm_total = tpm_total[,colnames(tpm_total) %in% c(metadata_rna_total$Donor_sample,\"host_gene_id\")]\n",
    "\n",
    "mrna_compare_total = left_join(gene_to_mir_gene_names,tpm_total)\n",
    "mrna_compare_total$host_gene_id  = NULL\n",
    "mrna_compare_total$host_gene_name  = NULL\n",
    "mrna_compare_total$mirna_id  = NULL\n",
    "mrna_compare_total$mirna_name  = NULL\n",
    "mrna_compare_total$host_gene_stable_id  = NULL\n",
    "rn = mrna_compare_total$id\n",
    "mrna_compare_total$id  = NULL\n",
    "mrna_compare_total = as.matrix(mrna_compare_total)\n",
    "rownames(mrna_compare_total) = rn"
   ]
  },
  {
   "cell_type": "markdown",
   "id": "83d3afeb-8493-4a04-88a1-b8a51eb94fb5",
   "metadata": {},
   "source": [
    "## Subset mRNA expression for just the polyA plus RNA-seq assay"
   ]
  },
  {
   "cell_type": "code",
   "execution_count": 26,
   "id": "5a34c35e-2135-49af-82a7-3d1581209fea",
   "metadata": {},
   "outputs": [
    {
     "name": "stderr",
     "output_type": "stream",
     "text": [
      "\u001b[1m\u001b[22mJoining, by = \"host_gene_id\"\n"
     ]
    }
   ],
   "source": [
    "metadata_rna_polya = metadata_rna[metadata_rna$Assay == \"polyA plus RNA-seq\",]\n",
    "tpm_polya = tpm\n",
    "tpm_polya = tpm_polya[,colnames(tpm_polya) %in% c(metadata_rna_polya$Donor_sample,\"host_gene_id\")]\n",
    "\n",
    "mrna_compare_polya = left_join(gene_to_mir_gene_names,tpm_polya)\n",
    "mrna_compare_polya$host_gene_id  = NULL\n",
    "mrna_compare_polya$host_gene_name  = NULL\n",
    "mrna_compare_polya$mirna_id  = NULL\n",
    "mrna_compare_polya$mirna_name  = NULL\n",
    "mrna_compare_polya$host_gene_stable_id  = NULL\n",
    "rn = mrna_compare_polya$id\n",
    "mrna_compare_polya$id  = NULL\n",
    "mrna_compare_polya = as.matrix(mrna_compare_polya)\n",
    "rownames(mrna_compare_polya) = rn"
   ]
  },
  {
   "cell_type": "markdown",
   "id": "0fdd7892-1425-4c0f-869c-138c864c8678",
   "metadata": {},
   "source": [
    "# Make miRNA matrix with rownames as gene name (miRNA)"
   ]
  },
  {
   "cell_type": "code",
   "execution_count": 27,
   "id": "31e429ad-c7aa-45b4-a59b-cc1c89d92910",
   "metadata": {},
   "outputs": [
    {
     "name": "stderr",
     "output_type": "stream",
     "text": [
      "\u001b[1m\u001b[22mJoining, by = \"mirna_id\"\n"
     ]
    }
   ],
   "source": [
    "mirna_compare = left_join(gene_to_mir_gene_names,cpm)\n",
    "mirna_compare$mirna_id  = NULL\n",
    "mirna_compare$host_gene_id  = NULL\n",
    "mirna_compare$host_gene_name  = NULL\n",
    "mirna_compare$mirna_name  = NULL\n",
    "mirna_compare$host_gene_stable_id  = NULL\n",
    "rn = mirna_compare$id\n",
    "mirna_compare$id  = NULL\n",
    "mirna_compare = as.matrix(mirna_compare)\n",
    "rownames(mirna_compare) = rn\n"
   ]
  },
  {
   "cell_type": "code",
   "execution_count": 28,
   "id": "f6a79e07-2055-4670-a277-85d3d1366a73",
   "metadata": {},
   "outputs": [
    {
     "data": {
      "text/plain": [
       "\n",
       "FALSE  TRUE \n",
       "    8   151 "
      ]
     },
     "metadata": {},
     "output_type": "display_data"
    },
    {
     "data": {
      "text/plain": [
       "\n",
       "FALSE  TRUE \n",
       "   48   138 "
      ]
     },
     "metadata": {},
     "output_type": "display_data"
    }
   ],
   "source": [
    "table(colnames(mrna_compare_total) %in% colnames(mirna_compare))\n",
    "\n",
    "table(colnames(mrna_compare_polya) %in% colnames(mirna_compare))\n"
   ]
  },
  {
   "cell_type": "markdown",
   "id": "2821c47f-2108-4619-86fa-9065691e8c5f",
   "metadata": {},
   "source": [
    "# Match up miRNA and mRNA data"
   ]
  },
  {
   "cell_type": "code",
   "execution_count": 29,
   "id": "58559541-b54d-4c33-ba22-ff66d387dd2d",
   "metadata": {},
   "outputs": [
    {
     "data": {
      "text/plain": [
       "\n",
       "TRUE \n",
       "1235 "
      ]
     },
     "metadata": {},
     "output_type": "display_data"
    },
    {
     "data": {
      "text/plain": [
       "\n",
       "TRUE \n",
       " 151 "
      ]
     },
     "metadata": {},
     "output_type": "display_data"
    }
   ],
   "source": [
    "mrna_compare_total = mrna_compare_total[,colnames(mrna_compare_total) %in% colnames(mirna_compare)]\n",
    "mirna_compare_total = mirna_compare[,colnames(mirna_compare) %in% colnames(mrna_compare_total)]\n",
    "\n",
    "mirna_compare_total = mirna_compare_total[, colnames(mrna_compare_total)]\n",
    "\n",
    "table(rownames(mirna_compare_total) == rownames(mrna_compare_total))\n",
    "table(colnames(mirna_compare_total) == colnames(mrna_compare_total))\n",
    "\n"
   ]
  },
  {
   "cell_type": "code",
   "execution_count": 30,
   "id": "c88d2a26-d52a-4c53-8027-92dc74dc65a5",
   "metadata": {},
   "outputs": [
    {
     "data": {
      "text/plain": [
       "\n",
       "TRUE \n",
       "1235 "
      ]
     },
     "metadata": {},
     "output_type": "display_data"
    },
    {
     "data": {
      "text/plain": [
       "\n",
       "TRUE \n",
       " 138 "
      ]
     },
     "metadata": {},
     "output_type": "display_data"
    }
   ],
   "source": [
    "mrna_compare_polya = mrna_compare_polya[,colnames(mrna_compare_polya) %in% colnames(mirna_compare)]\n",
    "mirna_compare_polya = mirna_compare[,colnames(mirna_compare) %in% colnames(mrna_compare_polya)]\n",
    "\n",
    "mirna_compare_polya = mirna_compare_polya[, colnames(mrna_compare_polya)]\n",
    "\n",
    "table(rownames(mirna_compare_polya) == rownames(mrna_compare_polya))\n",
    "table(colnames(mirna_compare_polya) == colnames(mrna_compare_polya))\n",
    "\n"
   ]
  },
  {
   "cell_type": "markdown",
   "id": "4ec1ec16-63b1-41dd-9b36-ba8d1e07498d",
   "metadata": {},
   "source": [
    "## Plot cumulative distribution of spearman correlation\n",
    "Calculated separately for total RNA-seq and polyA-plus RNA-seq"
   ]
  },
  {
   "cell_type": "code",
   "execution_count": 31,
   "id": "1b0a0caa-1f72-4aee-95ac-cc88d3542d5a",
   "metadata": {},
   "outputs": [
    {
     "name": "stderr",
     "output_type": "stream",
     "text": [
      "Warning message in cor(t(as.matrix(mirna_compare_total)), t(as.matrix(mrna_compare_total)), :\n",
      "\"the standard deviation is zero\"\n",
      "Warning message in cor(t(as.matrix(mirna_compare_polya)), t(as.matrix(mrna_compare_polya)), :\n",
      "\"the standard deviation is zero\"\n"
     ]
    },
    {
     "data": {
      "image/png": "[encoded data removed]",
      "text/plain": [
       "Plot with title \"Correlation of miRNA & host gene expression\""
      ]
     },
     "metadata": {
      "image/png": {
       "height": 360,
       "width": 420
      }
     },
     "output_type": "display_data"
    }
   ],
   "source": [
    "spearman_test_total = cor(t(as.matrix(mirna_compare_total)),t(as.matrix(mrna_compare_total)), method = \"spearman\")\n",
    "spearman_test_polya = cor(t(as.matrix(mirna_compare_polya)),t(as.matrix(mrna_compare_polya)), method = \"spearman\")\n",
    "\n",
    "\n",
    "df_total = as.data.frame(diag(spearman_test_total))\n",
    "colnames(df_total) = \"spearman_correlation\"\n",
    "df_total$link = rownames(df_total)\n",
    "df_total = df_total[order(df_total$spearman_correlation),]\n",
    "\n",
    "df_polya = as.data.frame(diag(spearman_test_polya))\n",
    "colnames(df_polya) = \"spearman_correlation\"\n",
    "df_polya$link = rownames(df_polya)\n",
    "df_polya = df_polya[order(df_polya$spearman_correlation),]\n",
    "\n",
    "options(repr.plot.width=7, repr.plot.height=6)\n",
    "\n",
    "plot(ecdf(df_total[,\"spearman_correlation\"]),\n",
    "     xlab=\"Spearman correlation\",\n",
    "     ylab=\"Cumulative Proportion\",\n",
    "     main=\"Correlation of miRNA & host gene expression\", cex = 0.4,col=\"#d33b30\",\n",
    "    cex.lab=1.5, cex.axis=1.5, cex.main=1.5, cex.sub=1.5)\n",
    "\n",
    "lines(ecdf(df_polya[,\"spearman_correlation\"]), cex = 0.4,col=\"blue\",\n",
    "    cex.lab=1.5, cex.axis=1.5, cex.main=1.5, cex.sub=1.5)\n",
    "\n",
    "abline(v=0.3,lty=2)\n",
    "legend(-0.8, 1, legend=c(\"total RNA-seq\", \"polyA plus RNA-seq\",\"Spearman corr. = 0.3\"),\n",
    "       col=c(\"#d33b30\", \"blue\",\"black\"), lty=c(1,1,2), cex=1.3)\n"
   ]
  },
  {
   "cell_type": "markdown",
   "id": "8dd79da7-2d6a-41a3-b9ec-8fdf398cf428",
   "metadata": {},
   "source": [
    "# Save reference file"
   ]
  },
  {
   "cell_type": "code",
   "execution_count": 32,
   "id": "38f3a622-fbfb-4f51-8472-55728aac3d22",
   "metadata": {},
   "outputs": [
    {
     "name": "stderr",
     "output_type": "stream",
     "text": [
      "\u001b[1m\u001b[22mJoining, by = \"id\"\n"
     ]
    }
   ],
   "source": [
    "df_polya$assay = \"polyA plus RNA-seq\"\n",
    "df_total$assay = \"total RNA-seq\"\n",
    "ref = rbind(df_polya,df_total)\n",
    "ref$id = ref$link\n",
    "ref = left_join(ref,gene_to_mir_gene_names)\n",
    "ref$link = NULL"
   ]
  },
  {
   "cell_type": "code",
   "execution_count": 33,
   "id": "bafa5499-f305-4173-8da0-76cc386ac140",
   "metadata": {},
   "outputs": [
    {
     "data": {
      "text/html": [
       "<table class=\"dataframe\">\n",
       "<caption>A data.frame: 6 x 8</caption>\n",
       "<thead>\n",
       "\t<tr><th></th><th scope=col>spearman_correlation</th><th scope=col>assay</th><th scope=col>id</th><th scope=col>host_gene_id</th><th scope=col>host_gene_name</th><th scope=col>mirna_id</th><th scope=col>mirna_name</th><th scope=col>host_gene_stable_id</th></tr>\n",
       "\t<tr><th></th><th scope=col>&lt;dbl&gt;</th><th scope=col>&lt;chr&gt;</th><th scope=col>&lt;chr&gt;</th><th scope=col>&lt;chr&gt;</th><th scope=col>&lt;chr&gt;</th><th scope=col>&lt;chr&gt;</th><th scope=col>&lt;chr&gt;</th><th scope=col>&lt;chr&gt;</th></tr>\n",
       "</thead>\n",
       "<tbody>\n",
       "\t<tr><th scope=row>1</th><td>-0.3858321</td><td>polyA plus RNA-seq</td><td>Sfmbt2 (Mir467e)  </td><td>ENSMUSG00000061186.15</td><td>Sfmbt2  </td><td>ENSMUSG00000076948.2</td><td>Mir467e</td><td>ENSMUSG00000061186</td></tr>\n",
       "\t<tr><th scope=row>2</th><td>-0.3627109</td><td>polyA plus RNA-seq</td><td>Gm20732 (Mir30d)  </td><td>ENSMUSG00000093387.1 </td><td>Gm20732 </td><td>ENSMUSG00000065437.1</td><td>Mir30d </td><td>ENSMUSG00000093387</td></tr>\n",
       "\t<tr><th scope=row>3</th><td>-0.3528867</td><td>polyA plus RNA-seq</td><td>Arhgef17 (Mir3102)</td><td>ENSMUSG00000032875.8 </td><td>Arhgef17</td><td>ENSMUSG00000093296.1</td><td>Mir3102</td><td>ENSMUSG00000032875</td></tr>\n",
       "\t<tr><th scope=row>4</th><td>-0.3357072</td><td>polyA plus RNA-seq</td><td>Fcgr3 (Mir6546)   </td><td>ENSMUSG00000059498.13</td><td>Fcgr3   </td><td>ENSMUSG00000099119.1</td><td>Mir6546</td><td>ENSMUSG00000059498</td></tr>\n",
       "\t<tr><th scope=row>5</th><td>-0.3100454</td><td>polyA plus RNA-seq</td><td>Srebf1 (Mir6922)  </td><td>ENSMUSG00000020538.15</td><td>Srebf1  </td><td>ENSMUSG00000099259.1</td><td>Mir6922</td><td>ENSMUSG00000020538</td></tr>\n",
       "\t<tr><th scope=row>6</th><td>-0.3048304</td><td>polyA plus RNA-seq</td><td>Hspg2 (Mir7018)   </td><td>ENSMUSG00000028763.17</td><td>Hspg2   </td><td>ENSMUSG00000099134.1</td><td>Mir7018</td><td>ENSMUSG00000028763</td></tr>\n",
       "</tbody>\n",
       "</table>\n"
      ],
      "text/latex": [
       "A data.frame: 6 x 8\n",
       "\\begin{tabular}{r|llllllll}\n",
       "  & spearman\\_correlation & assay & id & host\\_gene\\_id & host\\_gene\\_name & mirna\\_id & mirna\\_name & host\\_gene\\_stable\\_id\\\\\n",
       "  & <dbl> & <chr> & <chr> & <chr> & <chr> & <chr> & <chr> & <chr>\\\\\n",
       "\\hline\n",
       "\t1 & -0.3858321 & polyA plus RNA-seq & Sfmbt2 (Mir467e)   & ENSMUSG00000061186.15 & Sfmbt2   & ENSMUSG00000076948.2 & Mir467e & ENSMUSG00000061186\\\\\n",
       "\t2 & -0.3627109 & polyA plus RNA-seq & Gm20732 (Mir30d)   & ENSMUSG00000093387.1  & Gm20732  & ENSMUSG00000065437.1 & Mir30d  & ENSMUSG00000093387\\\\\n",
       "\t3 & -0.3528867 & polyA plus RNA-seq & Arhgef17 (Mir3102) & ENSMUSG00000032875.8  & Arhgef17 & ENSMUSG00000093296.1 & Mir3102 & ENSMUSG00000032875\\\\\n",
       "\t4 & -0.3357072 & polyA plus RNA-seq & Fcgr3 (Mir6546)    & ENSMUSG00000059498.13 & Fcgr3    & ENSMUSG00000099119.1 & Mir6546 & ENSMUSG00000059498\\\\\n",
       "\t5 & -0.3100454 & polyA plus RNA-seq & Srebf1 (Mir6922)   & ENSMUSG00000020538.15 & Srebf1   & ENSMUSG00000099259.1 & Mir6922 & ENSMUSG00000020538\\\\\n",
       "\t6 & -0.3048304 & polyA plus RNA-seq & Hspg2 (Mir7018)    & ENSMUSG00000028763.17 & Hspg2    & ENSMUSG00000099134.1 & Mir7018 & ENSMUSG00000028763\\\\\n",
       "\\end{tabular}\n"
      ],
      "text/markdown": [
       "\n",
       "A data.frame: 6 x 8\n",
       "\n",
       "| <!--/--> | spearman_correlation &lt;dbl&gt; | assay &lt;chr&gt; | id &lt;chr&gt; | host_gene_id &lt;chr&gt; | host_gene_name &lt;chr&gt; | mirna_id &lt;chr&gt; | mirna_name &lt;chr&gt; | host_gene_stable_id &lt;chr&gt; |\n",
       "|---|---|---|---|---|---|---|---|---|\n",
       "| 1 | -0.3858321 | polyA plus RNA-seq | Sfmbt2 (Mir467e)   | ENSMUSG00000061186.15 | Sfmbt2   | ENSMUSG00000076948.2 | Mir467e | ENSMUSG00000061186 |\n",
       "| 2 | -0.3627109 | polyA plus RNA-seq | Gm20732 (Mir30d)   | ENSMUSG00000093387.1  | Gm20732  | ENSMUSG00000065437.1 | Mir30d  | ENSMUSG00000093387 |\n",
       "| 3 | -0.3528867 | polyA plus RNA-seq | Arhgef17 (Mir3102) | ENSMUSG00000032875.8  | Arhgef17 | ENSMUSG00000093296.1 | Mir3102 | ENSMUSG00000032875 |\n",
       "| 4 | -0.3357072 | polyA plus RNA-seq | Fcgr3 (Mir6546)    | ENSMUSG00000059498.13 | Fcgr3    | ENSMUSG00000099119.1 | Mir6546 | ENSMUSG00000059498 |\n",
       "| 5 | -0.3100454 | polyA plus RNA-seq | Srebf1 (Mir6922)   | ENSMUSG00000020538.15 | Srebf1   | ENSMUSG00000099259.1 | Mir6922 | ENSMUSG00000020538 |\n",
       "| 6 | -0.3048304 | polyA plus RNA-seq | Hspg2 (Mir7018)    | ENSMUSG00000028763.17 | Hspg2    | ENSMUSG00000099134.1 | Mir7018 | ENSMUSG00000028763 |\n",
       "\n"
      ],
      "text/plain": [
       "  spearman_correlation assay              id                \n",
       "1 -0.3858321           polyA plus RNA-seq Sfmbt2 (Mir467e)  \n",
       "2 -0.3627109           polyA plus RNA-seq Gm20732 (Mir30d)  \n",
       "3 -0.3528867           polyA plus RNA-seq Arhgef17 (Mir3102)\n",
       "4 -0.3357072           polyA plus RNA-seq Fcgr3 (Mir6546)   \n",
       "5 -0.3100454           polyA plus RNA-seq Srebf1 (Mir6922)  \n",
       "6 -0.3048304           polyA plus RNA-seq Hspg2 (Mir7018)   \n",
       "  host_gene_id          host_gene_name mirna_id             mirna_name\n",
       "1 ENSMUSG00000061186.15 Sfmbt2         ENSMUSG00000076948.2 Mir467e   \n",
       "2 ENSMUSG00000093387.1  Gm20732        ENSMUSG00000065437.1 Mir30d    \n",
       "3 ENSMUSG00000032875.8  Arhgef17       ENSMUSG00000093296.1 Mir3102   \n",
       "4 ENSMUSG00000059498.13 Fcgr3          ENSMUSG00000099119.1 Mir6546   \n",
       "5 ENSMUSG00000020538.15 Srebf1         ENSMUSG00000099259.1 Mir6922   \n",
       "6 ENSMUSG00000028763.17 Hspg2          ENSMUSG00000099134.1 Mir7018   \n",
       "  host_gene_stable_id\n",
       "1 ENSMUSG00000061186 \n",
       "2 ENSMUSG00000093387 \n",
       "3 ENSMUSG00000032875 \n",
       "4 ENSMUSG00000059498 \n",
       "5 ENSMUSG00000020538 \n",
       "6 ENSMUSG00000028763 "
      ]
     },
     "metadata": {},
     "output_type": "display_data"
    },
    {
     "data": {
      "text/html": [
       "<style>\n",
       ".list-inline {list-style: none; margin:0; padding: 0}\n",
       ".list-inline>li {display: inline-block}\n",
       ".list-inline>li:not(:last-child)::after {content: \"\\00b7\"; padding: 0 .5ex}\n",
       "</style>\n",
       "<ol class=list-inline><li>2470</li><li>8</li></ol>\n"
      ],
      "text/latex": [
       "\\begin{enumerate*}\n",
       "\\item 2470\n",
       "\\item 8\n",
       "\\end{enumerate*}\n"
      ],
      "text/markdown": [
       "1. 2470\n",
       "2. 8\n",
       "\n",
       "\n"
      ],
      "text/plain": [
       "[1] 2470    8"
      ]
     },
     "metadata": {},
     "output_type": "display_data"
    }
   ],
   "source": [
    "head(ref)\n",
    "dim(ref)"
   ]
  },
  {
   "cell_type": "code",
   "execution_count": 35,
   "id": "5312233c-b7e8-4fc0-b6b5-f721357e6e31",
   "metadata": {},
   "outputs": [],
   "source": [
    "write.csv(ref,file=\"ref/mirna_hostGene_correlation.csv\")"
   ]
  },
  {
   "cell_type": "code",
   "execution_count": null,
   "id": "8652ddf4-9294-4e00-8547-e038d2c4a479",
   "metadata": {},
   "outputs": [],
   "source": []
  }
 ],
 "metadata": {
  "kernelspec": {
   "display_name": "R",
   "language": "R",
   "name": "ir"
  },
  "language_info": {
   "codemirror_mode": "r",
   "file_extension": ".r",
   "mimetype": "text/x-r-source",
   "name": "R",
   "pygments_lexer": "r",
   "version": "4.1.2"
  }
 },
 "nbformat": 4,
 "nbformat_minor": 5
}
