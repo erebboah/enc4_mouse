{
 "cells": [
  {
   "cell_type": "markdown",
   "id": "9e36024d-cda1-42e9-af1a-ef0238149110",
   "metadata": {},
   "source": [
    "# Make final table of regulatory genes "
   ]
  },
  {
   "cell_type": "code",
   "execution_count": 360,
   "id": "52a829ed-df90-4aef-bc36-0561ced8ee39",
   "metadata": {},
   "outputs": [],
   "source": [
    "setwd(\"/share/crsp/lab/seyedam/share/enc4_mouse/snrna/ref\")"
   ]
  },
  {
   "cell_type": "markdown",
   "id": "4e7071a2-6707-49ae-b246-432ce0d0189c",
   "metadata": {},
   "source": [
    "## Subset miRNA-host table\n",
    "Spearman correlation >= 0.3, keep any annotated miRNA-HGs and remove any gene model miRNAs passing the >= 0.3 filter."
   ]
  },
  {
   "cell_type": "code",
   "execution_count": 361,
   "id": "f1191cbb-a198-4037-ad70-9edecbdad3e0",
   "metadata": {},
   "outputs": [
    {
     "data": {
      "text/html": [
       "239"
      ],
      "text/latex": [
       "239"
      ],
      "text/markdown": [
       "239"
      ],
      "text/plain": [
       "[1] 239"
      ]
     },
     "metadata": {},
     "output_type": "display_data"
    },
    {
     "data": {
      "text/html": [
       "195"
      ],
      "text/latex": [
       "195"
      ],
      "text/markdown": [
       "195"
      ],
      "text/plain": [
       "[1] 195"
      ]
     },
     "metadata": {},
     "output_type": "display_data"
    }
   ],
   "source": [
    "mirna_host = read.csv(\"mirna_hostGene_correlation.csv\",row.names = 1)\n",
    "mirna_host_corr = mirna_host[mirna_host$spearman_correlation >= 0.3|grepl(\"Mir.+hg$\",mirna_host$host_gene_name),]\n",
    "mirna_host_corr = na.omit(mirna_host_corr)\n",
    "\n",
    "length(unique(mirna_host_corr$id)) # 220 miRNA-host links pass filter\n",
    "length(unique(mirna_host_corr$host_gene_name)) # 186 unique host genes\n"
   ]
  },
  {
   "cell_type": "markdown",
   "id": "8c9e314c-2d15-46df-bfd3-e31375d04ff7",
   "metadata": {},
   "source": [
    "## Remove duplicate miRNA-host links\n",
    "Keep the one with most correlation."
   ]
  },
  {
   "cell_type": "code",
   "execution_count": 362,
   "id": "999d9a64-85a4-429a-9c34-5a7f3fcf17db",
   "metadata": {},
   "outputs": [
    {
     "data": {
      "text/html": [
       "195"
      ],
      "text/latex": [
       "195"
      ],
      "text/markdown": [
       "195"
      ],
      "text/plain": [
       "[1] 195"
      ]
     },
     "metadata": {},
     "output_type": "display_data"
    },
    {
     "data": {
      "text/html": [
       "195"
      ],
      "text/latex": [
       "195"
      ],
      "text/markdown": [
       "195"
      ],
      "text/plain": [
       "[1] 195"
      ]
     },
     "metadata": {},
     "output_type": "display_data"
    }
   ],
   "source": [
    "mirna_host_corr_uniq = mirna_host_corr[!(duplicated(mirna_host_corr$host_gene_name)|duplicated(mirna_host_corr$host_gene_name, fromLast=TRUE)),]\n",
    "mirna_host_corr_dup = mirna_host_corr[duplicated(mirna_host_corr$host_gene_name),]\n",
    "mirna_host_corr_dup = mirna_host_corr_dup[order(mirna_host_corr_dup$host_gene_name, -mirna_host_corr_dup$spearman_correlation), ] #sort by id and spearman corr\n",
    "mirna_host_corr_dup = mirna_host_corr_dup[!duplicated(mirna_host_corr_dup$host_gene_name), ]\n",
    "mirna_host_corr = rbind(mirna_host_corr_uniq,mirna_host_corr_dup)\n",
    "\n",
    "length(unique(mirna_host_corr$id)) # 220 miRNA-host links pass filter\n",
    "length(unique(mirna_host_corr$host_gene_name)) # 186 unique host genes\n",
    "\n",
    "mirna_host_corr$biotype = \"MiRNA_HG\"\n",
    "mirna_host_corr$display_name = mirna_host_corr$mirna_name\n",
    "mirna_host_corr$gene_name = mirna_host_corr$host_gene_name\n",
    "mirna_host_corr = mirna_host_corr[,c(\"gene_name\",\"display_name\",\"biotype\")]"
   ]
  },
  {
   "cell_type": "markdown",
   "id": "b393150e-fca4-4900-8540-46f53230c8ed",
   "metadata": {},
   "source": [
    "### Also remove any Gm miRNAs."
   ]
  },
  {
   "cell_type": "code",
   "execution_count": 363,
   "id": "fe824e30-bb84-41a6-ae38-550a6d98735e",
   "metadata": {},
   "outputs": [
    {
     "data": {
      "text/html": [
       "<style>\n",
       ".list-inline {list-style: none; margin:0; padding: 0}\n",
       ".list-inline>li {display: inline-block}\n",
       ".list-inline>li:not(:last-child)::after {content: \"\\00b7\"; padding: 0 .5ex}\n",
       "</style>\n",
       "<ol class=list-inline><li>184</li><li>3</li></ol>\n"
      ],
      "text/latex": [
       "\\begin{enumerate*}\n",
       "\\item 184\n",
       "\\item 3\n",
       "\\end{enumerate*}\n"
      ],
      "text/markdown": [
       "1. 184\n",
       "2. 3\n",
       "\n",
       "\n"
      ],
      "text/plain": [
       "[1] 184   3"
      ]
     },
     "metadata": {},
     "output_type": "display_data"
    }
   ],
   "source": [
    "mirna_host_corr = mirna_host_corr[!grepl(\"^Gm\",mirna_host_corr$display_name),]\n",
    "dim(mirna_host_corr)"
   ]
  },
  {
   "cell_type": "markdown",
   "id": "b9205bd4-9cca-493a-a08c-247996f16fe8",
   "metadata": {},
   "source": [
    "## Load GO term table"
   ]
  },
  {
   "cell_type": "code",
   "execution_count": 364,
   "id": "5af6a726-e318-4bd3-95c3-9a179c62e188",
   "metadata": {},
   "outputs": [],
   "source": [
    "histone_regulators = read.delim(\"histone_regulators.tsv\")\n",
    "histone_regulators$display_name = histone_regulators$gene_name\n",
    "histone_regulators$biotype = histone_regulators$Type\n",
    "histone_regulators = histone_regulators[,c(\"gene_name\",\"display_name\",\"biotype\")]\n"
   ]
  },
  {
   "cell_type": "markdown",
   "id": "82b5fbe8-86c8-4f73-a033-581c22fa4225",
   "metadata": {},
   "source": [
    "## Load TF table"
   ]
  },
  {
   "cell_type": "code",
   "execution_count": 365,
   "id": "f6076714-a9b7-4b40-b4f4-1cbf6b539d33",
   "metadata": {},
   "outputs": [],
   "source": [
    "tfs = read.delim(\"TF_mouse_GRCm39.txt\")\n",
    "tfs$biotype = \"TF\"\n",
    "tfs$display_name = tfs$Gene.name\n",
    "tfs$gene_name = tfs$Gene.name\n",
    "tfs = unique(tfs[,c(\"gene_name\",\"display_name\",\"biotype\")])"
   ]
  },
  {
   "cell_type": "markdown",
   "id": "5088f875-a800-499e-8625-e034fb520547",
   "metadata": {},
   "source": [
    "# Merge tables"
   ]
  },
  {
   "cell_type": "code",
   "execution_count": 367,
   "id": "6e71fa82-824d-47b8-8abb-ac1bc6f5914a",
   "metadata": {},
   "outputs": [],
   "source": [
    "mirna_host_corr = mirna_host_corr[!(mirna_host_corr$gene_name %in% tfs$gene_name),]\n",
    "histone_regulators = histone_regulators[!(histone_regulators$gene_name %in% tfs$gene_name),]\n",
    "\n",
    "display_table = rbind(tfs, mirna_host_corr, histone_regulators)\n",
    "display_table = unique(display_table)"
   ]
  },
  {
   "cell_type": "code",
   "execution_count": 369,
   "id": "8b2cdb01-8a06-428e-95da-cc0411d2e901",
   "metadata": {},
   "outputs": [],
   "source": [
    "write.csv(display_table,file=\"new_gene_display_table.csv\",row.names=F)"
   ]
  },
  {
   "cell_type": "code",
   "execution_count": null,
   "id": "7c1fe45d-1cc3-418c-92f3-a89f7f74d6cd",
   "metadata": {},
   "outputs": [],
   "source": []
  },
  {
   "cell_type": "code",
   "execution_count": null,
   "id": "138ee397-298e-4b49-ae05-9aa33780e338",
   "metadata": {},
   "outputs": [],
   "source": []
  },
  {
   "cell_type": "code",
   "execution_count": null,
   "id": "a79faee8-fde0-450d-8e6e-cc4d4fe68de9",
   "metadata": {},
   "outputs": [],
   "source": []
  },
  {
   "cell_type": "code",
   "execution_count": null,
   "id": "5bb7feb6-305b-4847-bd7c-d5f52d7c95ab",
   "metadata": {},
   "outputs": [],
   "source": []
  },
  {
   "cell_type": "code",
   "execution_count": 371,
   "id": "3555294a-4c2b-446b-9ed9-1c7cc8f25e82",
   "metadata": {},
   "outputs": [],
   "source": [
    "old = read.csv(\"gene_display_table.csv\")"
   ]
  },
  {
   "cell_type": "code",
   "execution_count": 372,
   "id": "e587ff50-fe95-4fd1-ba43-fae83885c5de",
   "metadata": {},
   "outputs": [
    {
     "data": {
      "text/html": [
       "2296"
      ],
      "text/latex": [
       "2296"
      ],
      "text/markdown": [
       "2296"
      ],
      "text/plain": [
       "[1] 2296"
      ]
     },
     "metadata": {},
     "output_type": "display_data"
    }
   ],
   "source": [
    "length(unique(old$gene_name))"
   ]
  },
  {
   "cell_type": "code",
   "execution_count": 373,
   "id": "15bf07c8-1920-48a7-b9cf-fd4a416115c9",
   "metadata": {},
   "outputs": [
    {
     "data": {
      "text/plain": [
       "\n",
       "FALSE  TRUE \n",
       "   23  2273 "
      ]
     },
     "metadata": {},
     "output_type": "display_data"
    },
    {
     "data": {
      "text/plain": [
       "\n",
       "FALSE  TRUE \n",
       "  516  2273 "
      ]
     },
     "metadata": {},
     "output_type": "display_data"
    }
   ],
   "source": [
    "table(unique(old$gene_name) %in% unique(display_table$gene_name))\n",
    "\n",
    "table(unique(display_table$gene_name) %in% unique(old$gene_name))"
   ]
  },
  {
   "cell_type": "code",
   "execution_count": 374,
   "id": "4f13ca5a-624e-4cc6-bb42-10ed28d98afc",
   "metadata": {},
   "outputs": [],
   "source": [
    "display_table_new = display_table[!(display_table$gene_name %in% old$gene_name),]"
   ]
  },
  {
   "cell_type": "code",
   "execution_count": 375,
   "id": "18d713ad-24de-460d-8e54-ddb369b3511e",
   "metadata": {},
   "outputs": [
    {
     "data": {
      "text/plain": [
       "\n",
       "      Chromatin_binding     Chromatin_component  Chromatin_organization \n",
       "                     21                      51                      68 \n",
       "                    HAT                MiRNA_HG                     TAF \n",
       "                      1                      23                       2 \n",
       "                     TF Transcription_regulator \n",
       "                     84                     305 "
      ]
     },
     "metadata": {},
     "output_type": "display_data"
    }
   ],
   "source": [
    "table(display_table_new$biotype)"
   ]
  },
  {
   "cell_type": "code",
   "execution_count": 376,
   "id": "00e0bc37-e975-4cf6-89cc-3a0a8fc6d6b4",
   "metadata": {},
   "outputs": [],
   "source": [
    "write.csv(display_table_new,file=\"not_in_old_gene_display_table.csv\",row.names=F)"
   ]
  },
  {
   "cell_type": "code",
   "execution_count": 377,
   "id": "482795d1-8640-47f2-9fdd-701b3894f807",
   "metadata": {},
   "outputs": [
    {
     "data": {
      "text/html": [
       "<table class=\"dataframe\">\n",
       "<caption>A data.frame: 0 x 3</caption>\n",
       "<thead>\n",
       "\t<tr><th scope=col>gene_name</th><th scope=col>display_name</th><th scope=col>biotype</th></tr>\n",
       "\t<tr><th scope=col>&lt;chr&gt;</th><th scope=col>&lt;chr&gt;</th><th scope=col>&lt;chr&gt;</th></tr>\n",
       "</thead>\n",
       "<tbody>\n",
       "</tbody>\n",
       "</table>\n"
      ],
      "text/latex": [
       "A data.frame: 0 x 3\n",
       "\\begin{tabular}{lll}\n",
       " gene\\_name & display\\_name & biotype\\\\\n",
       " <chr> & <chr> & <chr>\\\\\n",
       "\\hline\n",
       "\\end{tabular}\n"
      ],
      "text/markdown": [
       "\n",
       "A data.frame: 0 x 3\n",
       "\n",
       "| gene_name &lt;chr&gt; | display_name &lt;chr&gt; | biotype &lt;chr&gt; |\n",
       "|---|---|---|\n",
       "\n"
      ],
      "text/plain": [
       "     gene_name display_name biotype"
      ]
     },
     "metadata": {},
     "output_type": "display_data"
    },
    {
     "data": {
      "text/html": [
       "<table class=\"dataframe\">\n",
       "<caption>A data.frame: 4 x 3</caption>\n",
       "<thead>\n",
       "\t<tr><th></th><th scope=col>gene_name</th><th scope=col>display_name</th><th scope=col>biotype</th></tr>\n",
       "\t<tr><th></th><th scope=col>&lt;chr&gt;</th><th scope=col>&lt;chr&gt;</th><th scope=col>&lt;chr&gt;</th></tr>\n",
       "</thead>\n",
       "<tbody>\n",
       "\t<tr><th scope=row>35751</th><td>Id1</td><td>Id1</td><td>Transcription_regulator</td></tr>\n",
       "\t<tr><th scope=row>3576</th><td>Id2</td><td>Id2</td><td>Transcription_regulator</td></tr>\n",
       "\t<tr><th scope=row>3577</th><td>Id3</td><td>Id3</td><td>Transcription_regulator</td></tr>\n",
       "\t<tr><th scope=row>3578</th><td>Id4</td><td>Id4</td><td>Transcription_regulator</td></tr>\n",
       "</tbody>\n",
       "</table>\n"
      ],
      "text/latex": [
       "A data.frame: 4 x 3\n",
       "\\begin{tabular}{r|lll}\n",
       "  & gene\\_name & display\\_name & biotype\\\\\n",
       "  & <chr> & <chr> & <chr>\\\\\n",
       "\\hline\n",
       "\t35751 & Id1 & Id1 & Transcription\\_regulator\\\\\n",
       "\t3576 & Id2 & Id2 & Transcription\\_regulator\\\\\n",
       "\t3577 & Id3 & Id3 & Transcription\\_regulator\\\\\n",
       "\t3578 & Id4 & Id4 & Transcription\\_regulator\\\\\n",
       "\\end{tabular}\n"
      ],
      "text/markdown": [
       "\n",
       "A data.frame: 4 x 3\n",
       "\n",
       "| <!--/--> | gene_name &lt;chr&gt; | display_name &lt;chr&gt; | biotype &lt;chr&gt; |\n",
       "|---|---|---|---|\n",
       "| 35751 | Id1 | Id1 | Transcription_regulator |\n",
       "| 3576 | Id2 | Id2 | Transcription_regulator |\n",
       "| 3577 | Id3 | Id3 | Transcription_regulator |\n",
       "| 3578 | Id4 | Id4 | Transcription_regulator |\n",
       "\n"
      ],
      "text/plain": [
       "      gene_name display_name biotype                \n",
       "35751 Id1       Id1          Transcription_regulator\n",
       "3576  Id2       Id2          Transcription_regulator\n",
       "3577  Id3       Id3          Transcription_regulator\n",
       "3578  Id4       Id4          Transcription_regulator"
      ]
     },
     "metadata": {},
     "output_type": "display_data"
    }
   ],
   "source": [
    "old[grep(\"Id\",old$gene_name),]\n",
    "display_table[grep(\"Id\",display_table$gene_name),]"
   ]
  },
  {
   "cell_type": "code",
   "execution_count": 380,
   "id": "a2497068-caa0-40f9-aa9d-a14b86c11311",
   "metadata": {},
   "outputs": [],
   "source": [
    "display_table_new = read.csv(\"new_gene_display_table.csv\")"
   ]
  },
  {
   "cell_type": "code",
   "execution_count": 381,
   "id": "a0536689-0312-4f6d-9bea-f1aedcc37e0e",
   "metadata": {},
   "outputs": [
    {
     "data": {
      "text/plain": [
       "\n",
       "      Chromatin_binding     Chromatin_component  Chromatin_organization \n",
       "                    465                      59                     551 \n",
       "                    HAT                    HDAC                     HDM \n",
       "                     28                      21                      26 \n",
       "                    HMT                Mediator                MiRNA_HG \n",
       "                     53                      41                     174 \n",
       "                    TAF                      TF Transcription_regulator \n",
       "                    106                    1357                     522 "
      ]
     },
     "metadata": {},
     "output_type": "display_data"
    }
   ],
   "source": [
    "table(display_table_new$biotype)"
   ]
  },
  {
   "cell_type": "code",
   "execution_count": null,
   "id": "5ea5cf53-fc91-40bd-85d5-c6d55481e626",
   "metadata": {},
   "outputs": [],
   "source": []
  },
  {
   "cell_type": "code",
   "execution_count": null,
   "id": "e71fe9a0-92e5-4cf3-9935-088041b48403",
   "metadata": {},
   "outputs": [],
   "source": []
  },
  {
   "cell_type": "code",
   "execution_count": null,
   "id": "9cc884a4-ba6c-4a24-b9fb-d3c466ea4b0c",
   "metadata": {},
   "outputs": [],
   "source": []
  },
  {
   "cell_type": "code",
   "execution_count": null,
   "id": "f75dfd57-0143-4d7f-89ee-6663aa5b943a",
   "metadata": {},
   "outputs": [],
   "source": []
  }
 ],
 "metadata": {
  "kernelspec": {
   "display_name": "R",
   "language": "R",
   "name": "ir"
  },
  "language_info": {
   "codemirror_mode": "r",
   "file_extension": ".r",
   "mimetype": "text/x-r-source",
   "name": "R",
   "pygments_lexer": "r",
   "version": "4.1.2"
  }
 },
 "nbformat": 4,
 "nbformat_minor": 5
}
