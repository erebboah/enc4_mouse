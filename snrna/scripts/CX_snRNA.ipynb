{
 "cells": [
  {
   "cell_type": "markdown",
   "id": "7cdd2f06-50b6-49b7-8848-ccdc1286d061",
   "metadata": {},
   "source": [
    "# Mouse snRNA Integrative Analysis\n",
    "## Cortex\n",
    "### Data\n",
    "- [Cortex data table](https://github.com/erebboah/enc4_mouse/blob/master/snrna/ref/cortex_minimal_metadata.tsv)\n",
    "\n",
    "### Aims\n",
    "[integrate_parse_10x.R](https://github.com/erebboah/enc4_mouse/blob/master/snrna/scripts/integrate_parse_10x.R):\n",
    "1. Read in pre-processed Parse and 10x data and merge counts matrices across experiments (within the same technology) for each tissue.\n",
    "2. Filter nuclei by # genes, # UMIs, percent mitochondrial gene expression, and doublet score. See [detailed metadata](https://github.com/erebboah/enc4_mouse/blob/master/snrna/ref/enc4_mouse_snrna_metadata.tsv) for filter cutoffs.\n",
    "3. Run SCT on the 3 objects to regress `percent.mt` and `nFeature_RNA`. Use  `method = \"glmGamPoi\"` to speed up this step, and save pre-integrated data in `seurat` folder. **Also filter 10x nuclei for those passing snATAC filters.**\n",
    "4. Combine Parse standard, Parse deep, and 10x data by CCA integration. Use Parse standard as reference dataset because it contains all timepoints, while 10x data only contains 2 timepoints. \n",
    "5. Score nuclei by cell cycle using these [mouse cell cycle genes](https://github.com/erebboah/enc4_mouse/blob/master/snrna/ref/mouse_cellcycle_genes.rda) to aid in manual celltype annotation.\n",
    "\n",
    "[predict_cortex_celltypes.R](https://github.com/erebboah/enc4_mouse/blob/master/snrna/scripts/predict_cortex_celltypes.R): Use an [external 10x brain atlas](https://portal.brain-map.org/atlases-and-data/rnaseq/mouse-whole-cortex-and-hippocampus-10x) to predict celltype labels. The 1.1M cell dataset was subset for 1,000 cells in each celltype for a ~250,000 cell dataset (code coming soon).\n",
    "\n",
    "**In this notebook**:\n",
    "Manual celltype annotation by assigning each cluster to the celltype predicted for the majority of cells in the cluster, then adjusting the labels as we see fit. Find marker genes for `gen_celltype`, `celltypes`, and `subtypes` and save in `seurat/markers`.\n",
    "\n",
    "### Results\n",
    "- We decided on 3 levels of annotation: `gen_celltype` or general celltype (e.g. \"Neuron\"), `celltypes` for higher resolution (e.g. \"Inhibitory\"), and finally `subtypes` for the highest resolution of celltype annotations (e.g. \"Pvalb\"). \n",
    "- The external atlas did not separate their oligodendrocytes into OPCs, MFOLs, and MOLs, but we use marker genes reported in literature and on [mousebrain.org](http://www.mousebrain.org/adolescent/celltypes.html) to check marker genes and assign cell type labels.\n"
   ]
  },
  {
   "cell_type": "code",
   "execution_count": 1,
   "id": "e8dc8679-43e6-48ff-9213-875e7849c677",
   "metadata": {},
   "outputs": [
    {
     "name": "stderr",
     "output_type": "stream",
     "text": [
      "Warning message in system(\"timedatectl\", intern = TRUE):\n",
      "\"running command 'timedatectl' had status 1\"\n"
     ]
    }
   ],
   "source": [
    "library(Matrix)\n",
    "suppressPackageStartupMessages(library(Seurat))\n",
    "suppressPackageStartupMessages(library(tidyverse))\n",
    "suppressPackageStartupMessages(library(viridis))\n",
    "library(glmGamPoi)\n",
    "library(RColorBrewer)\n",
    "options(future.globals.maxSize = 10000 * 1024^2)\n",
    "future.seed=TRUE\n"
   ]
  },
  {
   "cell_type": "code",
   "execution_count": null,
   "id": "924d5043-4429-472d-8afb-deb8a5140c3f",
   "metadata": {},
   "outputs": [],
   "source": [
    "setwd(\"../../enc4_mouse/snrna/\")"
   ]
  },
  {
   "cell_type": "code",
   "execution_count": 2,
   "id": "9e607fa6-4228-46b7-9c45-d88e3b0ac82c",
   "metadata": {},
   "outputs": [],
   "source": [
    "setwd(\"/share/crsp/lab/seyedam/share/enc4_mouse/snrna/\")"
   ]
  },
  {
   "cell_type": "code",
   "execution_count": 3,
   "id": "3abf50d5-1239-4627-ba71-65fded438948",
   "metadata": {},
   "outputs": [],
   "source": [
    "system(\"mkdir plots/cortex\")\n",
    "system(\"mkdir plots/cortex/qc\")\n",
    "system(\"mkdir plots/cortex/clustering\")\n",
    "system(\"mkdir plots/cortex/annotation\")\n",
    "system(\"mkdir seurat/markers\")\n",
    "system(\"mkdir ref/cortex\")"
   ]
  },
  {
   "cell_type": "markdown",
   "id": "2b7bce59-98d4-430c-afab-0b0c7a1e8cfb",
   "metadata": {},
   "source": [
    "# Functions"
   ]
  },
  {
   "cell_type": "code",
   "execution_count": 4,
   "id": "cdce3009-5d78-4595-b10b-bda09f07c0fa",
   "metadata": {},
   "outputs": [],
   "source": [
    "get_orig_counts = function(file){\n",
    "    metadata = metadata[metadata$file_accession == file,]\n",
    "    counts = readMM(paste0(\"counts_10x/\",file,\"/matrix.mtx\"))\n",
    "    \n",
    "    barcodes = read.delim(paste0(\"counts_10x/\",file,\"/barcodes.tsv\"),header = F, col.names=\"barcode\")\n",
    "    features = read.delim(paste0(\"counts_10x/\",file,\"/genes.tsv\"),header = F, col.names=\"gene_name\") \n",
    "    colnames(counts) = barcodes$barcode\n",
    "    rownames(counts) = features$gene_name\n",
    "    out = counts\n",
    "\n",
    "}"
   ]
  },
  {
   "cell_type": "code",
   "execution_count": 5,
   "id": "ac3217ef-07a6-49ef-836b-70e1ae75cd10",
   "metadata": {},
   "outputs": [],
   "source": [
    "knee_df = function(mtx,expt_name){\n",
    "    df = as.data.frame(rowSums(mtx))\n",
    "    colnames(df) = c(\"nUMI\")\n",
    "    df <- tibble(total = df$nUMI,\n",
    "               rank = row_number(dplyr::desc(total))) %>%\n",
    "    distinct() %>%\n",
    "    arrange(rank)\n",
    "    df$experiment = expt_name\n",
    "    out = df\n",
    "}"
   ]
  },
  {
   "cell_type": "markdown",
   "id": "76092e49-cc8f-4a38-8a75-ccfdcd3d8ac3",
   "metadata": {},
   "source": [
    "# QC plots"
   ]
  },
  {
   "cell_type": "markdown",
   "id": "5d7496df-3066-49f8-9aa3-3bcc80bf4be4",
   "metadata": {},
   "source": [
    "## Knee plot"
   ]
  },
  {
   "cell_type": "code",
   "execution_count": 6,
   "id": "361cc08c-d22c-4d4f-a8b7-093b8248d162",
   "metadata": {},
   "outputs": [],
   "source": [
    "combined.sct = readRDS(\"seurat/cortex_Parse_10x_integrated.rds\")\n",
    "cellbend_10x = subset(combined.sct,subset=technology ==\"10x\")\n",
    "orig_parse = subset(combined.sct,subset=technology ==\"Parse\")\n",
    "parse_standard = subset(orig_parse,subset=depth1 ==\"shallow\")\n",
    "parse_deep = subset(orig_parse,subset=depth1 ==\"deep\")"
   ]
  },
  {
   "cell_type": "code",
   "execution_count": 7,
   "id": "84330cc5-156b-4790-9d77-2bac6459b433",
   "metadata": {},
   "outputs": [],
   "source": [
    "metadata = read.delim(\"ref/enc4_mouse_snrna_metadata.tsv\")\n",
    "metadata = metadata[metadata$technology == \"10x\",]\n",
    "metadata = metadata[metadata$tissue == \"Cortex\",]\n",
    "\n",
    "files = metadata$file_accession\n",
    "\n",
    "orig_10x = get_orig_counts(files[1])\n",
    "\n",
    "for (j in 2:length(files)){\n",
    "    counts_adding = get_orig_counts(files[j])\n",
    "    orig_10x = cbind(orig_10x, counts_adding)\n",
    "}\n"
   ]
  },
  {
   "cell_type": "code",
   "execution_count": 8,
   "id": "de5e5208-39eb-4c92-93e2-c9dc88ca734f",
   "metadata": {},
   "outputs": [
    {
     "name": "stderr",
     "output_type": "stream",
     "text": [
      "Warning message:\n",
      "\"Transformation introduced infinite values in continuous y-axis\"\n"
     ]
    },
    {
     "data": {
      "text/html": [
       "<strong>png:</strong> 2"
      ],
      "text/latex": [
       "\\textbf{png:} 2"
      ],
      "text/markdown": [
       "**png:** 2"
      ],
      "text/plain": [
       "png \n",
       "  2 "
      ]
     },
     "metadata": {},
     "output_type": "display_data"
    }
   ],
   "source": [
    "cellbend_knee_plot = knee_df(cellbend_10x@assays$RNA@counts, \"10x + Cellbender\")\n",
    "orig_knee_plot = knee_df(orig_10x, \"10x\")\n",
    "\n",
    "parse_standard_knee_plot = knee_df(parse_standard@assays$RNA@counts, \"Parse standard\")\n",
    "parse_deep_knee_plot = knee_df(parse_deep@assays$RNA@counts, \"Parse deep\")\n",
    "\n",
    "pdf(file=\"plots/cortex/qc/experiment_kneeplots.pdf\",\n",
    "    width = 10, height = 8)\n",
    "ggplot(rbind(cellbend_knee_plot,orig_knee_plot,parse_standard_knee_plot,parse_deep_knee_plot), \n",
    "       aes(rank, total, group = experiment, color = experiment)) +\n",
    "geom_path() + \n",
    "scale_y_log10() + scale_x_log10() + annotation_logticks() +\n",
    "labs(y = \"Total UMI count\", x = \"Barcode rank\", title = \"Mouse cortex knee plot\") + \n",
    "geom_hline(yintercept=500, linetype=\"dashed\", color = \"red\", size=1)\n",
    "dev.off()\n"
   ]
  },
  {
   "cell_type": "code",
   "execution_count": 9,
   "id": "0f74790d-7e51-41c3-aa44-95c7d4e7b68b",
   "metadata": {},
   "outputs": [
    {
     "name": "stderr",
     "output_type": "stream",
     "text": [
      "The default behaviour of split.by has changed.\n",
      "Separate violin plots are now plotted side-by-side.\n",
      "To restore the old behaviour of a single split violin,\n",
      "set split.plot = TRUE.\n",
      "      \n",
      "This message will be shown once per session.\n",
      "\n",
      "Warning message:\n",
      "\"`fun.y` is deprecated. Use `fun` instead.\"\n",
      "Warning message:\n",
      "\"`fun.y` is deprecated. Use `fun` instead.\"\n"
     ]
    },
    {
     "data": {
      "text/html": [
       "<strong>png:</strong> 2"
      ],
      "text/latex": [
       "\\textbf{png:} 2"
      ],
      "text/markdown": [
       "**png:** 2"
      ],
      "text/plain": [
       "png \n",
       "  2 "
      ]
     },
     "metadata": {},
     "output_type": "display_data"
    }
   ],
   "source": [
    "pdf(file=\"plots/cortex/qc/experiment_violinplots.pdf\",\n",
    "    width = 20, height = 5)\n",
    "VlnPlot(combined.sct, features = c(\"nFeature_RNA\"), ncol = 1, split.by = \"depth2\",\n",
    "        pt.size = 0, group.by = \"sample\", cols = c(\"#811b74\",\"#C08DBA\",\"#00a1e0\"))+ ggtitle(\"# genes per nucleus\") +\n",
    "stat_summary(fun.y = median, geom='point', size = 15, colour = \"black\", shape = 95) & theme(text = element_text(size = 20), \n",
    "                                                                              axis.text.x = element_text(size = 20), \n",
    "                                                                              axis.text.y = element_text(size = 20))\n",
    "VlnPlot(combined.sct, features = c(\"nCount_RNA\"), ncol = 1, split.by = \"depth2\",\n",
    "        pt.size = 0, group.by = \"sample\", cols = c(\"#811b74\",\"#C08DBA\",\"#00a1e0\")) + ggtitle(\"# UMIs per nucleus\") +\n",
    "stat_summary(fun.y = median, geom='point', size = 15, colour = \"black\", shape = 95)& theme(text = element_text(size = 20), \n",
    "                                                  axis.text.x = element_text(size = 20), \n",
    "                                                  axis.text.y = element_text(size = 20))\n",
    "VlnPlot(combined.sct, features = c(\"percent.mt\"), ncol = 1, split.by = \"depth2\",\n",
    "        pt.size = 0, group.by = \"sample\", cols = c(\"#811b74\",\"#C08DBA\",\"#00a1e0\")) & theme(text = element_text(size = 20), \n",
    "                                                  axis.text.x = element_text(size = 20), \n",
    "                                                  axis.text.y = element_text(size = 20)) \n",
    "dev.off()"
   ]
  },
  {
   "cell_type": "markdown",
   "id": "a154762c-c12a-461a-ad39-194a32ebf50d",
   "metadata": {},
   "source": [
    "## UMAP \"Feature Plots\" of QC metadata"
   ]
  },
  {
   "cell_type": "code",
   "execution_count": 10,
   "id": "04822cc6-3df1-4556-806a-4df0730b4e51",
   "metadata": {},
   "outputs": [
    {
     "name": "stderr",
     "output_type": "stream",
     "text": [
      "Scale for 'colour' is already present. Adding another scale for 'colour',\n",
      "which will replace the existing scale.\n",
      "\n",
      "Scale for 'colour' is already present. Adding another scale for 'colour',\n",
      "which will replace the existing scale.\n",
      "\n",
      "Scale for 'colour' is already present. Adding another scale for 'colour',\n",
      "which will replace the existing scale.\n",
      "\n",
      "Scale for 'colour' is already present. Adding another scale for 'colour',\n",
      "which will replace the existing scale.\n",
      "\n",
      "Scale for 'colour' is already present. Adding another scale for 'colour',\n",
      "which will replace the existing scale.\n",
      "\n",
      "Scale for 'colour' is already present. Adding another scale for 'colour',\n",
      "which will replace the existing scale.\n",
      "\n"
     ]
    },
    {
     "data": {
      "text/html": [
       "<strong>png:</strong> 2"
      ],
      "text/latex": [
       "\\textbf{png:} 2"
      ],
      "text/markdown": [
       "**png:** 2"
      ],
      "text/plain": [
       "png \n",
       "  2 "
      ]
     },
     "metadata": {},
     "output_type": "display_data"
    }
   ],
   "source": [
    "png(file=\"plots/cortex/qc/qc_featureplot.png\",\n",
    "    width = 1200, height = 500)\n",
    "\n",
    "FeaturePlot(combined.sct, pt.size = 0.1,\n",
    "            features =c(\"nFeature_RNA\",\n",
    "                        \"nCount_RNA\",\n",
    "                        \"percent.mt\",\n",
    "                        \"percent.ribo\",\n",
    "                        \"doublet_scores\",\n",
    "                        \"G2M.Score\"), ncol =3,order=T)  & scale_colour_gradientn(colours = viridis(11)) & \n",
    "                        NoAxes()& \n",
    "                        theme(text = element_text(size = 18))\n",
    "\n",
    "dev.off()\n"
   ]
  },
  {
   "cell_type": "markdown",
   "id": "853e7e3a-226d-439e-8d1d-247757cf0b6f",
   "metadata": {},
   "source": [
    "# Check integration and clustering"
   ]
  },
  {
   "cell_type": "code",
   "execution_count": 4,
   "id": "cf00bdd8-56c0-4870-add6-ed8510e942cc",
   "metadata": {},
   "outputs": [],
   "source": [
    "combined.sct = readRDS(\"seurat/cortex_Parse_10x_integrated.rds\")\n"
   ]
  },
  {
   "cell_type": "code",
   "execution_count": 109,
   "id": "74925a5b-5fd9-41cd-9bd5-07cbbcaff34b",
   "metadata": {},
   "outputs": [],
   "source": [
    "nclusters = length(unique(combined.sct$seurat_clusters))\n",
    "cluster_cols = colorRampPalette(brewer.pal(9,\"Set1\"))(nclusters)"
   ]
  },
  {
   "cell_type": "code",
   "execution_count": 110,
   "id": "c60f69dd-de28-4ae3-8483-7478757ac6df",
   "metadata": {},
   "outputs": [
    {
     "data": {
      "text/html": [
       "<strong>png:</strong> 2"
      ],
      "text/latex": [
       "\\textbf{png:} 2"
      ],
      "text/markdown": [
       "**png:** 2"
      ],
      "text/plain": [
       "png \n",
       "  2 "
      ]
     },
     "metadata": {},
     "output_type": "display_data"
    }
   ],
   "source": [
    "pdf(file=\"plots/cortex/clustering/UMAP_Parse_10x.pdf\",\n",
    "    width = 20, height = 8)\n",
    "p1 <- DimPlot(combined.sct, reduction = \"umap\", group.by = \"technology\")\n",
    "p2 <- DimPlot(combined.sct, reduction = \"umap\", label = TRUE, repel = TRUE, cols = cluster_cols)\n",
    "p1 + p2\n",
    "\n",
    "dev.off()"
   ]
  },
  {
   "cell_type": "code",
   "execution_count": 111,
   "id": "1c977813-c941-40e4-8650-97aa7ed652c9",
   "metadata": {},
   "outputs": [
    {
     "data": {
      "text/html": [
       "<strong>png:</strong> 2"
      ],
      "text/latex": [
       "\\textbf{png:} 2"
      ],
      "text/markdown": [
       "**png:** 2"
      ],
      "text/plain": [
       "png \n",
       "  2 "
      ]
     },
     "metadata": {},
     "output_type": "display_data"
    }
   ],
   "source": [
    "pdf(file=\"plots/cortex/clustering/Parse_10x_experiment_distribution.pdf\",\n",
    "    width = 20, height = 6)\n",
    "DimPlot(combined.sct, reduction = \"umap\", group.by = \"seurat_clusters\",split.by = \"depth2\", label = TRUE, label.size = 6, repel = TRUE, shuffle = T,cols = cluster_cols)\n",
    "\n",
    "ggplot(combined.sct@meta.data, aes(x=seurat_clusters, fill=depth2)) + geom_bar(position = \"fill\") & \n",
    "theme(text = element_text(size = 20), axis.text.x = element_text(size = 20), axis.text.y = element_text(size = 20))\n",
    "\n",
    "dev.off()\n"
   ]
  },
  {
   "cell_type": "code",
   "execution_count": 112,
   "id": "5bd391a9-e7ea-4d89-ba26-5a6a97c76bfa",
   "metadata": {},
   "outputs": [
    {
     "data": {
      "text/html": [
       "<strong>png:</strong> 2"
      ],
      "text/latex": [
       "\\textbf{png:} 2"
      ],
      "text/markdown": [
       "**png:** 2"
      ],
      "text/plain": [
       "png \n",
       "  2 "
      ]
     },
     "metadata": {},
     "output_type": "display_data"
    }
   ],
   "source": [
    "combined.sct$sample = factor(combined.sct$sample, levels=paste0(\"C_\",rep(c(\"4\",\"10\",\"14\",\"25\",\"36\",\"2m\",\"18m\"),each=4),rep(c(\"_M\",\"_F\"),each=2),c(\"_1\",\"_2\")))\n",
    "\n",
    "pdf(file=\"plots/cortex/clustering/UMAP_cluster_sample_barplot.pdf\",\n",
    "    width = 20, height = 10)\n",
    "p1=DimPlot(combined.sct, reduction = \"umap\", group.by = \"seurat_clusters\", label = TRUE, label.size = 8, repel = TRUE, \n",
    "          cols = cluster_cols)\n",
    "p2=ggplot(combined.sct@meta.data, aes(x=seurat_clusters, fill=sample)) + geom_bar(position = \"fill\") +\n",
    "theme(text = element_text(size = 20), axis.text.x = element_text(size = 20), axis.text.y = element_text(size = 20)) & coord_flip()\n",
    "gridExtra::grid.arrange(\n",
    "  p1, p2,\n",
    "  widths = c(2,1.6),\n",
    "  layout_matrix = rbind(c(1, 2)))\n",
    "\n",
    "dev.off()"
   ]
  },
  {
   "cell_type": "code",
   "execution_count": 113,
   "id": "179a8a70-fa13-4d9b-b30a-671e0044630e",
   "metadata": {},
   "outputs": [
    {
     "data": {
      "text/html": [
       "<strong>png:</strong> 2"
      ],
      "text/latex": [
       "\\textbf{png:} 2"
      ],
      "text/markdown": [
       "**png:** 2"
      ],
      "text/plain": [
       "png \n",
       "  2 "
      ]
     },
     "metadata": {},
     "output_type": "display_data"
    }
   ],
   "source": [
    "pdf(file=\"plots/cortex/clustering/age_sex_barplot.pdf\",\n",
    "    width = 18, height = 19)\n",
    "p1=DimPlot(combined.sct, reduction = \"umap\", group.by = \"timepoint\", label = TRUE, label.size = 5, repel = TRUE)\n",
    "p2 = ggplot(combined.sct@meta.data, aes(x=seurat_clusters, fill=timepoint)) + geom_bar(position = \"fill\") & \n",
    "theme(text = element_text(size = 20), axis.text.x = element_text(size = 20), axis.text.y = element_text(size = 20)) & coord_flip()\n",
    "\n",
    "p3=DimPlot(combined.sct, reduction = \"umap\", group.by = \"sex\", label = TRUE, label.size = 5, repel = TRUE, shuffle = T)\n",
    "p4 = ggplot(combined.sct@meta.data, aes(x=seurat_clusters, fill=sex)) + geom_bar(position = \"fill\") & \n",
    "theme(text = element_text(size = 20), axis.text.x = element_text(size = 20), axis.text.y = element_text(size = 20)) & coord_flip()\n",
    "gridExtra::grid.arrange(\n",
    "  p1, p2, p3, p4,\n",
    "  widths = c(2,1),\n",
    "  layout_matrix = rbind(c(1, 2),\n",
    "                        c(3, 4)))\n",
    "\n",
    "dev.off()"
   ]
  },
  {
   "cell_type": "markdown",
   "id": "a0941fe0-0a65-4a9c-8fd5-5f69de5e83c1",
   "metadata": {},
   "source": [
    "# Plotting: check predicted celltypes"
   ]
  },
  {
   "cell_type": "code",
   "execution_count": 114,
   "id": "032b5fea-f93f-4432-bed5-b945ccb6cda5",
   "metadata": {},
   "outputs": [
    {
     "data": {
      "text/html": [
       "<strong>png:</strong> 2"
      ],
      "text/latex": [
       "\\textbf{png:} 2"
      ],
      "text/markdown": [
       "**png:** 2"
      ],
      "text/plain": [
       "png \n",
       "  2 "
      ]
     },
     "metadata": {},
     "output_type": "display_data"
    }
   ],
   "source": [
    "pdf(file=\"plots/cortex/annotation/UMAP_predictions.pdf\",\n",
    "    width = 15, height = 12)\n",
    "nclusters = length(unique(combined.sct$atlas_predictions))\n",
    "DimPlot(combined.sct, reduction = \"umap\", group.by = \"atlas_predictions\",\n",
    "        label = TRUE, label.size = 6, repel = TRUE,cols = colorRampPalette(brewer.pal(9,\"Set1\"))(nclusters)) + NoLegend()\n",
    "dev.off()"
   ]
  },
  {
   "cell_type": "markdown",
   "id": "2577bea7-f6fc-4176-8684-7d47e784b5e0",
   "metadata": {},
   "source": [
    "# Rename clusters based on maximum predicted celltype"
   ]
  },
  {
   "cell_type": "code",
   "execution_count": 148,
   "id": "63d1ca96-e189-4368-8fb4-d157680ac28c",
   "metadata": {},
   "outputs": [
    {
     "name": "stderr",
     "output_type": "stream",
     "text": [
      "\u001b[1m\u001b[22mJoining, by = \"seurat_clusters\"\n"
     ]
    }
   ],
   "source": [
    "Idents(combined.sct) = \"seurat_clusters\"\n",
    "mat = as.matrix(table(Idents(combined.sct), combined.sct$atlas_predictions))\n",
    "ct = data.frame(atlas_celltypes = colnames(mat)[max.col(mat)])\n",
    "ct$seurat_clusters = 0:(nrow(ct)-1)\n",
    "ct$seurat_clusters = factor(ct$seurat_clusters, levels = 0:(nrow(ct)-1))\n",
    "ct$atlas_celltypes = paste0(ct$atlas_celltypes, \".\", ct$seurat_clusters)\n",
    "\n",
    "metadata = as.data.frame(combined.sct@meta.data)\n",
    "metadata = left_join(metadata, ct)\n",
    "\n",
    "combined.sct$atlas_celltypes = metadata$atlas_celltypes"
   ]
  },
  {
   "cell_type": "code",
   "execution_count": 149,
   "id": "ff6b35a6-a091-49e9-a183-4681b90d24ed",
   "metadata": {},
   "outputs": [
    {
     "data": {
      "text/html": [
       "<strong>png:</strong> 2"
      ],
      "text/latex": [
       "\\textbf{png:} 2"
      ],
      "text/markdown": [
       "**png:** 2"
      ],
      "text/plain": [
       "png \n",
       "  2 "
      ]
     },
     "metadata": {},
     "output_type": "display_data"
    }
   ],
   "source": [
    "pdf(file=\"plots/cortex/annotation/UMAP_maximum_predictions.pdf\",\n",
    "    width = 15, height = 12)\n",
    "\n",
    "#options(repr.plot.width=20,repr.plot.height=20)\n",
    "\n",
    "nclusters = length(unique(combined.sct$atlas_celltypes))\n",
    "DimPlot(combined.sct, reduction = \"umap\", group.by = \"atlas_celltypes\",\n",
    "        label = TRUE, label.size = 4, repel = TRUE,cols = colorRampPalette(brewer.pal(9,\"Set1\"))(nclusters))  & NoLegend()\n",
    "dev.off()\n"
   ]
  },
  {
   "cell_type": "markdown",
   "id": "a118c76a-04da-42f0-9094-502e80b8c249",
   "metadata": {},
   "source": [
    "# Manual celltype annotation\n",
    "L2/3 IT RHP and CA3 don't seem neuronal???\n",
    "\n",
    "L6 IT CT doesn't have nice Foxp2 marker...interneuron markers?\n",
    "\n",
    "Sncg NOT accurate"
   ]
  },
  {
   "cell_type": "markdown",
   "id": "4403e13a-8c28-4e5f-9d4e-8e3291ebd630",
   "metadata": {},
   "source": [
    "## Fix oligodendrocyte clusters"
   ]
  },
  {
   "cell_type": "code",
   "execution_count": 153,
   "id": "d1bf02c0-531d-4a42-b6a4-cddc82a18ff0",
   "metadata": {},
   "outputs": [],
   "source": [
    "combined.sct$subtypes = combined.sct$atlas_celltypes\n",
    "\n",
    "combined.sct$subtypes = gsub(\"\\\\<Oligo.6\\\\>\",\"OPC.6\",combined.sct$subtypes) \n",
    "combined.sct$subtypes = gsub(\"\\\\<Oligo.44\\\\>\",\"OPC.44\",combined.sct$subtypes) \n",
    "combined.sct$subtypes = gsub(\"\\\\<Oligo.59\\\\>\",\"OPC.59\",combined.sct$subtypes) \n",
    "combined.sct$subtypes = gsub(\"\\\\<Oligo.30\\\\>\",\"MFOL.30\",combined.sct$subtypes)\n",
    "combined.sct$subtypes = gsub(\"\\\\<Oligo.20\\\\>\",\"MOL.20\",combined.sct$subtypes) \n"
   ]
  },
  {
   "cell_type": "markdown",
   "id": "33e0674b-a161-4247-938a-9bf0aecd4110",
   "metadata": {},
   "source": [
    "## Fix clusters"
   ]
  },
  {
   "cell_type": "code",
   "execution_count": 154,
   "id": "884b7171-86cd-490c-874d-d31f854d10f0",
   "metadata": {},
   "outputs": [],
   "source": [
    "combined.sct$subtypes = gsub(\"\\\\<CA3.31\\\\>\",\"Astro.31\",combined.sct$subtypes) \n",
    "combined.sct$subtypes = gsub(\"\\\\<Lamp5.36\\\\>\",\"Meis2.36\",combined.sct$subtypes) \n"
   ]
  },
  {
   "cell_type": "code",
   "execution_count": 156,
   "id": "810e2fb2-880e-45d0-a658-de7127363ac6",
   "metadata": {},
   "outputs": [],
   "source": [
    "# get rid of cluster #\n",
    "combined.sct$subtypes = do.call(\"rbind\", strsplit(as.character(combined.sct$subtypes), \"[.]\"))[,1]\n"
   ]
  },
  {
   "cell_type": "markdown",
   "id": "3caf920d-4aa3-43da-b18e-47ce3942344b",
   "metadata": {},
   "source": [
    "## Change some names and check UMAP"
   ]
  },
  {
   "cell_type": "code",
   "execution_count": 157,
   "id": "437269e6-8e6d-4813-ba65-25c1047711f9",
   "metadata": {},
   "outputs": [],
   "source": [
    "combined.sct$subtypes = gsub(\"\\\\<Astro\\\\>\",\"Astrocyte\",combined.sct$subtypes) \n",
    "combined.sct$subtypes = gsub(\"\\\\<Endo\\\\>\",\"Endothelial\",combined.sct$subtypes) \n"
   ]
  },
  {
   "cell_type": "code",
   "execution_count": 22,
   "id": "39a30094-8e3d-4c90-a8f1-fd18cb576338",
   "metadata": {},
   "outputs": [],
   "source": [
    "genes = c( \"Gfap\",\"Slc1a2\",\"Slc1a3\",\"Gja1\", # astro\n",
    "          \"Mki67\",\"Top2a\", # astrocyte/neural progenitors\n",
    "                                   \"Pde1a\",\"Galntl6\",\"Cpne4\",\"Hs3st4\",# TEGLUs\n",
    "                                   \"Ndnf\",\"Reln\",\"Trp73\", # cajal-retzius\n",
    "                                    \"Car3\",\n",
    "                                    \"Bhlhe22\",\"Igfbpl1\", # early DG\n",
    "          \"Flt1\",\"Myl9\",\"Xdh\", # endothelial \n",
    "                                   \"Dnah6\",\"Dnah12\", \"Ccdc153\",# ependymal\n",
    "                                   \"Nr4a2\",\"Hs3st2\",\"Tshz2\",\n",
    "                                    \"Vwc2l\", # near-projecting\n",
    "                                   \"Lamp5\",\"Lhx6\",\n",
    "                                   \"Pdgfra\",\"Sox6\",\"C1ql1\",# OPC\n",
    "                                   \"Csf1r\",\"Cx3cr1\",\"P2ry12\",# microglia\n",
    "                                   \"Plp1\",\"Mbp\",\"Ccp110\",# MFOL\n",
    "                                   \"Mog\",\"Opalin\",\"Ninj2\",\"Hapln2\",\"Dock5\", # MOL\n",
    "                                   \"Sncg\",\"Sst\",\n",
    "                                   \"Dcn\",\"Slc6a13\",\"Ptgds\",  # VLMC\n",
    "                                   \"Vip\",\"Meis2\",\"Cobll1\",\"Syt6\",\n",
    "                                    \"Foxp2\",\"Rasgrf2\",\"Gad1\",\"Gad2\", \"Slc17a7\",\"Rorb\",\"Snap25\"\n",
    "          )\n",
    "        \n",
    "\n",
    "\n",
    "# Gad1, Gad2, Slc31a2, Gat inhibitory\n",
    "# Slc17a6"
   ]
  },
  {
   "cell_type": "code",
   "execution_count": 23,
   "id": "c69ad140-8f5d-4e8a-82b6-ca66763cec6c",
   "metadata": {},
   "outputs": [
    {
     "data": {
      "text/html": [
       "<strong>png:</strong> 2"
      ],
      "text/latex": [
       "\\textbf{png:} 2"
      ],
      "text/markdown": [
       "**png:** 2"
      ],
      "text/plain": [
       "png \n",
       "  2 "
      ]
     },
     "metadata": {},
     "output_type": "display_data"
    }
   ],
   "source": [
    "# dot plot of some marker genes\n",
    "# http://www.mousebrain.org/adolescent/celltypes.html\n",
    "# https://www.nature.com/articles/s41586-018-0642-9\n",
    "pdf(file=\"plots/cortex/annotation/subtypes_marker_dotplot.pdf\",\n",
    "   width = 20, height = 15)\n",
    "\n",
    "options(repr.plot.width=20,repr.plot.height=10)\n",
    "\n",
    "DefaultAssay(combined.sct) = \"SCT\" # do NOT use integrated assay to visualize gene expression\n",
    "Idents(combined.sct) = \"subtypes\"\n",
    "Idents(combined.sct) = factor(Idents(combined.sct), levels = sort(as.character(unique(Idents(combined.sct)))))\n",
    "DotPlot(combined.sct, features = genes)+ \n",
    "theme(axis.text.x = element_text(angle = 45, hjust = 1)) \n",
    "dev.off()"
   ]
  },
  {
   "cell_type": "code",
   "execution_count": 37,
   "id": "ce16e73a-5044-448e-a9f0-8dc83636b5d0",
   "metadata": {},
   "outputs": [
    {
     "data": {
      "text/plain": [
       "\n",
       "   Astrocyte          CA3           CR         Car3  Endothelial   L2 IT ENTl \n",
       "        8243          242          259          884         2215          860 \n",
       "  L2 IT ENTm  L2/3 IT CTX L2/3 IT ENTl  L2/3 IT PPP  L2/3 IT RHP    L3 IT ENT \n",
       "         271        17433         3969         2863         1563          912 \n",
       " L4/5 IT CTX    L5 IT CTX    L5 PT CTX  L5/6 NP CTX    L6 CT CTX    L6 IT CTX \n",
       "       14111         3489         2885         1353         6605         4029 \n",
       "  L6b/CT ENT        Lamp5         MFOL          MOL        Meis2    Micro-PVM \n",
       "        2257         1883         1429         1901         1167         1196 \n",
       "         OPC        Pvalb     SMC-Peri         Sncg          Sst         VLMC \n",
       "        4070         3614          454         2047         3390          978 \n",
       "         Vip \n",
       "        2295 "
      ]
     },
     "metadata": {},
     "output_type": "display_data"
    }
   ],
   "source": [
    "table(combined.sct$subtypes)"
   ]
  },
  {
   "cell_type": "code",
   "execution_count": 38,
   "id": "3e211433-745b-43da-b185-90cc87d907e3",
   "metadata": {},
   "outputs": [],
   "source": []
  },
  {
   "cell_type": "code",
   "execution_count": 58,
   "id": "a0fece18-f31d-498e-97e1-e04821635106",
   "metadata": {},
   "outputs": [
    {
     "data": {
      "text/plain": [
       "\n",
       "  Astrocyte         CA3          CR        Car3 Endothelial          L2 \n",
       "       8243         242         259         884        2215        1131 \n",
       "       L2/3          L3        L4/5          L5        L5/6          L6 \n",
       "      25828         912       14111        6374        1353       10634 \n",
       "        L6b       Lamp5        MFOL         MOL       Meis2   Micro-PVM \n",
       "       2257        1883        1429        1901        1167        1196 \n",
       "        OPC       Pvalb    SMC-Peri        Sncg         Sst        VLMC \n",
       "       4070        3614         454        2047        3390         978 \n",
       "        Vip \n",
       "       2295 "
      ]
     },
     "metadata": {},
     "output_type": "display_data"
    }
   ],
   "source": [
    "combined.sct$manual_celltypes = combined.sct$subtypes\n",
    "combined.sct$manual_celltypes = gsub(\"\\\\<L2 IT ENTl\\\\>\",\"L2\",combined.sct$manual_celltypes) \n",
    "combined.sct$manual_celltypes = gsub(\"\\\\<L2 IT ENTm\\\\>\",\"L2\",combined.sct$manual_celltypes) \n",
    "combined.sct$manual_celltypes = gsub(\"\\\\<L2/3 IT CTX\\\\>\",\"L2/3\",combined.sct$manual_celltypes) \n",
    "combined.sct$manual_celltypes = gsub(\"\\\\<L2/3 IT ENTl\\\\>\",\"L2/3\",combined.sct$manual_celltypes) \n",
    "combined.sct$manual_celltypes = gsub(\"\\\\<L2/3 IT PPP\\\\>\",\"L2/3\",combined.sct$manual_celltypes) \n",
    "combined.sct$manual_celltypes = gsub(\"\\\\<L2/3 IT RHP\\\\>\",\"L2/3\",combined.sct$manual_celltypes) \n",
    "combined.sct$manual_celltypes = gsub(\"\\\\<L3 IT ENT\\\\>\",\"L3\",combined.sct$manual_celltypes) \n",
    "combined.sct$manual_celltypes = gsub(\"\\\\<L4/5 IT CTX\\\\>\",\"L4/5\",combined.sct$manual_celltypes) \n",
    "combined.sct$manual_celltypes = gsub(\"\\\\<L5 IT CTX\\\\>\",\"L5\",combined.sct$manual_celltypes) \n",
    "combined.sct$manual_celltypes = gsub(\"\\\\<L5 IT CTX\\\\>\",\"L5\",combined.sct$manual_celltypes) \n",
    "combined.sct$manual_celltypes = gsub(\"\\\\<L5 PT CTX\\\\>\",\"L5\",combined.sct$manual_celltypes) \n",
    "combined.sct$manual_celltypes = gsub(\"\\\\<L6 CT CTX\\\\>\",\"L6\",combined.sct$manual_celltypes) \n",
    "combined.sct$manual_celltypes = gsub(\"\\\\<L6 IT CTX\\\\>\",\"L6\",combined.sct$manual_celltypes) \n",
    "combined.sct$manual_celltypes = gsub(\"\\\\<L5/6 NP CTX\\\\>\",\"L5/6\",combined.sct$manual_celltypes) \n",
    "combined.sct$manual_celltypes = gsub(\"\\\\<L6b/CT ENT\\\\>\",\"L6b\",combined.sct$manual_celltypes)\n",
    "table(combined.sct$manual_celltypes)"
   ]
  },
  {
   "cell_type": "code",
   "execution_count": 59,
   "id": "3a7985f0-c557-41bc-8bfa-929ea87f908a",
   "metadata": {},
   "outputs": [],
   "source": [
    "neurons = subset(combined.sct, subset= gen_celltype == \"Neuron\")"
   ]
  },
  {
   "cell_type": "code",
   "execution_count": 74,
   "id": "446c6376-df92-4335-a0d8-7ece90545669",
   "metadata": {},
   "outputs": [],
   "source": [
    "genes = c(\"Snap25\", # pan-neuro\n",
    "          \"Slc17a7\",\n",
    "          \"Gad1\",\n",
    "          \"Meis2\",\"Pvalb\",\"Sncg\",\"Sst\",\"Vip\",\n",
    "          \"Rorb\",\"Foxp2\")"
   ]
  },
  {
   "cell_type": "code",
   "execution_count": 75,
   "id": "c854106c-16ef-4774-8561-73aeb049b7ce",
   "metadata": {},
   "outputs": [
    {
     "data": {
      "image/png": "[encoded data removed]",
      "text/plain": [
       "plot without title"
      ]
     },
     "metadata": {
      "image/png": {
       "height": 480,
       "width": 600
      }
     },
     "output_type": "display_data"
    }
   ],
   "source": [
    "#pdf(file=\"plots/cortex/annotation/subtypes_known_marker_dotplot.pdf\",\n",
    "#   width = 10, height = 10)\n",
    "\n",
    "options(repr.plot.width=10,repr.plot.height=8)\n",
    "DefaultAssay(neurons) = \"SCT\" # do NOT use integrated assay to visualize gene expression\n",
    "Idents(neurons) = \"manual_celltypes\"\n",
    "Idents(neurons) = factor(Idents(neurons), levels = sort(as.character(unique(Idents(neurons)))))\n",
    "\n",
    "DotPlot(neurons, features = genes)+ \n",
    "theme(axis.text.x = element_text(angle = 45, hjust = 1)) \n",
    "#dev.off()"
   ]
  },
  {
   "cell_type": "code",
   "execution_count": null,
   "id": "cc74d2d7-8a1c-4b69-9a6c-d8da85857bb8",
   "metadata": {},
   "outputs": [],
   "source": []
  },
  {
   "cell_type": "code",
   "execution_count": 24,
   "id": "cb21d447-2ec0-4988-9d03-5cbdeb7db621",
   "metadata": {},
   "outputs": [],
   "source": [
    "genes = c( \"Gfap\",\"Slc1a2\",\"Slc1a3\",\"Gja1\",\"Aqp4\", # astro\n",
    "          \"Flt1\",\"Myl9\",\"Xdh\", # endothelial \n",
    "          \"Slc17a7\",\"Cpne4\", # excitatory\n",
    "          \"Gad1\",\"Gad2\", # inhibitory\n",
    "          \"Itgam\",\"Csf1r\",\"Cx3cr1\",\"P2ry12\",# microglia\n",
    "          \"Pdgfra\",\"Sox6\",\"C1ql1\",\"Cspg4\",# OPC\n",
    "          \"Plp1\",\"Mbp\",\"Ccp110\",# MFOL\n",
    "          \"Mog\",\"Opalin\",\"Ninj2\",\"Hapln2\",\n",
    "          \"Dock5\",\"Bgn\", # Smooth_muscle\n",
    "          \"Dcn\",\"Slc6a13\",\"Ptgds\"  # VLMC\n",
    "          )\n",
    "        "
   ]
  },
  {
   "cell_type": "code",
   "execution_count": 25,
   "id": "bfb1b8b4-106f-4ba4-9cc2-ddb962815c4d",
   "metadata": {},
   "outputs": [
    {
     "data": {
      "text/html": [
       "<strong>png:</strong> 2"
      ],
      "text/latex": [
       "\\textbf{png:} 2"
      ],
      "text/markdown": [
       "**png:** 2"
      ],
      "text/plain": [
       "png \n",
       "  2 "
      ]
     },
     "metadata": {},
     "output_type": "display_data"
    }
   ],
   "source": [
    "pdf(file=\"plots/cortex/annotation/celltypes_marker_dotplot.pdf\",\n",
    "   width = 20, height = 8)\n",
    "\n",
    "DefaultAssay(combined.sct) = \"SCT\" # do NOT use integrated assay to visualize gene expression\n",
    "Idents(combined.sct) = \"celltypes\"\n",
    "Idents(combined.sct) = factor(Idents(combined.sct), levels = sort(as.character(unique(Idents(combined.sct)))))\n",
    "DotPlot(combined.sct, features = genes)+ \n",
    "theme(axis.text.x = element_text(angle = 45, hjust = 1)) \n",
    "dev.off()"
   ]
  },
  {
   "cell_type": "code",
   "execution_count": 160,
   "id": "eb88c012-12cd-448a-b17a-73e2fd8e3b7f",
   "metadata": {},
   "outputs": [
    {
     "data": {
      "text/html": [
       "<strong>png:</strong> 2"
      ],
      "text/latex": [
       "\\textbf{png:} 2"
      ],
      "text/markdown": [
       "**png:** 2"
      ],
      "text/plain": [
       "png \n",
       "  2 "
      ]
     },
     "metadata": {},
     "output_type": "display_data"
    }
   ],
   "source": [
    "pdf(file=\"plots/cortex/annotation/UMAP_subtypes.pdf\",\n",
    "    width = 15, height = 10)\n",
    "nclusters = length(unique(combined.sct$subtypes))\n",
    "DimPlot(combined.sct, reduction = \"umap\", group.by = \"subtypes\", label = TRUE, label.size = 8, repel = TRUE, \n",
    "          cols = colorRampPalette(brewer.pal(9,\"Set1\"))(nclusters))\n",
    "dev.off()"
   ]
  },
  {
   "cell_type": "markdown",
   "id": "b39ef52a-80e7-442e-bcd2-5805dfa152ad",
   "metadata": {},
   "source": [
    "# Add celltypes and gen_celltypes metadata\n",
    "Based on the subtypes annotation, we can group the cells into broader categories."
   ]
  },
  {
   "cell_type": "code",
   "execution_count": 162,
   "id": "6bd56b4c-4957-45f1-ab0f-415a40b92d61",
   "metadata": {},
   "outputs": [],
   "source": [
    "combined.sct$celltypes = combined.sct$subtypes\n",
    "\n",
    "combined.sct$celltypes = gsub(\"\\\\<CA3\\\\>\",\"Excitatory\",combined.sct$celltypes)\n",
    "combined.sct$celltypes = gsub(\"\\\\<CR\\\\>\",\"Excitatory\",combined.sct$celltypes)\n",
    "combined.sct$celltypes = gsub(\"\\\\<Car3\\\\>\",\"Excitatory\",combined.sct$celltypes)\n",
    "combined.sct$celltypes = gsub(\"\\\\<L2 IT ENTl\\\\>\",\"Excitatory\",combined.sct$celltypes)\n",
    "combined.sct$celltypes = gsub(\"\\\\<L2 IT ENTm\\\\>\",\"Excitatory\",combined.sct$celltypes)\n",
    "combined.sct$celltypes = gsub(\"\\\\<L2/3 IT CTX\\\\>\",\"Excitatory\",combined.sct$celltypes)\n",
    "combined.sct$celltypes = gsub(\"\\\\<L2/3 IT ENTl\\\\>\",\"Excitatory\",combined.sct$celltypes)\n",
    "combined.sct$celltypes = gsub(\"\\\\<L2/3 IT PPP\\\\>\",\"Excitatory\",combined.sct$celltypes)\n",
    "combined.sct$celltypes = gsub(\"\\\\<L2/3 IT RHP\\\\>\",\"Excitatory\",combined.sct$celltypes)\n",
    "combined.sct$celltypes = gsub(\"\\\\<L3 IT ENT\\\\>\",\"Excitatory\",combined.sct$celltypes)\n",
    "combined.sct$celltypes = gsub(\"\\\\<L4/5 IT CTX\\\\>\",\"Excitatory\",combined.sct$celltypes)\n",
    "combined.sct$celltypes = gsub(\"\\\\<L5 IT CTX\\\\>\",\"Excitatory\",combined.sct$celltypes)\n",
    "combined.sct$celltypes = gsub(\"\\\\<L5 PT CTX\\\\>\",\"Excitatory\",combined.sct$celltypes)\n",
    "combined.sct$celltypes = gsub(\"\\\\<L5/6 NP CTX\\\\>\",\"Excitatory\",combined.sct$celltypes)\n",
    "combined.sct$celltypes = gsub(\"\\\\<L6 CT CTX\\\\>\",\"Excitatory\",combined.sct$celltypes)\n",
    "combined.sct$celltypes = gsub(\"\\\\<L6 IT CTX\\\\>\",\"Excitatory\",combined.sct$celltypes)\n",
    "combined.sct$celltypes = gsub(\"\\\\<L6b/CT ENT\\\\>\",\"Excitatory\",combined.sct$celltypes)\n",
    "combined.sct$celltypes = gsub(\"\\\\<Meis2\\\\>\",\"Inhibitory\",combined.sct$celltypes)\n",
    "combined.sct$celltypes = gsub(\"\\\\<Lamp5\\\\>\",\"Inhibitory\",combined.sct$celltypes)\n",
    "combined.sct$celltypes = gsub(\"\\\\<Pvalb\\\\>\",\"Inhibitory\",combined.sct$celltypes)\n",
    "combined.sct$celltypes = gsub(\"\\\\<Sncg\\\\>\",\"Inhibitory\",combined.sct$celltypes)\n",
    "combined.sct$celltypes = gsub(\"\\\\<Sst\\\\>\",\"Inhibitory\",combined.sct$celltypes)\n",
    "combined.sct$celltypes = gsub(\"\\\\<Vip\\\\>\",\"Inhibitory\",combined.sct$celltypes)\n",
    "combined.sct$celltypes = gsub(\"\\\\<MFOL\\\\>\",\"Oligodendrocyte\",combined.sct$celltypes)\n",
    "combined.sct$celltypes = gsub(\"\\\\<MOL\\\\>\",\"Oligodendrocyte\",combined.sct$celltypes)\n",
    "combined.sct$celltypes = gsub(\"\\\\<SMC-Peri\\\\>\",\"Smooth_muscle\",combined.sct$celltypes)\n",
    "combined.sct$celltypes = gsub(\"\\\\<Micro-PVM\\\\>\",\"Microglia\",combined.sct$celltypes)\n"
   ]
  },
  {
   "cell_type": "code",
   "execution_count": 164,
   "id": "b2429e7d-6c2f-4b40-b341-202f31decbbf",
   "metadata": {},
   "outputs": [],
   "source": [
    "combined.sct$gen_celltype = combined.sct$celltypes\n",
    "\n",
    "combined.sct$gen_celltype = gsub(\"\\\\<Excitatory\\\\>\",\"Neuron\",combined.sct$gen_celltype)\n",
    "combined.sct$gen_celltype = gsub(\"\\\\<Inhibitory\\\\>\",\"Neuron\",combined.sct$gen_celltype)\n",
    "combined.sct$gen_celltype = gsub(\"\\\\<Astrocyte\\\\>\",\"Glial\",combined.sct$gen_celltype)\n",
    "combined.sct$gen_celltype = gsub(\"\\\\<OPC\\\\>\",\"Glial\",combined.sct$gen_celltype)\n",
    "combined.sct$gen_celltype = gsub(\"\\\\<Oligodendrocyte\\\\>\",\"Glial\",combined.sct$gen_celltype)\n",
    "combined.sct$gen_celltype = gsub(\"\\\\<Microglia\\\\>\",\"Myeloid\",combined.sct$gen_celltype)\n",
    "combined.sct$gen_celltype = gsub(\"\\\\<Ependymal\\\\>\",\"Stromal\",combined.sct$gen_celltype)\n"
   ]
  },
  {
   "cell_type": "markdown",
   "id": "08bc7efe-e3f3-4416-b45d-21d3a75b3d5f",
   "metadata": {},
   "source": [
    "# Plotting the 3 levels of annotations"
   ]
  },
  {
   "cell_type": "code",
   "execution_count": 5,
   "id": "4d848652-a0a2-4471-99bf-b4f258cd8844",
   "metadata": {},
   "outputs": [
    {
     "data": {
      "text/html": [
       "<strong>png:</strong> 2"
      ],
      "text/latex": [
       "\\textbf{png:} 2"
      ],
      "text/markdown": [
       "**png:** 2"
      ],
      "text/plain": [
       "png \n",
       "  2 "
      ]
     },
     "metadata": {},
     "output_type": "display_data"
    }
   ],
   "source": [
    "color_ref = read.delim(\"ref/enc4_mouse_snrna_celltypes_c2c12.csv\",sep=\",\",col.names = c(\"tissue\",\"gen_celltype\",\"celltypes\",\n",
    "                                                                              \"subtypes\",\"gen_celltype_color\",\n",
    "                                                                              \"celltype_color\",\"subtype_color\"))\n",
    "gen_celltype_colors = unique(color_ref[color_ref$tissue == \"Cortex\",c(\"gen_celltype\",\"gen_celltype_color\")])\n",
    "rownames(gen_celltype_colors) = gen_celltype_colors$gen_celltype\n",
    "gen_celltype_colors = gen_celltype_colors[sort(unique(combined.sct$gen_celltype)),]\n",
    "\n",
    "pdf(file=\"plots/cortex/annotation/UMAP_final_gen_celltype.pdf\",\n",
    "   width = 15, height = 10)\n",
    "\n",
    "DimPlot(combined.sct, reduction = \"umap\", \n",
    "        group.by = \"gen_celltype\", \n",
    "        label = TRUE, label.size = 8, repel = TRUE,\n",
    "       cols = gen_celltype_colors$gen_celltype_color)\n",
    "\n",
    "dev.off()"
   ]
  },
  {
   "cell_type": "code",
   "execution_count": 6,
   "id": "1a38d571-37e8-40b4-9a1f-87171ebd3399",
   "metadata": {},
   "outputs": [
    {
     "data": {
      "text/html": [
       "<strong>png:</strong> 2"
      ],
      "text/latex": [
       "\\textbf{png:} 2"
      ],
      "text/markdown": [
       "**png:** 2"
      ],
      "text/plain": [
       "png \n",
       "  2 "
      ]
     },
     "metadata": {},
     "output_type": "display_data"
    }
   ],
   "source": [
    "celltype_colors = unique(color_ref[color_ref$tissue == \"Cortex\",c(\"celltypes\",\"celltype_color\")])\n",
    "rownames(celltype_colors) = celltype_colors$celltypes\n",
    "celltype_colors = celltype_colors[sort(unique(combined.sct$celltypes)),]\n",
    "\n",
    "pdf(file=\"plots/cortex/annotation/UMAP_final_celltypes.pdf\",\n",
    "    width = 15, height = 10)\n",
    "\n",
    "DimPlot(combined.sct, reduction = \"umap\", \n",
    "        group.by = \"celltypes\", \n",
    "        label = TRUE, label.size = 8, repel = TRUE,\n",
    "       cols = celltype_colors$celltype_color)\n",
    "\n",
    "dev.off()"
   ]
  },
  {
   "cell_type": "code",
   "execution_count": 7,
   "id": "97128675-b4a1-4893-b138-152d2d55ff3e",
   "metadata": {},
   "outputs": [
    {
     "data": {
      "text/html": [
       "<strong>png:</strong> 2"
      ],
      "text/latex": [
       "\\textbf{png:} 2"
      ],
      "text/markdown": [
       "**png:** 2"
      ],
      "text/plain": [
       "png \n",
       "  2 "
      ]
     },
     "metadata": {},
     "output_type": "display_data"
    }
   ],
   "source": [
    "subtype_colors = unique(color_ref[color_ref$tissue == \"Cortex\",c(\"subtypes\",\"subtype_color\")])\n",
    "rownames(subtype_colors) = subtype_colors$subtypes\n",
    "subtype_colors = subtype_colors[sort(unique(combined.sct$subtypes)),]\n",
    "\n",
    "pdf(file=\"plots/cortex/annotation/UMAP_final_subtypes.pdf\",\n",
    "    width = 15, height = 10)\n",
    "\n",
    "DimPlot(combined.sct, reduction = \"umap\", \n",
    "        group.by = \"subtypes\", \n",
    "        label = TRUE, label.size = 8, repel = TRUE,\n",
    "       cols = subtype_colors$subtype_color)\n",
    "\n",
    "dev.off()"
   ]
  },
  {
   "cell_type": "markdown",
   "id": "9ee04912-344f-4e84-b1a3-5d0f506b8973",
   "metadata": {},
   "source": [
    "## Proportion plot of celltypes over timepoint"
   ]
  },
  {
   "cell_type": "code",
   "execution_count": 176,
   "id": "a6995108-cbbb-4847-99f9-5c6b75e91348",
   "metadata": {
    "tags": []
   },
   "outputs": [],
   "source": [
    "combined.sct_parse = subset(combined.sct,subset= technology == \"Parse\")\n",
    "\n",
    "samples = sort(unique(combined.sct_parse$timepoint))\n",
    "dflist = list()\n",
    "for (i in 1:length(unique(combined.sct_parse$timepoint))){\n",
    "  tp=combined.sct_parse@meta.data[combined.sct_parse@meta.data$timepoint == samples[i],]\n",
    "  #tp=tp[complete.cases(tp),]\n",
    "  tp_df=as.data.frame(table(tp$celltypes))\n",
    "  tp_df$percentage=tp_df$Freq/nrow(tp)\n",
    "  tp_df$timepoint=rep(i,nrow(tp_df))\n",
    "  dflist[[i]]=tp_df\n",
    "}\n",
    "df = do.call(rbind, dflist)\n",
    "df <- df[order(df$timepoint),]\n",
    "colnames(df)= c(\"celltypes\",\"Freq\",\"percentage\",\"timepoint\")\n",
    "\n"
   ]
  },
  {
   "cell_type": "code",
   "execution_count": 177,
   "id": "076caa42-9d57-4d7a-81c9-2ff7df4ff5f2",
   "metadata": {},
   "outputs": [
    {
     "data": {
      "text/html": [
       "<strong>png:</strong> 2"
      ],
      "text/latex": [
       "\\textbf{png:} 2"
      ],
      "text/markdown": [
       "**png:** 2"
      ],
      "text/plain": [
       "png \n",
       "  2 "
      ]
     },
     "metadata": {},
     "output_type": "display_data"
    }
   ],
   "source": [
    "pdf(file=\"plots/cortex/annotation/timepoint_celltypes_proportions.pdf\",\n",
    "    width = 15, height = 10)\n",
    "\n",
    "ggplot(df, aes(x=timepoint, y=percentage, fill=celltypes)) + \n",
    "  geom_area()  +\n",
    "  scale_fill_manual(values= celltype_colors$celltype_color) + \n",
    "  scale_x_continuous(breaks = c(1,2,3,4,5,6,7),labels= c(\"PND_04\",\"PND_10\",\"PND_14\",\n",
    "                                                         \"PND_25\",\"PND_36\",\"PNM_02\",\"PNM_18-20\"))+\n",
    "  scale_y_continuous(breaks = c(0,0.1,0.2,0.3,0.4,0.5,\n",
    "                                0.6,0.7,0.8,0.9,1.0),labels= c(\"0%\",\"10%\",\"20%\",\"30%\",\"40%\",\"50%\",\"60%\",\"70%\",\"80%\",\"90%\",\"100%\")) + \n",
    "theme_minimal()+theme(text = element_text(size = 30)) + \n",
    "theme(axis.text.x = element_text(size = 30))  + \n",
    "theme(axis.text.y = element_text(size = 30))   + \n",
    "theme(axis.text.x = element_text(angle = 45, hjust = 1))\n",
    "  \n",
    "dev.off()"
   ]
  },
  {
   "cell_type": "markdown",
   "id": "4a9f2467-036b-4d6a-b023-c3a6444f017d",
   "metadata": {},
   "source": [
    "# Save "
   ]
  },
  {
   "cell_type": "code",
   "execution_count": 182,
   "id": "5e7c6894-afbc-4d60-a9e6-1f78adbd2bfb",
   "metadata": {},
   "outputs": [],
   "source": [
    "saveRDS(combined.sct,file=\"seurat/cortex_Parse_10x_integrated.rds\")"
   ]
  },
  {
   "cell_type": "markdown",
   "id": "f02e4570-e3a8-4f1e-bc02-440193bfc100",
   "metadata": {},
   "source": [
    "# Save embedding coordinates file"
   ]
  },
  {
   "cell_type": "code",
   "execution_count": null,
   "id": "a000a584-11a5-4a54-9ddd-a9a234d0721f",
   "metadata": {},
   "outputs": [],
   "source": [
    "cell_id = colnames(combined.sct)\n",
    "coords = cbind(cell_id,combined.sct@reductions$umap@cell.embeddings,\n",
    "               combined.sct@reductions$pca@cell.embeddings)\n",
    "fn = paste0(\"ref/cortex/cortex_integrated_analysis_embedding_coordinates_noheader.tsv\")\n",
    "write.table(coords,file=fn,\n",
    "            sep=\"\\t\",\n",
    "            quote=F,\n",
    "            row.names = F)\n",
    "out = paste0(\"ref/cortex/cortex_integrated_analysis_embedding_coordinates.tsv\")\n",
    "system(paste0(\"cat ref/embedding_coordinates_header \", fn, \"> \", out))\n",
    "system(paste0(\"rm \", fn))"
   ]
  },
  {
   "cell_type": "markdown",
   "id": "dfabe643-2a66-4beb-b9d1-6df09886c5bb",
   "metadata": {},
   "source": [
    "## Cerebro"
   ]
  },
  {
   "cell_type": "code",
   "execution_count": 3,
   "id": "edcceb80-da21-4bcb-a288-b0c8869677ea",
   "metadata": {},
   "outputs": [],
   "source": [
    "combined.sct = readRDS(\"seurat/cortex_Parse_10x_integrated.rds\")\n"
   ]
  },
  {
   "cell_type": "code",
   "execution_count": 4,
   "id": "74f45532-ce96-43c2-9f24-a4fdc38d4d5a",
   "metadata": {
    "collapsed": true,
    "jupyter": {
     "outputs_hidden": true
    },
    "tags": []
   },
   "outputs": [
    {
     "name": "stderr",
     "output_type": "stream",
     "text": [
      "Warning message:\n",
      "\"The default method for RunUMAP has changed from calling Python UMAP via reticulate to the R-native UWOT using the cosine metric\n",
      "To use Python UMAP via reticulate, set umap.method to 'umap-learn' and metric to 'correlation'\n",
      "This message will be shown once per session\"\n",
      "06:49:21 UMAP embedding parameters a = 0.9922 b = 1.112\n",
      "\n",
      "06:49:22 Read 98867 rows and found 30 numeric columns\n",
      "\n",
      "06:49:22 Using Annoy for neighbor search, n_neighbors = 30\n",
      "\n",
      "06:49:22 Building Annoy index with metric = cosine, n_trees = 50\n",
      "\n",
      "0%   10   20   30   40   50   60   70   80   90   100%\n",
      "\n",
      "[----|----|----|----|----|----|----|----|----|----|\n",
      "\n",
      "*\n",
      "*\n",
      "*\n",
      "*\n",
      "*\n",
      "*\n",
      "*\n",
      "*\n",
      "*\n",
      "*\n",
      "*\n",
      "*\n",
      "*\n",
      "*\n",
      "*\n",
      "*\n",
      "*\n",
      "*\n",
      "*\n",
      "*\n",
      "*\n",
      "*\n",
      "*\n",
      "*\n",
      "*\n",
      "*\n",
      "*\n",
      "*\n",
      "*\n",
      "*\n",
      "*\n",
      "*\n",
      "*\n",
      "*\n",
      "*\n",
      "*\n",
      "*\n",
      "*\n",
      "*\n",
      "*\n",
      "*\n",
      "*\n",
      "*\n",
      "*\n",
      "*\n",
      "*\n",
      "*\n",
      "*\n",
      "*\n",
      "*\n",
      "|\n",
      "\n",
      "06:49:38 Writing NN index file to temp file /tmp/RtmpmrS7Zf/file3bda4537d0e385\n",
      "\n",
      "06:49:38 Searching Annoy index using 1 thread, search_k = 3000\n",
      "\n"
     ]
    }
   ],
   "source": [
    "# also add markers for my annotated cell types\n",
    "combined.sct <- cerebroApp::getMarkerGenes(combined.sct, organism = 'mm',groups = c('subtypes','celltypes'), \n",
    "                                  min_pct = 0.1,thresh_logFC = 0.25, assay = \"RNA\")\n",
    "\n",
    "combined.sct <- cerebroApp::getEnrichedPathways(combined.sct, adj_p_cutoff = 0.01, max_terms = 100)\n",
    "\n",
    "\n",
    "DefaultAssay(combined.sct) = \"integrated\"\n",
    "\n",
    "combined.sct <- RunUMAP(\n",
    "  combined.sct,\n",
    "  reduction.name = 'UMAP_3D',\n",
    "  reduction.key = 'UMAP3D_',\n",
    "  dims = 1:30,\n",
    "  n.components = 3,\n",
    "  seed.use = 100\n",
    ")\n",
    "\n",
    "\n",
    "library(cerebroApp)\n",
    "exportFromSeurat(\n",
    "  object = combined.sct,\n",
    "  assay = \"SCT\",\n",
    "  slot = \"data\",\n",
    "  file = \"seurat/cortex_Parse_10x_integrated.crb\",\n",
    "  experiment_name = \"Mouse cortex\",\n",
    "  organism = \"mm\",\n",
    "  groups = c('doublet_scores','doublets','library_accession','technology','species',\n",
    "             'tissue','sex','timepoint','rep','sample','depth1','depth2','experiment',\n",
    "             'experiment_batch','integration_batch','run_number','experiment_accession',\n",
    "             'file_accession','atlas_predictions','S.Score','G2M.Score',\n",
    "             'Phase','celltypes','gen_celltype','atlas_celltypes','subtypes','seurat_clusters','predicted.id'),\n",
    "  nUMI = 'nCount_RNA',\n",
    "  nGene = 'nFeature_RNA',\n",
    "  use_delayed_array = FALSE,\n",
    "  verbose = TRUE\n",
    ")"
   ]
  },
  {
   "cell_type": "code",
   "execution_count": null,
   "id": "5588e555-c14a-4481-b796-ebe8de2878e2",
   "metadata": {},
   "outputs": [],
   "source": []
  }
 ],
 "metadata": {
  "kernelspec": {
   "display_name": "R",
   "language": "R",
   "name": "ir"
  },
  "language_info": {
   "codemirror_mode": "r",
   "file_extension": ".r",
   "mimetype": "text/x-r-source",
   "name": "R",
   "pygments_lexer": "r",
   "version": "4.1.2"
  }
 },
 "nbformat": 4,
 "nbformat_minor": 5
}
