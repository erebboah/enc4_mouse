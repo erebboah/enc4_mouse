{
 "cells": [
  {
   "cell_type": "markdown",
   "id": "70921aab-32f7-4a75-8b45-79fba618a2ba",
   "metadata": {},
   "source": [
    "## Heart snATAC topic analysis"
   ]
  },
  {
   "cell_type": "code",
   "execution_count": 9,
   "id": "8e63c08b-497d-4d3f-9533-d8a56d2f0968",
   "metadata": {
    "tags": []
   },
   "outputs": [
    {
     "name": "stderr",
     "output_type": "stream",
     "text": [
      "========================================\n",
      "circlize version 0.4.15\n",
      "CRAN page: https://cran.r-project.org/package=circlize\n",
      "Github page: https://github.com/jokergoo/circlize\n",
      "Documentation: https://jokergoo.github.io/circlize_book/book/\n",
      "\n",
      "If you use it in published research, please cite:\n",
      "Gu, Z. circlize implements and enhances circular visualization\n",
      "  in R. Bioinformatics 2014.\n",
      "\n",
      "This message can be suppressed by:\n",
      "  suppressPackageStartupMessages(library(circlize))\n",
      "========================================\n",
      "\n",
      "\n",
      "Setting default number of Parallel threads to 8.\n",
      "\n"
     ]
    }
   ],
   "source": [
    "suppressPackageStartupMessages(library(ArchR))\n",
    "library(parallel)\n",
    "library(viridis)\n",
    "suppressPackageStartupMessages(library(Seurat))\n",
    "set.seed(1234)\n",
    "library(reshape2)\n",
    "library(dplyr)\n",
    "library(ComplexHeatmap)\n",
    "library(viridis)\n",
    "library(circlize)\n",
    "addArchRThreads(threads = 8) \n",
    "#addArchRGenome(\"mm10\")\n",
    "#library(BSgenome.Mmusculus.UCSC.mm10)"
   ]
  },
  {
   "cell_type": "markdown",
   "id": "fa87e97d-c7cc-4b91-addb-e214d2ddab87",
   "metadata": {},
   "source": [
    "## Load Topic project"
   ]
  },
  {
   "cell_type": "code",
   "execution_count": 2,
   "id": "a303f7af-fd33-4800-83e0-0838c87883b6",
   "metadata": {},
   "outputs": [
    {
     "name": "stderr",
     "output_type": "stream",
     "text": [
      "Successfully loaded ArchRProject!\n",
      "\n",
      "\n",
      "                                                   / |\n",
      "                                                 /    \\\n",
      "            .                                  /      |.\n",
      "            \\\\\\                              /        |.\n",
      "              \\\\\\                          /           `|.\n",
      "                \\\\\\                      /              |.\n",
      "                  \\                    /                |\\\n",
      "                  \\\\#####\\           /                  ||\n",
      "                ==###########>      /                   ||\n",
      "                 \\\\##==......\\    /                     ||\n",
      "            ______ =       =|__ /__                     ||      \\\\\\\n",
      "        ,--' ,----`-,__ ___/'  --,-`-===================##========>\n",
      "       \\               '        ##_______ _____ ,--,__,=##,__   ///\n",
      "        ,    __==    ___,-,__,--'#'  ==='      `-'    | ##,-/\n",
      "        -,____,---'       \\\\####\\\\________________,--\\\\_##,/\n",
      "           ___      .______        ______  __    __  .______      \n",
      "          /   \\     |   _  \\      /      ||  |  |  | |   _  \\     \n",
      "         /  ^  \\    |  |_)  |    |  ,----'|  |__|  | |  |_)  |    \n",
      "        /  /_\\  \\   |      /     |  |     |   __   | |      /     \n",
      "       /  _____  \\  |  |\\  \\\\___ |  `----.|  |  |  | |  |\\  \\\\___.\n",
      "      /__/     \\__\\ | _| `._____| \\______||__|  |__| | _| `._____|\n",
      "    \n",
      "\n"
     ]
    }
   ],
   "source": [
    "setwd(\"/share/crsp/lab/seyedam/share/enc4_mouse/snatac/scripts\")\n",
    "setwd(\"../topics\")\n",
    "\n",
    "hrt = loadArchRProject(path = \"ENC4_Mouse_Topics_Heart/\")\n"
   ]
  },
  {
   "cell_type": "markdown",
   "id": "39dfd8e0-eb7c-47d6-99c6-dbc69464d22c",
   "metadata": {},
   "source": [
    "## addGroupCoverages"
   ]
  },
  {
   "cell_type": "code",
   "execution_count": null,
   "id": "393bcfbb-abcf-42d2-9f5f-f1884ac87136",
   "metadata": {},
   "outputs": [],
   "source": [
    "hrt <- addGroupCoverages(ArchRProj = hrt, \n",
    "                                minCells = max(table(hrt$Sample)),\n",
    "                                groupBy = \"Sample\",\n",
    "                                force = TRUE)"
   ]
  },
  {
   "cell_type": "markdown",
   "id": "3968b354-f4c1-414c-9ab9-3f853900d214",
   "metadata": {},
   "source": [
    "## addReproduciblePeakSet"
   ]
  },
  {
   "cell_type": "code",
   "execution_count": null,
   "id": "ba70db1b-1886-4752-aea8-41e64e7a4b65",
   "metadata": {},
   "outputs": [],
   "source": [
    "pathToMacs2 <- findMacs2()\n",
    "hrt <- addReproduciblePeakSet(\n",
    "    ArchRProj = hrt, \n",
    "#    minCells = 1000, # didnt work\n",
    "    groupBy = \"Sample\", \n",
    "    pathToMacs2 = pathToMacs2,\n",
    "    \n",
    ")"
   ]
  },
  {
   "cell_type": "markdown",
   "id": "d969b2a6-b660-44a9-a802-6ad23811bb78",
   "metadata": {},
   "source": [
    "## addMotifAnnotations"
   ]
  },
  {
   "cell_type": "code",
   "execution_count": null,
   "id": "07201fc7-ea84-4967-af7d-7692d83adde4",
   "metadata": {},
   "outputs": [],
   "source": [
    "hrt <- addMotifAnnotations(ArchRProj = hrt, \n",
    "                                  motifSet=\"vierstra\",\n",
    "                                  collection = \"archetype\",\n",
    "                                  name = \"Motif\")"
   ]
  },
  {
   "cell_type": "markdown",
   "id": "6041a679-0add-4e09-a59f-bf943c4a5de4",
   "metadata": {},
   "source": [
    "## Save"
   ]
  },
  {
   "cell_type": "code",
   "execution_count": null,
   "id": "3d6f130e-29e2-4053-b549-2c0ae3663d62",
   "metadata": {},
   "outputs": [],
   "source": [
    "saveArchRProject(ArchRProj = hrt, outputDirectory = \"ENC4_Mouse_Topics_Heart\")\n"
   ]
  },
  {
   "cell_type": "code",
   "execution_count": 20,
   "id": "521305e6-4981-416f-925c-2b9f2d345fe2",
   "metadata": {},
   "outputs": [
    {
     "name": "stderr",
     "output_type": "stream",
     "text": [
      "Successfully loaded ArchRProject!\n",
      "\n",
      "\n",
      "                                                   / |\n",
      "                                                 /    \\\n",
      "            .                                  /      |.\n",
      "            \\\\\\                              /        |.\n",
      "              \\\\\\                          /           `|.\n",
      "                \\\\\\                      /              |.\n",
      "                  \\                    /                |\\\n",
      "                  \\\\#####\\           /                  ||\n",
      "                ==###########>      /                   ||\n",
      "                 \\\\##==......\\    /                     ||\n",
      "            ______ =       =|__ /__                     ||      \\\\\\\n",
      "        ,--' ,----`-,__ ___/'  --,-`-===================##========>\n",
      "       \\               '        ##_______ _____ ,--,__,=##,__   ///\n",
      "        ,    __==    ___,-,__,--'#'  ==='      `-'    | ##,-/\n",
      "        -,____,---'       \\\\####\\\\________________,--\\\\_##,/\n",
      "           ___      .______        ______  __    __  .______      \n",
      "          /   \\     |   _  \\      /      ||  |  |  | |   _  \\     \n",
      "         /  ^  \\    |  |_)  |    |  ,----'|  |__|  | |  |_)  |    \n",
      "        /  /_\\  \\   |      /     |  |     |   __   | |      /     \n",
      "       /  _____  \\  |  |\\  \\\\___ |  `----.|  |  |  | |  |\\  \\\\___.\n",
      "      /__/     \\__\\ | _| `._____| \\______||__|  |__| | _| `._____|\n",
      "    \n",
      "\n"
     ]
    }
   ],
   "source": [
    "setwd(\"/share/crsp/lab/seyedam/share/enc4_mouse/snatac/scripts\")\n",
    "setwd(\"../topics\")\n",
    "\n",
    "hrt = loadArchRProject(path = \"ENC4_Mouse_Topics_Heart/\")\n"
   ]
  },
  {
   "cell_type": "markdown",
   "id": "f1a5a27a-679a-4edc-928e-5fd71247a979",
   "metadata": {},
   "source": [
    "## Make heatmaps"
   ]
  },
  {
   "cell_type": "code",
   "execution_count": 21,
   "id": "4ce8cbb2-eb63-46ec-8576-692fa9085e33",
   "metadata": {},
   "outputs": [],
   "source": [
    "motifs_meta = read.delim(\"../ref/vierstra_archetype_meta.tsv\")\n",
    "anno = getPeakAnnotation(ArchRProj = hrt, name = \"Motif\")\n",
    "peaks_by_motifs = readRDS(anno$Matches)\n",
    "grn_df = assays(peaks_by_motifs)$matches\n",
    "grn_meta = rowData(peaks_by_motifs)\n",
    "grn_meta$uniqueID = paste0(rownames(grn_meta),\":\",grn_meta$idx)\n",
    "genes = read.csv(\"../ref/gene_weights_rLDA_model.csv\")\n",
    "\n",
    "rownames(genes) = genes$X\n",
    "genes$X = NULL\n",
    "genes = as.matrix(genes)\n",
    "genes = t(genes)\n",
    "genes = genes[rownames(genes) %in% unique(rownames(grn_meta)),]\n",
    "genes = genes[match(unique(rownames(grn_meta)), rownames(genes)),]\n"
   ]
  },
  {
   "cell_type": "code",
   "execution_count": 22,
   "id": "87584e50-4242-4b17-88c4-cfe4775cd2d8",
   "metadata": {
    "tags": []
   },
   "outputs": [
    {
     "name": "stderr",
     "output_type": "stream",
     "text": [
      "Warning message in rbind(...):\n",
      "\"number of columns of result is not a multiple of vector length (arg 1)\"\n",
      "\u001b[1m\u001b[22mJoining, by = \"cluster\"\n",
      "\u001b[1m\u001b[22mJoining, by = \"gene\"\n",
      "\u001b[1m\u001b[22mJoining, by = \"gene\"\n",
      "Warning message in rbind(...):\n",
      "\"number of columns of result is not a multiple of vector length (arg 1)\"\n",
      "\u001b[1m\u001b[22mJoining, by = \"cluster\"\n",
      "\u001b[1m\u001b[22mJoining, by = \"gene\"\n",
      "\u001b[1m\u001b[22mJoining, by = \"gene\"\n",
      "Warning message in rbind(...):\n",
      "\"number of columns of result is not a multiple of vector length (arg 1)\"\n",
      "\u001b[1m\u001b[22mJoining, by = \"cluster\"\n",
      "\u001b[1m\u001b[22mJoining, by = \"gene\"\n",
      "\u001b[1m\u001b[22mJoining, by = \"gene\"\n",
      "Warning message in rbind(...):\n",
      "\"number of columns of result is not a multiple of vector length (arg 1)\"\n",
      "\u001b[1m\u001b[22mJoining, by = \"cluster\"\n",
      "\u001b[1m\u001b[22mJoining, by = \"gene\"\n",
      "\u001b[1m\u001b[22mJoining, by = \"gene\"\n",
      "Warning message in rbind(...):\n",
      "\"number of columns of result is not a multiple of vector length (arg 1)\"\n",
      "\u001b[1m\u001b[22mJoining, by = \"cluster\"\n",
      "\u001b[1m\u001b[22mJoining, by = \"gene\"\n",
      "\u001b[1m\u001b[22mJoining, by = \"gene\"\n",
      "Warning message in rbind(...):\n",
      "\"number of columns of result is not a multiple of vector length (arg 1)\"\n",
      "\u001b[1m\u001b[22mJoining, by = \"cluster\"\n",
      "\u001b[1m\u001b[22mJoining, by = \"gene\"\n",
      "\u001b[1m\u001b[22mJoining, by = \"gene\"\n",
      "Warning message in rbind(...):\n",
      "\"number of columns of result is not a multiple of vector length (arg 1)\"\n",
      "\u001b[1m\u001b[22mJoining, by = \"cluster\"\n",
      "\u001b[1m\u001b[22mJoining, by = \"gene\"\n",
      "\u001b[1m\u001b[22mJoining, by = \"gene\"\n",
      "Warning message in rbind(...):\n",
      "\"number of columns of result is not a multiple of vector length (arg 1)\"\n",
      "\u001b[1m\u001b[22mJoining, by = \"cluster\"\n",
      "\u001b[1m\u001b[22mJoining, by = \"gene\"\n",
      "\u001b[1m\u001b[22mJoining, by = \"gene\"\n",
      "Warning message in rbind(...):\n",
      "\"number of columns of result is not a multiple of vector length (arg 1)\"\n",
      "\u001b[1m\u001b[22mJoining, by = \"cluster\"\n",
      "\u001b[1m\u001b[22mJoining, by = \"gene\"\n",
      "\u001b[1m\u001b[22mJoining, by = \"gene\"\n",
      "Warning message in rbind(...):\n",
      "\"number of columns of result is not a multiple of vector length (arg 1)\"\n",
      "\u001b[1m\u001b[22mJoining, by = \"cluster\"\n",
      "\u001b[1m\u001b[22mJoining, by = \"gene\"\n",
      "\u001b[1m\u001b[22mJoining, by = \"gene\"\n"
     ]
    }
   ],
   "source": [
    "# filter by topic of interest\n",
    "topic_grn_df_list = list()\n",
    "for (topic in unique(rownames(grn_meta))){\n",
    "    topic = \"Topic11\"\n",
    "    int_df = grn_df[grep(topic,rownames(grn_df)),] # columns are motifs\n",
    "    topic_grn_meta = grn_meta[grep(topic,rownames(grn_meta)),]\n",
    "    \n",
    "    # format \n",
    "    int_df <- 1*as.matrix(int_df)\n",
    "    int_df = t(int_df) # rows are motifs\n",
    "    int_df = as.data.frame(int_df)\n",
    "    \n",
    "    colnames(int_df) = make.unique(colnames(int_df), sep=\"_\")\n",
    "    \n",
    "    int_df$cluster = rownames(int_df)\n",
    "    int_df$cluster = do.call(\"rbind\", strsplit(as.character(int_df$cluster), \"[|]\"))[,1]\n",
    "    \n",
    "    # change archetype to name\n",
    "    int_df = left_join(int_df,motifs_meta) \n",
    "    topic_grn_df=int_df\n",
    "    topic_grn_df$cluster= NULL\n",
    "    topic_grn_df$motif_id= NULL\n",
    "    topic_grn_df$source_id= NULL\n",
    "    topic_grn_df$tf_name= NULL\n",
    "    topic_grn_df$family_name= NULL\n",
    "    topic_grn_df$motif_type= NULL\n",
    "    topic_grn_df$PMID = NULL\n",
    "    topic_grn_df = as.matrix(topic_grn_df)\n",
    "    \n",
    "    rownames(topic_grn_df) = str_to_title(int_df$tf_name) \n",
    "    \n",
    "    # filter rows (motifs) for those in topic genes\n",
    "    # get topic genes\n",
    "    topic_genes = as.vector(genes[topic,])\n",
    "    names(topic_genes) = colnames(genes)\n",
    "\n",
    "    topic_genes = topic_genes[topic_genes > 1] # ????????\n",
    "    topic_genes = names(topic_genes)\n",
    "\n",
    "    topic_grn_df = topic_grn_df[rownames(topic_grn_df) %in% topic_genes,]\n",
    "\n",
    "    # filter columns (peaks) for the ones < 10,000 bp from TSS  \n",
    "    # LOT OF OPTIONS HERE\n",
    "    topic_grn_df  = topic_grn_df[,topic_grn_meta$distToTSS < 10000]\n",
    "    topic_grn_meta = topic_grn_meta[topic_grn_meta$distToTSS < 10000,]\n",
    "\n",
    "\n",
    "    #topic_grn_df  = topic_grn_df[,topic_grn_meta$score > 50]\n",
    "    #topic_grn_meta = topic_grn_meta[topic_grn_meta$score > 50,]\n",
    "\n",
    "    colnames(topic_grn_df) = topic_grn_meta$nearestGene\n",
    "    \n",
    "\n",
    "    # filter peaks (peak-associated genes atp) for those in topic_genes\n",
    "    topic_grn_df = topic_grn_df[,colnames(topic_grn_df) %in% topic_genes]\n",
    "\n",
    "  \n",
    "    # sum up duplicate peaks  (columns)\n",
    "    unique_peaks = colnames(topic_grn_df)\n",
    "    unique_peaks = unique_peaks[!(duplicated(unique_peaks)|duplicated(unique_peaks, fromLast=TRUE))]\n",
    "    topic_grn_df_unique = topic_grn_df[,colnames(topic_grn_df) %in% unique_peaks]\n",
    "\n",
    "    if (length(unique_peaks) != ncol(topic_grn_df)){\n",
    "        topic_grn_df_dupe = topic_grn_df[,!(colnames(topic_grn_df) %in% unique_peaks)]\n",
    "        topic_grn_df_dupe = sapply(unique(colnames(topic_grn_df_dupe)), \n",
    "                               function(x) rowSums(topic_grn_df_dupe[,grepl(x, colnames(topic_grn_df_dupe))])\n",
    "                               )\n",
    "        topic_grn_df = cbind(topic_grn_df_unique,topic_grn_df_dupe)\n",
    "        } else {\n",
    "        topic_grn_df = topic_grn_df_unique\n",
    "        }\n",
    "\n",
    "# metadata may have duplicated nearest gene have to sum their score?\n",
    "    topic_grn_meta = as.data.frame(topic_grn_meta)\n",
    "    topic_grn_meta = topic_grn_meta[,c(\"nearestGene\",\"score\")]\n",
    "    topic_grn_meta = ddply(topic_grn_meta,\"nearestGene\",numcolwise(sum))\n",
    "  topic_grn_meta$gene = topic_grn_meta$nearestGene\n",
    "\n",
    "\n",
    "    topic_grn_df = unique(topic_grn_df)\n",
    "    rownames(topic_grn_df) = toupper(rownames(topic_grn_df))\n",
    "\n",
    "    # average duplicate motifs\n",
    "    unique_motifs = rownames(topic_grn_df)\n",
    "    unique_motifs = unique_motifs[!(duplicated(unique_motifs)|duplicated(unique_motifs, fromLast=TRUE))]\n",
    "\n",
    "    topic_grn_df_unique = topic_grn_df[rownames(topic_grn_df) %in% unique_motifs,]\n",
    "    if (length(unique_motifs) != nrow(topic_grn_df)){\n",
    "\n",
    "        topic_grn_df_dupe = topic_grn_df[!(rownames(topic_grn_df) %in% unique_motifs),]\n",
    "        topic_grn_df_dupe = aggregate(topic_grn_df_dupe, list(row.names(topic_grn_df_dupe)), mean)\n",
    "        rn = topic_grn_df_dupe$Group.1\n",
    "        topic_grn_df_dupe$Group.1 = NULL\n",
    "        topic_grn_df_dupe = as.matrix(topic_grn_df_dupe)\n",
    "        rownames(topic_grn_df_dupe) = rn\n",
    "        topic_grn_df = rbind(topic_grn_df_unique,topic_grn_df_dupe)\n",
    "        } else {\n",
    "        topic_grn_df = topic_grn_df_unique\n",
    "        }\n",
    "\n",
    "\n",
    "topic_genes = as.vector(genes[topic,])\n",
    "names(topic_genes) = colnames(genes)\n",
    "\n",
    "topic_genes = as.data.frame(topic_genes)\n",
    "#topic_genes = as.data.frame(topic_genes[topic_genes > 1]) # ????????\n",
    "colnames(topic_genes)= \"weight\"\n",
    "topic_genes$gene = rownames(topic_genes)\n",
    "\n",
    "testing_genes = as.data.frame(colnames(topic_grn_df))\n",
    "colnames(testing_genes) = \"gene\"\n",
    "\n",
    "weight_meta = left_join(testing_genes,topic_genes)\n",
    "weight_meta$weight[is.na(weight_meta$weight)]= 0\n",
    "\n",
    "\n",
    "score_meta = left_join(testing_genes,topic_grn_meta)\n",
    "\n",
    "col_fun = colorRamp2(c(min(weight_meta$weight), round((max(weight_meta$weight) + min(weight_meta$weight))/2), max(weight_meta$weight)), c(\"blue\", \"white\", \"red\"))\n",
    "col_fun2 = colorRamp2(c( min(score_meta$score), round((max(score_meta$score) + min(score_meta$score))/2), max(score_meta$score)), c(\"purple\", \"black\", \"yellow\"))\n",
    "\n",
    "ha = HeatmapAnnotation(\n",
    "    weight = weight_meta$weight, \n",
    "    score = score_meta$score,\n",
    "    col = list(weight = col_fun,\n",
    "               score = col_fun2),\n",
    "    which = \"row\"\n",
    "    )\n",
    "\n",
    "  \n",
    "    pdf(file=paste0(\"ENC4_Mouse_Topics_Heart/Plots/\",topic,\"_peaks_in_topicgenes.pdf\"),\n",
    "        width=50,height=50)\n",
    "    print(Heatmap(t(topic_grn_df),  name = \"Motif in peak\",\n",
    "       cluster_rows = T, right_annotation= ha,\n",
    "        row_dend_width = unit(4, \"cm\"),\n",
    "        column_dend_height = unit(4, \"cm\"),\n",
    "       cluster_columns = T,col=magma(100)))\n",
    "    dev.off()  \n",
    "    \n",
    "    topic_grn_df_list[[topic]] = t(topic_grn_df)\n",
    "}"
   ]
  },
  {
   "cell_type": "markdown",
   "id": "e59c1e8a-0ea3-4e81-bf0c-eb24bc8a9815",
   "metadata": {},
   "source": [
    "# order by weight"
   ]
  },
  {
   "cell_type": "code",
   "execution_count": 35,
   "id": "c29910a4-2e3d-4a2b-919a-1545560bc297",
   "metadata": {},
   "outputs": [
    {
     "name": "stderr",
     "output_type": "stream",
     "text": [
      "\u001b[1m\u001b[22mJoining, by = \"gene\"\n",
      "\u001b[1m\u001b[22mJoining, by = \"gene\"\n",
      "\u001b[1m\u001b[22mJoining, by = \"gene\"\n",
      "\u001b[1m\u001b[22mJoining, by = \"gene\"\n",
      "\u001b[1m\u001b[22mJoining, by = \"gene\"\n",
      "\u001b[1m\u001b[22mJoining, by = \"gene\"\n",
      "\u001b[1m\u001b[22mJoining, by = \"gene\"\n",
      "\u001b[1m\u001b[22mJoining, by = \"gene\"\n",
      "\u001b[1m\u001b[22mJoining, by = \"gene\"\n",
      "\u001b[1m\u001b[22mJoining, by = \"gene\"\n",
      "\u001b[1m\u001b[22mJoining, by = \"gene\"\n",
      "\u001b[1m\u001b[22mJoining, by = \"gene\"\n",
      "\u001b[1m\u001b[22mJoining, by = \"gene\"\n",
      "\u001b[1m\u001b[22mJoining, by = \"gene\"\n",
      "\u001b[1m\u001b[22mJoining, by = \"gene\"\n",
      "\u001b[1m\u001b[22mJoining, by = \"gene\"\n",
      "\u001b[1m\u001b[22mJoining, by = \"gene\"\n",
      "\u001b[1m\u001b[22mJoining, by = \"gene\"\n",
      "\u001b[1m\u001b[22mJoining, by = \"gene\"\n",
      "\u001b[1m\u001b[22mJoining, by = \"gene\"\n",
      "\u001b[1m\u001b[22mJoining, by = \"gene\"\n",
      "\u001b[1m\u001b[22mJoining, by = \"gene\"\n",
      "\u001b[1m\u001b[22mJoining, by = \"gene\"\n",
      "\u001b[1m\u001b[22mJoining, by = \"gene\"\n",
      "\u001b[1m\u001b[22mJoining, by = \"gene\"\n",
      "\u001b[1m\u001b[22mJoining, by = \"gene\"\n",
      "\u001b[1m\u001b[22mJoining, by = \"gene\"\n",
      "\u001b[1m\u001b[22mJoining, by = \"gene\"\n",
      "\u001b[1m\u001b[22mJoining, by = \"gene\"\n",
      "\u001b[1m\u001b[22mJoining, by = \"gene\"\n"
     ]
    }
   ],
   "source": [
    "for (topic in unique(rownames(grn_meta))){\n",
    "    thisdf = topic_grn_df_list$Topic\n",
    "    \n",
    "    topic_genes = as.vector(genes[topic,])\n",
    "    names(topic_genes) = colnames(genes)\n",
    "\n",
    "    topic_genes = as.data.frame(topic_genes)\n",
    "    #topic_genes = as.data.frame(topic_genes[topic_genes > 1]) # ????????\n",
    "    colnames(topic_genes)= \"weight\"\n",
    "    topic_genes$gene = rownames(topic_genes)\n",
    "\n",
    "    testing_genes = as.data.frame(colnames(topic_grn_df))\n",
    "    colnames(testing_genes) = \"gene\"\n",
    "\n",
    "    weight_meta = left_join(testing_genes,topic_genes)\n",
    "    weight_meta$weight[is.na(weight_meta$weight)]= 0\n",
    "\n",
    "    weight_meta_sorted = weight_meta[order(weight_meta$weight,decreasing = T),]\n",
    "    thisdf_sorted = thisdf[weight_meta_sorted$gene,]\n",
    "\n",
    "\n",
    "    testing_genes = as.data.frame(rownames(thisdf_sorted))\n",
    "    colnames(testing_genes) = \"gene\"\n",
    "    weight_meta = left_join(testing_genes,topic_genes)\n",
    "    weight_meta$weight[is.na(weight_meta$weight)]= 0\n",
    "    score_meta = left_join(testing_genes,topic_grn_meta)\n",
    "    \n",
    "    col_fun = colorRamp2(c(min(weight_meta$weight), round((max(weight_meta$weight) + min(weight_meta$weight))/2), max(weight_meta$weight)), c(\"blue\", \"white\", \"red\"))\n",
    "    col_fun2 = colorRamp2(c( min(score_meta$score), round((max(score_meta$score) + min(score_meta$score))/2), max(score_meta$score)), c(\"purple\", \"black\", \"yellow\"))\n",
    "\n",
    "ha = HeatmapAnnotation(\n",
    "    weight = weight_meta$weight, \n",
    "    score = score_meta$score,\n",
    "    col = list(weight = col_fun,\n",
    "               score = col_fun2),\n",
    "    which = \"row\"\n",
    "    )\n",
    "\n",
    "pdf(file=paste0(\"ENC4_Mouse_Topics_Heart/Plots/\",topic,\"_peaks_in_topicgenes_orderedbyweight.pdf\"),\n",
    "    width=50,height=50)\n",
    "    print(Heatmap(thisdf_sorted,  name = \"Motif in peak\",\n",
    "       cluster_rows = F, right_annotation= ha,\n",
    "        row_dend_width = unit(4, \"cm\"),\n",
    "        column_dend_height = unit(4, \"cm\"),\n",
    "       cluster_columns = T,col=magma(100)))\n",
    "    dev.off() \n",
    "    \n",
    "}"
   ]
  },
  {
   "cell_type": "markdown",
   "id": "845a1ba1-5089-4b68-8730-995fd8b14bf1",
   "metadata": {},
   "source": [
    "## Gene score vs. gene weight"
   ]
  },
  {
   "cell_type": "code",
   "execution_count": 36,
   "id": "665ff815-2268-4bc8-a170-ae34465c2d03",
   "metadata": {},
   "outputs": [],
   "source": [
    "genes = read.csv(\"../ref/gene_weights_rLDA_model.csv\")\n",
    "genes$gene_name = genes$X\n",
    "genes$X = NULL\n",
    "genes$Topic13 = NULL\n",
    "genes$Topic9 = NULL\n",
    "genes$Topic4 = NULL"
   ]
  },
  {
   "cell_type": "code",
   "execution_count": 37,
   "id": "6f606deb-0729-4ba6-9127-c95487b95f61",
   "metadata": {},
   "outputs": [],
   "source": [
    "library(reshape2)\n",
    "gene_weight <- melt(genes, id.vars = c(\"gene_name\"))\n",
    "colnames(gene_weight) = c(\"gene_name\",\"Topic\",\"RNA_weight\")"
   ]
  },
  {
   "cell_type": "markdown",
   "id": "76accc0c-a37e-4ff2-ad5e-2ee0b63c8adc",
   "metadata": {},
   "source": [
    "### ATAC gene score matrix"
   ]
  },
  {
   "cell_type": "code",
   "execution_count": 38,
   "id": "47975866-e05e-47db-b7b1-55ac44884e8d",
   "metadata": {},
   "outputs": [
    {
     "name": "stderr",
     "output_type": "stream",
     "text": [
      "ArchR logging to : ArchRLogs/ArchR-getGroupSE-2863f733f12792-Date-2022-09-09_Time-11-21-20.log\n",
      "If there is an issue, please report to github with logFile!\n",
      "\n",
      "Getting Group Matrix\n",
      "\n",
      "2022-09-09 11:21:38 : Successfully Created Group Matrix, 0.253 mins elapsed.\n",
      "\n",
      "Normalizing by number of Cells\n",
      "\n",
      "ArchR logging successful to : ArchRLogs/ArchR-getGroupSE-2863f733f12792-Date-2022-09-09_Time-11-21-20.log\n",
      "\n"
     ]
    }
   ],
   "source": [
    "atac_genescore_mat <- getGroupSE(hrt, useMatrix = \"GeneScoreMatrix\", \n",
    "                                 groupBy = \"Sample\")\n"
   ]
  },
  {
   "cell_type": "code",
   "execution_count": 39,
   "id": "a7daef5f-1836-4488-b0b5-0ee4af0adf7b",
   "metadata": {},
   "outputs": [],
   "source": [
    "atac_genescore_df = as.data.frame(assays(atac_genescore_mat)$GeneScoreMatrix)\n",
    "atac_genescore_df$gene_name = rowData(atac_genescore_mat)$name\n",
    "atac_genescore_df = atac_genescore_df[atac_genescore_df$gene_name %in% genes$gene_name,]\n",
    "atac_genescore_df <- melt(atac_genescore_df, id.vars = c(\"gene_name\"))\n",
    "colnames(atac_genescore_df) = c(\"gene_name\",\"Topic\",\"ATAC_score\")\n"
   ]
  },
  {
   "cell_type": "code",
   "execution_count": 40,
   "id": "b5e81d44-278d-480b-914d-497e1d085ed6",
   "metadata": {},
   "outputs": [
    {
     "name": "stderr",
     "output_type": "stream",
     "text": [
      "\u001b[1m\u001b[22mJoining, by = c(\"gene_name\", \"Topic\")\n"
     ]
    }
   ],
   "source": [
    "df = as.data.frame(full_join(gene_weight, atac_genescore_df))"
   ]
  },
  {
   "cell_type": "code",
   "execution_count": 41,
   "id": "991a7cc0-f490-4ebd-b2c7-0baf7a254184",
   "metadata": {},
   "outputs": [],
   "source": [
    "library(ggrepel)\n",
    "p=list()\n",
    "for (topic in unique(df$Topic)){\n",
    "    df_topic = df[df$Topic == topic,]\n",
    "    df_topic$ATAC_score[is.na(df_topic$ATAC_score)] = 0\n",
    "    df_topic = df_topic[df_topic$RNA_weight > 1,]\n",
    "    p[[topic]] = ggplot(df_topic, aes(x=log(RNA_weight+1), y=ATAC_score)) + \n",
    "          geom_point() +theme(text=element_text(size=21)) +\n",
    "          ggtitle(topic) +\n",
    "          geom_text_repel(size = 5,max.overlaps = Inf,data = df_topic %>% \n",
    "                          mutate(label = ifelse(log(RNA_weight+1) > 6 & ATAC_score > 3,\n",
    "                                                gene_name, \"\")),\n",
    "                          aes(label = label), \n",
    "                          # box.padding = 1,\n",
    "                          show.legend = FALSE)\n",
    "}\n"
   ]
  },
  {
   "cell_type": "code",
   "execution_count": 42,
   "id": "7f451a3e-5129-42a6-b4c7-61003a8af4fc",
   "metadata": {},
   "outputs": [
    {
     "data": {
      "text/html": [
       "<strong>png:</strong> 2"
      ],
      "text/latex": [
       "\\textbf{png:} 2"
      ],
      "text/markdown": [
       "**png:** 2"
      ],
      "text/plain": [
       "png \n",
       "  2 "
      ]
     },
     "metadata": {},
     "output_type": "display_data"
    }
   ],
   "source": [
    "pdf(file=paste0(\"ENC4_Mouse_Topics_Heart/Plots/gene_score_vs_weight.pdf\"),width=15,height=5)\n",
    "\n",
    "options(repr.plot.width=10,repr.plot.height=5)\n",
    "p[[\"Topic1\"]]+p[[\"Topic2\"]]\n",
    "p[[\"Topic3\"]]+p[[\"Topic5\"]]\n",
    "p[[\"Topic6\"]]+p[[\"Topic7\"]]\n",
    "p[[\"Topic8\"]]+p[[\"Topic10\"]]\n",
    "p[[\"Topic11\"]]+p[[\"Topic12\"]]\n",
    "\n",
    "dev.off()"
   ]
  },
  {
   "cell_type": "markdown",
   "id": "5dd4f30b-6679-438d-8e7a-62d7a4569a98",
   "metadata": {},
   "source": [
    "## Differential peak marker heatmap"
   ]
  },
  {
   "cell_type": "code",
   "execution_count": null,
   "id": "e100f91b-e272-4609-a7b0-b2e55dcd94e8",
   "metadata": {},
   "outputs": [],
   "source": [
    "# add peak matrix\n",
    "hrt <- addPeakMatrix(hrt)\n"
   ]
  },
  {
   "cell_type": "code",
   "execution_count": null,
   "id": "e4d4f16b-f929-4d93-9c34-c3fbb6a3ff78",
   "metadata": {},
   "outputs": [],
   "source": [
    "markersPeaks <- getMarkerFeatures(\n",
    "    ArchRProj = hrt, \n",
    "    useMatrix = \"PeakMatrix\", \n",
    "    groupBy = \"Sample\",\n",
    "    bias = c(\"TSSEnrichment\", \"log10(nFrags)\"),\n",
    "    testMethod = \"wilcoxon\"\n",
    ")"
   ]
  },
  {
   "cell_type": "code",
   "execution_count": null,
   "id": "014bf3fa-39ee-4fda-9572-289fe662365a",
   "metadata": {},
   "outputs": [],
   "source": [
    "enrichMotifs <- peakAnnoEnrichment(\n",
    "    seMarker = markersPeaks,\n",
    "    ArchRProj = hrt,\n",
    "    peakAnnotation = \"Motif\",\n",
    "    cutOff = \"FDR <= 0.05 & Log2FC >= 0.25\" # mlog10Padj?\n",
    "  )"
   ]
  },
  {
   "cell_type": "code",
   "execution_count": null,
   "id": "6b7fa030-c3e5-4a12-b359-4fe6d847d2c3",
   "metadata": {},
   "outputs": [],
   "source": [
    "save(markersPeaks,enrichMotifs,\n",
    "     file=\"ENC4_Mouse_Topics_Heart/markersPeaks_enrichMotifs.rda\")"
   ]
  },
  {
   "cell_type": "code",
   "execution_count": null,
   "id": "b930c811-da86-4070-9e29-4c2f398b5c03",
   "metadata": {},
   "outputs": [],
   "source": [
    "heatmapPeaks <- plotMarkerHeatmap(\n",
    "  seMarker = markersPeaks, \n",
    "  cutOff = \"FDR <= 0.3 & Log2FC >= 0.25\",\n",
    "  transpose = TRUE\n",
    ")\n",
    "plotPDF(heatmapPeaks, name = \"Peak-Marker-Heatmap\", width = 8, \n",
    "        height = 6, ArchRProj = hrt, addDOC = FALSE)\n"
   ]
  },
  {
   "cell_type": "markdown",
   "id": "90f9a8c6-fc36-4f64-b306-e15fd769cde0",
   "metadata": {},
   "source": [
    "## What peaks are differential between topic 3 and 8?"
   ]
  },
  {
   "cell_type": "markdown",
   "id": "ca573d40-7eb3-4091-a79b-25a298909393",
   "metadata": {},
   "source": [
    "## Motif erichment vs gene weight"
   ]
  },
  {
   "cell_type": "code",
   "execution_count": 43,
   "id": "b5a52e32-028c-4530-8cad-158367d98167",
   "metadata": {},
   "outputs": [],
   "source": [
    "load(\"ENC4_Mouse_Topics_Heart/markersPeaks_enrichMotifs.rda\")"
   ]
  },
  {
   "cell_type": "code",
   "execution_count": 55,
   "id": "f3903538-48b5-4fd2-a40a-724f47f93259",
   "metadata": {
    "tags": []
   },
   "outputs": [
    {
     "name": "stderr",
     "output_type": "stream",
     "text": [
      "Warning message in rbind(...):\n",
      "\"number of columns of result is not a multiple of vector length (arg 1)\"\n",
      "\u001b[1m\u001b[22mJoining, by = \"cluster\"\n"
     ]
    }
   ],
   "source": [
    "# names(assays(enrichMotifs))\n",
    "library(tidyverse)\n",
    "enrichMotifs_log10Padj  = as.data.frame(assays(enrichMotifs)$mlog10Padj) # -log10Padj\n",
    "enrichMotifs_log10Padj$cluster = rownames(enrichMotifs_log10Padj)\n",
    "enrichMotifs_log10Padj$cluster = do.call(\"rbind\", strsplit(as.character(enrichMotifs_log10Padj$cluster), \"[|]\"))[,1]\n",
    "\n",
    "motifs_meta = read.delim(\"../ref/vierstra_archetype_meta.tsv\")\n",
    "\n",
    "enrichMotifs_TFs = left_join(enrichMotifs_log10Padj,motifs_meta) # 5193 rows\n",
    "enrichMotifs_TFs_mat = enrichMotifs_TFs\n",
    "enrichMotifs_TFs_mat$cluster= NULL\n",
    "enrichMotifs_TFs_mat$motif_id= NULL\n",
    "enrichMotifs_TFs_mat$source_id= NULL\n",
    "enrichMotifs_TFs_mat$tf_name= NULL\n",
    "enrichMotifs_TFs_mat$family_name= NULL\n",
    "enrichMotifs_TFs_mat$motif_type= NULL\n",
    "enrichMotifs_TFs_mat$PMID = NULL\n",
    "enrichMotifs_TFs_mat = as.matrix(enrichMotifs_TFs_mat)\n",
    "\n",
    "rownames(enrichMotifs_TFs_mat) = enrichMotifs_TFs$tf_name\n",
    "\n",
    "\n",
    "\n",
    "enrichMotifs_TFs_mat = unique(enrichMotifs_TFs_mat) # 591  16\n",
    "\n",
    "rownames(enrichMotifs_TFs_mat) = str_to_title(rownames(enrichMotifs_TFs_mat))"
   ]
  },
  {
   "cell_type": "code",
   "execution_count": 56,
   "id": "5908ded8-42cc-4b15-bf8f-d06e7ed53b1b",
   "metadata": {},
   "outputs": [],
   "source": [
    "# average duplicate motifs\n",
    "unique_motifs = rownames(enrichMotifs_TFs_mat)\n",
    "unique_motifs = unique_motifs[!(duplicated(unique_motifs)|duplicated(unique_motifs, fromLast=TRUE))]\n",
    "\n",
    "enrichMotifs_TFs_mat_unique = enrichMotifs_TFs_mat[rownames(enrichMotifs_TFs_mat) %in% unique_motifs,]\n",
    "enrichMotifs_TFs_mat_dupe = enrichMotifs_TFs_mat[!(rownames(enrichMotifs_TFs_mat) %in% unique_motifs),]\n",
    "enrichMotifs_TFs_mat_dupe = aggregate(enrichMotifs_TFs_mat_dupe, list(row.names(enrichMotifs_TFs_mat_dupe)), mean)\n",
    "rn = enrichMotifs_TFs_mat_dupe$Group.1\n",
    "enrichMotifs_TFs_mat_dupe$Group.1 = NULL\n",
    "enrichMotifs_TFs_mat_dupe = as.matrix(enrichMotifs_TFs_mat_dupe)\n",
    "rownames(enrichMotifs_TFs_mat_dupe) = rn\n",
    "enrichMotifs_TFs_df = as.data.frame(rbind(enrichMotifs_TFs_mat_unique,\n",
    "                                          enrichMotifs_TFs_mat_dupe))\n",
    "enrichMotifs_TFs_df$gene_name = rownames(enrichMotifs_TFs_df)\n",
    "\n",
    "enrichMotifs_TFs_df <- melt(enrichMotifs_TFs_df, id.vars = c(\"gene_name\"))\n",
    "colnames(enrichMotifs_TFs_df) = c(\"gene_name\",\"Topic\",\"Motif_enrichment_score\")\n",
    "\n",
    "\n",
    "enrichMotifs_TFs_df = enrichMotifs_TFs_df[enrichMotifs_TFs_df$gene_name %in% genes$gene_name,]\n",
    "\n"
   ]
  },
  {
   "cell_type": "code",
   "execution_count": 57,
   "id": "d48ccd9d-8373-4c3d-ad54-44ace633fff7",
   "metadata": {},
   "outputs": [
    {
     "name": "stderr",
     "output_type": "stream",
     "text": [
      "\u001b[1m\u001b[22mJoining, by = c(\"gene_name\", \"Topic\")\n"
     ]
    }
   ],
   "source": [
    "df2 = as.data.frame(full_join(gene_weight, enrichMotifs_TFs_df))"
   ]
  },
  {
   "cell_type": "code",
   "execution_count": 58,
   "id": "1921665e-5294-4998-8fc3-1685e454587a",
   "metadata": {},
   "outputs": [],
   "source": [
    "library(ggrepel)\n",
    "p2=list()\n",
    "for (topic in unique(df2$Topic)){\n",
    "    df_topic = df2[df2$Topic == topic,]\n",
    "    df_topic$Motif_enrichment_score[is.na(df_topic$Motif_enrichment_score)] = 0\n",
    "    \n",
    "    df_topic = df_topic[df_topic$RNA_weight > 1,]\n",
    "    df_topic = df_topic[df_topic$Motif_enrichment_score > 0,]\n",
    "\n",
    "    \n",
    "    p2[[topic]] = ggplot(df_topic, aes(x=log(RNA_weight+1), y=Motif_enrichment_score)) + \n",
    "          geom_point() +theme(text=element_text(size=21)) +\n",
    "          ggtitle(topic) +\n",
    "          geom_text_repel(size = 5,max.overlaps = Inf,data = df_topic %>% \n",
    "                          mutate(label = ifelse(log(RNA_weight+1) > 0 & \n",
    "                                                Motif_enrichment_score > 0,\n",
    "                                                gene_name, \"\")),\n",
    "                          aes(label = label), \n",
    "                          # box.padding = 1,\n",
    "                          show.legend = FALSE)\n",
    "}\n"
   ]
  },
  {
   "cell_type": "code",
   "execution_count": 59,
   "id": "4e4333c4-8c3c-4e67-954c-02f5c41aacac",
   "metadata": {},
   "outputs": [
    {
     "data": {
      "text/html": [
       "<strong>png:</strong> 2"
      ],
      "text/latex": [
       "\\textbf{png:} 2"
      ],
      "text/markdown": [
       "**png:** 2"
      ],
      "text/plain": [
       "png \n",
       "  2 "
      ]
     },
     "metadata": {},
     "output_type": "display_data"
    }
   ],
   "source": [
    "options(repr.plot.width=10,repr.plot.height=5)\n",
    "pdf(file=paste0(\"ENC4_Mouse_Topics_Heart/Plots/motif_enrichment_vs_weight.pdf\"),width=15,height=5)\n",
    "\n",
    "p2[[\"Topic1\"]]+p2[[\"Topic2\"]]\n",
    "p2[[\"Topic3\"]]+p2[[\"Topic5\"]]\n",
    "p2[[\"Topic6\"]]+p2[[\"Topic7\"]]\n",
    "p2[[\"Topic8\"]]+p2[[\"Topic10\"]]\n",
    "p2[[\"Topic11\"]]+p2[[\"Topic12\"]]\n",
    "\n",
    "dev.off()"
   ]
  },
  {
   "cell_type": "markdown",
   "id": "f5901bf6-373e-4eb5-bb6c-523f56f55ab9",
   "metadata": {},
   "source": [
    "## Topic gene weight vs. peak gene score"
   ]
  },
  {
   "cell_type": "code",
   "execution_count": 60,
   "id": "2177fede-3c3e-4c23-b3e9-4a5ce3ebce35",
   "metadata": {},
   "outputs": [],
   "source": [
    "anno = getPeakAnnotation(ArchRProj = hrt, name = \"Motif\")\n",
    "peaks_by_motifs = readRDS(anno$Matches)\n",
    "grn_df = assays(peaks_by_motifs)$matches\n",
    "grn_meta = rowData(peaks_by_motifs)\n",
    "\n",
    "genes = read.csv(\"../ref/gene_weights_rLDA_model.csv\")\n",
    "genes$gene_name = genes$X\n",
    "genes$X = NULL\n",
    "genes$Topic13 = NULL\n",
    "genes$Topic9 = NULL\n",
    "genes$Topic4 = NULL\n",
    "library(reshape2)\n",
    "gene_weight <- melt(genes, id.vars = c(\"gene_name\"))\n",
    "colnames(gene_weight) = c(\"gene_name\",\"Topic\",\"RNA_weight\")\n"
   ]
  },
  {
   "cell_type": "code",
   "execution_count": 61,
   "id": "e2c64945-7a1f-4743-beee-20f7c1c6b28c",
   "metadata": {},
   "outputs": [
    {
     "name": "stderr",
     "output_type": "stream",
     "text": [
      "\u001b[1m\u001b[22mJoining, by = c(\"gene_name\", \"Topic\")\n",
      "\u001b[1m\u001b[22mJoining, by = c(\"gene_name\", \"Topic\")\n",
      "\u001b[1m\u001b[22mJoining, by = c(\"gene_name\", \"Topic\")\n",
      "\u001b[1m\u001b[22mJoining, by = c(\"gene_name\", \"Topic\")\n",
      "\u001b[1m\u001b[22mJoining, by = c(\"gene_name\", \"Topic\")\n",
      "\u001b[1m\u001b[22mJoining, by = c(\"gene_name\", \"Topic\")\n",
      "\u001b[1m\u001b[22mJoining, by = c(\"gene_name\", \"Topic\")\n",
      "\u001b[1m\u001b[22mJoining, by = c(\"gene_name\", \"Topic\")\n",
      "\u001b[1m\u001b[22mJoining, by = c(\"gene_name\", \"Topic\")\n",
      "\u001b[1m\u001b[22mJoining, by = c(\"gene_name\", \"Topic\")\n"
     ]
    }
   ],
   "source": [
    "p=list()\n",
    "for (topic in unique(rownames(grn_df))){\n",
    "\n",
    "topic_df = grn_df[grep(topic,rownames(grn_df)),] # columns are motifs\n",
    "topic_meta = as.data.frame(grn_meta[grep(topic,rownames(grn_meta)),])\n",
    "\n",
    "# filter peaks by distance to TSS\n",
    "topic_meta = topic_meta[topic_meta$distToTSS < 10000,]\n",
    "# get the peak info we care about\n",
    "topic_meta_scores = topic_meta[,c(\"score\",\"nearestGene\")]\n",
    "\n",
    "library(plyr)\n",
    "# sum up scores for duplicate genes\n",
    "topic_scores = ddply(topic_meta_scores,\n",
    "                              \"nearestGene\",numcolwise(sum))\n",
    "topic_scores$gene_name = topic_scores$nearestGene\n",
    "topic_scores$nearestGene = NULL\n",
    "topic_scores$Topic = topic\n",
    "\n",
    "gene_weight_topic = gene_weight[gene_weight$Topic == topic,]\n",
    "gene_weight_topic = gene_weight_topic[gene_weight_topic$RNA_weight > 1,]\n",
    "df = left_join(gene_weight_topic, topic_scores)\n",
    "df$score[is.na(df$score)]= 0\n",
    "\n",
    "library(ggrepel)\n",
    "\n",
    "p[[topic]]=ggplot(df, aes(x=log(RNA_weight+1), y=score)) + \n",
    "          geom_point() +theme(text=element_text(size=21)) +\n",
    "          geom_text_repel(size = 5,max.overlaps = Inf,data = df %>% \n",
    "                          mutate(label = ifelse(log(RNA_weight+1) > max(log(RNA_weight+1))/2 & score > max(score)/2,\n",
    "                                                gene_name, \"\")),\n",
    "                          aes(label = label), \n",
    "                          # box.padding = 1,\n",
    "                          show.legend = FALSE)+labs(title=topic,\n",
    "        x =\"log(weight of topic gene + 1)\", y = \"summed score of peaks\\nassociated w/ topic gene\")\n",
    "}\n"
   ]
  },
  {
   "cell_type": "code",
   "execution_count": 62,
   "id": "34e4957a-6748-4026-8435-009ec0ddd2f5",
   "metadata": {},
   "outputs": [
    {
     "data": {
      "text/html": [
       "<strong>png:</strong> 2"
      ],
      "text/latex": [
       "\\textbf{png:} 2"
      ],
      "text/markdown": [
       "**png:** 2"
      ],
      "text/plain": [
       "png \n",
       "  2 "
      ]
     },
     "metadata": {},
     "output_type": "display_data"
    }
   ],
   "source": [
    "pdf(file=paste0(\"ENC4_Mouse_Topics_Heart/Plots/peak_score_vs_weight.pdf\"),width=15,height=5)\n",
    "\n",
    "options(repr.plot.width=10,repr.plot.height=5)\n",
    "p[[\"Topic1\"]]+p[[\"Topic2\"]]\n",
    "p[[\"Topic3\"]]+p[[\"Topic5\"]]\n",
    "p[[\"Topic6\"]]+p[[\"Topic7\"]]\n",
    "p[[\"Topic8\"]]+p[[\"Topic10\"]]\n",
    "p[[\"Topic11\"]]+p[[\"Topic12\"]]\n",
    "\n",
    "dev.off()"
   ]
  },
  {
   "cell_type": "markdown",
   "id": "885db8fa-32c6-48cc-9390-63f1625e5fc5",
   "metadata": {},
   "source": [
    "## Make DF"
   ]
  },
  {
   "cell_type": "code",
   "execution_count": null,
   "id": "43681224-f0e8-41b1-af56-4195d7b664d0",
   "metadata": {},
   "outputs": [],
   "source": []
  }
 ],
 "metadata": {
  "kernelspec": {
   "display_name": "R",
   "language": "R",
   "name": "ir"
  },
  "language_info": {
   "codemirror_mode": "r",
   "file_extension": ".r",
   "mimetype": "text/x-r-source",
   "name": "R",
   "pygments_lexer": "r",
   "version": "4.1.2"
  }
 },
 "nbformat": 4,
 "nbformat_minor": 5
}
